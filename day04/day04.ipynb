{
 "cells": [
  {
   "cell_type": "code",
   "execution_count": 10,
   "id": "64683b36",
   "metadata": {},
   "outputs": [],
   "source": [
    "# https://adventofcode.com/2021/day/4\n",
    "import numpy as np\n",
    "import re"
   ]
  },
  {
   "cell_type": "code",
   "execution_count": null,
   "id": "8e226ecf",
   "metadata": {},
   "outputs": [],
   "source": [
    "## load input + all boards data.\n",
    "\n",
    "#with open(\"day04_sample.txt\") as f:\n",
    "with open(\"day04.txt\") as f:\n",
    "    lines = f.readlines()\n",
    "\n",
    "# number to be called.\n",
    "numbers = lines[0].strip().split(',')\n",
    "numbers = [int(n) for n in numbers]\n",
    "\n",
    "# all boards.\n",
    "boards  = lines[2:]\n",
    "\n",
    "board_size = 5\n",
    "n_board = int( (len(boards) - board_size) / (board_size + 1) ) + 1"
   ]
  },
  {
   "cell_type": "code",
   "execution_count": 12,
   "id": "35b0a798",
   "metadata": {},
   "outputs": [],
   "source": [
    "def get_board(boards, n):\n",
    "    board_ = boards[n * (board_size + 1): (n + 1) * (board_size + 1) - 1]\n",
    "    board = [re.findall('[0-9]+', board_[r]) for r in range(board_size)]\n",
    "    return np.array(board, dtype='int')\n",
    "\n",
    "\n",
    "def when_to_complete_line(x, numbers):\n",
    "    x_ = [0 if n in numbers else 1 for n in x]\n",
    "    if np.sum(x_) == 0:\n",
    "        called = [numbers.index(n) for n in x]\n",
    "        t_complete = np.max(called) \n",
    "    else:\n",
    "        t_complete = 1000000\n",
    "    return t_complete\n",
    "\n",
    "\n",
    "def when_to_complete_board(board):\n",
    "    t_r = [when_to_complete_line(board[:, i], numbers) for i in range(board_size)]\n",
    "    t_c = [when_to_complete_line(board[i, :], numbers) for i in range(board_size)]\n",
    "    return np.min(t_r + t_c)\n",
    "\n",
    "\n",
    "def get_final_score(t_complete):\n",
    "    unmarked_numbers = [0 if i in numbers[:t_complete+1] else i for i in board.reshape(board_size * board_size)]\n",
    "    return np.sum(unmarked_numbers) * numbers[t_complete]"
   ]
  },
  {
   "cell_type": "code",
   "execution_count": 18,
   "id": "3e5aca71",
   "metadata": {},
   "outputs": [
    {
     "name": "stdout",
     "output_type": "stream",
     "text": [
      "[[98 75 47  9 18]\n",
      " [44 97 26 73 64]\n",
      " [62 99 13 43  0]\n",
      " [51 37 10 74 94]\n",
      " [35 68 22 76 83]] \n",
      " wins when 35 (n=83) is called.\n",
      "final score: 12635\n"
     ]
    }
   ],
   "source": [
    "## part 1.\n",
    "#win_board = np.argmin([when_to_complete_board(get_board(boards, n)) for n in range(n_board)])\n",
    "## part 2.\n",
    "win_board = np.argmax([when_to_complete_board(get_board(boards, n)) for n in range(n_board)])\n",
    "\n",
    "board       = get_board(boards, win_board)\n",
    "t_complete  = when_to_complete_board(board)\n",
    "win_number  = numbers[t_complete]\n",
    "final_score = get_final_score(t_complete)\n",
    "\n",
    "print(f'{board} \\n wins when {win_number} (n={t_complete}) is called.')\n",
    "print(f'final score: {final_score}')"
   ]
  }
 ],
 "metadata": {
  "kernelspec": {
   "display_name": "Python 3 (ipykernel)",
   "language": "python",
   "name": "python3"
  },
  "language_info": {
   "codemirror_mode": {
    "name": "ipython",
    "version": 3
   },
   "file_extension": ".py",
   "mimetype": "text/x-python",
   "name": "python",
   "nbconvert_exporter": "python",
   "pygments_lexer": "ipython3",
   "version": "3.7.0"
  }
 },
 "nbformat": 4,
 "nbformat_minor": 5
}
