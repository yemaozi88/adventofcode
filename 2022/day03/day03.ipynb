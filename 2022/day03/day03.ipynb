{
 "cells": [
  {
   "cell_type": "code",
   "execution_count": 1,
   "id": "b669a451",
   "metadata": {},
   "outputs": [],
   "source": [
    "import string\n",
    "\n",
    "import numpy as np"
   ]
  },
  {
   "cell_type": "code",
   "execution_count": 2,
   "id": "95f4ebfe",
   "metadata": {},
   "outputs": [],
   "source": [
    "# load data\n",
    "with open('input.txt') as f:\n",
    "    lines = f.read().strip().split('\\n')"
   ]
  },
  {
   "cell_type": "code",
   "execution_count": 3,
   "id": "a96f08b0",
   "metadata": {},
   "outputs": [],
   "source": [
    "def get_priority(letter):\n",
    "    if letter.islower():\n",
    "        n = string.ascii_lowercase.index(letter) + 1\n",
    "    else:\n",
    "        n = string.ascii_uppercase.index(letter) + 27\n",
    "    return n"
   ]
  },
  {
   "cell_type": "code",
   "execution_count": 4,
   "id": "de933c54",
   "metadata": {},
   "outputs": [
    {
     "data": {
      "text/plain": [
       "8515"
      ]
     },
     "execution_count": 4,
     "metadata": {},
     "output_type": "execute_result"
    }
   ],
   "source": [
    "## part 1\n",
    "priorities = []\n",
    "for line in lines:\n",
    "    # number of items per backpack\n",
    "    n_items = int(len(line)/2)\n",
    "\n",
    "    bag1 = line[:n_items]\n",
    "    bag2 = line[n_items:]\n",
    "\n",
    "    # check which items are in common.\n",
    "    common_items = list(set(bag1) & set(bag2))\n",
    "    # common_item is always only one.\n",
    "    priorities.append(get_priority(common_items[0]))\n",
    "np.sum(priorities)"
   ]
  },
  {
   "cell_type": "code",
   "execution_count": 5,
   "id": "b9e5da85",
   "metadata": {},
   "outputs": [
    {
     "data": {
      "text/plain": [
       "2434"
      ]
     },
     "execution_count": 5,
     "metadata": {},
     "output_type": "execute_result"
    }
   ],
   "source": [
    "## part 2.\n",
    "n_elves = len(lines)\n",
    "priorities = []\n",
    "for i in range(int(n_elves/3)):\n",
    "    bag1 = lines[3*i]\n",
    "    bag2 = lines[3*i+1]\n",
    "    bag3 = lines[3*i+2]\n",
    "\n",
    "    common_items = list(set(bag1) & set(bag2) & set(bag3))\n",
    "    priorities.append(get_priority(common_items[0]))\n",
    "np.sum(priorities)"
   ]
  }
 ],
 "metadata": {
  "kernelspec": {
   "display_name": "Python 3",
   "language": "python",
   "name": "python3"
  },
  "language_info": {
   "codemirror_mode": {
    "name": "ipython",
    "version": 3
   },
   "file_extension": ".py",
   "mimetype": "text/x-python",
   "name": "python",
   "nbconvert_exporter": "python",
   "pygments_lexer": "ipython3",
   "version": "3.7.11"
  }
 },
 "nbformat": 4,
 "nbformat_minor": 5
}
