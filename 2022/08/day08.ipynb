{
 "cells": [
  {
   "cell_type": "code",
   "execution_count": 1,
   "id": "25eb4fc5",
   "metadata": {},
   "outputs": [],
   "source": [
    "import time\n",
    "\n",
    "import numpy as np"
   ]
  },
  {
   "cell_type": "code",
   "execution_count": 5,
   "id": "a536bb6f",
   "metadata": {},
   "outputs": [],
   "source": [
    "# load data\n",
    "time_start = time.time()\n",
    "with open('input_test.txt') as f:\n",
    "#with open('input.txt') as f:\n",
    "    lines = f.read().strip().split('\\n')\n",
    "x = np.array([list(line) for line in lines]).astype(int)\n",
    "r_max, c_max = np.shape(x)"
   ]
  },
  {
   "cell_type": "code",
   "execution_count": 3,
   "id": "a6cb24f1",
   "metadata": {},
   "outputs": [
    {
     "name": "stdout",
     "output_type": "stream",
     "text": [
      "1798 trees are visible from outside the grid.\n",
      "elapsed time: 0.07126021385192871[s]\n"
     ]
    }
   ],
   "source": [
    "## part 1.\n",
    "\n",
    "def is_visible(x, r, c):\n",
    "    x_ = x[r, c]\n",
    "    \n",
    "    visible_from_right = all(x_ > x[r,c+1:])\n",
    "    visible_from_top   = all(x_ > x[:r,c])\n",
    "    visible_from_left  = all(x_ > x[r,:c])\n",
    "    visible_from_below = all(x_ > x[r+1:,c])\n",
    "\n",
    "    return any([\n",
    "        visible_from_right,\n",
    "        visible_from_top,\n",
    "        visible_from_left,\n",
    "        visible_from_below\n",
    "    ])\n",
    "\n",
    "\n",
    "# check how many are visible.\n",
    "\n",
    "x_visible = np.zeros((r_max, c_max), dtype=int)\n",
    "for r in range(r_max):\n",
    "    for c in range(c_max):\n",
    "        x_visible[r, c] = is_visible(x, r, c)\n",
    "        \n",
    "print(f\"{np.sum(x_visible)} trees are visible from outside the grid.\")\n",
    "print(f\"elapsed time: {time.time()-time_start}[s]\")"
   ]
  },
  {
   "cell_type": "code",
   "execution_count": 4,
   "id": "f67d0e87",
   "metadata": {},
   "outputs": [
    {
     "name": "stdout",
     "output_type": "stream",
     "text": [
      "maximum scenic score: 259308\n",
      "elapsed time: 0.03707480430603027[s]\n"
     ]
    }
   ],
   "source": [
    "# part 2.\n",
    "\n",
    "def n_seen_trees(trees, x_):\n",
    "    n = 0\n",
    "    #print(trees)\n",
    "    for t in trees:\n",
    "        n += 1\n",
    "        if t >= x_:\n",
    "            break;\n",
    "    return n\n",
    "\n",
    "def calc_scenic_score(x, r, c):\n",
    "    x_ = x[r, c]\n",
    "    visible_right = n_seen_trees(x[r, c+1:], x_)\n",
    "    visible_top   = n_seen_trees(np.flip(x[:r,c]), x_)\n",
    "    visible_left  = n_seen_trees(np.flip(x[r,:c]), x_)\n",
    "    visible_below = n_seen_trees(x[r+1:,c], x_)\n",
    "    #print([visible_right, visible_top, visible_left, visible_below])\n",
    "    return visible_right * visible_top * visible_left * visible_below\n",
    "\n",
    "\n",
    "#print(x)\n",
    "time_start = time.time()\n",
    "scenic_scores = np.zeros((r_max, c_max), dtype=int)\n",
    "for r in range(r_max):\n",
    "    for c in range(c_max):\n",
    "        scenic_scores[r, c] = calc_scenic_score(x, r, c)\n",
    "\n",
    "print(f'maximum scenic score: {np.max(scenic_scores)}')\n",
    "print(f\"elapsed time: {time.time()-time_start}[s]\")"
   ]
  },
  {
   "cell_type": "code",
   "execution_count": 21,
   "id": "aa01f401",
   "metadata": {},
   "outputs": [
    {
     "name": "stdout",
     "output_type": "stream",
     "text": [
      "elapsed time: 0.00016069412231445312[s]\n",
      "elapsed time: 0.0001838207244873047[s]\n",
      "elapsed time: 0.00023746490478515625[s]\n",
      "elapsed time: 0.00021982192993164062[s]\n"
     ]
    }
   ],
   "source": [
    "r = 2\n",
    "c = 3\n",
    "time_start = time.time()\n",
    "x[r, c] <= max(x[r, c+1:])\n",
    "print(f\"elapsed time: {time.time()-time_start}[s]\")\n",
    "\n",
    "time_start = time.time()\n",
    "all(x[r, c] > x[r, c+1:])\n",
    "print(f\"elapsed time: {time.time()-time_start}[s]\")\n",
    "\n",
    "time_start = time.time()\n",
    "if x[r, c] <= max(x[r,c+1:]) and x[r,c] <= max(x[r,0:c]):\n",
    "    if x[r,c] <= max(x[0:r,c]) and x[r,c] <= max(x[r+1:,c]):\n",
    "        print(\"pass\")\n",
    "print(f\"elapsed time: {time.time()-time_start}[s]\")\n",
    "\n",
    "time_start = time.time()\n",
    "all([x[r, c] <= max(x[r,c+1:]), x[r,c] <= max(x[r,0:c]), x[r,c] <= max(x[0:r,c]), x[r,c] <= max(x[r+1:,c])])\n",
    "print(f\"elapsed time: {time.time()-time_start}[s]\")"
   ]
  }
 ],
 "metadata": {
  "kernelspec": {
   "display_name": "Python 3 (ipykernel)",
   "language": "python",
   "name": "python3"
  },
  "language_info": {
   "codemirror_mode": {
    "name": "ipython",
    "version": 3
   },
   "file_extension": ".py",
   "mimetype": "text/x-python",
   "name": "python",
   "nbconvert_exporter": "python",
   "pygments_lexer": "ipython3",
   "version": "3.11.0"
  }
 },
 "nbformat": 4,
 "nbformat_minor": 5
}
