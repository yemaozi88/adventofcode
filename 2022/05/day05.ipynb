{
 "cells": [
  {
   "cell_type": "code",
   "execution_count": 1,
   "id": "df5e4560",
   "metadata": {},
   "outputs": [],
   "source": [
    "import os\n",
    "import re\n",
    "\n",
    "import numpy as np"
   ]
  },
  {
   "cell_type": "code",
   "execution_count": 2,
   "id": "822f5ed3",
   "metadata": {},
   "outputs": [],
   "source": [
    "def load_data(is_test):\n",
    "    if is_test:\n",
    "        stacks = [\n",
    "            [],\n",
    "            ['Z', 'N'],\n",
    "            ['M', 'C', 'D'],\n",
    "            ['P']\n",
    "        ]\n",
    "        instructions = [\n",
    "            [1, 2, 1],\n",
    "            [3, 1, 3],\n",
    "            [2, 2, 1],\n",
    "            [1, 1, 2]\n",
    "        ]\n",
    "        \n",
    "    else:\n",
    "        stacks = [\n",
    "            [],\n",
    "            ['R','N','P','G'], \n",
    "            ['T','J','B','L','C','S','V','H'],\n",
    "            ['T','D','B','M','N','L'],\n",
    "            ['R','V','P','S','B'],\n",
    "            ['G','C','Q','S','W','M','V','H'],\n",
    "            ['W','Q','S','C','D','B','J'],\n",
    "            ['F','Q','L'],\n",
    "            ['W','M','H','T','D','L','F','V'],\n",
    "            ['L','P','B','V','M','J','F']\n",
    "        ]\n",
    "\n",
    "        with open('input.txt') as f:\n",
    "            lines = f.read().strip().split('\\n\\n')\n",
    "        #    for i in range(9):\n",
    "        #        print(f'{i+1}: {line[3*i+2]}')\n",
    "        instructions = []\n",
    "        for line in lines[1].split('\\n'):\n",
    "            i = re.findall(r'\\d+', line)\n",
    "            instructions.append([int(i[0]), int(i[1]), int(i[2])])\n",
    "            #print(line)\n",
    "            #print(f'move {n_move} from {n_from} to {n_to}')\n",
    "        #instructions\n",
    "        \n",
    "    return stacks, instructions\n",
    "\n",
    "\n",
    "def move_items(stacks, instruction):\n",
    "    n_move, n_from, n_to = instruction\n",
    "\n",
    "    # which items to move\n",
    "    items_move = stacks[n_from][-n_move:]\n",
    "    #items_move.reverse()\n",
    "\n",
    "    # move\n",
    "    stacks[n_from] = stacks[n_from][:-(len(items_move))]\n",
    "    stacks[n_to] += items_move\n",
    "    return stacks"
   ]
  },
  {
   "cell_type": "code",
   "execution_count": 3,
   "id": "2f5da395",
   "metadata": {},
   "outputs": [
    {
     "name": "stdout",
     "output_type": "stream",
     "text": [
      "The crates end up on top of each stack are:\n",
      "PQTJRSHWS\n"
     ]
    }
   ],
   "source": [
    "stacks, instructions = load_data(False)\n",
    "\n",
    "for instruction in instructions:\n",
    "    stacks = move_items(stacks, instruction)\n",
    "    #print(instruction)\n",
    "    #print(stacks)\n",
    "\n",
    "print('The crates end up on top of each stack are:')\n",
    "print(''.join([stacks[i][-1] for i in range(1,len(stacks))]))"
   ]
  }
 ],
 "metadata": {
  "kernelspec": {
   "display_name": "Python 3",
   "language": "python",
   "name": "python3"
  },
  "language_info": {
   "codemirror_mode": {
    "name": "ipython",
    "version": 3
   },
   "file_extension": ".py",
   "mimetype": "text/x-python",
   "name": "python",
   "nbconvert_exporter": "python",
   "pygments_lexer": "ipython3",
   "version": "3.7.11"
  }
 },
 "nbformat": 4,
 "nbformat_minor": 5
}
