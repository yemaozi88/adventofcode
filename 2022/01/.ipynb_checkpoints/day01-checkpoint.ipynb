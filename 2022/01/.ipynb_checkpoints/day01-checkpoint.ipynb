{
 "cells": [
  {
   "cell_type": "code",
   "execution_count": 1,
   "id": "5a54aedf",
   "metadata": {},
   "outputs": [],
   "source": [
    "import numpy as np"
   ]
  },
  {
   "cell_type": "code",
   "execution_count": 2,
   "id": "231c16aa",
   "metadata": {},
   "outputs": [],
   "source": [
    "input_file = 'input.txt'\n",
    "with open(input_file) as f:\n",
    "    lines = f.read().strip().split('\\n')"
   ]
  },
  {
   "cell_type": "code",
   "execution_count": 3,
   "id": "3e7e3b56",
   "metadata": {},
   "outputs": [],
   "source": [
    "# load calories that each elf carries.\n",
    "calories_ = []\n",
    "calories = []\n",
    "for line in lines:\n",
    "    if line == '':\n",
    "        calories.append(calories_)\n",
    "        calories_ = []\n",
    "    else:\n",
    "        calories_.append(int(line))\n",
    "calories_per_elf = [np.sum(calories_) for calories_ in calories]"
   ]
  },
  {
   "cell_type": "code",
   "execution_count": 4,
   "id": "f95ae36c",
   "metadata": {},
   "outputs": [
    {
     "data": {
      "text/plain": [
       "68802"
      ]
     },
     "execution_count": 4,
     "metadata": {},
     "output_type": "execute_result"
    }
   ],
   "source": [
    "# part 1\n",
    "np.max(calories_per_elf)"
   ]
  },
  {
   "cell_type": "code",
   "execution_count": 5,
   "id": "03bb9930",
   "metadata": {},
   "outputs": [
    {
     "data": {
      "text/plain": [
       "205370"
      ]
     },
     "execution_count": 5,
     "metadata": {},
     "output_type": "execute_result"
    }
   ],
   "source": [
    "# part 2\n",
    "calories_per_elf.sort()\n",
    "np.sum(calories_per_elf[-3:])"
   ]
  }
 ],
 "metadata": {
  "kernelspec": {
   "display_name": "Python 3",
   "language": "python",
   "name": "python3"
  },
  "language_info": {
   "codemirror_mode": {
    "name": "ipython",
    "version": 3
   },
   "file_extension": ".py",
   "mimetype": "text/x-python",
   "name": "python",
   "nbconvert_exporter": "python",
   "pygments_lexer": "ipython3",
   "version": "3.7.11"
  }
 },
 "nbformat": 4,
 "nbformat_minor": 5
}
