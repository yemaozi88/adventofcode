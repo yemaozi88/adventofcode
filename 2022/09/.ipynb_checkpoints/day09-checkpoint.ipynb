{
 "cells": [
  {
   "cell_type": "code",
   "execution_count": 1,
   "id": "23cb749f",
   "metadata": {},
   "outputs": [],
   "source": [
    "import numpy as np"
   ]
  },
  {
   "cell_type": "code",
   "execution_count": 31,
   "id": "712feac0",
   "metadata": {},
   "outputs": [
    {
     "data": {
      "text/plain": [
       "[['R', 4],\n",
       " ['U', 4],\n",
       " ['L', 3],\n",
       " ['D', 1],\n",
       " ['R', 4],\n",
       " ['D', 1],\n",
       " ['L', 5],\n",
       " ['R', 2]]"
      ]
     },
     "execution_count": 31,
     "metadata": {},
     "output_type": "execute_result"
    }
   ],
   "source": [
    "with open('input_test.txt') as f:\n",
    "    lines = f.read().strip().split('\\n')\n",
    "lines = [[line.split(' ')[0], int(line.split(' ')[1])] for line in lines]\n",
    "lines"
   ]
  },
  {
   "cell_type": "code",
   "execution_count": 75,
   "id": "f62ed9a0",
   "metadata": {},
   "outputs": [
    {
     "ename": "ValueError",
     "evalue": "non-broadcastable output operand with shape (1,2) doesn't match the broadcast shape (2,2)",
     "output_type": "error",
     "traceback": [
      "\u001b[0;31m---------------------------------------------------------------------------\u001b[0m",
      "\u001b[0;31mValueError\u001b[0m                                Traceback (most recent call last)",
      "Cell \u001b[0;32mIn[75], line 21\u001b[0m\n\u001b[1;32m     19\u001b[0m T_move \u001b[38;5;241m=\u001b[39m np\u001b[38;5;241m.\u001b[39mcopy(T)\n\u001b[1;32m     20\u001b[0m \u001b[38;5;28;01mfor\u001b[39;00m line \u001b[38;5;129;01min\u001b[39;00m lines:\n\u001b[0;32m---> 21\u001b[0m     H_move_, T_move_ \u001b[38;5;241m=\u001b[39m \u001b[43mmove\u001b[49m\u001b[43m(\u001b[49m\u001b[43mH_move\u001b[49m\u001b[43m[\u001b[49m\u001b[38;5;241;43m-\u001b[39;49m\u001b[38;5;241;43m1\u001b[39;49m\u001b[43m,\u001b[49m\u001b[43m \u001b[49m\u001b[38;5;28;43;01mNone\u001b[39;49;00m\u001b[43m]\u001b[49m\u001b[43m,\u001b[49m\u001b[43m \u001b[49m\u001b[43mT_move\u001b[49m\u001b[43m[\u001b[49m\u001b[38;5;241;43m-\u001b[39;49m\u001b[38;5;241;43m1\u001b[39;49m\u001b[43m,\u001b[49m\u001b[43m \u001b[49m\u001b[38;5;28;43;01mNone\u001b[39;49;00m\u001b[43m]\u001b[49m\u001b[43m,\u001b[49m\u001b[43m \u001b[49m\u001b[43mline\u001b[49m\u001b[43m[\u001b[49m\u001b[38;5;241;43m0\u001b[39;49m\u001b[43m]\u001b[49m\u001b[43m,\u001b[49m\u001b[43m \u001b[49m\u001b[43mline\u001b[49m\u001b[43m[\u001b[49m\u001b[38;5;241;43m1\u001b[39;49m\u001b[43m]\u001b[49m\u001b[43m)\u001b[49m\n\u001b[1;32m     22\u001b[0m     H_move \u001b[38;5;241m=\u001b[39m np\u001b[38;5;241m.\u001b[39mvstack((H_move, H_move_))\n\u001b[1;32m     23\u001b[0m     T_move \u001b[38;5;241m=\u001b[39m np\u001b[38;5;241m.\u001b[39mvstack((T_move, T_move_))\n",
      "Cell \u001b[0;32mIn[75], line 7\u001b[0m, in \u001b[0;36mmove\u001b[0;34m(H, T, direction, steps)\u001b[0m\n\u001b[1;32m      5\u001b[0m T_moves \u001b[38;5;241m=\u001b[39m np\u001b[38;5;241m.\u001b[39mcopy(T)\n\u001b[1;32m      6\u001b[0m \u001b[38;5;28;01mfor\u001b[39;00m step \u001b[38;5;129;01min\u001b[39;00m \u001b[38;5;28mrange\u001b[39m(\u001b[38;5;241m1\u001b[39m, steps\u001b[38;5;241m+\u001b[39m\u001b[38;5;241m1\u001b[39m):\n\u001b[0;32m----> 7\u001b[0m     \u001b[43mH\u001b[49m\u001b[43m \u001b[49m\u001b[38;5;241;43m+\u001b[39;49m\u001b[38;5;241;43m=\u001b[39;49m\u001b[43m \u001b[49m\u001b[43mdirection_map\u001b[49m\u001b[38;5;241;43m.\u001b[39;49m\u001b[43mget\u001b[49m\u001b[43m(\u001b[49m\u001b[43mdirection\u001b[49m\u001b[43m)\u001b[49m\n\u001b[1;32m      8\u001b[0m     \u001b[38;5;28;01mif\u001b[39;00m np\u001b[38;5;241m.\u001b[39mlinalg\u001b[38;5;241m.\u001b[39mnorm(H\u001b[38;5;241m-\u001b[39mT) \u001b[38;5;241m>\u001b[39m \u001b[38;5;241m1\u001b[39m:\n\u001b[1;32m      9\u001b[0m         T \u001b[38;5;241m+\u001b[39m\u001b[38;5;241m=\u001b[39m np\u001b[38;5;241m.\u001b[39msign(H\u001b[38;5;241m-\u001b[39mT)\n",
      "\u001b[0;31mValueError\u001b[0m: non-broadcastable output operand with shape (1,2) doesn't match the broadcast shape (2,2)"
     ]
    }
   ],
   "source": [
    "direction_map = {'R':np.array([[1, 0]]).T, 'L':np.array([[-1, 0]]).T, 'U':np.array([[0, 1]]).T, 'D':np.array([[1, 0]]).T}\n",
    "\n",
    "def move(H, T, direction, steps):\n",
    "    H_moves = np.copy(H)\n",
    "    T_moves = np.copy(T)\n",
    "    for step in range(1, steps+1):\n",
    "        H += direction_map.get(direction)\n",
    "        if np.linalg.norm(H-T) > 1:\n",
    "            T += np.sign(H-T)\n",
    "        H_moves = np.vstack((H_moves, H))\n",
    "        T_moves = np.vstack((T_moves, T))\n",
    "        #print(f'{H}, {T}, {H-T}, {np.linalg.norm(H-T)}')\n",
    "    return H_moves, T_moves\n",
    "\n",
    "\n",
    "H = np.zeros((1, 2))\n",
    "T = np.zeros((1, 2))\n",
    "H_move = np.copy(H)\n",
    "T_move = np.copy(T)\n",
    "for line in lines:\n",
    "    H_move_, T_move_ = move(H_move[-1, None], T_move[-1, None], line[0], line[1])\n",
    "    H_move = np.vstack((H_move, H_move_))\n",
    "    T_move = np.vstack((T_move, T_move_))\n"
   ]
  },
  {
   "cell_type": "code",
   "execution_count": 76,
   "id": "8953ab8b",
   "metadata": {},
   "outputs": [
    {
     "data": {
      "text/plain": [
       "array([[0., 0.]])"
      ]
     },
     "execution_count": 76,
     "metadata": {},
     "output_type": "execute_result"
    }
   ],
   "source": [
    "H_move"
   ]
  }
 ],
 "metadata": {
  "kernelspec": {
   "display_name": "Python 3 (ipykernel)",
   "language": "python",
   "name": "python3"
  },
  "language_info": {
   "codemirror_mode": {
    "name": "ipython",
    "version": 3
   },
   "file_extension": ".py",
   "mimetype": "text/x-python",
   "name": "python",
   "nbconvert_exporter": "python",
   "pygments_lexer": "ipython3",
   "version": "3.11.0"
  }
 },
 "nbformat": 4,
 "nbformat_minor": 5
}
