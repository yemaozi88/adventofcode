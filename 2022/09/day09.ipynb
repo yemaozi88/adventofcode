{
 "cells": [
  {
   "cell_type": "code",
   "execution_count": 1,
   "id": "23cb749f",
   "metadata": {},
   "outputs": [],
   "source": [
    "import numpy as np"
   ]
  },
  {
   "cell_type": "code",
   "execution_count": 2,
   "id": "712feac0",
   "metadata": {},
   "outputs": [],
   "source": [
    "## load instruction.\n",
    "with open('input.txt') as f:\n",
    "    lines = f.read().strip().split('\\n')\n",
    "lines = [[line.split(' ')[0], int(line.split(' ')[1])] for line in lines]\n",
    "\n",
    "direction_map = {'R':np.array([1, 0]).reshape((1, 2)), 'L':np.array([-1, 0]).reshape((1, 2)), 'U':np.array([0, 1]).reshape((1, 2)), 'D':np.array([0, -1]).reshape((1, 2))}"
   ]
  },
  {
   "cell_type": "code",
   "execution_count": 7,
   "id": "f62ed9a0",
   "metadata": {},
   "outputs": [],
   "source": [
    "def update_T(H, T):\n",
    "    if np.linalg.norm(H-T) > np.sqrt(2):\n",
    "        T += np.sign(H-T)\n",
    "    return T\n",
    "\n",
    "def move(knots, direction, steps):\n",
    "    n_knots = np.shape(knots)[0]\n",
    "    H_moves = knots[0, :]\n",
    "    T_moves = knots[n_knots-1, :]\n",
    "    for step in range(1, steps+1):\n",
    "        knots[0, None] += direction_map.get(direction)\n",
    "        for i in range(1, n_knots):\n",
    "            knots[i, None] = update_T(knots[i-1, None], knots[i, None])\n",
    "        H_moves = np.vstack((H_moves, knots[0, None]))\n",
    "        T_moves = np.vstack((T_moves, knots[n_knots-1, None]))\n",
    "    return H_moves.astype(int), T_moves.astype(int), knots"
   ]
  },
  {
   "cell_type": "code",
   "execution_count": 6,
   "id": "bf008b3a",
   "metadata": {},
   "outputs": [
    {
     "name": "stdout",
     "output_type": "stream",
     "text": [
      "The tail of the rope visit 6087 positions at least once\n"
     ]
    }
   ],
   "source": [
    "## answers\n",
    "n_knots = 2 # part 1\n",
    "#n_knots = 10 # part 2\n",
    "knots = np.zeros((n_knots, 2)).astype(int)\n",
    "H_move = np.copy(np.zeros((1, 2)).astype(int))\n",
    "T_move = np.copy(np.zeros((1, 2)).astype(int))\n",
    "\n",
    "for line in lines:\n",
    "    H_move_, T_move_, knots = move(knots, line[0], line[1])\n",
    "    H_move = np.vstack((H_move, H_move_))\n",
    "    T_move = np.vstack((T_move, T_move_))\n",
    "\n",
    "moves = np.unique(T_move, axis=0).astype(int)\n",
    "print(f\"The tail of the rope visit {len(moves)} positions at least once\")"
   ]
  },
  {
   "cell_type": "code",
   "execution_count": 5,
   "id": "8953ab8b",
   "metadata": {},
   "outputs": [],
   "source": [
    "# def plot_moves(moves):\n",
    "#     moves = np.unique(moves, axis=0).astype(int)\n",
    "#     #print(moves)\n",
    "    \n",
    "#     x_max = int(np.max(moves[:, 0]))\n",
    "#     y_max = int(np.max(moves[:, 1]))\n",
    "#     #print(f\"{x_max+1} x {y_max+1}\")\n",
    "\n",
    "#     field = np.zeros((y_max+1, x_max+1)).astype(int)\n",
    "#     for move in moves:\n",
    "#         #print(f\"{move}, {move[0]}, {move[1]}\")\n",
    "#         field[y_max-move[1], move[0]] = 1\n",
    "#     return field\n",
    "    \n",
    "# T_trail = plot_moves(T_move)\n",
    "# print(plot_moves(H_move))\n",
    "# print(T_trail)\n",
    "# # answer = np.array([\n",
    "# #     [0,0,1,1,0,0],\n",
    "# #     [0,0,0,1,1,0],\n",
    "# #     [0,1,1,1,1,0],\n",
    "# #     [0,0,0,0,1,0],\n",
    "# #     [1,1,1,1,0,0]\n",
    "# # ])\n",
    "# # print(answer)\n",
    "\n",
    "# np.sum(T_trail)"
   ]
  }
 ],
 "metadata": {
  "kernelspec": {
   "display_name": "Python 3 (ipykernel)",
   "language": "python",
   "name": "python3"
  },
  "language_info": {
   "codemirror_mode": {
    "name": "ipython",
    "version": 3
   },
   "file_extension": ".py",
   "mimetype": "text/x-python",
   "name": "python",
   "nbconvert_exporter": "python",
   "pygments_lexer": "ipython3",
   "version": "3.11.0"
  }
 },
 "nbformat": 4,
 "nbformat_minor": 5
}
