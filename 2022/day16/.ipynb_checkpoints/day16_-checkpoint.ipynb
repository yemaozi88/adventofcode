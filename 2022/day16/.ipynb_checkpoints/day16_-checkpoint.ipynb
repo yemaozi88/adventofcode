{
 "cells": [
  {
   "cell_type": "code",
   "execution_count": 1,
   "id": "c475676f",
   "metadata": {},
   "outputs": [],
   "source": [
    "import re\n",
    "\n",
    "import numpy as np"
   ]
  },
  {
   "cell_type": "code",
   "execution_count": 23,
   "id": "e2c88c17",
   "metadata": {},
   "outputs": [],
   "source": [
    "class Valve:\n",
    "    def __init__(self, name, flow_rate, connection_names):\n",
    "        self.name = name\n",
    "        self.flow_rate = flow_rate\n",
    "        self.connection_names = connection_names\n",
    "        self.pressure = 0\n",
    "        self.is_valve_open = False\n",
    "        \n",
    "class ValveNext:\n",
    "    def __init__(self, name, pressure, time):\n",
    "        self.name = name\n",
    "        self.pressure = pressure\n",
    "        self.time = 0\n",
    "\n",
    "        \n",
    "def load_data(is_test=True):\n",
    "    if is_test:\n",
    "        input_txt = 'input_test.txt'\n",
    "    else:\n",
    "        input_txt = 'input.txt'\n",
    "        \n",
    "    with open(input_txt) as f:\n",
    "        lines = f.read().strip().split('\\n')\n",
    "    \n",
    "    X = []\n",
    "    for line in lines:\n",
    "        #print(line)\n",
    "\n",
    "        m = re.search(r'Valve ([\\w]+)', line)\n",
    "        name = m.group(1)\n",
    "        m = re.search(r'rate=([\\d]+)', line)\n",
    "        flow_rate = m.group(1)\n",
    "\n",
    "        line_ = line.replace('leads', 'lead').replace('valves', 'valve')\n",
    "        connection_names_ = line_.split(\"lead to valve\")[1]\n",
    "        connection_names  = connection_names_.replace(' ', '').split(',')\n",
    "        #print(f\"name={name}, flow_rate={flow_rate}, connection_names={connection_names}\")\n",
    "\n",
    "        # add.\n",
    "        X.append(Valve(name, int(flow_rate), connection_names))\n",
    "    \n",
    "    return X"
   ]
  },
  {
   "cell_type": "code",
   "execution_count": 21,
   "id": "29aff04e",
   "metadata": {},
   "outputs": [
    {
     "name": "stdout",
     "output_type": "stream",
     "text": [
      "[0, 0, 0]\n",
      "['DD', 'II', 'BB']\n"
     ]
    }
   ],
   "source": [
    "X = load_data(is_test=True)\n",
    "\n",
    "names = [x.name for x in X] \n",
    "# # rename the node name to node id in connections.\n",
    "# for x in X:\n",
    "#     x.connections_id = [nodes.index(x) for x in x.connections]\n",
    "#     print(x.connections_id)\n",
    "\n",
    "nodes_check = names.copy()\n",
    "nodes_checeked = []\n",
    "time_limit = 30\n",
    "\n",
    "# current node\n",
    "node_current = X[0]\n",
    "\n",
    "# calculate pressures\n",
    "# pressures = []\n",
    "# node_next_names = []\n",
    "nodes_next = []\n",
    "for node_next_name in node_current.connection_names:\n",
    "    node_next = X[nodes.index(node_next_name)]\n",
    "    if node_next.is_valve_open:\n",
    "        pressure = node_next.flow_rate * (time_limit-2)\n",
    "    else:\n",
    "        pressure = 0\n",
    "    nodes_next = \n",
    "    pressures.append(pressure)\n",
    "    node_next_names.append(node_next_name)\n",
    "print(pressures)\n",
    "print(node_next_names)\n",
    "\n",
    "# choose the best node.\n",
    "\n",
    "\n",
    "# # display\n",
    "# for x in X:\n",
    "#     print(f\">>> {x.name}\")\n",
    "#     print(f\"flow rate: {x.flow_rate}\")\n",
    "#     print(f\"connection: {x.connection_names}\")\n",
    "#     print(f\"pressure: {x.pressure}\")\n",
    "#     print(f\"is valve open: {x.is_valve_open}\")\n",
    "    "
   ]
  },
  {
   "cell_type": "code",
   "execution_count": 26,
   "id": "cc85da62",
   "metadata": {},
   "outputs": [
    {
     "data": {
      "text/plain": [
       "205891132094649"
      ]
     },
     "execution_count": 26,
     "metadata": {},
     "output_type": "execute_result"
    }
   ],
   "source": []
  }
 ],
 "metadata": {
  "kernelspec": {
   "display_name": "Python 3 (ipykernel)",
   "language": "python",
   "name": "python3"
  },
  "language_info": {
   "codemirror_mode": {
    "name": "ipython",
    "version": 3
   },
   "file_extension": ".py",
   "mimetype": "text/x-python",
   "name": "python",
   "nbconvert_exporter": "python",
   "pygments_lexer": "ipython3",
   "version": "3.11.0"
  }
 },
 "nbformat": 4,
 "nbformat_minor": 5
}
