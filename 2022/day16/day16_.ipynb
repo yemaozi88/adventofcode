{
 "cells": [
  {
   "cell_type": "code",
   "execution_count": 2,
   "id": "c475676f",
   "metadata": {},
   "outputs": [],
   "source": [
    "import re\n",
    "\n",
    "import numpy as np"
   ]
  },
  {
   "cell_type": "code",
   "execution_count": 8,
   "id": "e2c88c17",
   "metadata": {},
   "outputs": [],
   "source": [
    "class Valve:\n",
    "    def __init__(self, name, flow_rate, connection_names):\n",
    "        self.name = name\n",
    "        self.flow_rate = flow_rate\n",
    "        self.connection_names = connection_names\n",
    "        self.pressure = 0\n",
    "        if flow_rate == 0:\n",
    "            self.is_valve_closed = False\n",
    "        else:\n",
    "            self.is_valve_closed = True\n",
    "\n",
    "        \n",
    "def load_data(is_test=True):\n",
    "    if is_test:\n",
    "        input_txt = 'input_test.txt'\n",
    "    else:\n",
    "        input_txt = 'input.txt'\n",
    "        \n",
    "    with open(input_txt) as f:\n",
    "        lines = f.read().strip().split('\\n')\n",
    "    \n",
    "    X = []\n",
    "    for line in lines:\n",
    "        #print(line)\n",
    "\n",
    "        m = re.search(r'Valve ([\\w]+)', line)\n",
    "        name = m.group(1)\n",
    "        m = re.search(r'rate=([\\d]+)', line)\n",
    "        flow_rate = m.group(1)\n",
    "\n",
    "        line_ = line.replace('leads', 'lead').replace('valves', 'valve')\n",
    "        connection_names_ = line_.split(\"lead to valve\")[1]\n",
    "        connection_names  = connection_names_.replace(' ', '').split(',')\n",
    "        #print(f\"name={name}, flow_rate={flow_rate}, connection_names={connection_names}\")\n",
    "\n",
    "        # add.\n",
    "        X.append(Valve(name, int(flow_rate), connection_names))\n",
    "    \n",
    "    return X"
   ]
  },
  {
   "cell_type": "code",
   "execution_count": 39,
   "id": "29aff04e",
   "metadata": {},
   "outputs": [
    {
     "data": {
      "text/plain": [
       "['AA', 'open', 'DD', 'open', 'nothing', 'open', 'nothing', 'nothing', 'open']"
      ]
     },
     "execution_count": 39,
     "metadata": {},
     "output_type": "execute_result"
    }
   ],
   "source": [
    "X = load_data(is_test=True)\n",
    "names = [x.name for x in X] \n",
    "\n",
    "time_limit = 3\n",
    "node_current = X[0]\n",
    "\n",
    "## the possible paths.\n",
    "def search_paths(node_current, time_limit, paths):\n",
    "    #print(f\"{node_current.name}: {time_limit}\")\n",
    "    paths.append(node_current.name)\n",
    "    \n",
    "    while time_limit > 0:\n",
    "        for node_next_name in node_current.connection_names:\n",
    "            node_next = X[names.index(node_next_name)]\n",
    "            \n",
    "            if node_next.is_valve_closed:\n",
    "                valve_options = ['open', 'nothing']\n",
    "            else:\n",
    "                valve_options = ['nothing']\n",
    "\n",
    "            for valve_option in valve_options:\n",
    "                paths.append(valve_option)\n",
    "                if valve_option == 'open':\n",
    "                    time_limit -= 1\n",
    "                    if time_limit <= 0:\n",
    "                        break\n",
    "                    \n",
    "                options.append(node_next.name)\n",
    "                time_limit -= 1\n",
    "                if time_limit <= 0:\n",
    "                        break\n",
    "                \n",
    "                #print(f\"{node_next.name}-{valve_option}: {time_limit}\")\n",
    "                search_paths(node_next, time_limit, paths)\n",
    "    #options.append(option)\n",
    "\n",
    "paths = []\n",
    "search_paths(node_current, 3, paths)                \n",
    "paths\n",
    "\n",
    "# options.append(node_next)\n",
    "\n",
    "# # display\n",
    "# for x in X:\n",
    "#     print(f\">>> {x.name}\")\n",
    "#     print(f\"flow rate: {x.flow_rate}\")\n",
    "#     print(f\"connection: {x.connection_names}\")\n",
    "#     print(f\"pressure: {x.pressure}\")\n",
    "#     print(f\"is valve closed: {x.is_valve_closed}\\n\")\n",
    "    "
   ]
  },
  {
   "cell_type": "code",
   "execution_count": 26,
   "id": "cc85da62",
   "metadata": {},
   "outputs": [
    {
     "data": {
      "text/plain": [
       "205891132094649"
      ]
     },
     "execution_count": 26,
     "metadata": {},
     "output_type": "execute_result"
    }
   ],
   "source": []
  }
 ],
 "metadata": {
  "kernelspec": {
   "display_name": "Python 3 (ipykernel)",
   "language": "python",
   "name": "python3"
  },
  "language_info": {
   "codemirror_mode": {
    "name": "ipython",
    "version": 3
   },
   "file_extension": ".py",
   "mimetype": "text/x-python",
   "name": "python",
   "nbconvert_exporter": "python",
   "pygments_lexer": "ipython3",
   "version": "3.11.0"
  }
 },
 "nbformat": 4,
 "nbformat_minor": 5
}
