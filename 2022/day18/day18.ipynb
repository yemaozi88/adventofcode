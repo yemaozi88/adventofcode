{
 "cells": [
  {
   "cell_type": "code",
   "execution_count": 1,
   "id": "281026bb",
   "metadata": {},
   "outputs": [],
   "source": [
    "import time\n",
    "\n",
    "import numpy as np"
   ]
  },
  {
   "cell_type": "code",
   "execution_count": 2,
   "id": "79893d22",
   "metadata": {},
   "outputs": [],
   "source": [
    "def load_data(is_test=True):\n",
    "    if is_test:\n",
    "        input_txt = 'input_test.txt'\n",
    "    else:\n",
    "        input_txt = 'input.txt'\n",
    "    return np.loadtxt(input_txt, dtype=\"int\", delimiter=\",\")\n",
    "\n",
    "\n",
    "# calculate the number of adjacent surfaces.\n",
    "def calc_adjacent_surfaces(X):\n",
    "    n_adjacent = 0\n",
    "    n_cubes = len(X)\n",
    "    time_start = time.time()\n",
    "    for i in range(n_cubes):\n",
    "        for j in range(n_cubes):\n",
    "            if i != j:\n",
    "                x1 = X[i]\n",
    "                x2 = X[j]\n",
    "                if np.linalg.norm(x1-x2) == 1:\n",
    "                    n_adjacent += 1\n",
    "    return n_adjacent\n",
    "\n",
    "\n",
    "def list_adjacent_surfaces(x):\n",
    "    return [\n",
    "        x + [1, 0, 0], x + [-1, 0, 0],\n",
    "        x + [0, 1, 0], x + [0, -1, 0],\n",
    "        x + [0, 0, 1], x + [0, 0, -1],\n",
    "    ]"
   ]
  },
  {
   "cell_type": "code",
   "execution_count": 55,
   "id": "f6455f6e",
   "metadata": {},
   "outputs": [
    {
     "name": "stdout",
     "output_type": "stream",
     "text": [
      "after counting up all the sides that aren't connected to another cube\n",
      "the total surface area is 3610\n",
      "elapsed time: 13.5[s]\n"
     ]
    }
   ],
   "source": [
    "is_test = False\n",
    "X = load_data(is_test=is_test)\n",
    "\n",
    "## part 1.\n",
    "time_start = time.time()\n",
    "n_cubes = len(X)\n",
    "n_adjacent = calc_adjacent_surfaces(X)\n",
    "n_surfaces = 6*n_cubes - n_adjacent\n",
    "print(f\"after counting up all the sides that aren't connected to another cube\")\n",
    "print(f\"the total surface area is {n_surfaces}\")\n",
    "print(f\"elapsed time: {time.time()-time_start:.3}[s]\")"
   ]
  },
  {
   "cell_type": "code",
   "execution_count": 42,
   "id": "a209ab30",
   "metadata": {},
   "outputs": [],
   "source": [
    "# def reduce_options(X, options, adjacent_cube):\n",
    "#     # check if all the adjacent surfaces are in X.\n",
    "#     options_ = np.copy(options)\n",
    "#     for option in options:\n",
    "#         ids = np.where(np.all(X == option + adjacent_cube, axis=1))\n",
    "#         if len(ids[0]) == 0:\n",
    "#             ids_ = np.where(np.all(options_ == option, axis=1))\n",
    "#             options_ = np.copy(np.delete(options_, ids_[0][0], axis=0))\n",
    "#     return options_\n",
    "\n",
    "\n",
    "def np2set(X):\n",
    "    return set([tuple(x) for x in X])\n",
    "\n",
    "\n",
    "def search_row(X, x):\n",
    "    ids = np.where((X == x).all(axis=1))\n",
    "    return ids[0]\n",
    "\n",
    "\n",
    "def get_group(x):\n",
    "    global group\n",
    "    global options\n",
    "    for x_ in list_adjacent_surfaces(x):\n",
    "        ids_X = search_row(X, x_)\n",
    "        ids_options = search_row(options, x_)\n",
    "        if len(ids_X) == 0 and len(ids_options) == 1:\n",
    "            group.append(x_)\n",
    "            ids = search_row(options, np.array([-1, -1, -1]))\n",
    "            #print(f\"{x_}, {len(ids)}\")\n",
    "            options[ids_options[0]] = np.array([-1, -1, -1])\n",
    "            get_group(x_)"
   ]
  },
  {
   "cell_type": "code",
   "execution_count": 53,
   "id": "41235f5d",
   "metadata": {},
   "outputs": [
    {
     "name": "stdout",
     "output_type": "stream",
     "text": [
      "all possibility: 7220\n",
      "(1,0,0) - (19,19,18)\n"
     ]
    }
   ],
   "source": [
    "## part 2. \n",
    "is_test = False\n",
    "X = load_data(is_test=is_test)\n",
    "#time_start = time.time()\n",
    "\n",
    "xmin = np.min(X[:, 0])\n",
    "xmax = np.max(X[:, 0])\n",
    "ymin = np.min(X[:, 1])\n",
    "ymax = np.max(X[:, 1])\n",
    "zmin = np.min(X[:, 2])\n",
    "zmax = np.max(X[:, 2])\n",
    "options = []\n",
    "for x in range(xmin, xmax+1):\n",
    "    for y in range(ymin, ymax+1):\n",
    "        for z in range(zmin, zmax+1):\n",
    "            options.append([x, y, z])\n",
    "options = np.array(options)\n",
    "print(f\"all possibility: {len(options)}\")\n",
    "print(f\"({xmin},{ymin},{zmin}) - ({xmax},{ymax},{zmax})\")\n",
    "\n",
    "options_all = np.copy(options)\n",
    "\n",
    "# calculate the number of fully-surrounded surfaces.\n",
    "# # remove cubes which do not have adjacent cubes.\n",
    "# for adjacent in list_adjacent_surfaces(np.array([0, 0, 0])):\n",
    "#     options_ = reduce_options(X, options, adjacent)\n",
    "#     options  = np.copy(options_)\n",
    "\n",
    "            \n",
    "# outer surface.\n",
    "group = []  \n",
    "try:\n",
    "    get_group(np.array([xmax, ymax, zmax]))\n",
    "except RecursionError:\n",
    "    get_group(np.array([xmax, ymax, zmax]))    \n",
    "group = np.array(group)\n",
    "\n",
    "# remove itself.\n",
    "set_X = np2set(X)\n",
    "set_options_all = np2set(options_all)\n",
    "set_group = np2set(group)\n",
    "options = np.array([x for x in set_options_all - set_X - set_group])\n",
    "\n",
    "#n_air_pockets = len(options)\n",
    "#print(f\"number of air pockets: {n_air_pockets}\")\n",
    "# print(f\"the exterior surface area of the lava droplet: {n_surfaces-6*n_air_pockets}\")\n",
    "# print(f\"elapsed time: {time.time()-time_start:.3}[s]\")"
   ]
  },
  {
   "cell_type": "code",
   "execution_count": 54,
   "id": "f9b6217c",
   "metadata": {},
   "outputs": [
    {
     "name": "stdout",
     "output_type": "stream",
     "text": [
      "number of air pockets: 1836\n",
      "the outer surface area of the air pocket is 3402\n",
      "the exterior surface area of the lava droplet: 208\n"
     ]
    }
   ],
   "source": [
    "n_cubes = len(X)\n",
    "n_adjacent = calc_adjacent_surfaces(X)\n",
    "n_surfaces = 6*n_cubes - n_adjacent\n",
    "\n",
    "# outer surface of the air pockets.\n",
    "n_air_pockets = len(options)\n",
    "print(f\"number of air pockets: {n_air_pockets}\")\n",
    "\n",
    "n_cubes_inside = len(options)\n",
    "n_adjacent_inside = calc_adjacent_surfaces(options)\n",
    "n_surfaces_inside = 6*n_cubes_inside - n_adjacent_inside\n",
    "print(f\"the outer surface area of the air pocket is {n_surfaces_inside}\")\n",
    "\n",
    "print(f\"the exterior surface area of the lava droplet: {n_surfaces-n_surfaces_inside}\")"
   ]
  },
  {
   "cell_type": "code",
   "execution_count": 56,
   "id": "71c0c835",
   "metadata": {},
   "outputs": [
    {
     "data": {
      "text/plain": [
       "3402"
      ]
     },
     "execution_count": 56,
     "metadata": {},
     "output_type": "execute_result"
    }
   ],
   "source": [
    "3610-208"
   ]
  }
 ],
 "metadata": {
  "kernelspec": {
   "display_name": "Python 3 (ipykernel)",
   "language": "python",
   "name": "python3"
  },
  "language_info": {
   "codemirror_mode": {
    "name": "ipython",
    "version": 3
   },
   "file_extension": ".py",
   "mimetype": "text/x-python",
   "name": "python",
   "nbconvert_exporter": "python",
   "pygments_lexer": "ipython3",
   "version": "3.11.0"
  }
 },
 "nbformat": 4,
 "nbformat_minor": 5
}
