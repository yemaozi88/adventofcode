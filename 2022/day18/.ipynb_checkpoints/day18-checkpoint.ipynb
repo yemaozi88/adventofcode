{
 "cells": [
  {
   "cell_type": "code",
   "execution_count": 1,
   "id": "281026bb",
   "metadata": {},
   "outputs": [],
   "source": [
    "import time\n",
    "\n",
    "import numpy as np"
   ]
  },
  {
   "cell_type": "code",
   "execution_count": 13,
   "id": "79893d22",
   "metadata": {},
   "outputs": [],
   "source": [
    "def load_data(is_test=True):\n",
    "    if is_test:\n",
    "        input_txt = 'input_test.txt'\n",
    "    else:\n",
    "        input_txt = 'input.txt'\n",
    "    return np.loadtxt(input_txt, dtype=\"int\", delimiter=\",\")\n",
    "\n",
    "\n",
    "# calculate the number of adjacent surfaces.\n",
    "def calc_adjacent_surfaces(X):\n",
    "    n_adjacent = 0\n",
    "    n_cubes = len(X)\n",
    "    time_start = time.time()\n",
    "    for i in range(n_cubes):\n",
    "        for j in range(n_cubes):\n",
    "            if i != j:\n",
    "                x1 = X[i]\n",
    "                x2 = X[j]\n",
    "                if np.linalg.norm(x1-x2) == 1:\n",
    "                    n_adjacent += 1\n",
    "    return n_adjacent\n",
    "\n",
    "\n",
    "def list_adjacent_surfaces(x):\n",
    "    return [\n",
    "        x + [1, 0, 0], x + [-1, 0, 0],\n",
    "        x + [0, 1, 0], x + [0, -1, 0],\n",
    "        x + [0, 0, 1], x + [0, 0, -1],\n",
    "    ]"
   ]
  },
  {
   "cell_type": "code",
   "execution_count": 14,
   "id": "f6455f6e",
   "metadata": {},
   "outputs": [
    {
     "name": "stdout",
     "output_type": "stream",
     "text": [
      "after counting up all the sides that aren't connected to another cube\n",
      "the total surface area is 3610\n",
      "elapsed time: 1.69e+02[s]\n"
     ]
    }
   ],
   "source": [
    "is_test = False\n",
    "X = load_data(is_test=is_test)\n",
    "\n",
    "## part 1.\n",
    "n_cubes = len(X)\n",
    "n_adjacent = calc_adjacent_surfaces(X)\n",
    "n_surfaces = 6*n_cubes - n_adjacent\n",
    "print(f\"after counting up all the sides that aren't connected to another cube\")\n",
    "print(f\"the total surface area is {n_surfaces}\")\n",
    "print(f\"elapsed time: {time.time()-time_start:.3}[s]\")"
   ]
  },
  {
   "cell_type": "code",
   "execution_count": null,
   "id": "a209ab30",
   "metadata": {},
   "outputs": [],
   "source": [
    "def reduce_options(X, options, adjacent_cube):\n",
    "    # check if all the adjacent surfaces are in X.\n",
    "    options_ = np.copy(options)\n",
    "    for option in options:\n",
    "        ids = np.where(np.all(X == option + adjacent_cube, axis=1))\n",
    "        if len(ids[0]) == 0:\n",
    "            ids_ = np.where(np.all(options_ == option, axis=1))\n",
    "            options_ = np.copy(np.delete(options_, ids_[0][0], axis=0))\n",
    "    return options_\n",
    "\n",
    "\n",
    "def np2set(X):\n",
    "    return set([tuple(x) for x in X])"
   ]
  },
  {
   "cell_type": "code",
   "execution_count": 26,
   "id": "41235f5d",
   "metadata": {},
   "outputs": [
    {
     "name": "stdout",
     "output_type": "stream",
     "text": [
      "all possibility: 7220\n",
      "number of air pockets: 32\n",
      "the exterior surface area of the lava droplet: 3418\n",
      "elapsed time: 1.05[s]\n"
     ]
    }
   ],
   "source": [
    "## part 2. \n",
    "\n",
    "time_start = time.time()\n",
    "\n",
    "# calculate the number of fully-surrounded surfaces.\n",
    "options = []\n",
    "for x in range(np.min(X[:, 0]), np.max(X[:, 0])+1):\n",
    "    for y in range(np.min(X[:, 1]), np.max(X[:, 1])+1):\n",
    "        for z in range(np.min(X[:, 2]), np.max(X[:, 2])+1):\n",
    "            options.append([x, y, z])\n",
    "options = np.array(options)\n",
    "print(f\"all possibility: {len(options)}\")\n",
    "\n",
    "# remove cubes which do not have adjacent cubes.\n",
    "for adjacent in list_adjacent_surfaces(np.array([0, 0, 0])):\n",
    "    options_ = reduce_options(X, options, adjacent)\n",
    "    options  = np.copy(options_)\n",
    "\n",
    "# remove itself.\n",
    "set_X = np2set(X)\n",
    "set_options = np2set(options)\n",
    "options = np.array([x for x in set_options - set_X])\n",
    "\n",
    "n_air_pockets = len(options)\n",
    "print(f\"number of air pockets: {n_air_pockets}\")\n",
    "print(f\"the exterior surface area of the lava droplet: {n_surfaces-6*n_air_pockets}\")\n",
    "print(f\"elapsed time: {time.time()-time_start:.3}[s]\")"
   ]
  },
  {
   "cell_type": "code",
   "execution_count": 27,
   "id": "a8d7bf25",
   "metadata": {},
   "outputs": [
    {
     "name": "stdout",
     "output_type": "stream",
     "text": [
      "0\n"
     ]
    },
    {
     "data": {
      "text/plain": [
       "array([[17, 12,  8],\n",
       "       [ 7, 10, 17],\n",
       "       [ 7,  2, 13],\n",
       "       [ 4, 13,  4],\n",
       "       [13, 16, 12],\n",
       "       [ 9,  9, 17],\n",
       "       [ 6,  6, 16],\n",
       "       [11,  4, 15],\n",
       "       [13, 14, 14],\n",
       "       [14, 15, 11],\n",
       "       [ 9, 12,  3],\n",
       "       [14,  8,  5],\n",
       "       [ 8,  4, 14],\n",
       "       [16,  8, 13],\n",
       "       [15,  6,  7],\n",
       "       [12, 10, 17],\n",
       "       [12,  2, 13],\n",
       "       [14,  6, 14],\n",
       "       [ 5, 14,  8],\n",
       "       [ 9, 16,  6],\n",
       "       [ 3,  6,  6],\n",
       "       [ 2, 12,  8],\n",
       "       [ 7, 12,  3],\n",
       "       [ 3,  8,  9],\n",
       "       [ 5, 10, 16],\n",
       "       [13, 16, 10],\n",
       "       [ 3, 10,  6],\n",
       "       [ 3,  7, 13],\n",
       "       [ 4, 13, 14],\n",
       "       [10,  8,  1],\n",
       "       [ 7, 16, 12],\n",
       "       [ 4, 11, 13]])"
      ]
     },
     "execution_count": 27,
     "metadata": {},
     "output_type": "execute_result"
    }
   ],
   "source": [
    "# all the airpockets are not \n",
    "#n_adjacent_ = calc_adjacent_surfaces(options)\n",
    "#print(n_adjacent_) \n",
    "options"
   ]
  }
 ],
 "metadata": {
  "kernelspec": {
   "display_name": "Python 3 (ipykernel)",
   "language": "python",
   "name": "python3"
  },
  "language_info": {
   "codemirror_mode": {
    "name": "ipython",
    "version": 3
   },
   "file_extension": ".py",
   "mimetype": "text/x-python",
   "name": "python",
   "nbconvert_exporter": "python",
   "pygments_lexer": "ipython3",
   "version": "3.9.5"
  }
 },
 "nbformat": 4,
 "nbformat_minor": 5
}
