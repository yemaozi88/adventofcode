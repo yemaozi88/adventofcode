{
 "cells": [
  {
   "cell_type": "code",
   "execution_count": 1,
   "id": "e548bafe",
   "metadata": {},
   "outputs": [],
   "source": [
    "import numpy as np\n",
    "import pandas as pd"
   ]
  },
  {
   "cell_type": "code",
   "execution_count": 2,
   "id": "ce56190c",
   "metadata": {},
   "outputs": [],
   "source": [
    "#with open('input_test.txt') as f:\n",
    "with open('input.txt') as f:\n",
    "    lines = f.read().strip().split('\\n')\n",
    "    \n",
    "dirpath = ''\n",
    "dirs      = []\n",
    "filenames = []\n",
    "filesizes = []\n",
    "for line in lines:\n",
    "    #print(line)\n",
    "    commands = line.split(' ')\n",
    "    ## commands\n",
    "    if commands[0] == '$':\n",
    "        if commands[1] == 'cd':\n",
    "            if commands[2] == '/':\n",
    "                dirpath += commands[2]\n",
    "            elif commands[2] == '..':\n",
    "                dirpath = '/'.join(dirpath.split('/')[:-2]) + '/'\n",
    "            else:\n",
    "                dirpath += commands[2] + '/'\n",
    "            dirs.append(dirpath)\n",
    "    ## file list.\n",
    "    else:\n",
    "        filesize, filename = line.split(' ')\n",
    "        if filesize != 'dir':\n",
    "            filenames.append(dirpath + filename)\n",
    "            filesizes.append(int(filesize))\n",
    "            #print(f'{dirpath}{filename}: {filesize}')\n",
    "            \n",
    "# list of directories.\n",
    "dirs = list(set(dirs))\n",
    "dirs.remove('/')"
   ]
  },
  {
   "cell_type": "code",
   "execution_count": 3,
   "id": "7345dcaf",
   "metadata": {},
   "outputs": [],
   "source": [
    "def get_total_size(dirname):\n",
    "    total_size = 0\n",
    "    for filename, filesize in zip(filenames, filesizes):\n",
    "        if dirname in filename:\n",
    "            total_size += filesize\n",
    "            #print(f'{filename}, {filesize}')\n",
    "    return total_size"
   ]
  },
  {
   "cell_type": "code",
   "execution_count": 4,
   "id": "ea51e4e9",
   "metadata": {},
   "outputs": [
    {
     "data": {
      "text/plain": [
       "1454188"
      ]
     },
     "execution_count": 4,
     "metadata": {},
     "output_type": "execute_result"
    }
   ],
   "source": [
    "## part 1.\n",
    "dirsizes = [get_total_size(d) for d in dirs]\n",
    "\n",
    "total_size = 0\n",
    "for d in dirsizes:\n",
    "    if d<100000:\n",
    "        total_size += d\n",
    "total_size"
   ]
  },
  {
   "cell_type": "code",
   "execution_count": 5,
   "id": "8047450b",
   "metadata": {},
   "outputs": [
    {
     "name": "stdout",
     "output_type": "stream",
     "text": [
      "total size of outermost dir: 43837783\n",
      "the size of the unused space: 26162217\n",
      "the size to free up: 3837783\n",
      "\n",
      "the total size of the smallest directory that,\n",
      "if deleted, would free up enough space on the filesystem to run the update is:\n",
      "4183246\n"
     ]
    }
   ],
   "source": [
    "## part 2.\n",
    "size_outermost_dir = np.sum(filesizes)\n",
    "print(f'total size of outermost dir: {size_outermost_dir}')\n",
    "size_unused_space = 70000000 - size_outermost_dir\n",
    "print(f'the size of the unused space: {size_unused_space}')\n",
    "size_to_free_up = 30000000 - size_unused_space\n",
    "print(f'the size to free up: {size_to_free_up}\\n')\n",
    "\n",
    "df = pd.DataFrame()\n",
    "df['dirname'] = dirs\n",
    "df['dirsize'] = dirsizes\n",
    "df_ = df[df['dirsize']>size_to_free_up]\n",
    "df_ = df_.sort_values(by=['dirsize'])\n",
    "print('the total size of the smallest directory that,')\n",
    "print('if deleted, would free up enough space on the filesystem to run the update is:') \n",
    "print(df_.iloc[0]['dirsize']) "
   ]
  }
 ],
 "metadata": {
  "kernelspec": {
   "display_name": "Python 3 (ipykernel)",
   "language": "python",
   "name": "python3"
  },
  "language_info": {
   "codemirror_mode": {
    "name": "ipython",
    "version": 3
   },
   "file_extension": ".py",
   "mimetype": "text/x-python",
   "name": "python",
   "nbconvert_exporter": "python",
   "pygments_lexer": "ipython3",
   "version": "3.11.0"
  }
 },
 "nbformat": 4,
 "nbformat_minor": 5
}
