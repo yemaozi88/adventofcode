{
 "cells": [
  {
   "cell_type": "code",
   "execution_count": 1,
   "id": "9f94ef1c",
   "metadata": {},
   "outputs": [],
   "source": [
    "import numpy as np\n",
    "import seaborn as sns\n",
    "import matplotlib.pyplot as plt\n",
    "\n",
    "def interpolate(x1, x2):\n",
    "    step = np.sign(x2 - x1)\n",
    "    x1_ = x1.copy()\n",
    "    x1to2 = []\n",
    "    while any(x1_ - x2):\n",
    "        x1to2.append(list(x1_))\n",
    "        x1_ += step\n",
    "    x1to2.append(list(x2))\n",
    "    return x1to2\n",
    "\n",
    "\n",
    "def load_rocks(input_txt):\n",
    "    with open(input_txt) as f:\n",
    "        lines = f.read().strip().split('\\n')\n",
    "\n",
    "    rocks = []\n",
    "    for line in lines:\n",
    "        #print(line)\n",
    "        edges = np.array([x.split(',') for x in line.split(' -> ')]).astype(int)\n",
    "\n",
    "        # interpolate\n",
    "        rocks_ = []\n",
    "        for i in range(len(edges)-1):\n",
    "            edge1 = edges[i]\n",
    "            edge2 = edges[i+1]\n",
    "            #print(f\"{edge1} to {edge2}\")\n",
    "            rocks_ += interpolate(edge1, edge2)\n",
    "\n",
    "        rocks += rocks_\n",
    "        \n",
    "    # remove duplicate\n",
    "    rocks = list(set(tuple(r) for r in rocks))\n",
    "    \n",
    "    return np.array(rocks)\n",
    "\n",
    "\n",
    "def make_field(rocks, is_part1=True):\n",
    "    xmax = np.max(rocks[:, 0])+1\n",
    "    ymax = np.max(rocks[:, 1])+1\n",
    "    field = np.zeros((xmax, ymax))\n",
    "    field[500, 0] = -0.5 # source\n",
    "    # field_char = np.chararray(np.shape((xmax, ymax)), unicode=True)\n",
    "    # field_char[:] = '.'\n",
    "    \n",
    "    for rock in rocks:\n",
    "        field[rock[0], rock[1]] = 1\n",
    "        \n",
    "    return field\n",
    "\n",
    "\n",
    "def drop_sand():\n",
    "    global field\n",
    "    global ymax\n",
    "    sand  = np.array([500, 0])\n",
    "    # previous position\n",
    "    sand_ = np.array([501, 0])\n",
    "\n",
    "    is_rest  = False\n",
    "    flow_out = False\n",
    "    while not is_rest:\n",
    "        is_rest = False\n",
    "        x, y = sand\n",
    "        if y >= ymax-1:\n",
    "            flow_out = True\n",
    "            is_rest  = True\n",
    "        else:\n",
    "            if field[x, y+1] == 0:\n",
    "                sand[1] += 1\n",
    "            elif field[x-1, y+1] == 0:\n",
    "                sand[0] -= 1\n",
    "                sand[1] += 1\n",
    "            elif field[x+1, y+1] == 0:\n",
    "                sand[0] += 1\n",
    "                sand[1] += 1\n",
    "            elif sand[1] >= ymax:\n",
    "                flow_out = True\n",
    "                break\n",
    "            else:\n",
    "                is_rest = True\n",
    "\n",
    "    #print(sand)\n",
    "    if not flow_out:\n",
    "        field[sand[0], sand[1]] = 0.5\n",
    "\n",
    "    return flow_out\n",
    "\n",
    "\n",
    "def draw_field(field):\n",
    "    global xmin, xmax, ymax\n",
    "    field_ = field[xmin:xmax, 0:ymax]\n",
    "    #print(field_)\n",
    "    #print(np.shape(field_))\n",
    "    plt.figure(figsize=(3, 3), dpi=80)\n",
    "    ax = sns.heatmap(field_.T, vmin=0, vmax=1)\n",
    "    plt.show()"
   ]
  },
  {
   "cell_type": "code",
   "execution_count": 4,
   "id": "e5ad850c",
   "metadata": {},
   "outputs": [
    {
     "name": "stdout",
     "output_type": "stream",
     "text": [
      "24 units of sand come to rest before sand starts flowing into the abyss below\n"
     ]
    },
    {
     "data": {
      "image/png": "[encoded data removed]",
      "text/plain": [
       "<Figure size 240x240 with 2 Axes>"
      ]
     },
     "metadata": {},
     "output_type": "display_data"
    }
   ],
   "source": [
    "## part 1.\n",
    "rocks = load_rocks(\"input_test.txt\")\n",
    "field = make_field(rocks, is_part1=True)\n",
    "\n",
    "xmin = np.min(rocks[:, 0])\n",
    "xmax = np.max(rocks[:, 0])+1\n",
    "ymin = np.min(rocks[:, 1])\n",
    "ymax = np.max(rocks[:, 1])+1\n",
    "\n",
    "flow_out = False\n",
    "n_sand = 0\n",
    "while not flow_out:\n",
    "    flow_out = drop_sand()\n",
    "    n_sand += 1\n",
    "\n",
    "print(f\"{n_sand-1} units of sand come to rest before sand starts flowing into the abyss below\")\n",
    "draw_field(field)"
   ]
  },
  {
   "cell_type": "code",
   "execution_count": 3,
   "id": "921ace8a",
   "metadata": {},
   "outputs": [
    {
     "name": "stdout",
     "output_type": "stream",
     "text": [
      "after 25500 units of sand come to rest, the source of the sand becomes blocked\n"
     ]
    },
    {
     "data": {
      "image/png": "[encoded data removed]",
      "text/plain": [
       "<Figure size 240x240 with 2 Axes>"
      ]
     },
     "metadata": {},
     "output_type": "display_data"
    }
   ],
   "source": [
    "## part 2.\n",
    "rocks = load_rocks(\"input.txt\")\n",
    "ymax = np.max(rocks[:, 1])+1\n",
    "rocks = np.vstack((rocks, interpolate(np.array([500-ymax-5, ymax+1]), np.array([500+ymax+5, ymax+1]))))\n",
    "\n",
    "# update the size of the region.\n",
    "xmin = np.min(rocks[:, 0])\n",
    "xmax = np.max(rocks[:, 0])+1\n",
    "ymin = np.min(rocks[:, 1])\n",
    "ymax = np.max(rocks[:, 1])+1\n",
    "# print(f\"x:{xmin}-{xmax}\")\n",
    "# print(f\"y:{ymin}-{ymax}\")\n",
    "\n",
    "field = make_field(rocks, is_part1=True)\n",
    "\n",
    "n_sand = 0\n",
    "while ((field[500, 1] == 0.0) or (field[499, 1] == 0.0) or (field[501, 1] == 0.0)):\n",
    "#for i in range(93):\n",
    "    _ = drop_sand()\n",
    "    n_sand += 1\n",
    "    #print(n_sand)\n",
    "print(f\"after {n_sand+1} units of sand come to rest, the source of the sand becomes blocked\")\n",
    "draw_field(field)"
   ]
  }
 ],
 "metadata": {
  "kernelspec": {
   "display_name": "Python 3 (ipykernel)",
   "language": "python",
   "name": "python3"
  },
  "language_info": {
   "codemirror_mode": {
    "name": "ipython",
    "version": 3
   },
   "file_extension": ".py",
   "mimetype": "text/x-python",
   "name": "python",
   "nbconvert_exporter": "python",
   "pygments_lexer": "ipython3",
   "version": "3.11.0"
  }
 },
 "nbformat": 4,
 "nbformat_minor": 5
}
