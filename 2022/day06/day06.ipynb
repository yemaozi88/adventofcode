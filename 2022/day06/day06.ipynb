{
 "cells": [
  {
   "cell_type": "code",
   "execution_count": 1,
   "id": "f582e50c",
   "metadata": {},
   "outputs": [
    {
     "name": "stdout",
     "output_type": "stream",
     "text": [
      "3425 characters need to be processed before the first start-of-packet marker is detected.\n"
     ]
    }
   ],
   "source": [
    "## test data.   \n",
    "#signal = 'mjqjpqmgbljsphdztnvjfqwrcgsmlb'\n",
    "#signal = 'bvwbjplbgvbhsrlpgdmjqwftvncz'\n",
    "#signal = 'zcfzfwzzqfrljwzlrfnpqdbhtmscgvjw'\n",
    "#signal = 'mjqjpqmgbljsphdztnvjfqwrcgsmlb'\n",
    "\n",
    "## real data.\n",
    "with open('input.txt') as f:\n",
    "    signal = f.read()\n",
    "\n",
    "## number of unique characters \n",
    "n = 14\n",
    "for i in range(n-1, len(signal)):\n",
    "    marker = signal[i-n:i]\n",
    "    if len(set(marker)) == n:\n",
    "        #print(marker)\n",
    "        break\n",
    "print(f'{i} characters need to be processed before the first start-of-packet marker is detected.')"
   ]
  }
 ],
 "metadata": {
  "kernelspec": {
   "display_name": "Python 3",
   "language": "python",
   "name": "python3"
  },
  "language_info": {
   "codemirror_mode": {
    "name": "ipython",
    "version": 3
   },
   "file_extension": ".py",
   "mimetype": "text/x-python",
   "name": "python",
   "nbconvert_exporter": "python",
   "pygments_lexer": "ipython3",
   "version": "3.7.11"
  }
 },
 "nbformat": 4,
 "nbformat_minor": 5
}
