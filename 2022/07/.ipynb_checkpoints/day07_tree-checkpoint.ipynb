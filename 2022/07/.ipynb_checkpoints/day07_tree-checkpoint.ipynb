{
 "cells": [
  {
   "cell_type": "code",
   "execution_count": 54,
   "id": "66e7c15d",
   "metadata": {},
   "outputs": [],
   "source": [
    "import collections\n",
    "\n",
    "import numpy as np\n",
    "from anytree import Node, RenderTree\n",
    "import anytree"
   ]
  },
  {
   "cell_type": "code",
   "execution_count": 121,
   "id": "493d6041",
   "metadata": {},
   "outputs": [
    {
     "name": "stdout",
     "output_type": "stream",
     "text": [
      "$ cd /\n",
      "$ ls\n",
      "dir cmvqf\n",
      "ROOT>cmvqf\n",
      "cmvqf_2 = Node(\"cmvqf_2\", parent=ROOT, original_name=\"cmvqf\")\n",
      "dir dcgbjvj\n",
      "ROOT>dcgbjvj\n",
      "dcgbjvj_3 = Node(\"dcgbjvj_3\", parent=ROOT, original_name=\"dcgbjvj\")\n",
      "57426 gszshjwr.lrs\n",
      "ROOT>gszshjwr_lrs\n",
      "gszshjwr_lrs_4 = Node(\"gszshjwr_lrs_4\", parent=ROOT, original_name=\"gszshjwr_lrs\", filesize=57426)\n",
      "dir nsgms\n",
      "ROOT>nsgms\n",
      "nsgms_5 = Node(\"nsgms_5\", parent=ROOT, original_name=\"nsgms\")\n",
      "124423 rjqns.prb\n",
      "ROOT>rjqns_prb\n",
      "rjqns_prb_6 = Node(\"rjqns_prb_6\", parent=ROOT, original_name=\"rjqns_prb\", filesize=124423)\n",
      "dir wqvv\n",
      "ROOT>wqvv\n",
      "wqvv_7 = Node(\"wqvv_7\", parent=ROOT, original_name=\"wqvv\")\n",
      "$ cd cmvqf\n",
      ">>>ROOT - wqvv_7\n"
     ]
    },
    {
     "ename": "AttributeError",
     "evalue": "'NoneType' object has no attribute 'name'",
     "output_type": "error",
     "traceback": [
      "\u001b[0;31m---------------------------------------------------------------------------\u001b[0m",
      "\u001b[0;31mAttributeError\u001b[0m                            Traceback (most recent call last)",
      "Cell \u001b[0;32mIn[121], line 37\u001b[0m\n\u001b[1;32m     33\u001b[0m             \u001b[38;5;28mprint\u001b[39m(\u001b[38;5;124mf\u001b[39m\u001b[38;5;124m\"\u001b[39m\u001b[38;5;124m>>>\u001b[39m\u001b[38;5;132;01m{\u001b[39;00mdir_parent\u001b[38;5;132;01m}\u001b[39;00m\u001b[38;5;124m - \u001b[39m\u001b[38;5;132;01m{\u001b[39;00mdir_parent_id\u001b[38;5;132;01m}\u001b[39;00m\u001b[38;5;124m\"\u001b[39m)\n\u001b[1;32m     34\u001b[0m             \u001b[38;5;66;03m#dir_parent = dir_parent_ + '_' + str(depth)\u001b[39;00m\n\u001b[1;32m     35\u001b[0m             \u001b[38;5;66;03m#dir_parent = dir_parent_ + '_' + str(i)\u001b[39;00m\n\u001b[1;32m     36\u001b[0m             \u001b[38;5;66;03m#exec(f\"depth = {dir_parent_}.depth\")  \u001b[39;00m\n\u001b[0;32m---> 37\u001b[0m             exec(\u001b[38;5;124mf\u001b[39m\u001b[38;5;124m\"\u001b[39m\u001b[38;5;124mdir_parent = anytree.search.find_by_attr(ROOT, name=\u001b[39m\u001b[38;5;130;01m\\\"\u001b[39;00m\u001b[38;5;124moriginal_name\u001b[39m\u001b[38;5;130;01m\\\"\u001b[39;00m\u001b[38;5;124m, value=\u001b[39m\u001b[38;5;130;01m\\\"\u001b[39;00m\u001b[38;5;132;01m{\u001b[39;00mdir_parent_\u001b[38;5;132;01m}\u001b[39;00m\u001b[38;5;124m, maxlevel=\u001b[39m\u001b[38;5;132;01m{\u001b[39;00mdepth\u001b[38;5;241m+\u001b[39m\u001b[38;5;241m1\u001b[39m\u001b[38;5;132;01m}\u001b[39;00m\u001b[38;5;130;01m\\\"\u001b[39;00m\u001b[38;5;124m).name\u001b[39m\u001b[38;5;124m\"\u001b[39m)\n\u001b[1;32m     38\u001b[0m             depth \u001b[38;5;241m+\u001b[39m\u001b[38;5;241m=\u001b[39m \u001b[38;5;241m1\u001b[39m\n\u001b[1;32m     39\u001b[0m \u001b[38;5;28;01melse\u001b[39;00m:\n",
      "File \u001b[0;32m<string>:1\u001b[0m\n",
      "\u001b[0;31mAttributeError\u001b[0m: 'NoneType' object has no attribute 'name'"
     ]
    }
   ],
   "source": [
    "## load the directry tree\n",
    "#with open('input_test.txt') as f:\n",
    "with open('input.txt') as f:\n",
    "    lines = f.read().strip().split('\\n')\n",
    "\n",
    "ROOT = Node(\"ROOT\" , parent=None)\n",
    "dir_parent = ROOT.name\n",
    "dir_parent_id = ROOT.name\n",
    "dirlist = []\n",
    "depth = 0\n",
    "idlist = []\n",
    "\n",
    "for i, line in enumerate(lines):\n",
    "    print(line)\n",
    "    if '$' in line:\n",
    "        command = line.replace('$ ', '')\n",
    "#         if command == 'ls':\n",
    "#             pass\n",
    "        if command.split(' ')[0] == 'cd':\n",
    "            dir_parent_ = command.split(' ')[1]\n",
    "            if dir_parent_ == '/':\n",
    "                dir_parent = ROOT.name\n",
    "                dir_parent_id = ROOT.name\n",
    "                depth += 1\n",
    "            elif dir_parent_ == '..':\n",
    "                depth -= 1\n",
    "                print(f'>>>>>>>> {dir_parent}')\n",
    "                if not dir_parent == ROOT.name:\n",
    "                    exec(f\"dir_parent = {dir_parent}.parent.name\")\n",
    "                    \n",
    "            else: # cd xxx\n",
    "                #dir_parent = dir_parent_\n",
    "                print(f\">>>{dir_parent} - {dir_parent_id}\")\n",
    "                #dir_parent = dir_parent_ + '_' + str(depth)\n",
    "                #dir_parent = dir_parent_ + '_' + str(i)\n",
    "                #exec(f\"depth = {dir_parent_}.depth\")  \n",
    "                exec(f\"dir_parent = anytree.search.find_by_attr(ROOT, name=\\\"original_name\\\", value=\\\"{dir_parent_}, maxlevel={depth+1}\\\").name\")\n",
    "                depth += 1\n",
    "    else:\n",
    "        if exec(f\"{dir_parent}.depth != 0\"):\n",
    "            dir_parent_ = ROOT.name\n",
    "#         if dir_parent_ == ROOT:\n",
    "#             dir_parent_ = dir_parent_.name\n",
    "        else:\n",
    "            dir_parent_ = dir_parent\n",
    "        #exec(f\"dir_parent = anytree.search.find_by_attr(ROOT, name=\\\"name\\\", value=\\\"{dir_parent}\\\").name\")\n",
    "        \n",
    "        filesize, filename = line.split(' ')\n",
    "        #filename = filename.replace('.', '_') + '_' + str(depth)\n",
    "        filename = filename.replace('.', '_')\n",
    "        fileid = filename + '_' + str(i)\n",
    "        \n",
    "        if not filesize=='dir':\n",
    "            command_node = '{} = Node(\"{}\", parent={}, original_name=\"{}\", filesize={})'.format(fileid, fileid, dir_parent_, filename, filesize)\n",
    "            \n",
    "        else:\n",
    "            dirlist.append(filename)\n",
    "            dir_parent_id = fileid\n",
    "            command_node = '{} = Node(\"{}\", parent={}, original_name=\"{}\")'.format(fileid, fileid, dir_parent_, filename)\n",
    "        print(f\"{dir_parent_}>{filename}\")\n",
    "        print(command_node)\n",
    "        idlist.append(filename)\n",
    "        exec(command_node)\n",
    "        \n",
    "# check\n",
    "for pre, fill, node in RenderTree(ROOT):\n",
    "    print(\"%s%s\" % (pre, node.name))\n",
    "    \n",
    "print(f'total number of id: {len(idlist)}')\n",
    "print(f'total number of unique ids: {len(set(idlist))}')"
   ]
  },
  {
   "cell_type": "code",
   "execution_count": 122,
   "id": "c4b1f794",
   "metadata": {},
   "outputs": [
    {
     "data": {
      "text/plain": [
       "Node('/ROOT/cmvqf_2', original_name='cmvqf')"
      ]
     },
     "execution_count": 122,
     "metadata": {},
     "output_type": "execute_result"
    }
   ],
   "source": [
    "#anytree.search.find_by_attr(ROOT, name=\"original_name\", value=\"e_8\").name\n",
    "\n",
    "anytree.search.find_by_attr(ROOT, name=\"original_name\", value=dir_parent_, maxlevel=2)"
   ]
  },
  {
   "cell_type": "code",
   "execution_count": 123,
   "id": "c56ea272",
   "metadata": {},
   "outputs": [
    {
     "name": "stdout",
     "output_type": "stream",
     "text": [
      "ROOT\n",
      "├── cmvqf_2\n",
      "├── dcgbjvj_3\n",
      "├── gszshjwr_lrs_4\n",
      "├── nsgms_5\n",
      "├── rjqns_prb_6\n",
      "└── wqvv_7\n"
     ]
    }
   ],
   "source": [
    "# check\n",
    "for pre, fill, node in RenderTree(ROOT):\n",
    "    print(\"%s%s\" % (pre, node.name))"
   ]
  },
  {
   "cell_type": "code",
   "execution_count": 39,
   "id": "84603375",
   "metadata": {},
   "outputs": [],
   "source": [
    "def get_leaf_nodes(node):\n",
    "    leafs = []\n",
    "    def _get_leaf_nodes(node):\n",
    "        if len(node.children) == 0:\n",
    "            leafs.append(node)\n",
    "        for n in node.children:\n",
    "            _get_leaf_nodes(n)\n",
    "        return leafs\n",
    "    return _get_leaf_nodes(node)\n",
    "\n",
    "\n",
    "def calc_size(node):\n",
    "    return np.sum([l.filesize for l in get_leaf_nodes(node)])"
   ]
  },
  {
   "cell_type": "code",
   "execution_count": 40,
   "id": "4e7fcdd4",
   "metadata": {},
   "outputs": [
    {
     "data": {
      "text/plain": [
       "1507548"
      ]
     },
     "execution_count": 40,
     "metadata": {},
     "output_type": "execute_result"
    }
   ],
   "source": [
    "#[exec(\"calc_size({})\".format(dirname)) for dirname in dirlist]\n",
    "dirsizes = []\n",
    "for dirname in dirlist:\n",
    "    command_exec = \"dirsize = calc_size({})\".format(dirname)\n",
    "    #print(command_exec)\n",
    "    exec(command_exec)\n",
    "    if dirsize < 100000:\n",
    "        dirsizes.append(dirsize)\n",
    "np.sum(dirsizes)"
   ]
  }
 ],
 "metadata": {
  "kernelspec": {
   "display_name": "Python 3 (ipykernel)",
   "language": "python",
   "name": "python3"
  },
  "language_info": {
   "codemirror_mode": {
    "name": "ipython",
    "version": 3
   },
   "file_extension": ".py",
   "mimetype": "text/x-python",
   "name": "python",
   "nbconvert_exporter": "python",
   "pygments_lexer": "ipython3",
   "version": "3.11.0"
  }
 },
 "nbformat": 4,
 "nbformat_minor": 5
}
