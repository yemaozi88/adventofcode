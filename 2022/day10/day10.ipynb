{
 "cells": [
  {
   "cell_type": "code",
   "execution_count": 1,
   "id": "cf2477d7",
   "metadata": {},
   "outputs": [],
   "source": [
    "import numpy as np\n",
    "import seaborn as sns\n",
    "import matplotlib.pyplot as plt"
   ]
  },
  {
   "cell_type": "code",
   "execution_count": 2,
   "id": "00bd651a",
   "metadata": {},
   "outputs": [],
   "source": [
    "def load_instructions(input_txt):\n",
    "    with open(input_txt) as f:\n",
    "        lines = f.read().strip().split('\\n')\n",
    "\n",
    "    X  = 1\n",
    "    Xs = [X]\n",
    "    for line in lines:\n",
    "        x = 0\n",
    "        instructions = line.split(' ')\n",
    "        instruction  = instructions[0]\n",
    "        if instruction == 'addx':\n",
    "            x = int(instructions[1])\n",
    "            Xs.append(X)\n",
    "            Xs.append(X)\n",
    "            X += x\n",
    "        elif instruction == 'noop':\n",
    "            Xs.append(X)\n",
    "    #print(f\"{Xs}\")\n",
    "    #print(f\"at the beginning of {len(Xs)}th cycle, X={X}\")\n",
    "    return Xs, X"
   ]
  },
  {
   "cell_type": "code",
   "execution_count": 3,
   "id": "3172be95",
   "metadata": {},
   "outputs": [
    {
     "name": "stdout",
     "output_type": "stream",
     "text": [
      "The sum of the signal strength of 20th, 60th, 100th, 140th, 180th, and 220th cycles:\n",
      "13220\n"
     ]
    }
   ],
   "source": [
    "## part 1.\n",
    "def calc_signal_strengths(Xs):\n",
    "    signal_strengths = np.zeros(np.shape(Xs)).astype(int)\n",
    "    for i, X in enumerate(Xs):\n",
    "        signal_strengths[i] = i*X\n",
    "    return signal_strengths\n",
    "\n",
    "Xs, X = load_instructions('input.txt')\n",
    "signal_strengths = calc_signal_strengths(Xs)\n",
    "signal_strength_total = 0\n",
    "for i in [20, 60, 100, 140, 180, 220]:\n",
    "    signal_strength_total += signal_strengths[i]\n",
    "print(f\"The sum of the signal strength of 20th, 60th, 100th, 140th, 180th, and 220th cycles:\")\n",
    "print(signal_strength_total)"
   ]
  },
  {
   "cell_type": "code",
   "execution_count": 3,
   "id": "3078aa3b",
   "metadata": {},
   "outputs": [
    {
     "name": "stdout",
     "output_type": "stream",
     "text": [
      "[[1 1 0 0 1 1 0 0 1 1 0 0 1 1 0 0 1 1 0 0 1 1 0 0 1 1 0 0 1 1 0 0 1 1 0 0 1 1 0 0]\n",
      " [1 1 1 0 0 0 1 1 1 0 0 0 1 1 1 0 0 0 1 1 1 0 0 0 1 1 1 0 0 0 1 1 1 0 0 0 1 1 1 0]\n",
      " [1 1 1 1 0 0 0 0 1 1 1 1 0 0 0 0 1 1 1 1 0 0 0 0 1 1 1 1 0 0 0 0 1 1 1 1 0 0 0 0]\n",
      " [1 1 1 1 1 0 0 0 0 0 1 1 1 1 1 0 0 0 0 0 1 1 1 1 1 0 0 0 0 0 1 1 1 1 1 0 0 0 0 0]\n",
      " [1 1 1 1 1 1 0 0 0 0 0 0 1 1 1 1 1 1 0 0 0 0 0 0 1 1 1 1 1 1 0 0 0 0 0 0 1 1 1 1]\n",
      " [1 1 1 1 1 1 1 0 0 0 0 0 0 0 1 1 1 1 1 1 1 0 0 0 0 0 0 0 1 1 1 1 1 1 1 0 0 0 0 0]]\n"
     ]
    },
    {
     "data": {
      "image/png": "[encoded data removed]",
      "text/plain": [
       "<Figure size 600x100 with 2 Axes>"
      ]
     },
     "metadata": {},
     "output_type": "display_data"
    }
   ],
   "source": [
    "## part 2.\n",
    "Xs, _ = load_instructions('input_test2.txt')\n",
    "\n",
    "# CRT field.\n",
    "np.set_printoptions(edgeitems=30, linewidth=100000, formatter=dict(float=lambda x: \"%.3g\" % x))\n",
    "field = np.zeros((6, 40)).astype(int)\n",
    "\n",
    "# one line of CRT screen.\n",
    "CRTline = np.arange(40)\n",
    "\n",
    "for n_cycle in range(len(Xs)-1):\n",
    "    row = (n_cycle-1) // 40\n",
    "    col = (n_cycle-1) % 40\n",
    "    \n",
    "    x = Xs[n_cycle]\n",
    "    \n",
    "    # sprite.\n",
    "    overlap = list(set(CRTline) & set([x-1, x, x+1]))\n",
    "    \n",
    "    if col in overlap:\n",
    "        field[row, col] = 1\n",
    "    #print(f\"{row},{col} = {x}: {overlap}: {col in overlap}\")\n",
    "\n",
    "# display the result.\n",
    "print(field)\n",
    "plt.figure(figsize=(6, 1))\n",
    "ax = sns.heatmap(field, vmin=0, vmax=1)\n",
    "plt.show()"
   ]
  }
 ],
 "metadata": {
  "kernelspec": {
   "display_name": "Python 3 (ipykernel)",
   "language": "python",
   "name": "python3"
  },
  "language_info": {
   "codemirror_mode": {
    "name": "ipython",
    "version": 3
   },
   "file_extension": ".py",
   "mimetype": "text/x-python",
   "name": "python",
   "nbconvert_exporter": "python",
   "pygments_lexer": "ipython3",
   "version": "3.11.0"
  }
 },
 "nbformat": 4,
 "nbformat_minor": 5
}
