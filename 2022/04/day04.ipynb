{
 "cells": [
  {
   "cell_type": "code",
   "execution_count": 8,
   "id": "2a7c94d2",
   "metadata": {},
   "outputs": [],
   "source": [
    "import time\n",
    "\n",
    "import numpy as np\n",
    "\n",
    "# load data\n",
    "assignments = []\n",
    "with open('input.txt') as f:\n",
    "    #lines = f.read().strip().split('\\n')\n",
    "    for line in f:\n",
    "        areas_ = line.split(',')\n",
    "        areas = areas_[0].split('-') + areas_[1].split('-')\n",
    "        assignments.append(list(map(int, areas)))"
   ]
  },
  {
   "cell_type": "code",
   "execution_count": 17,
   "id": "73dccd8a",
   "metadata": {},
   "outputs": [
    {
     "name": "stdout",
     "output_type": "stream",
     "text": [
      "567 pairs contain one range which fully contain the other.\n",
      "elapsed time: 0.00089669[s]\n"
     ]
    }
   ],
   "source": [
    "## part 1\n",
    "time_start = time.time()\n",
    "total = 0\n",
    "for assignment in assignments:\n",
    "    b1, e1, b2, e2 = assignment\n",
    "    \n",
    "    if (b1-b2) * (e1-e2) <= 0:\n",
    "    #if ((b1<=b2) and (e1>=e2)) or ((b1>=b2) and (e1<=e2)):\n",
    "        total += 1\n",
    "        \n",
    "print(f'{total} pairs contain one range which fully contain the other.')\n",
    "print(f'elapsed time: {time.time()-time_start:.5}[s]')"
   ]
  },
  {
   "cell_type": "code",
   "execution_count": 12,
   "id": "d6205459",
   "metadata": {},
   "outputs": [
    {
     "name": "stdout",
     "output_type": "stream",
     "text": [
      "907 assignment pairs overlap.\n",
      "elapsed time: 0.00042772[s]\n"
     ]
    }
   ],
   "source": [
    "## part 2\n",
    "time_start = time.time()\n",
    "total = 0\n",
    "for assignment in assignments:\n",
    "    b1, e1, b2, e2 = assignment\n",
    "\n",
    "    # check if there is an overlap\n",
    "#     area1 = np.arange(b1, e1+1)\n",
    "#     area2 = np.arange(b2, e2+1)\n",
    "#     if len(set(area1) & set(area2)) > 0:\n",
    "    if not ((e1 < b2) or (e2 < b1)):\n",
    "        total += 1\n",
    "        \n",
    "print(f'{total} assignment pairs overlap.')\n",
    "print(f'elapsed time: {time.time()-time_start:.5}[s]')"
   ]
  }
 ],
 "metadata": {
  "kernelspec": {
   "display_name": "Python 3",
   "language": "python",
   "name": "python3"
  },
  "language_info": {
   "codemirror_mode": {
    "name": "ipython",
    "version": 3
   },
   "file_extension": ".py",
   "mimetype": "text/x-python",
   "name": "python",
   "nbconvert_exporter": "python",
   "pygments_lexer": "ipython3",
   "version": "3.7.11"
  }
 },
 "nbformat": 4,
 "nbformat_minor": 5
}
