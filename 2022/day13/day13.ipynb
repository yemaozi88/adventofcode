{
 "cells": [
  {
   "cell_type": "code",
   "execution_count": 1,
   "id": "79bb6789",
   "metadata": {},
   "outputs": [],
   "source": [
    "import sys\n",
    "import json\n",
    "\n",
    "import numpy as np"
   ]
  },
  {
   "cell_type": "code",
   "execution_count": 2,
   "id": "1560f979",
   "metadata": {},
   "outputs": [],
   "source": [
    "def load_data(is_test=True):\n",
    "    if is_test:\n",
    "        input_txt = 'input_test.txt'\n",
    "    else:\n",
    "        input_txt = 'input.txt'\n",
    "        \n",
    "    with open(input_txt) as f:\n",
    "        lines = f.read().split('\\n\\n')\n",
    "    xs = []\n",
    "    for line in lines:\n",
    "        line = line.strip()\n",
    "        x1, x2 = line.split('\\n')\n",
    "        x1 = json.loads(x1)\n",
    "        x2 = json.loads(x2)\n",
    "        xs.append([x1, x2])\n",
    "    return xs\n",
    "\n",
    "def is_list(x):\n",
    "    \"\"\" x should be either list or int. \"\"\"\n",
    "    if isinstance(x, list):\n",
    "        answer = True\n",
    "    elif isinstance(x, int):\n",
    "        answer = False\n",
    "    else:\n",
    "        sys.exit(\"input should be either list or int.\")\n",
    "    return answer\n",
    "\n",
    "def int2list(x):\n",
    "    if is_list(x) == False:\n",
    "        x = [x]\n",
    "    return x\n",
    "\n",
    "def compare(x1, x2, debug=False):\n",
    "    global is_right_order\n",
    "    while is_right_order == -1:\n",
    "        for i, left in enumerate(x1):\n",
    "            #print(i)\n",
    "            try: \n",
    "                right = x2[i]\n",
    "            except IndexError:\n",
    "                is_right_order = False\n",
    "                if debug:\n",
    "                    print(f\"len({x1}) > len({x2})\")\n",
    "                break\n",
    "            \n",
    "            if is_list(left) == False and is_list(right) == False:\n",
    "                if left < right:\n",
    "                    is_right_order = True\n",
    "                    if debug:\n",
    "                        print(f\"{left} < {right}\")\n",
    "                    break\n",
    "                elif left > right:\n",
    "                    is_right_order = False\n",
    "                    if debug:\n",
    "                        print(f\"{left} > {right}\")\n",
    "                    break\n",
    "                \n",
    "            else:\n",
    "                if debug:\n",
    "                        print(f\">> {left} vs {right}\")\n",
    "                compare(int2list(left), int2list(right), debug=debug)\n",
    "                if is_right_order == True or is_right_order == False:\n",
    "                    break\n",
    "                    \n",
    "        if is_right_order==-1 and len(x1)<len(x2):\n",
    "            is_right_order = True\n",
    "            if debug:\n",
    "                print(f\"len({x1}) < len({x2})\")\n",
    "            break;\n",
    "        return "
   ]
  },
  {
   "cell_type": "code",
   "execution_count": 3,
   "id": "d16467a7",
   "metadata": {},
   "outputs": [
    {
     "name": "stdout",
     "output_type": "stream",
     "text": [
      "the sum of the indices of the right packets: 13\n"
     ]
    }
   ],
   "source": [
    "## part 1.\n",
    "xs = load_data(is_test=True)\n",
    "debug = False\n",
    "ids = []\n",
    "for i, x in enumerate(xs, start=1):\n",
    "    is_right_order = -1\n",
    "    \n",
    "    if debug:\n",
    "        print(f\">>> {i}\")\n",
    "        print(f\"x1:{x[0]}\\nx2:{x[1]}\")\n",
    "    compare(x[0], x[1], debug=debug)\n",
    "    if debug:\n",
    "        print(f\"--> {is_right_order}\")\n",
    "        print(f\"===\")\n",
    "    if is_right_order:\n",
    "        ids.append(i)\n",
    "print(f\"the sum of the indices of the right packets: {np.sum(ids)}\")"
   ]
  },
  {
   "cell_type": "code",
   "execution_count": 4,
   "id": "b4b2c995",
   "metadata": {},
   "outputs": [
    {
     "name": "stdout",
     "output_type": "stream",
     "text": [
      "decoder key is: 21890\n"
     ]
    }
   ],
   "source": [
    "## part 2.\n",
    "\n",
    "# load data.\n",
    "xs = load_data(is_test=False)\n",
    "xs = sum(xs, [])\n",
    "xs.append([[2]])\n",
    "xs.append([[6]])\n",
    "\n",
    "# bubble sort.\n",
    "xs_len = len(xs)\n",
    "for i in range(xs_len):\n",
    "\n",
    "    # loop to compare array elements\n",
    "    for j in range(0, xs_len - i - 1):\n",
    "\n",
    "        # compare two adjacent elements\n",
    "        # change > to < to sort in descending order\n",
    "        is_right_order = -1\n",
    "        compare(xs[j], xs[j + 1])\n",
    "        #print(f\"{xs[j]} vs {xs[j+1]}: {is_right_order}\")\n",
    "        \n",
    "        if not is_right_order:\n",
    "            # swapping elements\n",
    "            temp = xs[j]\n",
    "            xs[j] = xs[j+1]\n",
    "            xs[j+1] = temp\n",
    "\n",
    "decoder_key = (xs.index([[2]]) + 1) * (xs.index([[6]]) + 1)\n",
    "print(f\"decoder key is: {decoder_key}\")"
   ]
  }
 ],
 "metadata": {
  "kernelspec": {
   "display_name": "Python 3 (ipykernel)",
   "language": "python",
   "name": "python3"
  },
  "language_info": {
   "codemirror_mode": {
    "name": "ipython",
    "version": 3
   },
   "file_extension": ".py",
   "mimetype": "text/x-python",
   "name": "python",
   "nbconvert_exporter": "python",
   "pygments_lexer": "ipython3",
   "version": "3.11.0"
  }
 },
 "nbformat": 4,
 "nbformat_minor": 5
}
