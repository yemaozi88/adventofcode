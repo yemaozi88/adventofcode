{
 "cells": [
  {
   "cell_type": "code",
   "execution_count": 1,
   "id": "79bb6789",
   "metadata": {},
   "outputs": [],
   "source": [
    "import sys\n",
    "import json\n",
    "\n",
    "import numpy as np"
   ]
  },
  {
   "cell_type": "code",
   "execution_count": 2,
   "id": "1560f979",
   "metadata": {},
   "outputs": [],
   "source": [
    "def is_list(x):\n",
    "    \"\"\" x should be either list or int. \"\"\"\n",
    "    if isinstance(x, list):\n",
    "        answer = True\n",
    "    elif isinstance(x, int):\n",
    "        answer = False\n",
    "    else:\n",
    "        sys.exit(\"input should be either list or int.\")\n",
    "    return answer\n",
    "\n",
    "def int2list(x):\n",
    "    if is_list(x) == False:\n",
    "        x = [x]\n",
    "    return x\n",
    "\n",
    "# def compare_length(x1, x2):\n",
    "#     is_right_order = -1\n",
    "#     if len(x1) < len(x2):\n",
    "#         is_right_order = True\n",
    "#     elif len(x1) > len(x2):\n",
    "#         is_right_order = False\n",
    "#     return is_right_order\n",
    "\n",
    "# def compare_values(x1, x2):\n",
    "#     is_right_order = -1\n",
    "#     assert len(x1)==len(x2), print(\"the input lists should have the same length.\")\n",
    "#     for left, right in zip(x1, x2):\n",
    "#         if left < right:\n",
    "#             is_right_order = True\n",
    "#         elif left > right:\n",
    "#             is_right_order = False\n",
    "#     return is_right_order\n",
    "\n",
    "def compare(x1, x2, debug=False):\n",
    "    global is_right_order\n",
    "    while is_right_order == -1:\n",
    "        for i, left in enumerate(x1):\n",
    "            #print(i)\n",
    "            try: \n",
    "                right = x2[i]\n",
    "                #print(f\">> {left} vs {right}\")\n",
    "            except IndexError:\n",
    "                is_right_order = False\n",
    "                if debug:\n",
    "                    print(f\"len({x1}) > len({x2})\")\n",
    "                break;\n",
    "            \n",
    "            if is_list(left) == False and is_list(right) == False:\n",
    "                if left < right:\n",
    "                    is_right_order = True\n",
    "                    if debug:\n",
    "                        print(f\"{left} < {right}\")\n",
    "                    break;\n",
    "                elif left > right:\n",
    "                    is_right_order = False\n",
    "                    if debug:\n",
    "                        print(f\"{left} > {right}\")\n",
    "                    break;\n",
    "                \n",
    "            else:\n",
    "                compare(int2list(left), int2list(right))\n",
    "                if debug:\n",
    "                    print(f\">> {left} vs {right}\")\n",
    "        if is_right_order==-1 and len(x1)<len(x2):\n",
    "            is_right_order = True\n",
    "            if debug:\n",
    "                print(f\"len({x1}) < len({x2})\")\n",
    "            break;\n",
    "        return "
   ]
  },
  {
   "cell_type": "code",
   "execution_count": 3,
   "id": "e3b7e52d",
   "metadata": {},
   "outputs": [],
   "source": [
    "is_test = False\n",
    "if is_test:\n",
    "    xs = [\n",
    "        [[1,1,3,1,1], [1,1,5,1,1]],\n",
    "        [[[1],[2,3,4]], [[1],4]],\n",
    "        [[9], [[8,7,6]]],\n",
    "        [[[4,4],4,4], [[4,4],4,4,4]],\n",
    "        [[7,7,7,7], [7,7,7]],\n",
    "        [[],[3]],\n",
    "        [[[[]]], [[]]],\n",
    "        [[1,[2,[3,[4,[5,6,7]]]],8,9], [1,[2,[3,[4,[5,6,0]]]],8,9]]\n",
    "    ]\n",
    "else:\n",
    "    with open('input.txt') as f:\n",
    "        lines = f.read().split('\\n\\n')\n",
    "    xs = []\n",
    "    for line in lines:\n",
    "        line = line.strip()\n",
    "        x1, x2 = line.split('\\n')\n",
    "        x1 = json.loads(x1)\n",
    "        x2 = json.loads(x2)\n",
    "        xs.append([x1, x2])"
   ]
  },
  {
   "cell_type": "code",
   "execution_count": 4,
   "id": "d16467a7",
   "metadata": {},
   "outputs": [
    {
     "name": "stdout",
     "output_type": "stream",
     "text": [
      "the sum of the indices of the right packets: 1945\n"
     ]
    }
   ],
   "source": [
    "ids = []\n",
    "for i, x in enumerate(xs, start=1):\n",
    "    is_right_order = -1\n",
    "    \n",
    "#     print(f\"x1:{x[0]}\\nx2:{x[1]}\")\n",
    "    compare(x[0], x[1])\n",
    "#     print(f\"===\")\n",
    "#     print(f\"{i+1}:{is_right_order}\")\n",
    "#     print(f\"===\")\n",
    "    if is_right_order:\n",
    "        ids.append(i)\n",
    "print(f\"the sum of the indices of the right packets: {np.sum(ids)}\")"
   ]
  }
 ],
 "metadata": {
  "kernelspec": {
   "display_name": "Python 3 (ipykernel)",
   "language": "python",
   "name": "python3"
  },
  "language_info": {
   "codemirror_mode": {
    "name": "ipython",
    "version": 3
   },
   "file_extension": ".py",
   "mimetype": "text/x-python",
   "name": "python",
   "nbconvert_exporter": "python",
   "pygments_lexer": "ipython3",
   "version": "3.11.0"
  }
 },
 "nbformat": 4,
 "nbformat_minor": 5
}
