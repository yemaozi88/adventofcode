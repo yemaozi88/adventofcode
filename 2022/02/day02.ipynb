{
 "cells": [
  {
   "cell_type": "code",
   "execution_count": 29,
   "id": "97b27cda",
   "metadata": {},
   "outputs": [],
   "source": [
    "import numpy as np\n",
    "import pandas as pd"
   ]
  },
  {
   "cell_type": "code",
   "execution_count": 54,
   "id": "168baf29",
   "metadata": {},
   "outputs": [],
   "source": [
    "with open('input.txt') as f:\n",
    "    #lines = f.read().strip().split('\\n')\n",
    "    lines = f.read().strip()"
   ]
  },
  {
   "cell_type": "code",
   "execution_count": 31,
   "id": "7cf295ba",
   "metadata": {},
   "outputs": [],
   "source": [
    "## part 1\n",
    "# rock: A/X->1, \n",
    "# paper: B/Y->2, \n",
    "# scissors: C/Z->3\n",
    "lines_ = lines.replace('A', '1').replace('B', '2').replace('C', '3')\n",
    "lines_ = lines_.replace('X', '1').replace('Y', '2').replace('Z', '3')\n",
    "lines_ = lines_.strip().split('\\n')"
   ]
  },
  {
   "cell_type": "code",
   "execution_count": 32,
   "id": "6dca9c1a",
   "metadata": {},
   "outputs": [],
   "source": [
    "def get_outcome(line):\n",
    "    shape1, shape2 = line.split(' ')\n",
    "    shape1 = int(shape1) # opponent\n",
    "    shape2 = int(shape2) # me\n",
    "\n",
    "    # point_shape\n",
    "    point_shape = shape2\n",
    "\n",
    "    # point_win\n",
    "    # rock1, paper2, scissors3\n",
    "    result = shape1-shape2\n",
    "    if result == 0:\n",
    "        point_win = 3\n",
    "    elif (result == 1) or (result == -2):\n",
    "        point_win = 0\n",
    "    elif (result == -1) or (result == 2):\n",
    "        point_win = 6\n",
    "        \n",
    "    return point_shape, point_win"
   ]
  },
  {
   "cell_type": "code",
   "execution_count": 33,
   "id": "80f35b59",
   "metadata": {},
   "outputs": [],
   "source": [
    "# i = 3\n",
    "# point_shape, point_win = get_outcome('2 1')\n",
    "# print(line)\n",
    "# print(f'shape1: {shape1}, shape2: {shape2}')\n",
    "# print(f'shape {point_shape} + result {point_win}')"
   ]
  },
  {
   "cell_type": "code",
   "execution_count": 34,
   "id": "83559018",
   "metadata": {},
   "outputs": [
    {
     "data": {
      "text/plain": [
       "17189"
      ]
     },
     "execution_count": 34,
     "metadata": {},
     "output_type": "execute_result"
    }
   ],
   "source": [
    "scores = []\n",
    "for line in lines_:\n",
    "    point_shape, point_win = get_outcome(line)\n",
    "    scores.append(point_shape + point_win)\n",
    "np.sum(scores)"
   ]
  },
  {
   "cell_type": "code",
   "execution_count": 35,
   "id": "4bab6148",
   "metadata": {},
   "outputs": [],
   "source": [
    "def get_outcome2(line):\n",
    "    shape1, shape2_ = line.split(' ')\n",
    "    shape1 = int(shape1) # opponent\n",
    "    #shape2 = int(shape2) # me\n",
    "\n",
    "    # point_shape\n",
    "    #point_shape = shape2\n",
    "\n",
    "    if shape1 == 1:\n",
    "        if shape2_ == 'X':\n",
    "            shape2 = 3\n",
    "        elif shape2_ == 'Y':\n",
    "            shape2 = 1\n",
    "        elif shape2_ == 'Z':\n",
    "            shape2 = 2\n",
    "    elif shape1 == 2:\n",
    "        if shape2_ == 'X':\n",
    "            shape2 = 1\n",
    "        elif shape2_ == 'Y':\n",
    "            shape2 = 2\n",
    "        elif shape2_ == 'Z':\n",
    "            shape2 = 3\n",
    "    elif shape1 == 3:\n",
    "        if shape2_ == 'X':\n",
    "            shape2 = 2\n",
    "        elif shape2_ == 'Y':\n",
    "            shape2 = 3\n",
    "        elif shape2_ == 'Z':\n",
    "            shape2 = 1\n",
    "\n",
    "    point_shape = shape2\n",
    "    if shape2_ == 'X':\n",
    "        point_win = 0\n",
    "    elif shape2_ == 'Y':\n",
    "        point_win = 3\n",
    "    elif shape2_ == 'Z':\n",
    "        point_win = 6\n",
    "\n",
    "    return point_shape, point_win"
   ]
  },
  {
   "cell_type": "code",
   "execution_count": 36,
   "id": "e6135f6b",
   "metadata": {},
   "outputs": [
    {
     "data": {
      "text/plain": [
       "13490"
      ]
     },
     "execution_count": 36,
     "metadata": {},
     "output_type": "execute_result"
    }
   ],
   "source": [
    "scores = []\n",
    "lines_ = lines.replace('A', '1').replace('B', '2').replace('C', '3')\n",
    "lines_ = lines_.split('\\n')\n",
    "for line in lines_:\n",
    "    point_shape, point_win = get_outcome2(line)\n",
    "    scores.append(point_shape + point_win)\n",
    "np.sum(scores)"
   ]
  },
  {
   "cell_type": "code",
   "execution_count": 76,
   "id": "a27fb810",
   "metadata": {},
   "outputs": [
    {
     "data": {
      "text/html": [
       "<div>\n",
       "<style scoped>\n",
       "    .dataframe tbody tr th:only-of-type {\n",
       "        vertical-align: middle;\n",
       "    }\n",
       "\n",
       "    .dataframe tbody tr th {\n",
       "        vertical-align: top;\n",
       "    }\n",
       "\n",
       "    .dataframe thead th {\n",
       "        text-align: right;\n",
       "    }\n",
       "</style>\n",
       "<table border=\"1\" class=\"dataframe\">\n",
       "  <thead>\n",
       "    <tr style=\"text-align: right;\">\n",
       "      <th></th>\n",
       "      <th>shape_me</th>\n",
       "      <th>shape_opponent</th>\n",
       "      <th>point_win</th>\n",
       "      <th>point_shape</th>\n",
       "      <th>point_total</th>\n",
       "    </tr>\n",
       "  </thead>\n",
       "  <tbody>\n",
       "    <tr>\n",
       "      <th>0</th>\n",
       "      <td>rock</td>\n",
       "      <td>rock</td>\n",
       "      <td>3</td>\n",
       "      <td>1</td>\n",
       "      <td>4</td>\n",
       "    </tr>\n",
       "    <tr>\n",
       "      <th>1</th>\n",
       "      <td>rock</td>\n",
       "      <td>paper</td>\n",
       "      <td>0</td>\n",
       "      <td>1</td>\n",
       "      <td>1</td>\n",
       "    </tr>\n",
       "    <tr>\n",
       "      <th>2</th>\n",
       "      <td>rock</td>\n",
       "      <td>scissors</td>\n",
       "      <td>6</td>\n",
       "      <td>1</td>\n",
       "      <td>7</td>\n",
       "    </tr>\n",
       "    <tr>\n",
       "      <th>3</th>\n",
       "      <td>scissors</td>\n",
       "      <td>rock</td>\n",
       "      <td>0</td>\n",
       "      <td>3</td>\n",
       "      <td>3</td>\n",
       "    </tr>\n",
       "    <tr>\n",
       "      <th>4</th>\n",
       "      <td>scissors</td>\n",
       "      <td>paper</td>\n",
       "      <td>6</td>\n",
       "      <td>3</td>\n",
       "      <td>9</td>\n",
       "    </tr>\n",
       "    <tr>\n",
       "      <th>5</th>\n",
       "      <td>scissors</td>\n",
       "      <td>scissors</td>\n",
       "      <td>3</td>\n",
       "      <td>3</td>\n",
       "      <td>6</td>\n",
       "    </tr>\n",
       "    <tr>\n",
       "      <th>6</th>\n",
       "      <td>paper</td>\n",
       "      <td>rock</td>\n",
       "      <td>6</td>\n",
       "      <td>2</td>\n",
       "      <td>8</td>\n",
       "    </tr>\n",
       "    <tr>\n",
       "      <th>7</th>\n",
       "      <td>paper</td>\n",
       "      <td>paper</td>\n",
       "      <td>3</td>\n",
       "      <td>2</td>\n",
       "      <td>5</td>\n",
       "    </tr>\n",
       "    <tr>\n",
       "      <th>8</th>\n",
       "      <td>paper</td>\n",
       "      <td>scissors</td>\n",
       "      <td>0</td>\n",
       "      <td>2</td>\n",
       "      <td>2</td>\n",
       "    </tr>\n",
       "  </tbody>\n",
       "</table>\n",
       "</div>"
      ],
      "text/plain": [
       "   shape_me shape_opponent  point_win  point_shape  point_total\n",
       "0      rock           rock          3            1            4\n",
       "1      rock          paper          0            1            1\n",
       "2      rock       scissors          6            1            7\n",
       "3  scissors           rock          0            3            3\n",
       "4  scissors          paper          6            3            9\n",
       "5  scissors       scissors          3            3            6\n",
       "6     paper           rock          6            2            8\n",
       "7     paper          paper          3            2            5\n",
       "8     paper       scissors          0            2            2"
      ]
     },
     "execution_count": 76,
     "metadata": {},
     "output_type": "execute_result"
    }
   ],
   "source": [
    "lookup_list = [\n",
    "    [\"rock\", \"rock\", 3],\n",
    "    [\"rock\", \"paper\", 0],\n",
    "    [\"rock\", \"scissors\", 6],\n",
    "    [\"scissors\", \"rock\", 0],\n",
    "    [\"scissors\", \"paper\", 6],\n",
    "    [\"scissors\", \"scissors\", 3],\n",
    "    [\"paper\", \"rock\", 6],\n",
    "    [\"paper\", \"paper\", 3],\n",
    "    [\"paper\", \"scissors\", 0]\n",
    "              ]\n",
    "column_names = [\"shape_me\", \"shape_opponent\", \"point_win\"]\n",
    "df = pd.DataFrame(data=lookup_list, columns=column_names)\n",
    "\n",
    "# add point of the shape\n",
    "df['point_shape'] = df['shape_me'].replace('rock', 1).replace('paper', 2).replace('scissors', 3)\n",
    "# total = shape + win/lose/draw\n",
    "df['point_total'] = df['point_win'] + df['point_shape']\n",
    "\n",
    "df"
   ]
  },
  {
   "cell_type": "code",
   "execution_count": 77,
   "id": "74840d5c",
   "metadata": {},
   "outputs": [
    {
     "name": "stdout",
     "output_type": "stream",
     "text": [
      "['rock', 'rock']\n"
     ]
    }
   ],
   "source": [
    "with open('input.txt') as f:\n",
    "    lines = f.read().strip().split('\\n')\n",
    "\n",
    "dic_opponent = {'A':'rock', 'B':'paper', 'C':'scissors'}\n",
    "dic_me = {'X':'rock', 'Y':'paper', 'Z':'scissors'}\n",
    "\n",
    "line = lines[0]\n",
    "x = [dic_opponent.get(i, i) for i in list(line)]\n",
    "x = [dic_me.get(i, i) for i in list(x)]\n",
    "x.remove(' ')\n",
    "\n",
    "\n",
    "print(x)"
   ]
  },
  {
   "cell_type": "code",
   "execution_count": 71,
   "id": "fca4ced4",
   "metadata": {},
   "outputs": [
    {
     "data": {
      "text/plain": [
       "0    1\n",
       "1    1\n",
       "2    1\n",
       "3    3\n",
       "4    3\n",
       "5    3\n",
       "6    2\n",
       "7    2\n",
       "8    2\n",
       "Name: shape_me, dtype: int64"
      ]
     },
     "execution_count": 71,
     "metadata": {},
     "output_type": "execute_result"
    }
   ],
   "source": []
  }
 ],
 "metadata": {
  "kernelspec": {
   "display_name": "Python 3",
   "language": "python",
   "name": "python3"
  },
  "language_info": {
   "codemirror_mode": {
    "name": "ipython",
    "version": 3
   },
   "file_extension": ".py",
   "mimetype": "text/x-python",
   "name": "python",
   "nbconvert_exporter": "python",
   "pygments_lexer": "ipython3",
   "version": "3.7.11"
  }
 },
 "nbformat": 4,
 "nbformat_minor": 5
}
