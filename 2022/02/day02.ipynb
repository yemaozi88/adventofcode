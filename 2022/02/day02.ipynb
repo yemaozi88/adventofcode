{
 "cells": [
  {
   "cell_type": "code",
   "execution_count": 28,
   "id": "97b27cda",
   "metadata": {},
   "outputs": [],
   "source": [
    "import numpy as np\n",
    "import pandas as pd"
   ]
  },
  {
   "cell_type": "code",
   "execution_count": 25,
   "id": "168baf29",
   "metadata": {},
   "outputs": [],
   "source": [
    "with open('input.txt') as f:\n",
    "    #lines = f.read().strip().split('\\n')\n",
    "    lines = f.read().strip()"
   ]
  },
  {
   "cell_type": "code",
   "execution_count": 14,
   "id": "7cf295ba",
   "metadata": {},
   "outputs": [],
   "source": [
    "## part 1\n",
    "# rock: A/X->1, \n",
    "# paper: B/Y->2, \n",
    "# scissors: C/Z->3\n",
    "lines_ = lines.replace('A', '1').replace('B', '2').replace('C', '3')\n",
    "lines_ = lines_.replace('X', '1').replace('Y', '2').replace('Z', '3')\n",
    "lines_ = lines_.strip().split('\\n')"
   ]
  },
  {
   "cell_type": "code",
   "execution_count": 5,
   "id": "6dca9c1a",
   "metadata": {},
   "outputs": [],
   "source": [
    "def get_outcome(line):\n",
    "    shape1, shape2 = line.split(' ')\n",
    "    shape1 = int(shape1) # opponent\n",
    "    shape2 = int(shape2) # me\n",
    "\n",
    "    # point_shape\n",
    "    point_shape = shape2\n",
    "\n",
    "    # point_win\n",
    "    # rock1, paper2, scissors3\n",
    "    result = shape1-shape2\n",
    "    if result == 0:\n",
    "        point_win = 3\n",
    "    elif (result == 1) or (result == -2):\n",
    "        point_win = 0\n",
    "    elif (result == -1) or (result == 2):\n",
    "        point_win = 6\n",
    "        \n",
    "    return point_shape, point_win"
   ]
  },
  {
   "cell_type": "code",
   "execution_count": 6,
   "id": "80f35b59",
   "metadata": {},
   "outputs": [],
   "source": [
    "# i = 3\n",
    "# point_shape, point_win = get_outcome('2 1')\n",
    "# print(line)\n",
    "# print(f'shape1: {shape1}, shape2: {shape2}')\n",
    "# print(f'shape {point_shape} + result {point_win}')"
   ]
  },
  {
   "cell_type": "code",
   "execution_count": 15,
   "id": "83559018",
   "metadata": {},
   "outputs": [
    {
     "data": {
      "text/plain": [
       "17189"
      ]
     },
     "execution_count": 15,
     "metadata": {},
     "output_type": "execute_result"
    }
   ],
   "source": [
    "scores = []\n",
    "for line in lines_:\n",
    "    point_shape, point_win = get_outcome(line)\n",
    "    scores.append(point_shape + point_win)\n",
    "np.sum(scores)"
   ]
  },
  {
   "cell_type": "code",
   "execution_count": 16,
   "id": "4bab6148",
   "metadata": {},
   "outputs": [],
   "source": [
    "def get_outcome2(line):\n",
    "    shape1, shape2_ = line.split(' ')\n",
    "    shape1 = int(shape1) # opponent\n",
    "    #shape2 = int(shape2) # me\n",
    "\n",
    "    # point_shape\n",
    "    #point_shape = shape2\n",
    "\n",
    "    if shape1 == 1:\n",
    "        if shape2_ == 'X':\n",
    "            shape2 = 3\n",
    "        elif shape2_ == 'Y':\n",
    "            shape2 = 1\n",
    "        elif shape2_ == 'Z':\n",
    "            shape2 = 2\n",
    "    elif shape1 == 2:\n",
    "        if shape2_ == 'X':\n",
    "            shape2 = 1\n",
    "        elif shape2_ == 'Y':\n",
    "            shape2 = 2\n",
    "        elif shape2_ == 'Z':\n",
    "            shape2 = 3\n",
    "    elif shape1 == 3:\n",
    "        if shape2_ == 'X':\n",
    "            shape2 = 2\n",
    "        elif shape2_ == 'Y':\n",
    "            shape2 = 3\n",
    "        elif shape2_ == 'Z':\n",
    "            shape2 = 1\n",
    "\n",
    "    point_shape = shape2\n",
    "    if shape2_ == 'X':\n",
    "        point_win = 0\n",
    "    elif shape2_ == 'Y':\n",
    "        point_win = 3\n",
    "    elif shape2_ == 'Z':\n",
    "        point_win = 6\n",
    "\n",
    "    return point_shape, point_win"
   ]
  },
  {
   "cell_type": "code",
   "execution_count": 26,
   "id": "e6135f6b",
   "metadata": {},
   "outputs": [
    {
     "data": {
      "text/plain": [
       "13490"
      ]
     },
     "execution_count": 26,
     "metadata": {},
     "output_type": "execute_result"
    }
   ],
   "source": [
    "scores = []\n",
    "lines_ = lines.replace('A', '1').replace('B', '2').replace('C', '3')\n",
    "lines_ = lines_.split('\\n')\n",
    "for line in lines_:\n",
    "    point_shape, point_win = get_outcome2(line)\n",
    "    scores.append(point_shape + point_win)\n",
    "np.sum(scores)"
   ]
  },
  {
   "cell_type": "code",
   "execution_count": 27,
   "id": "f297e1a8",
   "metadata": {},
   "outputs": [
    {
     "data": {
      "text/plain": [
       "'A X\\nB Z\\nC Z\\nB Z\\nB Z\\nA Y\\nA Y\\nA Z\\nA Y\\nB Y\\nA Y\\nB Y\\nB Z\\nA Y\\nC X\\nB X\\nA Y\\nB Z\\nB X\\nA Y\\nA Y\\nA Z\\nB Z\\nB Z\\nC Y\\nC Y\\nB Z\\nA Y\\nA Y\\nB Z\\nB X\\nB Z\\nA Z\\nA X\\nC X\\nA Y\\nB Z\\nA Y\\nB Z\\nB Z\\nB Z\\nB Z\\nA Y\\nA Y\\nC Y\\nA Y\\nA Y\\nA Y\\nB Z\\nA Y\\nA Z\\nB X\\nB Z\\nA Y\\nA Y\\nA Y\\nB Z\\nC X\\nB Z\\nA Y\\nB Z\\nA Y\\nA Y\\nA Y\\nA Z\\nA X\\nC X\\nA Y\\nC Z\\nC X\\nC X\\nB Z\\nA Z\\nA Z\\nB Z\\nA Z\\nA X\\nC X\\nA X\\nC X\\nA Y\\nB Z\\nA Z\\nB Z\\nA Y\\nB Z\\nC X\\nA Y\\nB Z\\nA Z\\nB Z\\nA Y\\nA Z\\nB Z\\nA X\\nC X\\nA X\\nA Y\\nB Z\\nB Z\\nA Y\\nB Z\\nB Z\\nC Z\\nA Y\\nA Y\\nC Y\\nA Z\\nB Z\\nA Y\\nC X\\nA Y\\nB Z\\nA Y\\nC X\\nA Y\\nB Z\\nA Y\\nC X\\nC X\\nB Z\\nB Z\\nB Z\\nA Y\\nA X\\nC X\\nA Y\\nA Y\\nA Y\\nA Y\\nA Y\\nA Y\\nB Z\\nA Z\\nA Y\\nA Z\\nB Z\\nB Z\\nB Z\\nA Y\\nB Z\\nA X\\nA Y\\nA Z\\nA Z\\nA Y\\nA Y\\nB Z\\nA Y\\nC X\\nB Z\\nA Y\\nB Z\\nC X\\nA Y\\nA Y\\nB Z\\nC X\\nA Y\\nA Y\\nA X\\nA Z\\nA Y\\nA Z\\nA Y\\nA Y\\nB Z\\nB Z\\nA Y\\nC X\\nB Z\\nB Y\\nA Y\\nC Y\\nA Y\\nA Z\\nB Y\\nB X\\nA X\\nB Z\\nB Z\\nA Y\\nA X\\nA Y\\nA Y\\nA Y\\nA Z\\nA Y\\nA X\\nB Z\\nA Z\\nA Z\\nA Y\\nC Z\\nA Y\\nB Z\\nC X\\nA Z\\nC X\\nB Z\\nA Y\\nC Z\\nA Z\\nB Z\\nA Y\\nA Y\\nB Z\\nA Y\\nC X\\nC X\\nA Z\\nA Z\\nA Y\\nA Y\\nA Y\\nA Y\\nC X\\nC X\\nA Z\\nA Z\\nC X\\nB Z\\nC Y\\nA Y\\nA Y\\nA Y\\nA Z\\nB X\\nC Z\\nA Y\\nB Z\\nA Z\\nA X\\nA Y\\nA Y\\nB Z\\nC Y\\nA Y\\nA Z\\nA Y\\nC X\\nC X\\nA Z\\nA Y\\nB Z\\nA Y\\nA Z\\nC X\\nA Z\\nA Y\\nA Y\\nA Z\\nB Z\\nA Y\\nA Y\\nC X\\nA Y\\nC X\\nB Z\\nA X\\nB Z\\nB Z\\nA Y\\nA Y\\nA Y\\nA Y\\nA Y\\nA Y\\nB Z\\nA Y\\nA Y\\nA Z\\nB Z\\nA Y\\nA Y\\nA Z\\nB Z\\nA Y\\nC X\\nA Y\\nB Y\\nB Z\\nA Y\\nB Z\\nA Y\\nA Y\\nA X\\nA Z\\nA X\\nB Z\\nB Z\\nA Y\\nA Y\\nC X\\nA Z\\nA X\\nA Y\\nA Y\\nA Y\\nC X\\nA Y\\nA Z\\nB Z\\nA X\\nB Z\\nA Y\\nA Z\\nC X\\nB X\\nA Y\\nC X\\nA Y\\nA Y\\nA Y\\nA Y\\nB Z\\nC X\\nB X\\nA Y\\nB Z\\nA Z\\nC X\\nB Z\\nB Z\\nC X\\nA Z\\nC X\\nB Z\\nC Y\\nB Z\\nB Y\\nB Z\\nB Z\\nB Z\\nC Z\\nC X\\nA Y\\nC X\\nB Z\\nA Y\\nA X\\nB Z\\nC X\\nA Y\\nA Y\\nA Z\\nB Z\\nB Z\\nC X\\nB Z\\nA X\\nB Z\\nA Y\\nA Y\\nB Z\\nA Y\\nA Y\\nA X\\nA Z\\nB Z\\nB Z\\nA Z\\nA Z\\nA Y\\nB X\\nA Y\\nC X\\nA X\\nA Y\\nA X\\nA Y\\nA X\\nC X\\nB Z\\nA Y\\nB Z\\nA Y\\nB Z\\nB X\\nB Z\\nA Y\\nB Z\\nB Z\\nC X\\nA Z\\nA Y\\nB Z\\nB Z\\nC Y\\nA Y\\nB X\\nB Z\\nB Z\\nA Y\\nB Z\\nC X\\nA Y\\nA Y\\nB Z\\nB Z\\nB Z\\nC X\\nA Y\\nA Z\\nC X\\nA Z\\nC X\\nB Z\\nA Y\\nA Y\\nB Z\\nA Y\\nB Y\\nB Y\\nA Z\\nA Y\\nB Z\\nA Y\\nC X\\nA Z\\nA Y\\nA Z\\nA X\\nA Y\\nA Y\\nA Z\\nC X\\nB Z\\nA Y\\nA Y\\nA Y\\nC X\\nB Z\\nC Y\\nA Y\\nB X\\nB Z\\nB Y\\nB Z\\nA Y\\nA X\\nA Y\\nA X\\nA X\\nB Z\\nA Y\\nA Z\\nB Z\\nB X\\nA Y\\nC Z\\nC X\\nB Z\\nB Z\\nC X\\nA Y\\nB Z\\nA Y\\nB Z\\nB Z\\nA Y\\nA Y\\nB Y\\nA Y\\nB Z\\nB Z\\nA X\\nB Z\\nA Y\\nA Y\\nB X\\nA Y\\nB X\\nC X\\nB Z\\nA Y\\nB X\\nA Z\\nA Y\\nA Y\\nA Y\\nB Z\\nC X\\nA Y\\nB Z\\nC Y\\nA Y\\nB Z\\nA Z\\nC X\\nA Y\\nA Y\\nC X\\nA Y\\nB Y\\nA Z\\nA X\\nA Y\\nC X\\nB Z\\nC X\\nB Z\\nA Y\\nA Z\\nB X\\nB Y\\nC X\\nB Z\\nA Y\\nC Z\\nA Y\\nB Z\\nB Z\\nA Z\\nB Z\\nB Z\\nB Z\\nB X\\nA Z\\nB Z\\nB Z\\nC X\\nA Y\\nA Z\\nB Z\\nA Y\\nB Z\\nA Z\\nC X\\nA Y\\nB Z\\nC Z\\nC X\\nB Z\\nC X\\nA Y\\nA Y\\nA X\\nA Y\\nB X\\nA Z\\nA Y\\nC Z\\nC X\\nA Z\\nA Y\\nB Z\\nA Y\\nA Y\\nA Y\\nA Z\\nB Z\\nB Z\\nC X\\nA Y\\nA Y\\nA Y\\nA Y\\nA Z\\nA Y\\nC X\\nB X\\nB Z\\nC X\\nA Y\\nA Y\\nA Z\\nC X\\nA Y\\nA Y\\nA Y\\nB Z\\nA Y\\nB Y\\nA Y\\nB Z\\nB Z\\nB Z\\nA X\\nC X\\nA Y\\nB Y\\nA Z\\nC X\\nA Y\\nA Y\\nA Y\\nB Z\\nA Y\\nA Y\\nC Y\\nA Y\\nA Y\\nA Y\\nC X\\nA Z\\nA Y\\nA Y\\nA Y\\nC X\\nB Z\\nA Y\\nC X\\nB X\\nA Z\\nA Z\\nA X\\nA Z\\nA Y\\nB Y\\nC X\\nB Z\\nC X\\nC Z\\nA Y\\nC X\\nA Z\\nC X\\nB Z\\nB Z\\nA X\\nB Y\\nB Z\\nC Y\\nB Z\\nA Z\\nC X\\nA X\\nB Z\\nB Z\\nA Y\\nA Y\\nA Y\\nA X\\nA Z\\nB Z\\nA Y\\nA Y\\nA Y\\nA Y\\nA Z\\nB Z\\nB Z\\nB Z\\nA X\\nA Y\\nB Z\\nA Z\\nB Y\\nA Y\\nA Y\\nA Z\\nA Y\\nC Z\\nA Z\\nB Z\\nA Y\\nC X\\nA Y\\nC X\\nB Z\\nB Z\\nB Z\\nA Y\\nA Y\\nC X\\nB Z\\nC X\\nA Z\\nA Y\\nC Y\\nC X\\nC X\\nA Y\\nC X\\nB Z\\nB Z\\nB X\\nC X\\nB Z\\nA Y\\nA Y\\nA Y\\nA Y\\nA Y\\nB X\\nA Y\\nC X\\nC X\\nA Y\\nB Z\\nC X\\nC X\\nA Y\\nC Y\\nB Z\\nB Z\\nC X\\nA Z\\nB Z\\nA Y\\nA Z\\nA Z\\nA Y\\nA Y\\nA Y\\nB Y\\nB Z\\nA X\\nA Y\\nA Y\\nB Z\\nC X\\nC X\\nB Z\\nB Z\\nA Y\\nB X\\nC X\\nB Z\\nA Y\\nB Z\\nA Z\\nA X\\nA Y\\nA X\\nB Z\\nA Z\\nB Z\\nA Z\\nB Z\\nA Y\\nA Y\\nA Y\\nB Z\\nA X\\nA Y\\nA Y\\nC Z\\nA Y\\nA Y\\nC X\\nA Z\\nA Z\\nB Z\\nB X\\nA Y\\nA X\\nA Y\\nC X\\nC X\\nB Z\\nB Z\\nB Z\\nA Y\\nA Y\\nA Z\\nA Y\\nC X\\nC X\\nA Z\\nA X\\nA Z\\nB Z\\nA Z\\nA X\\nB Z\\nA Y\\nB Z\\nA Z\\nC X\\nC X\\nC Y\\nA Y\\nA Y\\nA Y\\nC Y\\nA Y\\nB Z\\nA X\\nA Y\\nA Z\\nA Y\\nB Z\\nA Z\\nB Z\\nB Z\\nA X\\nC X\\nA Y\\nA Y\\nB Z\\nB Z\\nA X\\nA Z\\nA X\\nC X\\nB Z\\nA Z\\nA Z\\nA Y\\nA Z\\nB Z\\nC X\\nA Z\\nB Z\\nA Y\\nA Z\\nA Y\\nC X\\nA Y\\nA Y\\nB Z\\nB Z\\nB Z\\nA Y\\nA Y\\nB Z\\nB X\\nC X\\nA Y\\nA Z\\nA Z\\nB Z\\nC X\\nB Y\\nA Z\\nA Z\\nB X\\nC Z\\nC X\\nA Y\\nA Z\\nA Z\\nC X\\nB Z\\nB Z\\nB Z\\nA Y\\nA Y\\nB Z\\nB Z\\nA Z\\nC X\\nB Z\\nB Z\\nA Y\\nA Y\\nA Z\\nA Y\\nC X\\nB X\\nA Z\\nC X\\nA Y\\nB Z\\nA Y\\nA Z\\nA Y\\nA Y\\nB Z\\nB Z\\nC X\\nA Y\\nA Y\\nB Z\\nA Z\\nA Y\\nA Y\\nA Y\\nA Y\\nC Z\\nA X\\nB Z\\nB Z\\nA Y\\nA Y\\nC X\\nA Y\\nC X\\nB Z\\nB Z\\nA Z\\nA Y\\nA Y\\nA Y\\nA Y\\nC X\\nB Z\\nA Y\\nB Z\\nA X\\nA Y\\nA Y\\nA Y\\nC Y\\nA Y\\nB Z\\nC X\\nA Y\\nA Y\\nA Y\\nA Y\\nA Y\\nA Y\\nA Z\\nA X\\nB Y\\nB Z\\nB Z\\nA Y\\nC Y\\nC X\\nA Y\\nB Z\\nA Y\\nB X\\nA X\\nB Z\\nA Y\\nA Y\\nA Y\\nA Y\\nC Y\\nA Y\\nB Z\\nA Y\\nB Z\\nA Z\\nB Z\\nA Y\\nA Y\\nA Z\\nB Z\\nA Y\\nA Y\\nA Y\\nB Z\\nA Y\\nB Z\\nB Z\\nA Y\\nA Y\\nA Y\\nA Y\\nA Z\\nA Y\\nA X\\nA Y\\nB Y\\nB Z\\nB Z\\nA Y\\nC X\\nB Z\\nB Y\\nB Y\\nC Z\\nC X\\nA Y\\nB Z\\nB Y\\nB Z\\nB X\\nA Z\\nA Y\\nC X\\nA Y\\nA Y\\nC X\\nA Y\\nC Y\\nB Y\\nC X\\nA Z\\nA Z\\nA Y\\nA Y\\nA X\\nC X\\nB Z\\nC X\\nC X\\nC X\\nA Y\\nA Y\\nA Y\\nA Z\\nC Y\\nA Z\\nB Z\\nC X\\nB Z\\nA Z\\nA Y\\nB Z\\nC X\\nB Z\\nC Z\\nC X\\nB X\\nA Y\\nC Z\\nC Z\\nB Z\\nB Z\\nA Y\\nB Y\\nB Z\\nA Y\\nA Y\\nB Z\\nA Z\\nC X\\nA Z\\nA Z\\nA Z\\nB Y\\nB Z\\nA Y\\nA Y\\nB Z\\nA Y\\nA Z\\nC X\\nA Y\\nA Z\\nA Z\\nA Y\\nA Y\\nB Z\\nA Y\\nA Y\\nA Y\\nA Y\\nA Y\\nA Z\\nB Z\\nA Y\\nB Z\\nB X\\nA Y\\nA Z\\nB Z\\nA Z\\nA Y\\nB Z\\nA Y\\nB Z\\nA Y\\nC X\\nA Y\\nB Z\\nA Y\\nB Z\\nA Y\\nA Y\\nA Y\\nB Z\\nA Y\\nB Z\\nC X\\nB Z\\nB Z\\nA Y\\nA X\\nA X\\nA X\\nA Y\\nC Y\\nA X\\nB Z\\nA X\\nC X\\nC X\\nC X\\nB Z\\nA Y\\nC X\\nC X\\nC Y\\nB Z\\nA X\\nA Y\\nA X\\nA X\\nB Y\\nC Z\\nA Y\\nC X\\nB Z\\nC Y\\nB Z\\nB Z\\nC Z\\nA Y\\nB Z\\nC X\\nA Y\\nC X\\nB Z\\nA Y\\nA Y\\nA Z\\nA Y\\nA Y\\nB Z\\nA Y\\nC X\\nC X\\nB Z\\nB Z\\nC X\\nA X\\nA Y\\nB Y\\nA X\\nA X\\nA Z\\nB Z\\nA Z\\nC X\\nA X\\nA Y\\nB Z\\nA Y\\nA Y\\nA X\\nA Y\\nA Y\\nA Z\\nA Y\\nB Z\\nC Z\\nB Z\\nB Z\\nA Y\\nC X\\nA Y\\nA Y\\nB Z\\nC Y\\nC X\\nA Y\\nA Y\\nA Y\\nA Z\\nA Y\\nA Y\\nA Y\\nB Z\\nC X\\nA Z\\nC X\\nB Z\\nA Y\\nB X\\nB Z\\nB Z\\nA Y\\nA Y\\nC X\\nB Z\\nA X\\nC X\\nA Z\\nB Z\\nB Z\\nC X\\nB Y\\nC X\\nA Y\\nA Z\\nC X\\nA Y\\nB Z\\nC X\\nA Y\\nA X\\nA X\\nA Y\\nC Y\\nB X\\nA Y\\nB X\\nA Y\\nA Y\\nC X\\nA Z\\nA Y\\nA Z\\nB Z\\nA Y\\nC X\\nA Z\\nB Z\\nA Y\\nC Z\\nA X\\nC X\\nA X\\nC Y\\nA Y\\nA Z\\nB Y\\nC X\\nB Z\\nA Y\\nC X\\nA Y\\nA Y\\nA Y\\nB Y\\nA X\\nC X\\nA Y\\nA Y\\nC X\\nB Z\\nA Z\\nA X\\nA Y\\nA Y\\nA Y\\nA Z\\nA Z\\nB Z\\nA Z\\nA Y\\nA Z\\nA Y\\nC X\\nA Z\\nC X\\nB Z\\nB Z\\nA X\\nA Y\\nB X\\nB Z\\nB Z\\nA Y\\nB X\\nA X\\nA X\\nA Y\\nA Y\\nC X\\nC X\\nA Y\\nC Y\\nA Y\\nC X\\nB Z\\nC X\\nB Z\\nA Z\\nB Y\\nA Y\\nB Z\\nA Y\\nC Y\\nB Z\\nB Z\\nA Y\\nA Y\\nB Z\\nA Y\\nB Z\\nB Z\\nA Z\\nA Y\\nA X\\nA Y\\nA Y\\nA Y\\nA Y\\nA Z\\nB Z\\nA Y\\nA Y\\nA Y\\nB Z\\nA Y\\nC X\\nC X\\nB Z\\nA Y\\nB Z\\nB X\\nA Y\\nC Z\\nA Z\\nA Y\\nB Z\\nA X\\nC X\\nB X\\nA Y\\nA Z\\nA Y\\nA Y\\nB Z\\nA Y\\nB Z\\nA Y\\nC X\\nA Y\\nA X\\nA Y\\nC X\\nA Y\\nC X\\nC X\\nB Z\\nA Y\\nB Z\\nA X\\nB Z\\nA Z\\nC X\\nB Z\\nA Y\\nA Y\\nA Z\\nB Z\\nA X\\nA Y\\nA Y\\nA Z\\nA Y\\nA X\\nA Y\\nC Y\\nA Y\\nA Y\\nA Y\\nA Z\\nA Y\\nB Z\\nB Z\\nA Y\\nA X\\nC X\\nB Z\\nB Z\\nA Z\\nA Y\\nA Z\\nB Z\\nA Y\\nA Y\\nC X\\nB Z\\nA X\\nA Y\\nB Z\\nA Y\\nB Z\\nB Z\\nB Z\\nA X\\nB Z\\nB Z\\nA Y\\nA Y\\nA Y\\nB Z\\nA Y\\nA X\\nB Z\\nA Y\\nB Z\\nA Y\\nA Y\\nB Z\\nA Y\\nA Y\\nB Z\\nA X\\nA Z\\nB X\\nA Y\\nB Z\\nC X\\nA Y\\nA Y\\nC Z\\nA Y\\nC X\\nA X\\nB Z\\nA Y\\nC X\\nA Z\\nA Y\\nB Z\\nA Z\\nA X\\nA Y\\nC X\\nA Z\\nA X\\nA Y\\nA X\\nB Z\\nB X\\nA Y\\nA Y\\nA Y\\nC X\\nA Y\\nA Y\\nB Z\\nB X\\nB Z\\nB Z\\nC X\\nC X\\nB Z\\nB Z\\nB Z\\nA Y\\nB Z\\nA Z\\nA Y\\nC X\\nB Z\\nA Y\\nA Y\\nB Z\\nC X\\nA Y\\nC X\\nA Y\\nB Z\\nA Z\\nA Y\\nA Y\\nA Y\\nB X\\nC X\\nB Z\\nB X\\nA Y\\nA Y\\nC X\\nA Y\\nA Z\\nC X\\nA Y\\nA Z\\nB Z\\nA Y\\nA Y\\nA Y\\nA Y\\nA Y\\nB Z\\nA Y\\nC X\\nA Y\\nB Z\\nC X\\nA X\\nB Z\\nC X\\nA Y\\nA Y\\nA Y\\nA Z\\nA X\\nA Y\\nC Y\\nA Y\\nA Z\\nA Y\\nA Y\\nB Z\\nA Y\\nB Z\\nA Y\\nC Y\\nA Z\\nA Y\\nC Z\\nA X\\nA Y\\nA Y\\nC Y\\nA Z\\nA X\\nC X\\nB X\\nA Y\\nC X\\nA Y\\nA Y\\nA Y\\nC Y\\nC X\\nA Y\\nB Z\\nA Y\\nA Y\\nA Y\\nA Z\\nA X\\nA Y\\nA Y\\nA Y\\nB Z\\nC Y\\nB Z\\nA Y\\nB Z\\nB Z\\nA Z\\nB Z\\nA X\\nB Z\\nC Y\\nA Y\\nA Y\\nC X\\nB Z\\nA Y\\nA Z\\nC X\\nB Z\\nA Z\\nB Z\\nC X\\nB X\\nC X\\nC X\\nC X\\nA Z\\nA Y\\nA Z\\nA Y\\nB Z\\nA Y\\nB Z\\nC X\\nA Y\\nB Z\\nB Z\\nA Y\\nA Y\\nB Z\\nA X\\nA Z\\nB Z\\nB Z\\nA Y\\nA Y\\nA Z\\nC X\\nA X\\nB Y\\nA Y\\nB Z\\nC X\\nA Y\\nA Y\\nA Y\\nA Y\\nA Y\\nB Z\\nB Z\\nB Z\\nA Y\\nA X\\nA Y\\nA X\\nB Y\\nB Z\\nA Z\\nA Y\\nA Y\\nA Y\\nB Z\\nB Y\\nC X\\nA Z\\nC Z\\nA Z\\nC Y\\nB Z\\nA Z\\nC Z\\nA Y\\nB Z\\nA Y\\nA Z\\nA Y\\nA Y\\nA Y\\nA Y\\nA Y\\nB Z\\nA Z\\nA Y\\nB X\\nC Y\\nC X\\nA Y\\nB Z\\nB Z\\nA Y\\nB Y\\nB Z\\nB Z\\nC X\\nC X\\nC X\\nB Z\\nA X\\nB Z\\nA Y\\nA Y\\nB X\\nA Z\\nA Y\\nB Z\\nA Z\\nA Y\\nB Z\\nB Z\\nC Y\\nB Z\\nB Z\\nB Z\\nB Z\\nA Z\\nB Z\\nA Y\\nB Z\\nA Y\\nC X\\nA Y\\nB Z\\nA Y\\nA Y\\nC X\\nA Y\\nA Y\\nA Y\\nA Y\\nB Z\\nA Y\\nA Y\\nA Y\\nA Z\\nC X\\nA Y\\nA Y\\nA Y\\nB Z\\nC X\\nA X\\nA Y\\nB X\\nC X\\nA Z\\nA X\\nB Z\\nA Y\\nC Y\\nC X\\nA Y\\nA Z\\nB Z\\nA Y\\nA Y\\nA Z\\nA Y\\nA Y\\nB Z\\nC Z\\nC X\\nA Y\\nA Y\\nC X\\nA Y\\nA X\\nB Z\\nC Z\\nA Y\\nB Z\\nC X\\nB Y\\nA Y\\nB X\\nA Y\\nA Y\\nB Z\\nB Z\\nA X\\nA Z\\nA Z\\nB Z\\nA Y\\nB Z\\nA Y\\nA Y\\nB Z\\nB Z\\nB X\\nA Y\\nB X\\nC X\\nB Z\\nB X\\nA Y\\nB Y\\nC X\\nA Y\\nA Z\\nA Y\\nB Z\\nA Y\\nB Z\\nA Y\\nB Z\\nA Y\\nA Y\\nA Y\\nA Z\\nB Z\\nA Y\\nB X\\nB X\\nB Z\\nB Z\\nA Z\\nB Z\\nB Z\\nA Y\\nC X\\nC Y\\nB Z\\nA Z\\nA Z\\nA Z\\nB Z\\nB Z\\nA Y\\nC X\\nA Y\\nA Y\\nC Y\\nA Z\\nA Y\\nA Y\\nA Y\\nA Y\\nA Y\\nB Z\\nA Y\\nC Y\\nB Z\\nB Z\\nA Y\\nA Y\\nA Y\\nA Y\\nA Y\\nB Z\\nB Z\\nA Y\\nB Z\\nB Z\\nB Z\\nA Y\\nA Y\\nC Z\\nB Y\\nA Y\\nC X\\nA Z\\nB Z\\nB Z\\nB Z\\nB Z\\nA X\\nA Y\\nA X\\nB Z\\nA Y\\nA X\\nA Y\\nB Z\\nB Z\\nC X\\nC Y\\nB Z\\nA Y\\nA Z\\nB X\\nA Z\\nA Y\\nA Z\\nA Y\\nC X\\nB Z\\nA Y\\nC Z\\nA Z\\nB Z\\nA Y\\nC X\\nB Z\\nA Z\\nA Y\\nA Y\\nA Y\\nA Z\\nC X\\nB X\\nA Y\\nC X\\nA Y\\nA Y\\nA Y\\nC X\\nA Y\\nA Y\\nA Y\\nA Y\\nA Y\\nA Y\\nB Z\\nA Y\\nB Z\\nB Z\\nB Z\\nA Y\\nA Y\\nA Y\\nA Y\\nA Z\\nA Y\\nB Z\\nB Z\\nC X\\nB Z\\nA Z\\nB Z\\nA Z\\nA Y\\nA X\\nB Z\\nA Y\\nA Y\\nB Z\\nB Z\\nA Y\\nB Z\\nB Z\\nA Y\\nA Y\\nB Z\\nB Z\\nA X\\nB Z\\nA Z\\nB Z\\nC X\\nB Z\\nA Y\\nB Y\\nA Y\\nB Z\\nA Y\\nC X\\nA Z\\nB Z\\nA Y\\nA Y\\nC X\\nA X\\nA Z\\nA Y\\nA Y\\nA Y\\nB Z\\nA X\\nA Z\\nA Y\\nA Y\\nA Y\\nA Y\\nC X\\nC X\\nB Z\\nB Z\\nA Y\\nA X\\nC X\\nB Z\\nB Z\\nB Z\\nA Z\\nB Z\\nB Z\\nB Z\\nA Z\\nA X\\nA Y\\nB Z\\nA X\\nB Z\\nA X\\nB X\\nB X\\nB Z\\nA Z\\nC X\\nA X\\nB Z\\nB Z\\nA Y\\nC Y\\nB Z\\nB Z\\nB Z\\nB Z\\nA Y\\nC X\\nB Z\\nB Z\\nA X\\nB Z\\nA Y\\nC X\\nC Z\\nA Y\\nA Y\\nB Z\\nB Z\\nA Z\\nA Y\\nB Z\\nC X\\nB Z\\nA Y\\nA Y\\nC X\\nA Y\\nA Y\\nA X\\nA Y\\nA Y\\nA Z\\nC X\\nA X\\nB Z\\nC X\\nA X\\nA Y\\nA Y\\nB Z\\nA Z\\nA Y\\nA X\\nB Z\\nA Y\\nA Y\\nA Z\\nA Y\\nA Y\\nA Y\\nB Z\\nC X\\nC X\\nA Y\\nA Y\\nA X\\nA Z\\nA Y\\nB X\\nC X\\nC X\\nB Z\\nA Y\\nB Z\\nB Z\\nA Y\\nA Y\\nA Y\\nA X\\nB X\\nA Y\\nB Z\\nA Y\\nA X\\nA Y\\nC Y\\nA Y\\nB Z\\nA Y\\nA X\\nB X\\nB Z\\nA Y\\nB Z\\nB Z\\nC X\\nA Z\\nA Y\\nB Z\\nA X\\nA Y\\nA Y\\nC X\\nB Z\\nB Z\\nA Z\\nA Y\\nA Z\\nA Z\\nB Z\\nB Z\\nA X\\nA Y\\nC X\\nA Y\\nB Z\\nB Z\\nA Y\\nA Y\\nA Z\\nA Y\\nA Y\\nA Y\\nA Y\\nC X\\nB Z\\nA Y\\nB Z\\nA Z\\nB Z\\nA Y\\nB Z\\nA Y\\nB Z\\nA Y\\nC X\\nA X\\nA Y\\nB X\\nC X\\nB Z\\nA Y\\nA Y\\nA Z\\nA Y\\nA Y\\nA Y\\nA Y\\nA Y\\nA Y\\nB Z\\nA X\\nB Z\\nB Z\\nA Y\\nC X\\nA Y\\nC X\\nA Z\\nA Y\\nC X\\nA Y\\nA Y\\nA Y\\nC X\\nA X\\nA Y\\nC Y\\nA Y\\nA Y\\nB Y\\nB Z\\nC X\\nA Y\\nB Z\\nB Z\\nA Y\\nA Y\\nB Z\\nA Y\\nA Y\\nB Z\\nA X\\nA X\\nB Y\\nB X\\nA Y\\nA Z\\nC X\\nA Y\\nA Y\\nA Y\\nA Z\\nC Z\\nA Z\\nA Y\\nA Z\\nA Y\\nA X\\nB Z\\nB Z\\nC X\\nB Z\\nC X\\nC X\\nA Z\\nA Y\\nA Y\\nA Y\\nA Y\\nA Y\\nC X\\nB Z\\nB Y\\nB Z\\nA Y\\nB Y\\nA Y\\nA Y\\nA Y\\nB Z\\nA Z\\nC Z\\nA Z\\nB Y\\nA Y\\nA Y\\nB Z\\nB Y\\nA Z\\nA Y\\nA Z\\nA Y\\nC X\\nB Z\\nB Z\\nA Z\\nA X\\nC X\\nA X\\nA X\\nB Z\\nC X\\nA Y\\nA Y\\nA Z\\nC X\\nC Y\\nC X\\nA Y\\nB Z\\nA Y\\nA X\\nA Z\\nB Z\\nA Y\\nA Y\\nA Y\\nB Z\\nA Y\\nB Z\\nB Y\\nB Z\\nB Z\\nB Z\\nB Z\\nA Y\\nB Z\\nB Z\\nA X\\nC Y\\nC X\\nA Y\\nA Z\\nB Z\\nA Y\\nA Y\\nA Y\\nA Y\\nA Y\\nA Y\\nB Z\\nB Z\\nA Y\\nB Y\\nB Z\\nA Y\\nA Y\\nA Z\\nA Y\\nA Y\\nA Y\\nB Y\\nB Z\\nC X\\nA Z\\nA Z\\nB Z\\nC Y\\nC Z\\nA Z\\nA Z\\nA Y\\nB Z\\nB Z\\nB Z\\nA Z\\nA Z\\nB Y\\nA Y\\nA X\\nA Y\\nB Z\\nA Y\\nB Z\\nA Y\\nA Y\\nA Z\\nB Z\\nA Y\\nA X\\nA Y\\nA Y\\nA Y\\nA Y\\nA Y\\nC X\\nA Y\\nB Z\\nA Z\\nA Y\\nA Y\\nA Y\\nC X\\nA Y\\nA Y\\nA Y\\nA Y\\nB Z\\nA Z\\nA Y\\nB X\\nB Z\\nB Z\\nB Z\\nB Z\\nA Y\\nA Y\\nC X\\nA Y\\nA Y\\nB Z\\nC X\\nB Z\\nB Y\\nA Y\\nA Y\\nA Y\\nB Z\\nB Z\\nB Z\\nA Y\\nB Z\\nB X\\nB Z\\nA Y\\nA Y\\nB Z\\nA Y\\nB Z\\nC Z\\nA Y\\nB Z\\nA Z\\nA Y\\nB Z\\nA Y\\nB Z\\nC X\\nB Z\\nA Y\\nA Y\\nA Y\\nA Z\\nB Z\\nC X\\nB X\\nA Y\\nA Y\\nA Y\\nC Y\\nB Z\\nB Z\\nA Y\\nA Y\\nC X\\nA Y\\nC Y\\nB Z\\nA Y\\nC X\\nA Z\\nA Y\\nA Y\\nA Z\\nA Y\\nA Y\\nB Z\\nB Z\\nC X\\nA Z\\nA Y\\nA Y\\nA X\\nA Y\\nC X\\nA Y\\nB Z\\nA X\\nA Z\\nB Z\\nC X\\nA Y\\nA Y\\nA Y\\nA Y\\nA Y\\nA Y\\nA Z\\nC X\\nA Y\\nA Y\\nB Z\\nA Z\\nA Z\\nA Z\\nA Y\\nB X\\nA Y\\nC X\\nA Y\\nA Y\\nA X\\nB Z\\nA Y\\nA Z\\nA Y\\nA Y\\nA Z\\nB Z\\nB Z\\nA Y\\nA Y\\nA Y\\nA Z\\nA X\\nA Z\\nC X\\nA Y\\nB Z\\nA Y\\nA X\\nA Y\\nA Z\\nA Y\\nA Z\\nA Y\\nB Z\\nA Y\\nB Z\\nB Z\\nB Z\\nA Y\\nC X\\nB Z\\nA Y\\nA Y\\nC X\\nA Y\\nA Z\\nB Z\\nB Z\\nA Y\\nC X\\nA Y\\nA Y\\nA Y\\nB Z\\nA Z\\nA Z\\nC X\\nB Z\\nC Y\\nB Z\\nA Y\\nA Y\\nA Y\\nA Y\\nA Y\\nC X\\nA X\\nA Z\\nA Y\\nA Y\\nB Z\\nA Y\\nB Z\\nB Z\\nA Y\\nC X\\nB Z\\nB Z\\nA Y\\nA Y\\nB X\\nC X\\nB Z\\nA Y\\nB Z\\nB Z\\nC Y\\nB Z\\nC X\\nA Y\\nA Y\\nA Y\\nC X\\nA Y\\nB Z\\nA Z\\nB Z\\nA Y\\nA Y\\nC X\\nA X\\nA Y\\nA Z\\nA Y\\nA Z\\nA Y\\nA Y\\nC X\\nA X\\nA X\\nC Y\\nA Y\\nA Y\\nA Y\\nA Y\\nB Z\\nC X\\nB Z\\nA X\\nA Y\\nA X\\nA X\\nA X\\nA Y\\nB Z\\nA Z\\nB X\\nC Y\\nC X\\nC X\\nC X\\nB Z\\nB Z\\nB Z\\nA X\\nA Y\\nA Y\\nB Z\\nC X\\nA Y\\nA Y\\nA Z\\nA Y\\nA Y\\nA X\\nC X\\nB Z\\nB Z\\nC X\\nA Y\\nA Y\\nA Y'"
      ]
     },
     "execution_count": 27,
     "metadata": {},
     "output_type": "execute_result"
    }
   ],
   "source": [
    "lines"
   ]
  },
  {
   "cell_type": "code",
   "execution_count": null,
   "id": "a27fb810",
   "metadata": {},
   "outputs": [],
   "source": [
    "lookup_list = [[\"P001\", \"iPhone 8 64GB\", 85000],\n",
    "         [\"P002\", \"iPhone X 256GB\", 130000],\n",
    "         [\"P003\", \"iPhone SE 32GB\", 37000]]\n",
    "column_names = [\"Product ID\", \"Product Name\", \"Price (JPY)\"]\n",
    "df = pd.DataFrame(data=lookup_list, columns=column_names)\n",
    "#df"
   ]
  }
 ],
 "metadata": {
  "kernelspec": {
   "display_name": "Python 3",
   "language": "python",
   "name": "python3"
  },
  "language_info": {
   "codemirror_mode": {
    "name": "ipython",
    "version": 3
   },
   "file_extension": ".py",
   "mimetype": "text/x-python",
   "name": "python",
   "nbconvert_exporter": "python",
   "pygments_lexer": "ipython3",
   "version": "3.7.11"
  }
 },
 "nbformat": 4,
 "nbformat_minor": 5
}
