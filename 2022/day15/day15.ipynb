{
 "cells": [
  {
   "cell_type": "code",
   "execution_count": 7,
   "id": "f045ff3c",
   "metadata": {},
   "outputs": [],
   "source": [
    "import re\n",
    "import time\n",
    "\n",
    "import numpy as np\n",
    "import matplotlib.pyplot as plt"
   ]
  },
  {
   "cell_type": "code",
   "execution_count": 4,
   "id": "4d751ff0",
   "metadata": {},
   "outputs": [],
   "source": [
    "def load_data(input_txt):\n",
    "    with open(input_txt) as f:\n",
    "        lines = f.read().strip().split('\\n')    \n",
    "    locations = np.array([np.array(re.findall(r'[-\\d]+', line)).astype(int) for line in lines])\n",
    "    return locations\n",
    "\n",
    "\n",
    "def manhattan_distance(location):\n",
    "    return abs(location[0]-location[2])+abs(location[1]-location[3])\n",
    "\n",
    "\n",
    "def intersection(lst1, lst2):\n",
    "    return list(set(lst1) & set(lst2))\n",
    "\n",
    "\n",
    "def no_beacon(location, y):\n",
    "    sensor_x, sensor_y, beacon_x, beacon_y = location\n",
    "    d = manhattan_distance(location)\n",
    "\n",
    "    if y < sensor_y + d and y >= sensor_y - d:\n",
    "        # |x_s -x| + |y_s -y| = d\n",
    "        # therefore x = x_s - d - |y_s -y| or x_s + d + |y_s -y|\n",
    "        y_diff = d - abs(sensor_y - y)\n",
    "        x1 = sensor_x + y_diff\n",
    "        x2 = sensor_x - y_diff\n",
    "        #print(f\"a beacon cannot be located between {x1} and {x2}\")\n",
    "\n",
    "        if y_diff >0:\n",
    "            x_range = np.arange(x2, x1+1)\n",
    "        else:\n",
    "            x_range = np.arange(x1, x2+1)\n",
    "    else:\n",
    "        x_range = []\n",
    "    \n",
    "    return x_range\n",
    "\n",
    "\n",
    "def no_beacon_x(locations, y):\n",
    "    # x range where beacon cannot be.\n",
    "    x_ranges = []\n",
    "    x_occupied = [] # occupied by either sensors / beacons.\n",
    "    for location in locations:\n",
    "        sensor_x, sensor_y, beacon_x, beacon_y = location\n",
    "        x_ranges += list(no_beacon(location, y))\n",
    "        if sensor_y == y:\n",
    "            x_occupied.append(sensor_x)\n",
    "        if beacon_y == y:\n",
    "            x_occupied.append(beacon_x)\n",
    "\n",
    "    # remove duplicates\n",
    "    x_ranges = list(set(x_ranges))\n",
    "    x_ranges.sort()\n",
    "    x_occupied = list(set(x_occupied))\n",
    "    x_occupied.sort()\n",
    "    \n",
    "    x_ranges = set(x_ranges)-set(x_occupied)\n",
    "    return x_ranges"
   ]
  },
  {
   "cell_type": "code",
   "execution_count": 5,
   "id": "5c60f811",
   "metadata": {},
   "outputs": [
    {
     "name": "stdout",
     "output_type": "stream",
     "text": [
      "5525847 positions cannot contain a beacon.\n"
     ]
    }
   ],
   "source": [
    "## part 1.\n",
    "is_test = False\n",
    "\n",
    "if is_test:\n",
    "    locations = load_data('input_test.txt')\n",
    "    y = 10\n",
    "else:\n",
    "    locations = load_data('input.txt')\n",
    "    y = 2000000\n",
    "\n",
    "x_ranges = no_beacon_x(locations, y)\n",
    "print(f\"{len(x_ranges)} positions cannot contain a beacon.\")"
   ]
  },
  {
   "cell_type": "code",
   "execution_count": 18,
   "id": "5ddd0499",
   "metadata": {},
   "outputs": [
    {
     "data": {
      "text/plain": [
       "[array([ 2, 18, -2, 15]),\n",
       " array([ 9, 16, 10, 16]),\n",
       " array([13,  2, 15,  3]),\n",
       " array([12, 14, 10, 16]),\n",
       " array([14, 17, 10, 16]),\n",
       " array([ 8,  7,  2, 10]),\n",
       " array([ 2,  0,  2, 10]),\n",
       " array([ 0, 11,  2, 10]),\n",
       " array([16,  7, 15,  3]),\n",
       " array([14,  3, 15,  3])]"
      ]
     },
     "execution_count": 18,
     "metadata": {},
     "output_type": "execute_result"
    }
   ],
   "source": [
    "## part 2.\n",
    "is_test = True\n",
    "\n",
    "if is_test:\n",
    "    locations = load_data('input_test.txt')\n",
    "    limit = 20\n",
    "else:\n",
    "    locations = load_data('input.txt')\n",
    "    limit = 4000000\n",
    "\n",
    "## this method takes 3[sec] in one iteration x limit. \n",
    "# for y in np.arange(limit):\n",
    "#     print(\"\\r\"+str(y), end=\"\")\n",
    "#     time_start = time.time()\n",
    "#     x_range = [i for i in no_beacon_x(locations, y) if i >= 0 and i < limit+1]\n",
    "#     print(f\"elapsed time: {time.time()-time_start}[s]\")\n",
    "\n",
    "#     xs = set(np.arange(limit+1)) - set(x_range)\n",
    "#     if len(xs) != 0:\n",
    "#         break;\n",
    "# x = list(xs)[0]\n",
    "# print(f\"x={x}, y={y}\")\n",
    "# print(f\"{4000000 * x + y}\")\n",
    "\n",
    "sensors_ = []\n",
    "locations_ = []\n",
    "for location in locations:\n",
    "    sensor_x, sensor_y, beacon_x, beacon_y = location\n",
    "    if all([sensor_x >= 0, sensor_x < limit, sensor_y >= 0, sensor_y < limit]):\n",
    "        locations_.append(location)\n",
    "locations_"
   ]
  }
 ],
 "metadata": {
  "kernelspec": {
   "display_name": "Python 3 (ipykernel)",
   "language": "python",
   "name": "python3"
  },
  "language_info": {
   "codemirror_mode": {
    "name": "ipython",
    "version": 3
   },
   "file_extension": ".py",
   "mimetype": "text/x-python",
   "name": "python",
   "nbconvert_exporter": "python",
   "pygments_lexer": "ipython3",
   "version": "3.11.0"
  }
 },
 "nbformat": 4,
 "nbformat_minor": 5
}
