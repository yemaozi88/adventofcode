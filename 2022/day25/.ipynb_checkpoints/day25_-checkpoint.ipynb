{
 "cells": [
  {
   "cell_type": "code",
   "execution_count": 1,
   "id": "caa03ae5",
   "metadata": {},
   "outputs": [],
   "source": [
    "import math\n",
    "\n",
    "import numpy as np"
   ]
  },
  {
   "cell_type": "code",
   "execution_count": 2,
   "id": "aeadee2c",
   "metadata": {},
   "outputs": [
    {
     "name": "stdout",
     "output_type": "stream",
     "text": [
      "SNAFU number to supply to Bob's console: 2-121-=10=200==2==21\n"
     ]
    }
   ],
   "source": [
    "with open('input.txt') as f:\n",
    "    lines = f.read().strip().split('\\n')\n",
    "    \n",
    "snafu2decimal_map = {'2':2, '1':1, '0':0, '-':-1, '=':-2}\n",
    "decimal2snafu_map = {y: x for x, y in snafu2decimal_map.items()}\n",
    "\n",
    "def snafu2decimal(snafu):\n",
    "    decimal = 0\n",
    "    for i, digit_ in enumerate(snafu, start=1):\n",
    "        digit = snafu2decimal_map.get(digit_)\n",
    "        n = len(snafu) - i\n",
    "        decimal += (5**n) * digit\n",
    "        #print(f\"{n}, {digit_} -> {digit}\")\n",
    "    return decimal\n",
    "\n",
    "\n",
    "def decimal2snafu(decimal):\n",
    "    d = decimal\n",
    "    snafu_ = []\n",
    "    #while not d in [-2, -1, 0, 1, 2]:\n",
    "    while d > 2:\n",
    "        n = d % 5\n",
    "        if n >= 3:\n",
    "            n -= 5\n",
    "            d = (d // 5) +1\n",
    "        else:\n",
    "            d = d // 5\n",
    "        snafu_.append(n)\n",
    "    snafu_.append(d)\n",
    "\n",
    "    snafu_.reverse()\n",
    "    snafu = [decimal2snafu_map.get(digit) for digit in snafu_]\n",
    "    return ''.join(snafu)\n",
    "\n",
    "\n",
    "decimal = np.sum([snafu2decimal(line) for line in lines])\n",
    "print(f\"SNAFU number to supply to Bob's console: {decimal2snafu(decimal)}\")"
   ]
  }
 ],
 "metadata": {
  "kernelspec": {
   "display_name": "Python 3 (ipykernel)",
   "language": "python",
   "name": "python3"
  },
  "language_info": {
   "codemirror_mode": {
    "name": "ipython",
    "version": 3
   },
   "file_extension": ".py",
   "mimetype": "text/x-python",
   "name": "python",
   "nbconvert_exporter": "python",
   "pygments_lexer": "ipython3",
   "version": "3.11.0"
  }
 },
 "nbformat": 4,
 "nbformat_minor": 5
}
