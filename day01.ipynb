{
 "cells": [
  {
   "cell_type": "code",
   "execution_count": 33,
   "id": "64683b36",
   "metadata": {},
   "outputs": [],
   "source": [
    "# https://adventofcode.com/2021/day/1\n",
    "import numpy as np\n",
    "\n",
    "# test data.\n",
    "data_ = np.array([199, 200, 208, 210, 200, 207, 240, 269, 260, 263])\n",
    "\n",
    "# real data.\n",
    "with open(\"input.txt\") as f:\n",
    "    lines = f.readlines()\n",
    "data = [int(line) for line in lines]"
   ]
  },
  {
   "cell_type": "code",
   "execution_count": 42,
   "id": "d73b1e0a",
   "metadata": {},
   "outputs": [
    {
     "data": {
      "text/plain": [
       "1858"
      ]
     },
     "execution_count": 42,
     "metadata": {},
     "output_type": "execute_result"
    }
   ],
   "source": [
    "def larger_than_the_previous(x, slide_size=1):\n",
    "    x_slide = [np.sum(x[i:i + slide_size]) for i in range(len(x) - slide_size + 1)]\n",
    "    return np.sum(np.diff(x_slide) > 0)\n",
    "\n",
    "# part 1.\n",
    "larger_than_the_previous(data)\n",
    "\n",
    "# part 2.\n",
    "larger_than_the_previous(data, slide_size=3)"
   ]
  }
 ],
 "metadata": {
  "kernelspec": {
   "display_name": "Python 3",
   "language": "python",
   "name": "python3"
  },
  "language_info": {
   "codemirror_mode": {
    "name": "ipython",
    "version": 3
   },
   "file_extension": ".py",
   "mimetype": "text/x-python",
   "name": "python",
   "nbconvert_exporter": "python",
   "pygments_lexer": "ipython3",
   "version": "3.9.6"
  }
 },
 "nbformat": 4,
 "nbformat_minor": 5
}
