{
 "cells": [
  {
   "cell_type": "code",
   "execution_count": 35,
   "id": "64683b36",
   "metadata": {},
   "outputs": [],
   "source": [
    "# https://adventofcode.com/2021/day/2\n",
    "import numpy as np\n",
    "import matplotlib.pyplot as plt\n",
    "%matplotlib inline"
   ]
  },
  {
   "cell_type": "code",
   "execution_count": 52,
   "id": "23663dc9",
   "metadata": {},
   "outputs": [],
   "source": [
    "def load_commands(txt_path):\n",
    "    with open(txt_path) as f:\n",
    "        lines = f.read().strip().split('\\n')\n",
    "\n",
    "    directions = []\n",
    "    aims = []\n",
    "    aim = 0\n",
    "    for line in lines:\n",
    "        command, value = line.split(' ')\n",
    "        value = int(value)\n",
    "        \n",
    "        if command == 'forward':\n",
    "            directions.append([value, 0])\n",
    "        elif command == 'up':\n",
    "            aim -= value\n",
    "            directions.append([0, -value])\n",
    "        elif command == 'down':\n",
    "            aim += value\n",
    "            directions.append([0, value])\n",
    "        else:\n",
    "            directions.append([-1, -1])\n",
    "        \n",
    "        aims.append(aim)\n",
    "\n",
    "    return np.array(directions), np.array(aims)\n",
    "\n",
    "\n",
    "def disp_answer(position):\n",
    "    x = position[0]\n",
    "    y = position[1]\n",
    "    print(f'horizontal position: {x}')\n",
    "    print(f'depth: {y}')\n",
    "    print(f'answer to the quesion: {x * y}')\n",
    "    \n",
    "\n",
    "# get directions and aims.\n",
    "txt_path  = \"day02_input.txt\"\n",
    "directions, aims = load_commands(txt_path)"
   ]
  },
  {
   "cell_type": "code",
   "execution_count": 55,
   "id": "83369d64",
   "metadata": {},
   "outputs": [
    {
     "name": "stdout",
     "output_type": "stream",
     "text": [
      "horizontal position: 2011\n",
      "depth: 738\n",
      "answer to the quesion: 1484118\n"
     ]
    }
   ],
   "source": [
    "## part 1\n",
    "position_final = np.sum(directions, axis=0)\n",
    "disp_answer(position)"
   ]
  },
  {
   "cell_type": "code",
   "execution_count": 56,
   "id": "a16d6e64",
   "metadata": {},
   "outputs": [
    {
     "data": {
      "image/png": "[encoded data removed]",
      "text/plain": [
       "<Figure size 432x288 with 1 Axes>"
      ]
     },
     "metadata": {
      "needs_background": "light"
     },
     "output_type": "display_data"
    }
   ],
   "source": [
    "# plot the movement.\n",
    "position = np.array([0, 0])\n",
    "for direction in directions:\n",
    "    position += direction\n",
    "    plt.plot(position[0], position[1], 'bo-')"
   ]
  },
  {
   "cell_type": "code",
   "execution_count": 54,
   "id": "b26b6920",
   "metadata": {},
   "outputs": [
    {
     "name": "stdout",
     "output_type": "stream",
     "text": [
      "horizontal position: 2011\n",
      "depth: 727910\n",
      "answer to the quesion: 1463827010\n"
     ]
    }
   ],
   "source": [
    "## part2\n",
    "x = np.sum(directions[:, 0])\n",
    "y = np.sum(directions[:, 0] * aims)\n",
    "disp_answer([x, y])"
   ]
  }
 ],
 "metadata": {
  "kernelspec": {
   "display_name": "Python 3",
   "language": "python",
   "name": "python3"
  },
  "language_info": {
   "codemirror_mode": {
    "name": "ipython",
    "version": 3
   },
   "file_extension": ".py",
   "mimetype": "text/x-python",
   "name": "python",
   "nbconvert_exporter": "python",
   "pygments_lexer": "ipython3",
   "version": "3.9.6"
  }
 },
 "nbformat": 4,
 "nbformat_minor": 5
}
