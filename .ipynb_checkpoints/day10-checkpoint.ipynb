{
 "cells": [
  {
   "cell_type": "code",
   "execution_count": 1,
   "id": "94e48826",
   "metadata": {},
   "outputs": [],
   "source": [
    "# https://adventofcode.com/2021/day/10\n",
    "import numpy as np\n",
    "\n",
    "# the index of an close bracket is the index of a close bracket mulplied by -1.\n",
    "# so for example, '(' and ')' are 1 and -1. Same for '<' and '>' as 4 and -4.\n",
    "# therefore, when the summation of two indeces are 0, they are pairs.\n",
    "chunk_list     = ['', '(', '[', '{', '<', '>', '}', ']', ')']\n",
    "map_score      = {')': 3, ']': 57, '}': 1197, '>': 25137}\n",
    "map_completion = {')': 1, ']': 2, '}': 3, '>': 4}\n",
    "n_chunk_type   = len(map_score)\n",
    "\n",
    "\n",
    "def load_input(is_sample=True):\n",
    "    if is_sample:\n",
    "        txt_path = \"day10_sample.txt\"\n",
    "    else:\n",
    "        txt_path = \"day10.txt\"\n",
    "        \n",
    "    with open(txt_path) as f:\n",
    "        lines = f.read().strip().split('\\n')\n",
    "    return lines\n",
    "\n",
    "\n",
    "def chunk_index(chunk):\n",
    "    i = chunk_list.index(chunk)\n",
    "    \n",
    "    # to make the index of an close bracket = -1 x the index of a close bracket\n",
    "    if i > n_chunk_type:\n",
    "        i -= len(chunk_list)\n",
    "    \n",
    "    return i\n",
    "\n",
    "\n",
    "def process_chunks(chunks):\n",
    "    # dummy to avoid accessing outside of the range of buf.\n",
    "    buf = [-10]\n",
    "    errorcode = 0\n",
    "    for chunk in list(chunks):\n",
    "        i = chunk_index(chunk)\n",
    "        if i + buf[-1] == 0:\n",
    "            buf.pop()\n",
    "        elif i >= 0 and i <= n_chunk_type:\n",
    "            buf.append(i)\n",
    "        else:\n",
    "            errorcode  = -1\n",
    "            break\n",
    "    return chunk, buf[1:], errorcode\n",
    "\n",
    "\n",
    "# not needed for the assignment.\n",
    "# but to display the same error message like the question.\n",
    "def error_message(chunk, i, buf):\n",
    "    print(f\"expected {chunk_list[-buf[-1]]} but found {chunk} instead.\")\n",
    "\n",
    "\n",
    "def get_completion_strings(buf):\n",
    "    buf.reverse()\n",
    "    return [chunk_list[-b] for b in buf]\n",
    "\n",
    "\n",
    "def calc_completion_score(completion_strings):\n",
    "    score = 0\n",
    "    for c in completion_strings:\n",
    "        score = score * 5 + map_completion.get(c, c)\n",
    "    return score"
   ]
  },
  {
   "cell_type": "code",
   "execution_count": 2,
   "id": "8fc31cd0",
   "metadata": {},
   "outputs": [
    {
     "name": "stdout",
     "output_type": "stream",
     "text": [
      "syntax error score: 366027\n",
      "the middle score: 1118645287\n"
     ]
    }
   ],
   "source": [
    "lines = load_input(is_sample=False)\n",
    "\n",
    "errors = []\n",
    "completion_scores = []\n",
    "for chunks in lines:\n",
    "    chunk, buf, errorcode = process_chunks(chunks)\n",
    "    if errorcode == -1:\n",
    "        errors.append(chunk)\n",
    "    else:\n",
    "        completion_strings = get_completion_strings(buf)\n",
    "        completion_scores.append(calc_completion_score(completion_strings))\n",
    "\n",
    "## part 1.\n",
    "syntax_error_scores = np.sum([map_score.get(e, e) for e in errors])\n",
    "print(f'syntax error score: {syntax_error_scores}')\n",
    "\n",
    "## part 2.\n",
    "median_score = int(np.median(completion_scores))\n",
    "print(f'the middle score: {median_score}')"
   ]
  }
 ],
 "metadata": {
  "kernelspec": {
   "display_name": "Python 3",
   "language": "python",
   "name": "python3"
  },
  "language_info": {
   "codemirror_mode": {
    "name": "ipython",
    "version": 3
   },
   "file_extension": ".py",
   "mimetype": "text/x-python",
   "name": "python",
   "nbconvert_exporter": "python",
   "pygments_lexer": "ipython3",
   "version": "3.9.7"
  }
 },
 "nbformat": 4,
 "nbformat_minor": 5
}
