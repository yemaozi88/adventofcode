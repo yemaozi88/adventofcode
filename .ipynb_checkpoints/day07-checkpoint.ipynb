{
 "cells": [
  {
   "cell_type": "code",
   "execution_count": 2,
   "id": "d8afb993",
   "metadata": {},
   "outputs": [],
   "source": [
    "# https://adventofcode.com/2021/day/7\n",
    "import numpy as np\n",
    "import matplotlib.pyplot as plt\n",
    "%matplotlib inline"
   ]
  },
  {
   "cell_type": "code",
   "execution_count": 3,
   "id": "9ae16af1",
   "metadata": {},
   "outputs": [],
   "source": [
    "# test input.\n",
    "#y = [16,1,2,0,4,2,7,1,2,14]\n",
    "# real input.\n",
    "#y = np.loadtxt(\"day07.txt\")\n",
    "with open(\"day07.txt\") as f:\n",
    "    y = f.read().strip().split(',')\n",
    "y = np.array(y).astype(int)"
   ]
  },
  {
   "cell_type": "code",
   "execution_count": 26,
   "id": "2065b02b",
   "metadata": {},
   "outputs": [],
   "source": [
    "def fuel_required(i, is_part1=True):\n",
    "    if is_part1:\n",
    "        fuel = np.abs(y - i)\n",
    "    else:\n",
    "        y_ = [np.abs(x - i) for x in y]\n",
    "        fuel = [x * (x+1) / 2 for x in y_]        \n",
    "    return np.sum(fuel).astype(int)\n",
    "\n",
    "\n",
    "def fuel_total(y, is_part1=True):\n",
    "    x = [fuel_required(i, is_part1=is_part1) for i in range(np.min(y), np.max(y)+1)]\n",
    "    return np.min(x)"
   ]
  },
  {
   "cell_type": "code",
   "execution_count": 27,
   "id": "08d5f357",
   "metadata": {},
   "outputs": [
    {
     "name": "stdout",
     "output_type": "stream",
     "text": [
      "answer: 340052\n",
      "answer: 92948968\n"
     ]
    }
   ],
   "source": [
    "## part 1\n",
    "print(f'answer: {fuel_total(y)}')\n",
    "\n",
    "## part 2\n",
    "print(f'answer: {fuel_total(y, is_part1=False)}')"
   ]
  }
 ],
 "metadata": {
  "kernelspec": {
   "display_name": "Python 3",
   "language": "python",
   "name": "python3"
  },
  "language_info": {
   "codemirror_mode": {
    "name": "ipython",
    "version": 3
   },
   "file_extension": ".py",
   "mimetype": "text/x-python",
   "name": "python",
   "nbconvert_exporter": "python",
   "pygments_lexer": "ipython3",
   "version": "3.9.6"
  }
 },
 "nbformat": 4,
 "nbformat_minor": 5
}
