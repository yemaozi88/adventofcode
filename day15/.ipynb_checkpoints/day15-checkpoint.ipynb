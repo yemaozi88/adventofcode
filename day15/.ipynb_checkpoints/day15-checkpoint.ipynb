{
 "cells": [
  {
   "cell_type": "code",
   "execution_count": 1,
   "id": "0b02d5b5",
   "metadata": {},
   "outputs": [],
   "source": [
    "# https://adventofcode.com/2021/day/15\n",
    "import numpy as np\n",
    "import matplotlib.pyplot as plt"
   ]
  },
  {
   "cell_type": "code",
   "execution_count": 2,
   "id": "be6a6300",
   "metadata": {},
   "outputs": [],
   "source": [
    "def load_input(txt_path):\n",
    "#     if data_type == 0:\n",
    "#         txt_path = \"day15_sample.txt\"\n",
    "#     elif data_type == 1:\n",
    "#         txt_path = \"day15_sample2.txt\"\n",
    "#     else:\n",
    "#         txt_path = \"day15.txt\"\n",
    "\n",
    "    lines = np.loadtxt(txt_path, dtype=str)\n",
    "    data  = np.array([list(line) for line in lines]).astype(int)\n",
    "    return data"
   ]
  },
  {
   "cell_type": "code",
   "execution_count": 3,
   "id": "0fc549c7",
   "metadata": {},
   "outputs": [],
   "source": [
    "def get_directions(data):\n",
    "    # pad data.\n",
    "    data_ = np.pad(data, ((1, 0), (1, 0)), 'constant', constant_values = 100000)\n",
    "    #print(data_)\n",
    "    r_max, c_max = np.shape(data_)\n",
    "    \n",
    "    #path: 1 horizontal, 2 vertical\n",
    "    directions = np.zeros(np.shape(data))\n",
    "    \n",
    "    ## r = 1\n",
    "    # previous risk.\n",
    "    risk_r_1 = data_[0, :].copy()\n",
    "    risk_r_1[0] = 0\n",
    "    #print(data_)\n",
    "    for r in range(1, r_max):\n",
    "        # init current risk.\n",
    "        risk_r = data_[r, :].copy()\n",
    "\n",
    "        for c in range(1, c_max):\n",
    "            # possible directions.\n",
    "            window = [risk_r[c-1]+data_[r, c], risk_r_1[c]+data_[r, c]]\n",
    "\n",
    "            # best path\n",
    "            directions[r-1, c-1] = np.argmin(window)+1\n",
    "            if r == 1 and c == 1:\n",
    "                risk_r[c] = data[0, 0]\n",
    "            else:\n",
    "                risk_r[c] = np.min(window)\n",
    "\n",
    "        risk_r_1 = risk_r.copy()\n",
    "        \n",
    "    return directions.astype(int)\n",
    "\n",
    "\n",
    "def get_best_path(directions):\n",
    "    r_max, c_max = np.shape(directions)\n",
    "    best_path = [[r_max-1, c_max-1]]\n",
    "    r = r_max-1\n",
    "    c = c_max-1\n",
    "    while (r>0 or c>0):\n",
    "        direction = directions[r, c]\n",
    "        if direction == 1:\n",
    "            c -= 1\n",
    "        else:\n",
    "            r -= 1\n",
    "        best_path.append([r, c])\n",
    "    return best_path\n",
    "        \n",
    "        \n",
    "def draw_path(path):\n",
    "    field = np.zeros((path[0][0]+1, path[0][1]+1)).astype(int)\n",
    "    for x, y in path:\n",
    "        field[x, y] = 1\n",
    "    return field\n",
    "\n",
    "\n",
    "def disp_field(field):\n",
    "    plt.imshow(field, cmap='hot', interpolation='nearest')\n",
    "    plt.show()"
   ]
  },
  {
   "cell_type": "code",
   "execution_count": 4,
   "id": "37f73ca6",
   "metadata": {},
   "outputs": [],
   "source": [
    "def tile_n(data, n):\n",
    "    data_ = data + n\n",
    "    data_ = np.where(data_>9, data_-9, data_)\n",
    "    return data_\n",
    "\n",
    "\n",
    "def five_by_five(data):\n",
    "    ## five-times-as-large version\n",
    "    # copy tile in axis=1\n",
    "    data_ = data.copy()\n",
    "    tile  = data.copy()\n",
    "    for c in range(1, 5):\n",
    "        tile_ = tile_n(tile, c)\n",
    "        data_ = np.hstack((data_, tile_))\n",
    "\n",
    "    # copy tile (=output of above) in axis=0\n",
    "    tile = data_.copy()\n",
    "    for r in range(1, 5):\n",
    "        tile_ = tile_n(tile, r)\n",
    "        data_ = np.vstack((data_, tile_))\n",
    "        \n",
    "    return data_"
   ]
  },
  {
   "cell_type": "code",
   "execution_count": 5,
   "id": "d6be5340",
   "metadata": {},
   "outputs": [
    {
     "ename": "NameError",
     "evalue": "name 'disp_path' is not defined",
     "output_type": "error",
     "traceback": [
      "\u001b[0;31m---------------------------------------------------------------------------\u001b[0m",
      "\u001b[0;31mNameError\u001b[0m                                 Traceback (most recent call last)",
      "\u001b[0;32m<ipython-input-5-e7950a213f84>\u001b[0m in \u001b[0;36m<module>\u001b[0;34m\u001b[0m\n\u001b[1;32m      8\u001b[0m \u001b[0mdirections\u001b[0m \u001b[0;34m=\u001b[0m \u001b[0mget_directions\u001b[0m\u001b[0;34m(\u001b[0m\u001b[0mdata\u001b[0m\u001b[0;34m)\u001b[0m\u001b[0;34m\u001b[0m\u001b[0;34m\u001b[0m\u001b[0m\n\u001b[1;32m      9\u001b[0m \u001b[0mbest_path\u001b[0m \u001b[0;34m=\u001b[0m \u001b[0mget_best_path\u001b[0m\u001b[0;34m(\u001b[0m\u001b[0mdirections\u001b[0m\u001b[0;34m)\u001b[0m\u001b[0;34m\u001b[0m\u001b[0;34m\u001b[0m\u001b[0m\n\u001b[0;32m---> 10\u001b[0;31m \u001b[0mfield\u001b[0m \u001b[0;34m=\u001b[0m \u001b[0mdisp_path\u001b[0m\u001b[0;34m(\u001b[0m\u001b[0mbest_path\u001b[0m\u001b[0;34m)\u001b[0m\u001b[0;34m\u001b[0m\u001b[0;34m\u001b[0m\u001b[0m\n\u001b[0m\u001b[1;32m     11\u001b[0m \u001b[0;31m#print(field)\u001b[0m\u001b[0;34m\u001b[0m\u001b[0;34m\u001b[0m\u001b[0m\n\u001b[1;32m     12\u001b[0m \u001b[0;34m\u001b[0m\u001b[0m\n",
      "\u001b[0;31mNameError\u001b[0m: name 'disp_path' is not defined"
     ]
    }
   ],
   "source": [
    "## part 1&2.\n",
    "#data = load_input(\"day15_sample2_tile.txt\")\n",
    "data = load_input(\"day15.txt\")\n",
    "# only for part 2\n",
    "data = five_by_five(data)\n",
    "\n",
    "## dtw\n",
    "directions = get_directions(data)\n",
    "best_path = get_best_path(directions)\n",
    "field = disp_field(best_path)\n",
    "#print(field)\n",
    "\n",
    "# starting point is not counted.\n",
    "total_risk = np.sum([data[x, y] for x, y in best_path]) - data[0, 0]\n",
    "print(f\"total risk: {total_risk}\")"
   ]
  }
 ],
 "metadata": {
  "kernelspec": {
   "display_name": "Python 3",
   "language": "python",
   "name": "python3"
  },
  "language_info": {
   "codemirror_mode": {
    "name": "ipython",
    "version": 3
   },
   "file_extension": ".py",
   "mimetype": "text/x-python",
   "name": "python",
   "nbconvert_exporter": "python",
   "pygments_lexer": "ipython3",
   "version": "3.9.7"
  }
 },
 "nbformat": 4,
 "nbformat_minor": 5
}
