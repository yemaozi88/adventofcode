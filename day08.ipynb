{
 "cells": [
  {
   "cell_type": "code",
   "execution_count": 1,
   "id": "d8afb993",
   "metadata": {},
   "outputs": [],
   "source": [
    "# https://adventofcode.com/2021/day/8\n",
    "import numpy as np\n",
    "import matplotlib.pyplot as plt\n",
    "%matplotlib inline"
   ]
  },
  {
   "cell_type": "code",
   "execution_count": 2,
   "id": "4b1d59e3",
   "metadata": {},
   "outputs": [
    {
     "name": "stdout",
     "output_type": "stream",
     "text": [
      "0: 6\n",
      "1: 2\n",
      "2: 5\n",
      "3: 5\n",
      "4: 4\n",
      "5: 5\n",
      "6: 6\n",
      "7: 3\n",
      "8: 7\n",
      "9: 6\n"
     ]
    },
    {
     "data": {
      "text/plain": [
       "{0: 6, 1: 2, 2: 5, 3: 5, 4: 4, 5: 5, 6: 6, 7: 3, 8: 7, 9: 6}"
      ]
     },
     "execution_count": 2,
     "metadata": {},
     "output_type": "execute_result"
    }
   ],
   "source": [
    "digits_default_str = {\n",
    "     0: 'abcefg', \n",
    "     1: 'cf',\n",
    "     2: 'acdeg',\n",
    "     3: 'acdfg', \n",
    "     4: 'bcdf', \n",
    "     5: 'abdfg', \n",
    "     6: 'abdefg', \n",
    "     7: 'acf', \n",
    "     8: 'abcdefg', \n",
    "     9: 'abcdfg'\n",
    "}\n",
    "digits_default_len = {}\n",
    "for k, v in digits_default_str.items():\n",
    "    digits_default_len[k] = len(v)\n",
    "    print(f'{k}: {len(v)}')\n",
    "digits_default_len"
   ]
  },
  {
   "cell_type": "code",
   "execution_count": 3,
   "id": "4f6e2d91",
   "metadata": {},
   "outputs": [
    {
     "data": {
      "text/plain": [
       "3"
      ]
     },
     "execution_count": 3,
     "metadata": {},
     "output_type": "execute_result"
    }
   ],
   "source": [
    "digits_default_len_list = list(digits_default_len.values())\n",
    "digits_default_len_list.count(5)"
   ]
  },
  {
   "cell_type": "code",
   "execution_count": 4,
   "id": "8b842e7f",
   "metadata": {},
   "outputs": [],
   "source": [
    "# sample input.\n",
    "lines = ['acedgfb cdfbe gcdfa fbcad dab cefabd cdfgeb eafb cagedb ab | cdfeb fcadb cdfeb cdbaf']\n",
    "\n",
    "# # test input.\n",
    "# lines = [\n",
    "#     'be cfbegad cbdgef fgaecd cgeb fdcge agebfd fecdb fabcd edb | fdgacbe cefdb cefbgd gcbe', \n",
    "#     'edbfga begcd cbg gc gcadebf fbgde acbgfd abcde gfcbed gfec | fcgedb cgb dgebacf gc', \n",
    "#     'fgaebd cg bdaec gdafb agbcfd gdcbef bgcad gfac gcb cdgabef | cg cg fdcagb cbg', \n",
    "#     'fbegcd cbd adcefb dageb afcb bc aefdc ecdab fgdeca fcdbega | efabcd cedba gadfec cb', \n",
    "#     'aecbfdg fbg gf bafeg dbefa fcge gcbea fcaegb dgceab fcbdga | gecf egdcabf bgf bfgea', \n",
    "#     'fgeab ca afcebg bdacfeg cfaedg gcfdb baec bfadeg bafgc acf | gebdcfa ecba ca fadegcb', \n",
    "#     'dbcfg fgd bdegcaf fgec aegbdf ecdfab fbedc dacgb gdcebf gf | cefg dcbef fcge gbcadfe', \n",
    "#     'bdfegc cbegaf gecbf dfcage bdacg ed bedf ced adcbefg gebcd | ed bcgafe cdgba cbgef', \n",
    "#     'egadfb cdbfeg cegd fecab cgb gbdefca cg fgcdab egfdb bfceg | gbdfcae bgc cg cgb', \n",
    "#     'gcafb gcf dcaebfg ecagb gf abcdeg gaef cafbge fdbac fegbdc | fgae cfgab fg bagce']\n",
    "\n",
    "# # real input.\n",
    "# with open(\"day08.txt\") as f:\n",
    "#     lines = f.read().strip().split('\\n')"
   ]
  },
  {
   "cell_type": "code",
   "execution_count": 5,
   "id": "b4ee546e",
   "metadata": {},
   "outputs": [],
   "source": [
    "x = [line.split('|')[0] for line in lines]\n",
    "combinations = [x_.split(' ')[:10] for x_ in x] \n",
    "\n",
    "x = [line.split('|')[1] for line in lines]\n",
    "outputs = [x_.split(' ')[1:] for x_ in x] "
   ]
  },
  {
   "cell_type": "code",
   "execution_count": 20,
   "id": "2fe21b89",
   "metadata": {},
   "outputs": [],
   "source": [
    "len_unique = [1, 4, 7, 8]\n",
    "len_5 = [2, 3, 5]\n",
    "len_6 = [0, 6, 9]\n",
    "\n",
    "def search_digit(combination, i):\n",
    "    return [c for c in combination if len(c)==digits_default_len[i]]\n",
    "\n",
    "# def search_len_lines(combinations, i):\n",
    "#     c_x_all = []\n",
    "#     for c in combinations:\n",
    "#         c_x = search_len(c, i)\n",
    "#         c_x_all += c_x\n",
    "#         c_x_all = list(set(c_x_all))\n",
    "#         if len(c_x_all) == digits_default_len_list.count(i):\n",
    "#             break\n",
    "#     return c_x\n",
    "\n",
    "def broken2default(digit_broken, translation_key):\n",
    "    x = [translation_key.get(d, d) for d in digit_broken]\n",
    "    x.sort()\n",
    "    return ''.join(x)\n",
    "\n",
    "def diff_str(str1, str2):\n",
    "#    diff_ = [a for a in str1 if not a in str2]\n",
    "    diff_1 = list(set(str1) - set(str2))\n",
    "    diff_2 = list(set(str2) - set(str1))\n",
    "    diff_  = diff_1 + diff_2  \n",
    "    return diff_\n",
    "\n",
    "def overlap_list(lst1, lst2):\n",
    "    return list(set(lst1) & set(lst2))\n",
    "\n",
    "def is_in_string(letters, string):\n",
    "    return all([True if i in string else False for i in list(letters)])\n",
    "\n",
    "\n",
    "# not used.\n",
    "def sort_letters(letters):\n",
    "    letter_list = list(letters)\n",
    "    letter_list.sort()\n",
    "    return ''.join(letter_list)"
   ]
  },
  {
   "cell_type": "code",
   "execution_count": 7,
   "id": "1c6a6f89",
   "metadata": {},
   "outputs": [
    {
     "data": {
      "text/plain": [
       "0"
      ]
     },
     "execution_count": 7,
     "metadata": {},
     "output_type": "execute_result"
    }
   ],
   "source": [
    "## part 1.\n",
    "digits_lens = []\n",
    "for digits in outputs:\n",
    "    digits_len = [len(d) for d in digits]\n",
    "    digits_lens.extend(digits_len)\n",
    "#print(digits_lens)\n",
    "total = 0\n",
    "for i in [1, 4, 7, 8]:\n",
    "    default_len = digits_default_len[i]\n",
    "    total += digits_lens.count(default_len)\n",
    "total"
   ]
  },
  {
   "cell_type": "markdown",
   "id": "c3779eaf",
   "metadata": {},
   "source": [
    "## part 2"
   ]
  },
  {
   "cell_type": "code",
   "execution_count": 56,
   "id": "2f245920",
   "metadata": {},
   "outputs": [
    {
     "name": "stdout",
     "output_type": "stream",
     "text": [
      "2: acdeg\n",
      "3: acdfg\n",
      "5: abdfg\n"
     ]
    }
   ],
   "source": [
    "for i in len_5:\n",
    "    print(f\"{i}: {digits_default_str[i]}\")"
   ]
  },
  {
   "cell_type": "code",
   "execution_count": 39,
   "id": "e39df7fe",
   "metadata": {},
   "outputs": [
    {
     "name": "stdout",
     "output_type": "stream",
     "text": [
      "combination: ['acedgfb', 'cdfbe', 'gcdfa', 'fbcad', 'dab', 'cefabd', 'cdfgeb', 'eafb', 'cagedb', 'ab']\n",
      "{1: 'ab', 4: 'eafb', 7: 'dab', 8: 'acedgfb'}\n",
      "comparing 1 and 7, a became d\n",
      "c,f became ['a', 'b']\n"
     ]
    }
   ],
   "source": [
    "combination = combinations[0]\n",
    "print(f\"combination: {combination}\")\n",
    "\n",
    "# 1 has only 2 digits.\n",
    "digits_broken_str = {}\n",
    "for i in len_unique:\n",
    "    digits_broken_str[i] = search_digit(combination, i)[0]\n",
    "print(digits_broken_str)\n",
    "\n",
    "a = diff_str(digits_broken_str[7], digits_broken_str[1])\n",
    "a = a[0]\n",
    "\n",
    "cf = list(digits_broken_str[1])\n",
    "print(f\"comparing 1 and 7, a became {a[0]}\")\n",
    "print(f\"c,f became {cf}\")"
   ]
  },
  {
   "cell_type": "code",
   "execution_count": 53,
   "id": "62f3239b",
   "metadata": {},
   "outputs": [
    {
     "name": "stdout",
     "output_type": "stream",
     "text": [
      "d,g became ['c', 'f']\n",
      "{1: 'ab', 4: 'eafb', 7: 'dab', 8: 'acedgfb', 3: 'fbcad'}\n"
     ]
    }
   ],
   "source": [
    "# among the strings with the length of 5\n",
    "# the one which includes digits_broken_str[7] is digits_broken_str[3]. \n",
    "x = search_digit(combination, 2)\n",
    "digits_broken_str[3] = [\n",
    "    x_ for x_ in x if is_in_string(digits_broken_str[7], x_)][0]\n",
    "\n",
    "dg = diff_str(digits_broken_str[3], digits_broken_str[7])\n",
    "print(f\"d,g became {dg}\")\n",
    "print(digits_broken_str)"
   ]
  },
  {
   "cell_type": "code",
   "execution_count": 49,
   "id": "1beda509",
   "metadata": {},
   "outputs": [
    {
     "name": "stdout",
     "output_type": "stream",
     "text": [
      "b,d became ['e', 'f']\n"
     ]
    },
    {
     "data": {
      "text/plain": [
       "{'d': 'a', 'e': 'b', 'f': 'd', 'c': 'g'}"
      ]
     },
     "execution_count": 49,
     "metadata": {},
     "output_type": "execute_result"
    }
   ],
   "source": [
    "# 4: bcdf: cf + bd\n",
    "bd = diff_str(digits_broken_str[4], cf)\n",
    "print(f\"b,d became {bd}\")\n",
    "\n",
    "# as dg is known...\n",
    "d = overlap_list(dg, bd)[0]\n",
    "g = diff_str(dg, d)[0]\n",
    "b = diff_str(bd, d)[0]\n"
   ]
  },
  {
   "cell_type": "code",
   "execution_count": 55,
   "id": "bf94cdcf",
   "metadata": {},
   "outputs": [
    {
     "data": {
      "text/plain": [
       "'eafb'"
      ]
     },
     "execution_count": 55,
     "metadata": {},
     "output_type": "execute_result"
    }
   ],
   "source": [
    "#0: abcefg\n",
    "#6: abdefg\n",
    "#9: abcdfg\n",
    "# until now, a, [b,g] and [c,f] are known.\n",
    "# 0: abcefg = a + bg + cf + e\n",
    "# 6: abdefg = a + bg + def\n",
    "# 9: abcdfg = a + bg + cf + d\n",
    "\n",
    "## so far, a, b, d, g, cf are known...\n",
    "# 8: abcdefg = a + b + cf + d + g + e\n",
    "known_str = a + b + ''.join(cf) + d + g\n",
    "e = diff_str(digits_broken_str[8], known_str)[0]\n"
   ]
  },
  {
   "cell_type": "code",
   "execution_count": 69,
   "id": "71f6490f",
   "metadata": {},
   "outputs": [
    {
     "data": {
      "text/plain": [
       "{'d': 'a', 'e': 'b', 'a': 'c', 'f': 'd', 'g': 'e', 'b': 'f', 'c': 'g'}"
      ]
     },
     "execution_count": 69,
     "metadata": {},
     "output_type": "execute_result"
    }
   ],
   "source": [
    "# 2: acdeg\n",
    "# 3: acdfg\n",
    "# 5: abdfg\n",
    "# diff(2, 3) is e and f\n",
    "# diff(3, 5) is c and b\n",
    "x = search_digit(combination, 2)\n",
    "# remove 3\n",
    "x.remove(digits_broken_str[3])\n",
    "y = diff_str(x[0], digits_broken_str[3])\n",
    "if e in y:\n",
    "    digits_broken_str[2] = x[0]\n",
    "    digits_broken_str[5] = x[1]\n",
    "else:\n",
    "    digits_broken_str[2] = x[1]\n",
    "    digits_broken_str[5] = x[0]\n",
    "y = diff_str(digits_broken_str[2], digits_broken_str[3])\n",
    "y.remove(e)\n",
    "f = y[0]\n",
    "\n",
    "y = diff_str(digits_broken_str[3], digits_broken_str[5])\n",
    "y.remove(b)\n",
    "c = y[0]\n",
    "\n",
    "map_broken2default = {a: 'a'}\n",
    "map_broken2default[b] = 'b' \n",
    "map_broken2default[c] = 'c'\n",
    "map_broken2default[d] = 'd' \n",
    "map_broken2default[e] = 'e'\n",
    "map_broken2default[f] = 'f'\n",
    "map_broken2default[g] = 'g' \n",
    "\n",
    "map_broken2default"
   ]
  }
 ],
 "metadata": {
  "kernelspec": {
   "display_name": "Python 3",
   "language": "python",
   "name": "python3"
  },
  "language_info": {
   "codemirror_mode": {
    "name": "ipython",
    "version": 3
   },
   "file_extension": ".py",
   "mimetype": "text/x-python",
   "name": "python",
   "nbconvert_exporter": "python",
   "pygments_lexer": "ipython3",
   "version": "3.9.6"
  }
 },
 "nbformat": 4,
 "nbformat_minor": 5
}
