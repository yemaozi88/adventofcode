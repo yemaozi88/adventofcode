{
 "cells": [
  {
   "cell_type": "code",
   "execution_count": 1,
   "id": "e639b029-0779-4c2f-8344-ef94eeff25a5",
   "metadata": {},
   "outputs": [],
   "source": [
    "import os\n",
    "import sys\n",
    "from collections import Counter\n",
    "\n",
    "import numpy as np"
   ]
  },
  {
   "cell_type": "code",
   "execution_count": 2,
   "id": "c87665cf-b9dd-40e4-b2bb-5eda11468f18",
   "metadata": {},
   "outputs": [],
   "source": [
    "## load data\n",
    "with open('input.txt') as fp:\n",
    "    lines = fp.read().strip().split('\\n')\n",
    "\n",
    "data_list = [line.split('   ') for line in lines]\n",
    "data = np.array(data_list).astype('int')"
   ]
  },
  {
   "cell_type": "code",
   "execution_count": 3,
   "id": "a243f8b0-db5e-4718-9c6e-a8a1daf1e73f",
   "metadata": {},
   "outputs": [],
   "source": [
    "n_rows, n_cols = np.shape(data)\n",
    "data_sorted = np.zeros((1, n_rows)).astype('int')\n",
    "for c in range(n_cols):\n",
    "    row = np.sort(data[:, c])\n",
    "    data_sorted = np.vstack((data_sorted, row))\n",
    "data_sorted = data_sorted[1:, :].T"
   ]
  },
  {
   "cell_type": "code",
   "execution_count": 4,
   "id": "66a44c36-d28b-4081-9ffb-b8949a3089f3",
   "metadata": {},
   "outputs": [
    {
     "name": "stdout",
     "output_type": "stream",
     "text": [
      "total distance: 2166959\n"
     ]
    }
   ],
   "source": [
    "## part 1.\n",
    "total_distance = np.sum(np.abs(data_sorted[:, 0] - data_sorted[:, 1]))\n",
    "print(f'total distance: {total_distance}')"
   ]
  },
  {
   "cell_type": "code",
   "execution_count": 5,
   "id": "a10600a2-16ed-4493-9f52-d320cb9e4f20",
   "metadata": {},
   "outputs": [
    {
     "name": "stdout",
     "output_type": "stream",
     "text": [
      "similarity score: 23741109\n"
     ]
    }
   ],
   "source": [
    "## part 2.\n",
    "col1 = data[:, 0]\n",
    "col2 = data[:, 1]\n",
    "counter = Counter(col2)\n",
    "similarity_score = 0\n",
    "for r in col1:\n",
    "    similarity_score += r * counter[r]\n",
    "print(f'similarity score: {similarity_score}')"
   ]
  }
 ],
 "metadata": {
  "kernelspec": {
   "display_name": "Python 3 (ipykernel)",
   "language": "python",
   "name": "python3"
  },
  "language_info": {
   "codemirror_mode": {
    "name": "ipython",
    "version": 3
   },
   "file_extension": ".py",
   "mimetype": "text/x-python",
   "name": "python",
   "nbconvert_exporter": "python",
   "pygments_lexer": "ipython3",
   "version": "3.11.5"
  }
 },
 "nbformat": 4,
 "nbformat_minor": 5
}
