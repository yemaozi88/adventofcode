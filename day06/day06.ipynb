{
 "cells": [
  {
   "cell_type": "code",
   "execution_count": 1,
   "id": "64683b36",
   "metadata": {},
   "outputs": [],
   "source": [
    "# https://adventofcode.com/2021/day/6\n",
    "import time\n",
    "\n",
    "import pandas as pd\n",
    "import numpy as np\n",
    "import matplotlib.pyplot as plt\n",
    "%matplotlib inline"
   ]
  },
  {
   "cell_type": "code",
   "execution_count": 8,
   "id": "483c2ce9",
   "metadata": {},
   "outputs": [],
   "source": [
    "t_pregnancy = 7\n",
    "n_max = 9\n",
    "\n",
    "\n",
    "def load_input(is_sample=False):\n",
    "    if is_sample:\n",
    "        ages = [3, 4, 3, 1, 2]\n",
    "    else:\n",
    "        ages = [3,4,3,1,2,1,5,1,1,1,1,4,1,2,1,1,2,1,1,1,3,4,4,4,1,3,2,1,3,4,1,1,3,4,2,5,5,3,3,3,5,1,4,1,2,3,1,1,1,4,1,4,1,5,3,3,1,4,1,5,1,2,2,1,1,5,5,2,5,1,1,1,1,3,1,4,1,1,1,4,1,1,1,5,2,3,5,3,4,1,1,1,1,1,2,2,1,1,1,1,1,1,5,5,1,3,3,1,2,1,3,1,5,1,1,4,1,1,2,4,1,5,1,1,3,3,3,4,2,4,1,1,5,1,1,1,1,4,4,1,1,1,3,1,1,2,1,3,1,1,1,1,5,3,3,2,2,1,4,3,3,2,1,3,3,1,2,5,1,3,5,2,2,1,1,1,1,5,1,2,1,1,3,5,4,2,3,1,1,1,4,1,3,2,1,5,4,5,1,4,5,1,3,3,5,1,2,1,1,3,3,1,5,3,1,1,1,3,2,5,5,1,1,4,2,1,2,1,1,5,5,1,4,1,1,3,1,5,2,5,3,1,5,2,2,1,1,5,1,5,1,2,1,3,1,1,1,2,3,2,1,4,1,1,1,1,5,4,1,4,5,1,4,3,4,1,1,1,1,2,5,4,1,1,3,1,2,1,1,2,1,1,1,2,1,1,1,1,1,4]\n",
    "    \n",
    "    return np.array(ages)  \n",
    "\n",
    "\n",
    "def next_day(ages):    \n",
    "    n_child = np.sum(ages == 0)\n",
    "    \n",
    "    ages -= 1\n",
    "    ages = np.where(ages==-1, 6, ages)\n",
    "    #ages = update_age(ages)\n",
    "    \n",
    "    if n_child > 0:\n",
    "        #ages = np.append(ages, np.ones((1, n_child))*8)\n",
    "        ages = np.append(ages, np.tile(8, (1, n_child)))\n",
    "    \n",
    "    return ages.astype(int)\n",
    "\n",
    "# I thought that it is faster than np.where\n",
    "# but it wasn't.\n",
    "def update_age(ages):\n",
    "    ages_ = np.copy(ages)\n",
    "    ages_[ages==-1] = 6\n",
    "    return ages_\n",
    "\n",
    "\n",
    "def after_n_days(ages, n):\n",
    "    for i in range(n):\n",
    "        ages = next_day(ages)\n",
    "    return ages\n",
    "\n",
    "\n",
    "def after_n_days_each(n):\n",
    "    breed = {}\n",
    "\n",
    "    for i in range(7):\n",
    "        ages = np.array([i])\n",
    "        ages = after_n_days(ages, n) \n",
    "        breed[i] = len(ages)\n",
    "    return breed\n",
    "\n",
    "\n",
    "## use count, instead of real array.\n",
    "def count_ages(ages):\n",
    "    c = {}\n",
    "    for i in range(n_max):\n",
    "        c[i] = list(ages).count(i)\n",
    "    return c\n",
    "\n",
    "\n",
    "def next_day_count(c):    \n",
    "    n_child = c[0]\n",
    "\n",
    "    for i in range(1, n_max):\n",
    "        c[i-1] = c[i]\n",
    "    c[6] += n_child\n",
    "    c[8] = n_child\n",
    "\n",
    "    return c\n",
    "\n",
    "\n",
    "def after_n_days_count(c, n):\n",
    "    for i in range(n):\n",
    "        c = next_day_count(c)\n",
    "    return c\n",
    "\n",
    "\n",
    "def after_n_days2(ages, breed):\n",
    "    return np.sum([breed[a] for a in ages])"
   ]
  },
  {
   "cell_type": "code",
   "execution_count": 12,
   "id": "3f0bac0a",
   "metadata": {},
   "outputs": [
    {
     "data": {
      "text/plain": [
       "371379"
      ]
     },
     "execution_count": 12,
     "metadata": {},
     "output_type": "execute_result"
    }
   ],
   "source": [
    "ages = load_input()\n",
    "c = count_ages(ages)\n",
    "\n",
    "## part 1\n",
    "c = after_n_days_count(c, 80)\n",
    "## part 2\n",
    "#c = after_n_days_count(c, 256)\n",
    "\n",
    "sum(c.values())"
   ]
  },
  {
   "cell_type": "markdown",
   "id": "9525a1b6",
   "metadata": {},
   "source": [
    "## [experiments] can we use recursive function?"
   ]
  },
  {
   "cell_type": "code",
   "execution_count": 9,
   "id": "20cfa67a",
   "metadata": {},
   "outputs": [
    {
     "name": "stdout",
     "output_type": "stream",
     "text": [
      "fish 0 becomes 107 fishes.\n",
      "fish 1 becomes 106 fishes.\n",
      "fish 2 becomes 86 fishes.\n",
      "fish 3 becomes 86 fishes.\n",
      "fish 4 becomes 71 fishes.\n",
      "fish 5 becomes 70 fishes.\n",
      "fish 6 becomes 64 fishes.\n"
     ]
    }
   ],
   "source": [
    "n = 50\n",
    "ages = load_input()\n",
    "#time0 = time.time()\n",
    "breed = {}\n",
    "time0 = time.time()\n",
    "#for i in [0]:\n",
    "for i in range(t_pregnancy):\n",
    "    ages = np.array([i])\n",
    "    ages = after_n_days(ages, n) \n",
    "    breed[i] = len(ages)\n",
    "    print(f'fish {i} becomes {breed[i]} fishes.')\n",
    "#    print(f'elapsed time: {time.time() - time0} [s]')"
   ]
  },
  {
   "cell_type": "code",
   "execution_count": 115,
   "id": "f6915c80",
   "metadata": {},
   "outputs": [],
   "source": [
    "def get_n_child(i, n_day):\n",
    "    n_child = (n_day - i)//t_pregnancy + 1\n",
    "    if (n_day - i) % t_pregnancy == 0:\n",
    "        n_child -= 1 \n",
    "    return n_child\n",
    "\n",
    "\n",
    "def calc_total(i, n_day):\n",
    "    # self + child\n",
    "    n_total = 1 + get_n_child(i, n_day)\n",
    "    \n",
    "    days_left = n_day - i - 1\n",
    "    while days_left > 0:\n",
    "        n_total += get_n_child(8, days_left)\n",
    "        days_left -= 8\n",
    "        \n",
    "    return n_total"
   ]
  },
  {
   "cell_type": "code",
   "execution_count": 109,
   "id": "e6d70eda",
   "metadata": {},
   "outputs": [
    {
     "data": {
      "text/plain": [
       "{0: 6, 1: 6, 2: 5, 3: 5, 4: 4, 5: 4, 6: 4}"
      ]
     },
     "execution_count": 109,
     "metadata": {},
     "output_type": "execute_result"
    }
   ],
   "source": [
    "def after_n_days_each(days_left):\n",
    "    breed = {}\n",
    "\n",
    "    for i in range(7):\n",
    "        breed[i] = calc_total(i, days_left)\n",
    "        #print(f' fish {i} becomes {breed[i]} fishes.')\n",
    "        #print(f'elapsed time: {time.time() - time0} [s]')\n",
    "    return breed\n",
    "breed = after_n_days_each(18)\n",
    "breed"
   ]
  },
  {
   "cell_type": "code",
   "execution_count": 34,
   "id": "cdf04dc2",
   "metadata": {},
   "outputs": [
    {
     "name": "stdout",
     "output_type": "stream",
     "text": [
      "[3, 10, 17, 24, 31, 38, 45, 52, 59, 66, 73]\n",
      "3: [8, 15, 22, 29, 36, 43, 50, 57, 64, 71]\n",
      "10: [8, 15, 22, 29, 36, 43, 50, 57, 64]\n",
      "17: [8, 15, 22, 29, 36, 43, 50, 57]\n",
      "24: [8, 15, 22, 29, 36, 43, 50]\n",
      "31: [8, 15, 22, 29, 36, 43]\n",
      "38: [8, 15, 22, 29, 36]\n",
      "45: [8, 15, 22, 29]\n",
      "52: [8, 15, 22]\n",
      "59: [8, 15]\n",
      "66: [8]\n",
      "73: []\n"
     ]
    }
   ],
   "source": [
    "def get_delivery_days(i, n_day):\n",
    "    delivery_days = [day for day in range(i, n_day, t_pregnancy)]\n",
    "    return delivery_days\n",
    "\n",
    "n_day = 80\n",
    "i = 3\n",
    "\n",
    "total = 1\n",
    "# how many days later new fish will be delivered.\n",
    "delivery_days = get_delivery_days(i, n_day)\n",
    "print(delivery_days)\n",
    "total += len(delivery_days)\n",
    "\n",
    "def next_generation(delivery_days, n_day):\n",
    "    x = {}\n",
    "    total = 0\n",
    "    for d in delivery_days:\n",
    "        delivery_days_ = get_delivery_days(8, n_day -d-1)\n",
    "        print(f\"{d}: {delivery_days_}\")\n",
    "        n_child = len(delivery_days_)\n",
    "\n",
    "        if not n_child == 0: \n",
    "            total += n_child\n",
    "            x[d] = delivery_days_\n",
    "    return x, total\n",
    "\n",
    "x, total_ = next_generation(delivery_days, n_day)\n",
    "#total += total_\n",
    "#total"
   ]
  },
  {
   "cell_type": "code",
   "execution_count": 35,
   "id": "d3696bb5",
   "metadata": {},
   "outputs": [
    {
     "name": "stdout",
     "output_type": "stream",
     "text": [
      "8: [8, 15, 22, 29, 36, 43, 50, 57, 64]\n",
      "15: [8, 15, 22, 29, 36, 43, 50, 57]\n",
      "22: [8, 15, 22, 29, 36, 43, 50]\n",
      "29: [8, 15, 22, 29, 36, 43]\n",
      "36: [8, 15, 22, 29, 36]\n",
      "43: [8, 15, 22, 29]\n",
      "50: [8, 15, 22]\n",
      "57: [8, 15]\n",
      "64: [8]\n",
      "71: []\n",
      "8: [8, 15, 22, 29, 36, 43, 50, 57]\n",
      "15: [8, 15, 22, 29, 36, 43, 50]\n",
      "22: [8, 15, 22, 29, 36, 43]\n",
      "29: [8, 15, 22, 29, 36]\n",
      "36: [8, 15, 22, 29]\n",
      "43: [8, 15, 22]\n",
      "50: [8, 15]\n",
      "57: [8]\n",
      "64: []\n",
      "8: [8, 15, 22, 29, 36, 43, 50]\n",
      "15: [8, 15, 22, 29, 36, 43]\n",
      "22: [8, 15, 22, 29, 36]\n",
      "29: [8, 15, 22, 29]\n",
      "36: [8, 15, 22]\n",
      "43: [8, 15]\n",
      "50: [8]\n",
      "57: []\n",
      "8: [8, 15, 22, 29, 36, 43]\n",
      "15: [8, 15, 22, 29, 36]\n",
      "22: [8, 15, 22, 29]\n",
      "29: [8, 15, 22]\n",
      "36: [8, 15]\n",
      "43: [8]\n",
      "50: []\n",
      "8: [8, 15, 22, 29, 36]\n",
      "15: [8, 15, 22, 29]\n",
      "22: [8, 15, 22]\n",
      "29: [8, 15]\n",
      "36: [8]\n",
      "43: []\n",
      "8: [8, 15, 22, 29]\n",
      "15: [8, 15, 22]\n",
      "22: [8, 15]\n",
      "29: [8]\n",
      "36: []\n",
      "8: [8, 15, 22]\n",
      "15: [8, 15]\n",
      "22: [8]\n",
      "29: []\n",
      "8: [8, 15]\n",
      "15: [8]\n",
      "22: []\n",
      "8: [8]\n",
      "15: []\n",
      "8: []\n"
     ]
    }
   ],
   "source": [
    "for d in x:\n",
    "    #print(f\"{d}: {x[d]}\")\n",
    "    x_, total_ = next_generation(x[d], n_day -d + 1)\n",
    "    #print(x_)"
   ]
  },
  {
   "cell_type": "code",
   "execution_count": 166,
   "id": "fa927836",
   "metadata": {},
   "outputs": [
    {
     "name": "stdout",
     "output_type": "stream",
     "text": [
      "[3, 10, 17]\n",
      "3 + [8]\n",
      "10 + []\n",
      "17 + []\n"
     ]
    },
    {
     "ename": "UnboundLocalError",
     "evalue": "local variable 'total' referenced before assignment",
     "output_type": "error",
     "traceback": [
      "\u001b[0;31m---------------------------------------------------------------------------\u001b[0m",
      "\u001b[0;31mUnboundLocalError\u001b[0m                         Traceback (most recent call last)",
      "\u001b[0;32m/tmp/ipykernel_2565686/388487044.py\u001b[0m in \u001b[0;36m<module>\u001b[0;34m\u001b[0m\n\u001b[1;32m     16\u001b[0m     \u001b[0;32mreturn\u001b[0m \u001b[0mtotal\u001b[0m\u001b[0;34m\u001b[0m\u001b[0m\n\u001b[1;32m     17\u001b[0m \u001b[0;34m\u001b[0m\u001b[0m\n\u001b[0;32m---> 18\u001b[0;31m \u001b[0mcalc_total\u001b[0m\u001b[0;34m(\u001b[0m\u001b[0;36m3\u001b[0m\u001b[0;34m,\u001b[0m \u001b[0;36m18\u001b[0m\u001b[0;34m)\u001b[0m\u001b[0;34m\u001b[0m\u001b[0m\n\u001b[0m",
      "\u001b[0;32m/tmp/ipykernel_2565686/388487044.py\u001b[0m in \u001b[0;36mcalc_total\u001b[0;34m(i, n_day)\u001b[0m\n\u001b[1;32m     14\u001b[0m         \u001b[0;32mreturn\u001b[0m \u001b[0mtotal\u001b[0m\u001b[0;34m\u001b[0m\u001b[0m\n\u001b[1;32m     15\u001b[0m \u001b[0;34m\u001b[0m\u001b[0m\n\u001b[0;32m---> 16\u001b[0;31m     \u001b[0;32mreturn\u001b[0m \u001b[0mtotal\u001b[0m\u001b[0;34m\u001b[0m\u001b[0m\n\u001b[0m\u001b[1;32m     17\u001b[0m \u001b[0;34m\u001b[0m\u001b[0m\n\u001b[1;32m     18\u001b[0m \u001b[0mcalc_total\u001b[0m\u001b[0;34m(\u001b[0m\u001b[0;36m3\u001b[0m\u001b[0;34m,\u001b[0m \u001b[0;36m18\u001b[0m\u001b[0;34m)\u001b[0m\u001b[0;34m\u001b[0m\u001b[0m\n",
      "\u001b[0;31mUnboundLocalError\u001b[0m: local variable 'total' referenced before assignment"
     ]
    }
   ],
   "source": [
    "def calc_total(i, n_day):\n",
    "    delivery_days = get_delivery_days(i, n_day)\n",
    "    print(delivery_days)\n",
    "    \n",
    "    if len(delivery_days) > 0:\n",
    "        for j in delivery_days:\n",
    "            delivery_days = get_delivery_days(8, n_day -j-1)\n",
    "            print(f\"{j} + {delivery_days}\")\n",
    "\n",
    "        if not n_child == 0: \n",
    "            total += n_child\n",
    "    else:\n",
    "        print(\"end.\")\n",
    "        return total\n",
    "    \n",
    "    return total\n",
    "\n",
    "calc_total(3, 18)"
   ]
  },
  {
   "cell_type": "code",
   "execution_count": 151,
   "id": "ac610a59",
   "metadata": {},
   "outputs": [
    {
     "name": "stdout",
     "output_type": "stream",
     "text": [
      "[3]\n",
      "[2]\n",
      "[1]\n",
      "[0]\n",
      "[6 8]\n",
      "[5 7]\n",
      "[4 6]\n",
      "[3 5]\n",
      "[2 4]\n",
      "[1 3]\n",
      "[0 2]\n",
      "[6 1 8]\n",
      "[5 0 7]\n",
      "[4 6 6 8]\n",
      "[3 5 5 7]\n",
      "[2 4 4 6]\n",
      "[1 3 3 5]\n",
      "[0 2 2 4]\n",
      "[6 1 1 3 8]\n"
     ]
    },
    {
     "data": {
      "text/plain": [
       "array([6, 1, 1, 3, 8])"
      ]
     },
     "execution_count": 151,
     "metadata": {},
     "output_type": "execute_result"
    }
   ],
   "source": [
    "after_n_days(np.array([3]), 18)"
   ]
  },
  {
   "cell_type": "code",
   "execution_count": 139,
   "id": "62cd3d4d",
   "metadata": {},
   "outputs": [
    {
     "data": {
      "text/plain": [
       "[18, 11, 4]"
      ]
     },
     "execution_count": 139,
     "metadata": {},
     "output_type": "execute_result"
    }
   ],
   "source": [
    "list(range(18, 3, -t_pregnancy))"
   ]
  }
 ],
 "metadata": {
  "kernelspec": {
   "display_name": "Python 3 (ipykernel)",
   "language": "python",
   "name": "python3"
  },
  "language_info": {
   "codemirror_mode": {
    "name": "ipython",
    "version": 3
   },
   "file_extension": ".py",
   "mimetype": "text/x-python",
   "name": "python",
   "nbconvert_exporter": "python",
   "pygments_lexer": "ipython3",
   "version": "3.7.0"
  }
 },
 "nbformat": 4,
 "nbformat_minor": 5
}
