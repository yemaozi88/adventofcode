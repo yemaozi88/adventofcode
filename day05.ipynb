{
 "cells": [
  {
   "cell_type": "code",
   "execution_count": 1,
   "id": "64683b36",
   "metadata": {},
   "outputs": [],
   "source": [
    "# https://adventofcode.com/2021/day/5\n",
    "import numpy as np\n",
    "import re"
   ]
  },
  {
   "cell_type": "code",
   "execution_count": 2,
   "id": "8e226ecf",
   "metadata": {},
   "outputs": [],
   "source": [
    "## load input.\n",
    "\n",
    "#with open(\"day05_sample.txt\") as f:\n",
    "with open(\"day05.txt\") as f:\n",
    "    lines = f.readlines()\n",
    "\n",
    "data = [re.findall('[0-9]+', line) for line in lines]\n",
    "data = np.array(data, dtype='int')\n",
    "\n",
    "# remove duplicate, to be sure.\n",
    "data = np.unique(data, axis=0)\n",
    "\n",
    "xmax = np.max(np.hstack((data[:, 0], data[:, 2])))\n",
    "ymax = np.max(np.hstack((data[:, 1], data[:, 3])))"
   ]
  },
  {
   "cell_type": "code",
   "execution_count": 3,
   "id": "35b0a798",
   "metadata": {},
   "outputs": [],
   "source": [
    "def create_field(xmax, ymax):\n",
    "    # coordinate starts with 0,0\n",
    "    return np.zeros((xmax + 1, ymax + 1))\n",
    "\n",
    "\n",
    "def get_direction(x, y):\n",
    "    if x < y:\n",
    "        direction = 1\n",
    "    elif x > y:\n",
    "        direction = -1\n",
    "    else:\n",
    "        direction = 0\n",
    "    return direction\n",
    "\n",
    "        \n",
    "def get_position(d, include_diagnal=True):\n",
    "    field = np.zeros((xmax + 1, ymax + 1))\n",
    "    \n",
    "    if d[0] == d[2]:\n",
    "        field[d[0], np.min((d[1], d[3])):np.max((d[1], d[3]))+1] = 1\n",
    "    elif d[1] == d[3]:\n",
    "        field[np.min((d[0], d[2])):np.max((d[0], d[2]))+1, d[1]] = 1\n",
    "        \n",
    "    elif include_diagnal and np.abs(d[1]-d[3]) == np.abs(d[0]-d[2]):\n",
    "        x = d[0]\n",
    "        y = d[1]\n",
    "        field[x, y] = 1\n",
    "        direction_x = get_direction(d[0], d[2])\n",
    "        direction_y = get_direction(d[1], d[3])\n",
    "        \n",
    "        while x != d[2]:\n",
    "            x += direction_x\n",
    "            y += direction_y\n",
    "            field[x, y] = 1\n",
    "        \n",
    "    return field\n",
    "\n",
    "\n",
    "# for part 2, this one is simpler.\n",
    "def get_position2(d):\n",
    "    \n",
    "    field = np.zeros((xmax + 1, ymax + 1))\n",
    "    x = d[0]\n",
    "    y = d[1]\n",
    "    field[x, y] = 1\n",
    "    direction_x = get_direction(d[0], d[2])\n",
    "    direction_y = get_direction(d[1], d[3])\n",
    "        \n",
    "    while x != d[2] or y != d[3]:\n",
    "        x += direction_x\n",
    "        y += direction_y\n",
    "        field[x, y] = 1\n",
    "        \n",
    "    return field"
   ]
  },
  {
   "cell_type": "code",
   "execution_count": 4,
   "id": "344cf7b5",
   "metadata": {},
   "outputs": [
    {
     "name": "stdout",
     "output_type": "stream",
     "text": [
      "asnwer to the question: 19663\n"
     ]
    }
   ],
   "source": [
    "field = create_field(xmax, ymax)\n",
    "\n",
    "# draw lines.\n",
    "for d in data:\n",
    "    ## part 1.\n",
    "    #field = field + get_position(d, include_diagnal=False)\n",
    "    # part 2\n",
    "    field = field + get_position(d, include_diagnal=True)\n",
    "    \n",
    "## final answer.\n",
    "#print(field.T)\n",
    "answer = np.sum(field>=2)\n",
    "print(f\"asnwer to the question: {answer}\")"
   ]
  }
 ],
 "metadata": {
  "kernelspec": {
   "display_name": "Python 3 (ipykernel)",
   "language": "python",
   "name": "python3"
  },
  "language_info": {
   "codemirror_mode": {
    "name": "ipython",
    "version": 3
   },
   "file_extension": ".py",
   "mimetype": "text/x-python",
   "name": "python",
   "nbconvert_exporter": "python",
   "pygments_lexer": "ipython3",
   "version": "3.7.0"
  }
 },
 "nbformat": 4,
 "nbformat_minor": 5
}
