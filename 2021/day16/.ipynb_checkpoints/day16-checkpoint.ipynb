{
 "cells": [
  {
   "cell_type": "code",
   "execution_count": 1,
   "id": "b8b4751f",
   "metadata": {},
   "outputs": [],
   "source": [
    "# https://adventofcode.com/2021/day/16\n",
    "import numpy as np"
   ]
  },
  {
   "cell_type": "code",
   "execution_count": 4,
   "id": "7b815d13",
   "metadata": {},
   "outputs": [],
   "source": [
    "def dec2hex(d):\n",
    "    return format(d, 'x')\n",
    "\n",
    "def hex2dec(h):\n",
    "    return int(h, 16)\n",
    "\n",
    "def dec2bin(d, n_digit=4):\n",
    "    return format(d, '0' + str(n_digit) + 'b')\n",
    "\n",
    "def hex2bin(h, n_digit=4):\n",
    "    d = hex2dec(h)\n",
    "    return dec2bin(d, n_digit=n_digit)\n",
    "\n",
    "def bin2dec(b):\n",
    "    return int(b, 2)\n",
    "\n",
    "def binlist2dec(blist):\n",
    "    return bin2dec(''.join(blist))\n",
    "\n",
    "\n",
    "def read_packet_header(packet_bin):\n",
    "    packet_version = bin2dec(''.join(packet_bin[:3]))\n",
    "    type_id  = bin2dec(''.join(packet_bin[3:6]))\n",
    "    contents = packet_bin[6:]\n",
    "    \n",
    "    return packet_version, type_id, contents\n",
    "\n",
    "\n",
    "def read_n_bits(contents, n):\n",
    "    return [contents.pop(0) for i in range(n)]\n",
    "\n",
    "\n",
    "# contents will be updated.\n",
    "def read_literal_value(contents):\n",
    "    prefix = '1'\n",
    "    numbers_bin = []\n",
    "    n_bits = 0\n",
    "    while prefix == '1':\n",
    "        prefix = contents.pop(0)\n",
    "        #numbers_bin.extend([contents.pop(0) for i in range(4)])\n",
    "        numbers_bin.extend(read_n_bits(contents, 4))\n",
    "        n_bits += 5\n",
    "    return bin2dec(''.join(numbers_bin)), n_bits\n",
    "\n",
    "\n",
    "\n",
    "# #     packet_version, type_id, contents = read_packet_header(packet_bin)\n",
    "# #     assert type_id == 4, print(\"this is not a literal packet!\")\n",
    "\n",
    "#     literal_value, n_bits = read_literal_value(contents)\n",
    "#     n_bits += 6 # for headers\n",
    "        \n",
    "#     return literal_value, n_bits, contents"
   ]
  },
  {
   "cell_type": "code",
   "execution_count": 6,
   "id": "f13ab74d",
   "metadata": {},
   "outputs": [],
   "source": [
    "def read_packet(packet_bin):\n",
    "    # convert hex2bin.\n",
    "    packet_bin = list(''.join([hex2bin(p) for p in packet_hex]))\n",
    "\n",
    "    # packet_version and type_id are int.\n",
    "    # contents are the list of char.\n",
    "    packet_version, type_id, contents = read_packet_header(packet_bin)\n",
    "    print(f\"packet version: {packet_version}\")\n",
    "    print(f\"type id: {type_id}\")\n",
    "\n",
    "    if type_id == 4: \n",
    "        # literal packet.\n",
    "        literal_value, n_bits = read_literal_value(contents)\n",
    "        print(f\"literal value: {literal_value} ({n_bits})\")\n",
    "    else:\n",
    "        # operator packet.\n",
    "        length_type_id = contents.pop(0)\n",
    "        print(f\"length type id: {length_type_id}\")\n",
    "        if length_type_id == '0':\n",
    "            n_bits_subpackets = binlist2dec(read_n_bits(contents, 15))\n",
    "            print(f\"n_bits subpacket: {n_bits_subpackets}\")\n",
    "\n",
    "            n_bits_total = 0\n",
    "            while n_bits_total < n_bits_subpackets:\n",
    "                literal_value, n_bits, contents = read_packet(contents)\n",
    "                n_bits_total += n_bits\n",
    "                print(f\"literal value: {literal_value} ({n_bits})\")\n",
    "\n",
    "        else:\n",
    "            n_subpackets = binlist2dec(contents[:11])\n",
    "            read_n_bits(contents, 11)\n",
    "            print(f\"n_subpackets: {n_subpackets}\")\n",
    "\n",
    "            n_subpackets_total = 0\n",
    "            while n_subpackets_total < n_subpackets:\n",
    "                literal_value, n_bits, contents = read_packet(contents)\n",
    "                n_subpackets_total += 1 \n",
    "                print(f\"literal value: {literal_value} ({n_bits})\")"
   ]
  },
  {
   "cell_type": "code",
   "execution_count": 61,
   "id": "2832d404",
   "metadata": {},
   "outputs": [
    {
     "name": "stdout",
     "output_type": "stream",
     "text": [
      "packet version: 4\n",
      "type id: 2\n",
      "length type id: 1\n",
      "n_subpackets: 1\n",
      "this is not a literal packet!\n"
     ]
    },
    {
     "ename": "AssertionError",
     "evalue": "None",
     "output_type": "error",
     "traceback": [
      "\u001b[0;31m---------------------------------------------------------------------------\u001b[0m",
      "\u001b[0;31mAssertionError\u001b[0m                            Traceback (most recent call last)",
      "\u001b[0;32m<ipython-input-61-43aaf307e0c3>\u001b[0m in \u001b[0;36m<module>\u001b[0;34m\u001b[0m\n\u001b[1;32m      3\u001b[0m \u001b[0;31m#packet_hex = 'EE00D40C823060'\u001b[0m\u001b[0;34m\u001b[0m\u001b[0;34m\u001b[0m\u001b[0m\n\u001b[1;32m      4\u001b[0m \u001b[0mpacket_hex\u001b[0m \u001b[0;34m=\u001b[0m \u001b[0;34m'8A004A801A8002F478'\u001b[0m\u001b[0;34m\u001b[0m\u001b[0;34m\u001b[0m\u001b[0m\n\u001b[0;32m----> 5\u001b[0;31m \u001b[0mread_packet\u001b[0m\u001b[0;34m(\u001b[0m\u001b[0mpacket_hex\u001b[0m\u001b[0;34m)\u001b[0m\u001b[0;34m\u001b[0m\u001b[0;34m\u001b[0m\u001b[0m\n\u001b[0m",
      "\u001b[0;32m<ipython-input-60-5c5abd8ca5b2>\u001b[0m in \u001b[0;36mread_packet\u001b[0;34m(packet_hex)\u001b[0m\n\u001b[1;32m     35\u001b[0m             \u001b[0mn_subpackets_total\u001b[0m \u001b[0;34m=\u001b[0m \u001b[0;36m0\u001b[0m\u001b[0;34m\u001b[0m\u001b[0;34m\u001b[0m\u001b[0m\n\u001b[1;32m     36\u001b[0m             \u001b[0;32mwhile\u001b[0m \u001b[0mn_subpackets_total\u001b[0m \u001b[0;34m<\u001b[0m \u001b[0mn_subpackets\u001b[0m\u001b[0;34m:\u001b[0m\u001b[0;34m\u001b[0m\u001b[0;34m\u001b[0m\u001b[0m\n\u001b[0;32m---> 37\u001b[0;31m                 \u001b[0mliteral_value\u001b[0m\u001b[0;34m,\u001b[0m \u001b[0mn_bits\u001b[0m\u001b[0;34m,\u001b[0m \u001b[0mcontents\u001b[0m \u001b[0;34m=\u001b[0m \u001b[0mread_subpacket\u001b[0m\u001b[0;34m(\u001b[0m\u001b[0mcontents\u001b[0m\u001b[0;34m)\u001b[0m\u001b[0;34m\u001b[0m\u001b[0;34m\u001b[0m\u001b[0m\n\u001b[0m\u001b[1;32m     38\u001b[0m                 \u001b[0mn_subpackets_total\u001b[0m \u001b[0;34m+=\u001b[0m \u001b[0;36m1\u001b[0m\u001b[0;34m\u001b[0m\u001b[0;34m\u001b[0m\u001b[0m\n\u001b[1;32m     39\u001b[0m                 \u001b[0mprint\u001b[0m\u001b[0;34m(\u001b[0m\u001b[0;34mf\"literal value: {literal_value} ({n_bits})\"\u001b[0m\u001b[0;34m)\u001b[0m\u001b[0;34m\u001b[0m\u001b[0;34m\u001b[0m\u001b[0m\n",
      "\u001b[0;32m<ipython-input-47-ba7433bae338>\u001b[0m in \u001b[0;36mread_subpacket\u001b[0;34m(packet_bin)\u001b[0m\n\u001b[1;32m     46\u001b[0m \u001b[0;32mdef\u001b[0m \u001b[0mread_subpacket\u001b[0m\u001b[0;34m(\u001b[0m\u001b[0mpacket_bin\u001b[0m\u001b[0;34m)\u001b[0m\u001b[0;34m:\u001b[0m\u001b[0;34m\u001b[0m\u001b[0;34m\u001b[0m\u001b[0m\n\u001b[1;32m     47\u001b[0m     \u001b[0mpacket_version\u001b[0m\u001b[0;34m,\u001b[0m \u001b[0mtype_id\u001b[0m\u001b[0;34m,\u001b[0m \u001b[0mcontents\u001b[0m \u001b[0;34m=\u001b[0m \u001b[0mread_packet_header\u001b[0m\u001b[0;34m(\u001b[0m\u001b[0mpacket_bin\u001b[0m\u001b[0;34m)\u001b[0m\u001b[0;34m\u001b[0m\u001b[0;34m\u001b[0m\u001b[0m\n\u001b[0;32m---> 48\u001b[0;31m     \u001b[0;32massert\u001b[0m \u001b[0mtype_id\u001b[0m \u001b[0;34m==\u001b[0m \u001b[0;36m4\u001b[0m\u001b[0;34m,\u001b[0m \u001b[0mprint\u001b[0m\u001b[0;34m(\u001b[0m\u001b[0;34m\"this is not a literal packet!\"\u001b[0m\u001b[0;34m)\u001b[0m\u001b[0;34m\u001b[0m\u001b[0;34m\u001b[0m\u001b[0m\n\u001b[0m\u001b[1;32m     49\u001b[0m \u001b[0;34m\u001b[0m\u001b[0m\n\u001b[1;32m     50\u001b[0m     \u001b[0mliteral_value\u001b[0m\u001b[0;34m,\u001b[0m \u001b[0mn_bits\u001b[0m \u001b[0;34m=\u001b[0m \u001b[0mread_literal_value\u001b[0m\u001b[0;34m(\u001b[0m\u001b[0mcontents\u001b[0m\u001b[0;34m)\u001b[0m\u001b[0;34m\u001b[0m\u001b[0;34m\u001b[0m\u001b[0m\n",
      "\u001b[0;31mAssertionError\u001b[0m: None"
     ]
    }
   ],
   "source": [
    "#packet_hex = 'D2FE28'\n",
    "#packet_hex = '38006F45291200'\n",
    "#packet_hex = 'EE00D40C823060'\n",
    "packet_hex = '8A004A801A8002F478'\n",
    "read_packet(packet_hex)"
   ]
  },
  {
   "cell_type": "code",
   "execution_count": null,
   "id": "298727c9",
   "metadata": {},
   "outputs": [],
   "source": [
    "\n"
   ]
  }
 ],
 "metadata": {
  "kernelspec": {
   "display_name": "Python 3",
   "language": "python",
   "name": "python3"
  },
  "language_info": {
   "codemirror_mode": {
    "name": "ipython",
    "version": 3
   },
   "file_extension": ".py",
   "mimetype": "text/x-python",
   "name": "python",
   "nbconvert_exporter": "python",
   "pygments_lexer": "ipython3",
   "version": "3.9.7"
  }
 },
 "nbformat": 4,
 "nbformat_minor": 5
}
