{
 "cells": [
  {
   "cell_type": "code",
   "execution_count": 1,
   "id": "64683b36",
   "metadata": {},
   "outputs": [],
   "source": [
    "# https://adventofcode.com/2021/day/3\n",
    "import numpy as np\n",
    "import pandas as pd\n",
    "\n",
    "## test data.\n",
    "# lines = [\n",
    "#     '00100', \n",
    "#     '11110', \n",
    "#     '10110', \n",
    "#     '10111', \n",
    "#     '10101', \n",
    "#     '01111',\n",
    "#     '00111',\n",
    "#     '11100',\n",
    "#     '10000',\n",
    "#     '11001',\n",
    "#     '00010',\n",
    "#     '01010']\n",
    "# lines = [str(line) for line in lines]\n",
    "\n",
    "## real data.\n",
    "lines = np.loadtxt(\"day03.txt\", dtype=np.str)"
   ]
  },
  {
   "cell_type": "code",
   "execution_count": 2,
   "id": "4c9a2aea",
   "metadata": {},
   "outputs": [],
   "source": [
    "## store the data in a matrix.\n",
    "# data is a martix of n_samples x n_digits. \n",
    "# each row represents one measurements.\n",
    "for i, line in enumerate(lines):\n",
    "    data_ = np.array([int(d) for d in lines[i]])\n",
    "    if i == 0:\n",
    "        data = data_\n",
    "    else:\n",
    "        data = np.vstack((data, data_))\n",
    "\n",
    "n_samples, n_digits = np.shape(data)"
   ]
  },
  {
   "cell_type": "code",
   "execution_count": 3,
   "id": "6d5ab639",
   "metadata": {},
   "outputs": [],
   "source": [
    "def find_common_digits(data, inverse=False):\n",
    "    '''\n",
    "    Args:\n",
    "        data: n_samples x n_digits matrix. each row represents one measurements.\n",
    "        inverse: if minority is chosen, set True. default: False.\n",
    "    '''\n",
    "    n_samples, n_digits = np.shape(data)\n",
    "    data_sum = np.sum(data, axis=0)\n",
    "    \n",
    "    if inverse:\n",
    "        common_digits = np.where(data_sum < n_samples/2, 1, 0)\n",
    "    else:\n",
    "        common_digits = np.where(data_sum >= n_samples/2, 1, 0)\n",
    "        \n",
    "    return common_digits\n",
    "\n",
    "\n",
    "def calc_rating(data, inverse=False):\n",
    "    '''\n",
    "    Args:\n",
    "        data: n_samples x n_digits matrix. each row represents one measurements.\n",
    "        inverse: if minority is chosen, set True. default: False.\n",
    "    '''\n",
    "    rating = []\n",
    "    for i in range(n_digits):\n",
    "        common_digits = find_common_digits(data, inverse=inverse)\n",
    "\n",
    "        # find the rows start with common digit.\n",
    "        data_ = data[data[:, 0] == common_digits[0]]\n",
    "        rating.append(common_digits[0])        \n",
    "        \n",
    "        # remove the first row\n",
    "        data_ = np.delete(data_, 0, 1)\n",
    "        data  = data_\n",
    "\n",
    "        if len(data_) == 1:\n",
    "            remain = list(data_[0])\n",
    "            if not remain == []: \n",
    "                rating.extend(remain)\n",
    "            break\n",
    "            \n",
    "    return rating\n",
    "    \n",
    "    \n",
    "def binlist2int(digits_int):\n",
    "    digits_str = [str(digit) for digit in digits_int]\n",
    "    return int(''.join(digits_str), 2)\n",
    "\n",
    "\n",
    "def disp_result(x, y):\n",
    "    print(f'x: {x}')\n",
    "    print(f'y: {y}')\n",
    "    print(f'answer to the quesion: {x * y}')"
   ]
  },
  {
   "cell_type": "code",
   "execution_count": 4,
   "id": "78929c28",
   "metadata": {},
   "outputs": [
    {
     "name": "stdout",
     "output_type": "stream",
     "text": [
      "x: 3022\n",
      "y: 1073\n",
      "answer to the quesion: 3242606\n"
     ]
    }
   ],
   "source": [
    "## part 1\n",
    "gamma_rate_list   = find_common_digits(data, inverse=False)\n",
    "gamma_rate        = binlist2int(gamma_rate_list)\n",
    "\n",
    "epsilon_rate_list = find_common_digits(data, inverse=True)\n",
    "epsilon_rate      = binlist2int(epsilon_rate_list)\n",
    "\n",
    "disp_result(gamma_rate, epsilon_rate)"
   ]
  },
  {
   "cell_type": "code",
   "execution_count": 5,
   "id": "6631f38a",
   "metadata": {},
   "outputs": [
    {
     "name": "stdout",
     "output_type": "stream",
     "text": [
      "x: 3005\n",
      "y: 1616\n",
      "answer to the quesion: 4856080\n"
     ]
    }
   ],
   "source": [
    "## part 2\n",
    "oxygen_generator_rating_list = calc_rating(data, inverse=False)\n",
    "oxygen_generator_rating      = binlist2int(oxygen_generator_rating_list)\n",
    "\n",
    "CO2_scrubber_rating_list = calc_rating(data, inverse=True)\n",
    "CO2_scrubber_rating      = binlist2int(CO2_scrubber_rating_list)\n",
    "\n",
    "disp_result(oxygen_generator_rating, CO2_scrubber_rating)"
   ]
  }
 ],
 "metadata": {
  "kernelspec": {
   "display_name": "Python 3 (ipykernel)",
   "language": "python",
   "name": "python3"
  },
  "language_info": {
   "codemirror_mode": {
    "name": "ipython",
    "version": 3
   },
   "file_extension": ".py",
   "mimetype": "text/x-python",
   "name": "python",
   "nbconvert_exporter": "python",
   "pygments_lexer": "ipython3",
   "version": "3.7.0"
  }
 },
 "nbformat": 4,
 "nbformat_minor": 5
}
