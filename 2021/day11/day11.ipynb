{
 "cells": [
  {
   "cell_type": "code",
   "execution_count": 1,
   "id": "3b7852d4",
   "metadata": {},
   "outputs": [],
   "source": [
    "# https://adventofcode.com/2021/day/11\n",
    "from io import StringIO\n",
    "\n",
    "import numpy as np"
   ]
  },
  {
   "cell_type": "code",
   "execution_count": 46,
   "id": "37ebcab2",
   "metadata": {},
   "outputs": [],
   "source": [
    "window = np.array([[1, 0], [1, 1], [0, 1], [-1, 1], [-1, 0], [-1, -1], [0, -1], [1, -1]])\n",
    "\n",
    "def load_input(data_type=0):\n",
    "    if data_type == 0:\n",
    "        lines = \"11111\\n19991\\n19191\\n19991\\n11111\"\n",
    "    else:\n",
    "        if data_type == 1:\n",
    "            txt_path = \"day11_sample.txt\"\n",
    "        else:\n",
    "            txt_path = \"day11.txt\"\n",
    "        with open(txt_path) as f:\n",
    "            lines = f.read()\n",
    "            \n",
    "    n_col = len(lines.split('\\n')[0])\n",
    "    lines = lines.replace('\\n', '')\n",
    "    x = np.array(list(lines)).astype(int)\n",
    "    x = x.reshape((-1, n_col))\n",
    "    return x\n",
    "\n",
    "\n",
    "def flash(x, r, c):\n",
    "    # padding with size 1. \n",
    "    x_pad = np.pad(x, (1,1), mode='constant', constant_values=-100)\n",
    "    # due to the padding, r and c are incremented.\n",
    "    r += 1\n",
    "    c += 1\n",
    "    if x_pad[r, c] > 9: \n",
    "        for r_, c_ in window:\n",
    "            x_pad[r+r_, c+c_] += 1\n",
    "\n",
    "    return x_pad[1:-1, 1:-1]\n",
    "\n",
    "\n",
    "# def after_flash(x):\n",
    "#     return np.where(x>=10, 0, x)\n",
    "\n",
    "\n",
    "def get_queue(x, flashed):\n",
    "    queue = []\n",
    "    for ix, iy in zip(*np.where(x>9)):\n",
    "        if flashed[ix, iy] == 0:\n",
    "            queue.append([ix, iy])\n",
    "    return queue\n",
    "\n",
    "\n",
    "def process_flash(x):\n",
    "    flashed = np.zeros(np.shape(x))\n",
    "    \n",
    "    x += 1\n",
    "    queue = get_queue(x, flashed)\n",
    "    \n",
    "    #print(queue)\n",
    "    while len(queue)>0:\n",
    "        for r, c in queue:\n",
    "            #print(f\"{r}, {c}\")\n",
    "            if flashed[r, c] == 0:\n",
    "                x = flash(x, r, c)\n",
    "                flashed[r, c] = 1\n",
    "                #print(x)\n",
    "                #print(flashed)\n",
    "\n",
    "        queue = get_queue(x, flashed)\n",
    "        \n",
    "\n",
    "    # after flash energy gets 0.\n",
    "    index = np.where(flashed==1)\n",
    "    for r, c in zip(*index):\n",
    "        x[r, c] = 0\n",
    "        \n",
    "    return x, len(index[0])\n",
    "\n",
    "\n",
    "def after_n_steps(x, n):\n",
    "    n_flash = 0\n",
    "    for i in range(n):\n",
    "        x, n_flash_ = process_flash(x)\n",
    "        n_flash += n_flash_\n",
    "    return x, n_flash"
   ]
  },
  {
   "cell_type": "code",
   "execution_count": 55,
   "id": "4a6cbc78",
   "metadata": {},
   "outputs": [
    {
     "name": "stdout",
     "output_type": "stream",
     "text": [
      "360\n"
     ]
    }
   ],
   "source": [
    "x = load_input(data_type=2)\n",
    "\n",
    "## step 1.\n",
    "#n = 100\n",
    "#x, n_flash = after_n_steps(x, n)\n",
    "#print(f\"total number of flash: {n_flash}\")\n",
    "\n",
    "## step 2.\n",
    "n = 0\n",
    "while not np.all(x==0):\n",
    "    x, _ = process_flash(x)\n",
    "    n += 1\n",
    "print(n)"
   ]
  }
 ],
 "metadata": {
  "kernelspec": {
   "display_name": "Python 3",
   "language": "python",
   "name": "python3"
  },
  "language_info": {
   "codemirror_mode": {
    "name": "ipython",
    "version": 3
   },
   "file_extension": ".py",
   "mimetype": "text/x-python",
   "name": "python",
   "nbconvert_exporter": "python",
   "pygments_lexer": "ipython3",
   "version": "3.9.7"
  }
 },
 "nbformat": 4,
 "nbformat_minor": 5
}
