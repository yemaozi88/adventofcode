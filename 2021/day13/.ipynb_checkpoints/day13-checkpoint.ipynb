{
 "cells": [
  {
   "cell_type": "code",
   "execution_count": 1,
   "id": "85c7882b",
   "metadata": {},
   "outputs": [],
   "source": [
    "# https://adventofcode.com/2021/day/13\n",
    "import time\n",
    "\n",
    "import numpy as np"
   ]
  },
  {
   "cell_type": "code",
   "execution_count": 2,
   "id": "7a5e9545",
   "metadata": {},
   "outputs": [],
   "source": [
    "def load_input(is_sample=True):\n",
    "    if is_sample:\n",
    "        txt_path = \"day13_sample.txt\"\n",
    "    else:\n",
    "        txt_path = \"day13_.txt\"\n",
    "    with open(txt_path) as f:\n",
    "        dots = []\n",
    "        while True:\n",
    "            line = f.readline()\n",
    "            # read until line is '' or EOF\n",
    "            if (not line) or (len(line) == 1):\n",
    "                break\n",
    "            x, y = line.split(',')\n",
    "            dots.append([int(x), int(y)])\n",
    "\n",
    "        instructions = []\n",
    "        while True:\n",
    "            line = f.readline()\n",
    "            if not line:\n",
    "                break\n",
    "            xy, value = line.replace('fold along ', '').split(\"=\")\n",
    "            instructions.append([xy, int(value)])\n",
    "    \n",
    "    return np.array(dots), instructions "
   ]
  },
  {
   "cell_type": "code",
   "execution_count": 3,
   "id": "aa1cad17",
   "metadata": {},
   "outputs": [],
   "source": [
    "def fold_y_half(field):\n",
    "    field_ = field.copy()\n",
    "    y_max = np.shape(field)[0]\n",
    "    assert y_max % 2 == 1, 'row of the field should be odd number.'\n",
    "    \n",
    "    # n should be smaller than the half of the field.\n",
    "    n = int((y_max-1)/2)\n",
    "    for i in range(n):\n",
    "        field_[n-i-1, :] += field_[n+i+1, :]\n",
    "    field_ = np.where(field_>0, 1, 0)\n",
    "    return field_[:n, :]\n",
    "\n",
    "\n",
    "def fold_y(field, n):\n",
    "    n_max, m_max = np.shape(field)\n",
    "\n",
    "    # the length of folded parts are x and x_.\n",
    "    n_ = n_max - n - 1\n",
    "    \n",
    "    if n <= n_ :\n",
    "        filler = np.zeros(((n_ - n), m_max))\n",
    "        field_filled = np.vstack((filler, field))\n",
    "        field_half = fold_y_half(field_filled)\n",
    "        field_ = field_half[:n_, :]\n",
    "    else:\n",
    "        filler = np.zeros((2*(n+1) - n_max - 1, m_max))\n",
    "        field_filled = np.vstack((field, filler))\n",
    "        field_half = fold_y_half(field_filled)\n",
    "        field_ = field_half[:n, :]\n",
    "    return field_\n",
    "\n",
    "\n",
    "def fold_x(field, n):\n",
    "    return fold_y(field.T, n).T\n",
    "\n",
    "\n",
    "def fold(field, instruction):\n",
    "    if instruction[0] == 'x':\n",
    "        field_ = fold_x(field, instruction[1])\n",
    "    elif instruction[0] == 'y':\n",
    "        field_ = fold_y(field, instruction[1])\n",
    "    return field_"
   ]
  },
  {
   "cell_type": "code",
   "execution_count": 4,
   "id": "f405210d",
   "metadata": {},
   "outputs": [
    {
     "name": "stdout",
     "output_type": "stream",
     "text": [
      "number of visible dots: 850\n",
      " **  *  *  **   **  ***   **   **  *  * \n",
      "*  * *  * *  * *  * *  * *  * *  * *  * \n",
      "*  * **** *    *    *  * *    *  * *  * \n",
      "**** *  * * ** *    ***  * ** **** *  * \n",
      "*  * *  * *  * *  * *    *  * *  * *  * \n",
      "*  * *  *  ***  **  *     *** *  *  **  \n"
     ]
    }
   ],
   "source": [
    "dots, instructions = load_input(is_sample=False)\n",
    "\n",
    "# set values.\n",
    "x_max = np.max(dots[:, 1])+1\n",
    "y_max = np.max(dots[:, 0])+1\n",
    "field = np.zeros((x_max, y_max))\n",
    "for dot in dots:\n",
    "    field[dot[1], dot[0]]=1\n",
    "\n",
    "## part 1.\n",
    "field = fold(field, instructions[0])\n",
    "print(f\"number of visible dots: {np.sum(field)}\")\n",
    "\n",
    "## part 2.\n",
    "for instruction in instructions:\n",
    "    field = fold(field, instruction)\n",
    "    \n",
    "# display the result.\n",
    "for line in field:\n",
    "    line = np.where(line==1, '*', ' ')\n",
    "    print(''.join(line.tolist()))"
   ]
  }
 ],
 "metadata": {
  "kernelspec": {
   "display_name": "Python 3",
   "language": "python",
   "name": "python3"
  },
  "language_info": {
   "codemirror_mode": {
    "name": "ipython",
    "version": 3
   },
   "file_extension": ".py",
   "mimetype": "text/x-python",
   "name": "python",
   "nbconvert_exporter": "python",
   "pygments_lexer": "ipython3",
   "version": "3.9.7"
  }
 },
 "nbformat": 4,
 "nbformat_minor": 5
}
