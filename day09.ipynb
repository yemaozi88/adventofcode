{
 "cells": [
  {
   "cell_type": "code",
   "execution_count": 1,
   "id": "b533ad40",
   "metadata": {},
   "outputs": [],
   "source": [
    "# https://adventofcode.com/2021/day/9\n",
    "from io import StringIO\n",
    "from collections import deque\n",
    "\n",
    "import numpy as np\n",
    "import matplotlib.pyplot as plt"
   ]
  },
  {
   "cell_type": "code",
   "execution_count": 2,
   "id": "afd8196c",
   "metadata": {},
   "outputs": [],
   "source": [
    "def load_input(is_sample=True):\n",
    "    if is_sample:\n",
    "        lines = \"2199943210\\n3987894921\\n9856789892\\n8767896789\\n9899965678\\n\"\n",
    "    else:\n",
    "        with open('day09.txt') as f:\n",
    "            lines = f.read()\n",
    "    x_width = len(lines.split('\\n')[0])\n",
    "    lines = lines.replace('\\n', '')\n",
    "    x = np.array(list(lines)).astype(int) # 10000 numbers\n",
    "    x = x.reshape((-1, x_width))\n",
    "    return x"
   ]
  },
  {
   "cell_type": "markdown",
   "id": "7c227bbc",
   "metadata": {},
   "source": [
    "## part 1"
   ]
  },
  {
   "cell_type": "code",
   "execution_count": 3,
   "id": "c1101e54",
   "metadata": {},
   "outputs": [],
   "source": [
    "def get_low_points(x):\n",
    "    x_pad = np.pad(x, (1,1), mode='constant', constant_values=100)\n",
    "    n_row, n_col = np.shape(x_pad)\n",
    "    low_points = []\n",
    "    low_points_xy = []\n",
    "    for r in range(1, n_row-1):\n",
    "        for c in range(1, n_col-1):\n",
    "            center = x_pad[r, c]\n",
    "            window = [center, x_pad[r-1, c], x_pad[r, c-1], x_pad[r+1, c], x_pad[r, c+1]]\n",
    "            lowest = np.min(window)\n",
    "            if lowest == center and np.sum(window==lowest) == 1:\n",
    "                low_points.append(lowest)\n",
    "                low_points_xy.append((r-1, c-1))\n",
    "    return np.array(low_points), np.array(low_points_xy)"
   ]
  },
  {
   "cell_type": "code",
   "execution_count": 4,
   "id": "8b49367a",
   "metadata": {},
   "outputs": [
    {
     "name": "stdout",
     "output_type": "stream",
     "text": [
      "risk level: 524\n"
     ]
    }
   ],
   "source": [
    "x = load_input(is_sample=False)\n",
    "low_points, _ = get_low_points(x)\n",
    "risk_level = np.sum(low_points + 1)\n",
    "print(f\"risk level: {risk_level}\")"
   ]
  },
  {
   "cell_type": "markdown",
   "id": "638e4e63",
   "metadata": {},
   "source": [
    "## part 2"
   ]
  },
  {
   "cell_type": "code",
   "execution_count": 5,
   "id": "31f873b8",
   "metadata": {},
   "outputs": [],
   "source": [
    "def get_basins(x):\n",
    "    n_row, n_col = np.shape(x)\n",
    "    x_pad = np.pad(x, (1,1), mode='constant', constant_values=-1)\n",
    "    y = x_pad.copy()\n",
    "    n_row, n_col = np.shape(x_pad)\n",
    "    low_points = []\n",
    "    for r in range(1, n_row-1):\n",
    "        for c in range(1, n_col-1):\n",
    "            center = x_pad[r, c]\n",
    "            window = [center, x_pad[r-1, c], x_pad[r, c-1], x_pad[r+1, c], x_pad[r, c+1]]\n",
    "            highest = np.max(window)\n",
    "            if highest == center:\n",
    "                y[r, c] = 1\n",
    "            else:\n",
    "                y[r, c] = 0\n",
    "    return y[1:-1, 1:-1]"
   ]
  },
  {
   "cell_type": "code",
   "execution_count": 94,
   "id": "0a743b09",
   "metadata": {},
   "outputs": [],
   "source": [
    "#window = [[1, 0], [1, 1], [0, 1], [-1, 1], [-1, 0], [-1, -1], [0, -1], [1, -1]]\n",
    "window = [[1, 0], [0, 1], [-1, 0], [0, -1]]\n",
    "\n",
    "def is_ok(x, i, j, processed):\n",
    "    n_row, n_col = np.shape(x)\n",
    "    return ((i < n_row) and (i >= 0) \\\n",
    "            and (j < n_col) and (j >= 0) \\\n",
    "            and (x[i, j] != 9) and (processed[i, j] == 0))\n",
    "\n",
    "\n",
    "def check_movable_region(x, i, j, window, y, processed):\n",
    "    processed[i, j] = 1\n",
    "    for r, c in window:\n",
    "        if is_ok(x, i+r, j+c, processed) and (x[i+r, j+c] >= x[i, j]):\n",
    "            processed[i+r, j+c] = 1\n",
    "            y[i+r, j+c] = 10\n",
    "    return y, processed\n",
    "\n",
    "            \n",
    "def subtract_array(q1, q2):\n",
    "    # index to removed.\n",
    "    assert len(q1)>=len(q2), \"should be len(q1) >= len(q2).\"\n",
    "    rs = []\n",
    "    for q2_ in q2:\n",
    "        for r, q1_ in enumerate(q1):\n",
    "            if (q1_ == q2_).all():\n",
    "                rs.append(r)\n",
    "    return np.delete(q1, rs, axis=0)\n",
    "\n",
    "\n",
    "def get_queue(y, processed_center, is_first=False):\n",
    "    i_x, i_y = np.where(y==10)\n",
    "    q = np.vstack((i_x, i_y)).T\n",
    "    if not is_first:\n",
    "        q = subtract_array(q, np.array(processed_center))\n",
    "    return q\n",
    "\n",
    "\n",
    "# def extract_basin(basins, i, j):\n",
    "#     '''exctract one basin from basins, which can be obtained by get_basins() '''\n",
    "#     x = basins.copy()\n",
    "    \n",
    "#     # region marker, same size as x.\n",
    "#     y = x.copy()\n",
    "#     # matrix to check if each point is processed, same size as x.\n",
    "#     processed = np.zeros(np.shape(x)).astype(int)\n",
    "\n",
    "#     # starting point.\n",
    "#     y[i, j] = 2\n",
    "#     processed[i, j] = 1\n",
    "#     processed_center = []\n",
    "#     check_movable_region(x, i, j, window, y, processed)\n",
    "#     q = get_queue(y, processed_center, is_first=True)\n",
    "    \n",
    "#     while len(q) > 0:\n",
    "#         #print('\\r' + f\"{np.sum(np.array(processed_center)==1)}, {len()}\", end=\"\")\n",
    "#         i, j = q[0]\n",
    "#         processed_center.append((i, j))\n",
    "\n",
    "#         # set 2 into the points belong to the region.\n",
    "#         for i_x, i_y in zip(*np.where(y==2)):\n",
    "#             check_movable_region(x, i_x, i_y, window, y, processed)\n",
    "\n",
    "#         # update the queue.\n",
    "#         q = get_queue(y, processed_center)\n",
    "#     return np.where(y==2, 1, 0)\n",
    "\n",
    "\n",
    "def get_basin(x, i, j, window):\n",
    "    # region marker, same size as x.\n",
    "    y = x.copy()\n",
    "\n",
    "    # matrix to check if each point is processed, same size as x.\n",
    "    processed = np.zeros(np.shape(x)).astype(int)\n",
    "    processed_center = []\n",
    "\n",
    "    # starting point.\n",
    "    y[i, j] = 10\n",
    "    processed_center.append((i, j))\n",
    "    y, processed = check_movable_region(x, i, j, window, y, processed)\n",
    "    q = get_queue(y, processed_center)\n",
    "\n",
    "    while len(q) > 0:\n",
    "        i, j = q[0]\n",
    "        processed_center.append((i, j))\n",
    "        y, processed = check_movable_region(x, i, j, window, y, processed)\n",
    "        q = get_queue(y, processed_center)\n",
    "\n",
    "    return np.where(y==10, 1, 0)\n",
    "    \n",
    "    \n",
    "def disp_heatmap(x):\n",
    "    plt.imshow(x, cmap='hot', interpolation='nearest')\n",
    "    plt.show()"
   ]
  },
  {
   "cell_type": "code",
   "execution_count": 102,
   "id": "a12ad10a",
   "metadata": {},
   "outputs": [],
   "source": [
    "x = load_input(is_sample=False)\n",
    "\n",
    "_, low_points = get_low_points(x)\n",
    "\n",
    "basin_sizes = []\n",
    "for low_point in low_points:\n",
    "    i, j = low_point\n",
    "    basin = get_basin2(x, i, j, window)\n",
    "    basin_sizes.append(np.sum(basin))"
   ]
  },
  {
   "cell_type": "code",
   "execution_count": 103,
   "id": "5d21d052",
   "metadata": {},
   "outputs": [
    {
     "name": "stdout",
     "output_type": "stream",
     "text": [
      "product of the 3 largest basins: 1235430\n"
     ]
    }
   ],
   "source": [
    "# answer\n",
    "basin_sizes = np.array(basin_sizes)\n",
    "biggest3 = basin_sizes[basin_sizes.argsort()[-3:]]\n",
    "print(f\"product of the 3 largest basins: {np.prod(biggest3)}\")"
   ]
  }
 ],
 "metadata": {
  "kernelspec": {
   "display_name": "Python 3",
   "language": "python",
   "name": "python3"
  },
  "language_info": {
   "codemirror_mode": {
    "name": "ipython",
    "version": 3
   },
   "file_extension": ".py",
   "mimetype": "text/x-python",
   "name": "python",
   "nbconvert_exporter": "python",
   "pygments_lexer": "ipython3",
   "version": "3.9.7"
  }
 },
 "nbformat": 4,
 "nbformat_minor": 5
}
