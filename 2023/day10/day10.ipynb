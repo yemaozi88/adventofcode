{
 "cells": [
  {
   "cell_type": "code",
   "execution_count": 1,
   "id": "83994803-5af2-44e8-a72b-2aedae35a50b",
   "metadata": {},
   "outputs": [],
   "source": [
    "import numpy as np"
   ]
  },
  {
   "cell_type": "code",
   "execution_count": 113,
   "id": "cf687928-c81d-42fb-b9e5-179584a136e0",
   "metadata": {},
   "outputs": [],
   "source": [
    "def load_data(input_id=''): \n",
    "    X = np.loadtxt(\"input\"+input_id+\".txt\", dtype='str')\n",
    "    X = np.array([list(x) for x in X])\n",
    "    return X\n",
    "\n",
    "\n",
    "def search_start(X):\n",
    "    r, c = np.where(X=='S')\n",
    "    return [r[0], c[0]]\n",
    "\n",
    "\n",
    "def connected_tiles(X, t):\n",
    "    r, c = t\n",
    "    symbol = X[r][c]\n",
    "    north = [r-1, c]\n",
    "    east  = [r, c+1]\n",
    "    south = [r+1, c]\n",
    "    west  = [r, c-1]\n",
    "    if symbol == 'S':\n",
    "        tiles = [north, east, south, west]\n",
    "    elif symbol == '|':\n",
    "        tiles = [north, south]\n",
    "    elif symbol == '-':\n",
    "        tiles = [west, east]\n",
    "    elif symbol == 'L':\n",
    "        tiles = [north, east]\n",
    "    elif symbol == 'J':\n",
    "        tiles = [north, west]\n",
    "    elif symbol == '7':\n",
    "        tiles = [south, west]\n",
    "    elif symbol == 'F':\n",
    "        tiles = [south, east]\n",
    "    else:\n",
    "        tiles = []\n",
    "    return tiles\n",
    "\n",
    "\n",
    "def is_connected(tile1, tile2):\n",
    "    ''' if two tiles are connected by pipe '''\n",
    "    result = False \n",
    "    if (tile1 in connected_tiles(X, tile2)) and (tile2 in connected_tiles(X, tile1)):\n",
    "        result = True\n",
    "    return result\n",
    "\n",
    "\n",
    "def tiles_next(X, tile):\n",
    "    tiles = [tile_ for tile_ in connected_tiles(X, tile) if is_connected(tile, tile_)]\n",
    "    return tiles\n",
    "\n",
    "\n",
    "def go_next(X, tile, tile_previous):\n",
    "    tiles = tiles_next(X, tile)\n",
    "    tiles.remove(tile_previous)\n",
    "    if len(tiles) == 1:\n",
    "        tile_next = tiles[0]\n",
    "    else:\n",
    "        print(f\"next tile can be one of {tiles}.\")\n",
    "        return -1\n",
    "    return tile_next, tile\n",
    "\n",
    "\n",
    "def split_path(paths):\n",
    "    n_steps = paths[-1][0]\n",
    "    for path in paths:\n",
    "        path[0] = np.min([path[0], n_steps - path[0]])\n",
    "    return paths\n",
    "    \n",
    "\n",
    "def disp_path(X, paths):\n",
    "    X_path = np.copy(X)\n",
    "    for path in paths:\n",
    "        step, tile = path\n",
    "        X_path[tile[0]][tile[1]] = step\n",
    "    return X_path"
   ]
  },
  {
   "cell_type": "code",
   "execution_count": 116,
   "id": "6d3912ee-6d59-4893-9289-d1a181d552c0",
   "metadata": {},
   "outputs": [
    {
     "name": "stdout",
     "output_type": "stream",
     "text": [
      "start from [111, 14]\n"
     ]
    }
   ],
   "source": [
    "## load data\n",
    "X = load_data(input_id='')\n",
    "\n",
    "## find starting position.\n",
    "paths = []\n",
    "n_step  = 0\n",
    "t_start = search_start(X)\n",
    "print(f\"start from {t_start}\")\n",
    "paths.append([n_step, t_start])\n",
    "\n",
    "## forward one step.\n",
    "tiles = tiles_next(X, t_start)\n",
    "#print(f\"{t_start} can go to: {tiles}\")\n",
    "tile_previous = t_start\n",
    "tile = tiles[1]\n",
    "n_step += 1\n",
    "paths.append([n_step, tile])\n",
    "#print(f\"{t_start}-->{tile}\")\n",
    "\n",
    "## loop until coming back to the starting point.\n",
    "while not tile==t_start:\n",
    "    tile, tile_previous = go_next(X, tile, tile_previous)\n",
    "    n_step += 1\n",
    "    paths.append([n_step, tile])\n",
    "    #print(f\"{tile_previous}-->{tile}\")"
   ]
  },
  {
   "cell_type": "code",
   "execution_count": 117,
   "id": "54901191-96f2-4fa5-b2ea-0b65e991fef3",
   "metadata": {},
   "outputs": [
    {
     "data": {
      "text/plain": [
       "6812"
      ]
     },
     "execution_count": 117,
     "metadata": {},
     "output_type": "execute_result"
    }
   ],
   "source": [
    "#disp_path(X, paths)\n",
    "\n",
    "# furthest tile can be reached by 2 ways.\n",
    "paths = split_path(paths)\n",
    "\n",
    "# calculate the number of steps to reach the furthest file.\n",
    "x = [path[0] for path in paths]\n",
    "print(f\"to get from the starting position to the point farthest from the starting position: {np.max(x)}\")"
   ]
  },
  {
   "cell_type": "code",
   "execution_count": 109,
   "id": "9278031f-f281-4a9a-b31b-1e91ddbded28",
   "metadata": {},
   "outputs": [
    {
     "data": {
      "text/plain": [
       "6812"
      ]
     },
     "execution_count": 109,
     "metadata": {},
     "output_type": "execute_result"
    }
   ],
   "source": []
  }
 ],
 "metadata": {
  "kernelspec": {
   "display_name": "Python 3 (ipykernel)",
   "language": "python",
   "name": "python3"
  },
  "language_info": {
   "codemirror_mode": {
    "name": "ipython",
    "version": 3
   },
   "file_extension": ".py",
   "mimetype": "text/x-python",
   "name": "python",
   "nbconvert_exporter": "python",
   "pygments_lexer": "ipython3",
   "version": "3.11.5"
  }
 },
 "nbformat": 4,
 "nbformat_minor": 5
}
