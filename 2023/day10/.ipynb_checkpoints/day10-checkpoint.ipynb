{
 "cells": [
  {
   "cell_type": "code",
   "execution_count": 1,
   "id": "83994803-5af2-44e8-a72b-2aedae35a50b",
   "metadata": {},
   "outputs": [],
   "source": [
    "import queue\n",
    "\n",
    "import numpy as np"
   ]
  },
  {
   "cell_type": "code",
   "execution_count": 2,
   "id": "cf687928-c81d-42fb-b9e5-179584a136e0",
   "metadata": {},
   "outputs": [],
   "source": [
    "def load_data(input_id=''): \n",
    "    X = np.loadtxt(\"input\"+input_id+\".txt\", dtype='str')\n",
    "    X = np.array([list(x) for x in X])\n",
    "    return X\n",
    "\n",
    "\n",
    "def search_start(X):\n",
    "    r, c = np.where(X=='S')\n",
    "    return [r[0], c[0]]\n",
    "\n",
    "\n",
    "symbols = ['S', '|', '-', 'L', 'J', '7', 'F']\n",
    "def connected_tiles(X, t):\n",
    "    r, c = t\n",
    "    symbol = X[r][c]\n",
    "    north = [r-1, c]\n",
    "    east  = [r, c+1]\n",
    "    south = [r+1, c]\n",
    "    west  = [r, c-1]\n",
    "    if symbol == 'S':\n",
    "        tiles = [north, east, south, west]\n",
    "    elif symbol == '|':\n",
    "        tiles = [north, south]\n",
    "    elif symbol == '-':\n",
    "        tiles = [west, east]\n",
    "    elif symbol == 'L':\n",
    "        tiles = [north, east]\n",
    "    elif symbol == 'J':\n",
    "        tiles = [north, west]\n",
    "    elif symbol == '7':\n",
    "        tiles = [south, west]\n",
    "    elif symbol == 'F':\n",
    "        tiles = [south, east]\n",
    "    else:\n",
    "        tiles = []\n",
    "    return tiles\n",
    "\n",
    "\n",
    "def is_connected(tile1, tile2):\n",
    "    ''' if two tiles are connected by pipe '''\n",
    "    result = False \n",
    "    if (tile1 in connected_tiles(X, tile2)) and (tile2 in connected_tiles(X, tile1)):\n",
    "        result = True\n",
    "    return result\n",
    "\n",
    "\n",
    "def tiles_next(X, tile):\n",
    "    tiles = [tile_ for tile_ in connected_tiles(X, tile) if is_connected(tile, tile_)]\n",
    "    return tiles\n",
    "\n",
    "\n",
    "def go_next(X, tile, tile_previous):\n",
    "    tiles = tiles_next(X, tile)\n",
    "    tiles.remove(tile_previous)\n",
    "    if len(tiles) == 1:\n",
    "        tile_next = tiles[0]\n",
    "    else:\n",
    "        print(f\"next tile can be one of {tiles}.\")\n",
    "        return -1\n",
    "    return tile_next, tile\n",
    "\n",
    "\n",
    "def get_path(X):\n",
    "    paths = []\n",
    "    n_step  = 0\n",
    "    t_start = search_start(X)\n",
    "    #print(f\"start from {t_start}\")\n",
    "    paths.append([n_step, t_start])\n",
    "    \n",
    "    ## forward one step.\n",
    "    tiles = tiles_next(X, t_start)\n",
    "    #print(f\"{t_start} can go to: {tiles}\")\n",
    "    tile_previous = t_start\n",
    "    tile = tiles[1]\n",
    "    n_step += 1\n",
    "    paths.append([n_step, tile])\n",
    "    #print(f\"{t_start}-->{tile}\")\n",
    "    \n",
    "    ## loop until coming back to the starting point.\n",
    "    while not tile==t_start:\n",
    "        tile, tile_previous = go_next(X, tile, tile_previous)\n",
    "        n_step += 1\n",
    "        paths.append([n_step, tile])\n",
    "        #print(f\"{tile_previous}-->{tile}\")\n",
    "\n",
    "    return paths\n",
    "\n",
    "\n",
    "def split_path(paths):\n",
    "    n_steps = paths[-1][0]\n",
    "    for path in paths:\n",
    "        path[0] = np.min([path[0], n_steps - path[0]])\n",
    "    return paths\n",
    "    \n",
    "\n",
    "def disp_path(X, paths):\n",
    "    X_path = np.copy(X)\n",
    "    for path in paths:\n",
    "        step, tile = path\n",
    "        X_path[tile[0]][tile[1]] = step\n",
    "    return X_path"
   ]
  },
  {
   "cell_type": "markdown",
   "id": "d10be513-3e8b-4243-90df-9426ec1fe460",
   "metadata": {},
   "source": [
    "## part 1"
   ]
  },
  {
   "cell_type": "code",
   "execution_count": 3,
   "id": "6d3912ee-6d59-4893-9289-d1a181d552c0",
   "metadata": {},
   "outputs": [
    {
     "name": "stdout",
     "output_type": "stream",
     "text": [
      "to get from the starting position to the point farthest from the starting position: 6812\n"
     ]
    }
   ],
   "source": [
    "## load data\n",
    "X = load_data(input_id='')\n",
    "\n",
    "## find the loop.\n",
    "paths = get_path(X)\n",
    "\n",
    "#disp_path(X, paths)\n",
    "\n",
    "## furthest tile can be reached by 2 ways.\n",
    "paths = split_path(paths)\n",
    "\n",
    "## calculate the number of steps to reach the furthest file.\n",
    "x = [path[0] for path in paths]\n",
    "print(f\"to get from the starting position to the point farthest from the starting position: {np.max(x)}\")"
   ]
  },
  {
   "cell_type": "markdown",
   "id": "a5057c29-a29b-4138-a645-1463949fefad",
   "metadata": {},
   "source": [
    "## part 2"
   ]
  },
  {
   "cell_type": "code",
   "execution_count": 4,
   "id": "72bfecd9-42e8-47a9-a147-99a08f574671",
   "metadata": {},
   "outputs": [],
   "source": [
    "corners = ['L', 'J', '7', 'F']\n",
    "edges   = ['|', '-']\n",
    "\n",
    "def disp_path2(X, paths):\n",
    "    ''' except for the main loop, replace everything into '.' '''\n",
    "    X_path = np.copy(X)\n",
    "    path_tiles = [path[1] for path in paths]\n",
    "    n_rows, n_cols = np.shape(X)\n",
    "    for r in range(n_rows):\n",
    "        for c in range(1, n_cols):\n",
    "            if not [r, c] in path_tiles:\n",
    "                X_path[r][c] == '.'\n",
    "    return X_path\n",
    "\n",
    "\n",
    "def is_corner(X, tile):\n",
    "    tiles = tiles_next(X, tile)\n",
    "    x = np.array([np.array(tile) - np.array(t) for t in tiles])\n",
    "    result = True\n",
    "    if np.all(np.sum(x, axis=0)==0):\n",
    "        result = False\n",
    "    return result"
   ]
  },
  {
   "cell_type": "code",
   "execution_count": 5,
   "id": "ca3b5e4d-aaa0-4aa0-9f0e-47ae6e44e692",
   "metadata": {},
   "outputs": [],
   "source": [
    "## load data\n",
    "X = load_data(input_id='2a_')\n",
    "\n",
    "if is_corner(X, search_start(X)):\n",
    "    corners.append('S')\n",
    "else:\n",
    "    edges.append('S')    "
   ]
  },
  {
   "cell_type": "code",
   "execution_count": 6,
   "id": "f854d5e6-ac73-420b-bf63-abcd8416b77c",
   "metadata": {},
   "outputs": [
    {
     "data": {
      "text/plain": [
       "array([['.', '.', '.', '.', '.', '.', '.', '.', '.', '.', '.'],\n",
       "       ['.', 'S', '-', '-', '-', '-', '-', '-', '-', '7', '.'],\n",
       "       ['.', '|', 'F', '-', '-', '-', '-', '-', '7', '|', '.'],\n",
       "       ['.', '|', '|', '.', '.', '.', '.', '.', '|', '|', '.'],\n",
       "       ['.', '|', '|', '.', '.', '.', '.', '.', '|', '|', '.'],\n",
       "       ['.', '|', 'L', '-', '7', '.', 'F', '-', 'J', '|', '.'],\n",
       "       ['.', '|', '.', '.', '|', '.', '|', '.', '.', '|', '.'],\n",
       "       ['.', 'L', '-', '-', 'J', '.', 'L', '-', '-', 'J', '.'],\n",
       "       ['.', '.', '.', '.', '.', '.', '.', '.', '.', '.', '.']],\n",
       "      dtype='<U1')"
      ]
     },
     "execution_count": 6,
     "metadata": {},
     "output_type": "execute_result"
    }
   ],
   "source": [
    "## find the loop.\n",
    "paths = get_path(X)\n",
    "paths = split_path(paths)\n",
    "X_ = disp_path2(X, paths)\n",
    "X_"
   ]
  },
  {
   "cell_type": "code",
   "execution_count": 7,
   "id": "6f3c4b1a-5c2b-4238-98b6-b11c57def5c3",
   "metadata": {},
   "outputs": [
    {
     "data": {
      "text/plain": [
       "array([[0, 0, 0, 0, 0, 0, 0, 0, 0, 0, 0],\n",
       "       [0, 1, 1, 1, 1, 1, 1, 1, 1, 1, 1],\n",
       "       [0, 1, 1, 1, 1, 1, 1, 1, 1, 1, 1],\n",
       "       [0, 1, 1, 1, 1, 1, 1, 1, 0, 0, 0],\n",
       "       [0, 1, 1, 1, 1, 1, 1, 1, 0, 0, 0],\n",
       "       [0, 1, 1, 1, 1, 1, 0, 0, 0, 0, 0],\n",
       "       [0, 1, 1, 1, 0, 0, 1, 1, 1, 0, 0],\n",
       "       [0, 1, 1, 1, 1, 1, 0, 0, 0, 0, 0],\n",
       "       [0, 0, 0, 0, 0, 0, 0, 0, 0, 0, 0]])"
      ]
     },
     "execution_count": 7,
     "metadata": {},
     "output_type": "execute_result"
    }
   ],
   "source": [
    "n_rows, n_cols = np.shape(X_)\n",
    "\n",
    "N_cross = np.zeros(np.shape(X_)).astype('int')\n",
    "n_cross = 0\n",
    "for r in range(1, n_rows):\n",
    "    if (not X_[r][0] in ['.', '|']):\n",
    "    #if (X_[r][0] != X_[r-1][0]) and (X_[r][0] != '|') and (X_[r-1][0] != '|'):\n",
    "        n_cross += 1\n",
    "    N_cross[r][0] = n_cross\n",
    "\n",
    "for r in range(n_rows):\n",
    "    n_cross = N_cross[r][0]\n",
    "    for c in range(1, n_cols):\n",
    "        if ((X_[r][c] in symbols) and (not X_[r][c-1] in symbols)):\n",
    "#           or (not X_[r][c] in symbols) and (X_[r][c-1] in symbols)):\n",
    "            n_cross += 1\n",
    "        #print(f\"({r}, {c}): {X_[r][c-1]}, {X_[r][c]}: {n_cross}\")\n",
    "        N_cross[r][c] = n_cross %2\n",
    "N_cross"
   ]
  },
  {
   "cell_type": "code",
   "execution_count": 8,
   "id": "194659d6-b6aa-439e-87a0-651e5a481fc6",
   "metadata": {},
   "outputs": [
    {
     "data": {
      "text/plain": [
       "array([['.', '.', '.', '.', '.', '.', '.', '.', '.', '.', '.'],\n",
       "       ['.', 'S', '-', '-', '-', '-', '-', '-', '-', '7', 'I'],\n",
       "       ['.', '|', 'F', '-', '-', '-', '-', '-', '7', '|', 'I'],\n",
       "       ['.', '|', '|', 'I', 'I', 'I', 'I', 'I', '|', '|', '.'],\n",
       "       ['.', '|', '|', 'I', 'I', 'I', 'I', 'I', '|', '|', '.'],\n",
       "       ['.', '|', 'L', '-', '7', 'I', 'F', '-', 'J', '|', '.'],\n",
       "       ['.', '|', 'I', 'I', '|', '.', '|', 'I', 'I', '|', '.'],\n",
       "       ['.', 'L', '-', '-', 'J', 'I', 'L', '-', '-', 'J', '.'],\n",
       "       ['.', '.', '.', '.', '.', '.', '.', '.', '.', '.', '.']],\n",
       "      dtype='<U1')"
      ]
     },
     "execution_count": 8,
     "metadata": {},
     "output_type": "execute_result"
    }
   ],
   "source": [
    "for r in range(n_rows):\n",
    "    for c in range(n_cols):\n",
    "        if (N_cross[r][c] == 1) and (X_[r][c] not in symbols):\n",
    "            X_[r][c] = 'I'\n",
    "X_"
   ]
  }
 ],
 "metadata": {
  "kernelspec": {
   "display_name": "Python 3 (ipykernel)",
   "language": "python",
   "name": "python3"
  },
  "language_info": {
   "codemirror_mode": {
    "name": "ipython",
    "version": 3
   },
   "file_extension": ".py",
   "mimetype": "text/x-python",
   "name": "python",
   "nbconvert_exporter": "python",
   "pygments_lexer": "ipython3",
   "version": "3.11.5"
  }
 },
 "nbformat": 4,
 "nbformat_minor": 5
}
