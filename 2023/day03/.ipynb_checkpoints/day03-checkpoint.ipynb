{
 "cells": [
  {
   "cell_type": "code",
   "execution_count": 1,
   "id": "a19fdeae-ae57-4a43-863d-ec1a19ff97bc",
   "metadata": {},
   "outputs": [],
   "source": [
    "import os\n",
    "import re\n",
    "\n",
    "import numpy as np"
   ]
  },
  {
   "cell_type": "code",
   "execution_count": 48,
   "id": "4633fe11-1fcb-47a3-a8e6-3bbab99e20a1",
   "metadata": {},
   "outputs": [
    {
     "data": {
      "text/plain": [
       "array([['.', '.', '.', '.', '.', '.', '.', '.', '.', '.', '.', '.'],\n",
       "       ['.', '4', '6', '7', '.', '.', '1', '1', '4', '.', '.', '.'],\n",
       "       ['.', '.', '.', '.', '*', '.', '.', '.', '.', '.', '.', '.'],\n",
       "       ['.', '.', '.', '3', '5', '.', '.', '6', '3', '3', '.', '.'],\n",
       "       ['.', '.', '.', '.', '.', '.', '.', '#', '.', '.', '.', '.'],\n",
       "       ['.', '6', '1', '7', '*', '.', '.', '.', '.', '.', '.', '.'],\n",
       "       ['.', '.', '.', '.', '.', '.', '+', '.', '5', '8', '.', '.'],\n",
       "       ['.', '.', '.', '5', '9', '2', '.', '.', '.', '.', '.', '.'],\n",
       "       ['.', '.', '.', '.', '.', '.', '.', '7', '5', '5', '.', '.'],\n",
       "       ['.', '.', '.', '.', '$', '.', '*', '.', '.', '.', '.', '.'],\n",
       "       ['.', '.', '6', '6', '4', '.', '5', '9', '8', '.', '.', '.'],\n",
       "       ['.', '.', '.', '.', '.', '.', '.', '.', '.', '.', '.', '.']],\n",
       "      dtype='<U1')"
      ]
     },
     "execution_count": 48,
     "metadata": {},
     "output_type": "execute_result"
    }
   ],
   "source": [
    "is_test = True\n",
    "\n",
    "if is_test:\n",
    "    test_txt = 'input_.txt'\n",
    "else:\n",
    "    test_txt = 'input.txt'\n",
    "    \n",
    "with open(test_txt) as f:\n",
    "    lines = f.read().strip().split('\\n')\n",
    "\n",
    "data = np.array([np.array(list(line)) for line in lines])\n",
    "data_padded = np.pad(data, 1, mode='constant', constant_values=('.'))\n",
    "data_padded"
   ]
  },
  {
   "cell_type": "code",
   "execution_count": 45,
   "id": "2fb0e54b-40da-4672-aa78-9e110e2ed60f",
   "metadata": {},
   "outputs": [],
   "source": [
    "def get_adjacents(data_padded, c, r_start, r_end):\n",
    "    '''\n",
    "    line[r_start:r_end] is the number. \n",
    "    '''\n",
    "    # number\n",
    "    data_padded[c+1, r_start+1:r_end+1]\n",
    "    adjacents = []\n",
    "    # above\n",
    "    adjacents.extend(list(data_padded[c, r_start:r_end+2]))\n",
    "    # right and left\n",
    "    adjacents.append(data_padded[c+1, r_start])\n",
    "    adjacents.append(data_padded[c+1, r_end+2])\n",
    "    # below\n",
    "    adjacents.extend(data_padded[c+2, r_start:r_end+2])\n",
    "    \n",
    "    return adjacents"
   ]
  },
  {
   "cell_type": "code",
   "execution_count": 49,
   "id": "544f6b07-e304-4ad0-be62-a5aac0b216ca",
   "metadata": {},
   "outputs": [
    {
     "name": "stdout",
     "output_type": "stream",
     "text": [
      "467\n",
      "['.', '.', '.', '.', '.', '.', '.', '.', '.', '.', '.', '*']\n",
      "114\n",
      "['.', '.', '.', '.', '.', '.', '.', '.', '.', '.', '.', '.']\n",
      "35\n",
      "['.', '.', '*', '.', '.', '.', '.', '.', '.', '.']\n",
      "633\n",
      "['.', '.', '.', '.', '.', '.', '.', '.', '#', '.', '.', '.']\n",
      "617\n",
      "['.', '.', '.', '.', '.', '.', '.', '.', '.', '.', '.', '.']\n",
      "58\n",
      "['.', '.', '.', '.', '.', '.', '.', '.', '.', '.']\n",
      "592\n",
      "['.', '.', '.', '.', '+', '.', '.', '.', '.', '.', '.', '.']\n",
      "755\n",
      "['.', '.', '.', '.', '.', '.', '.', '*', '.', '.', '.', '.']\n",
      "664\n",
      "['.', '.', '.', '$', '.', '.', '5', '.', '.', '.', '.', '.']\n",
      "598\n",
      "['.', '*', '.', '.', '.', '.', '.', '.', '.', '.', '.', '.']\n"
     ]
    }
   ],
   "source": [
    "\n",
    "for c, line in enumerate(lines):\n",
    "    numbers = re.findall('\\d+', line)\n",
    "    if len(numbers) > 0: # if there are numbers in the line.\n",
    "        for number in numbers:\n",
    "            print(number)\n",
    "            # row where the number start/end\n",
    "            r_start = line.find(number)\n",
    "            r_end = r_start + len(number)\n",
    "            \n",
    "            ## get adjacent cells.\n",
    "            adjacents = get_adjacents(data_padded, c, r_start, r_end)\n",
    "            #adjacents = adjacents.remove('.')\n",
    "            print(adjacents)\n"
   ]
  }
 ],
 "metadata": {
  "kernelspec": {
   "display_name": "Python 3 (ipykernel)",
   "language": "python",
   "name": "python3"
  },
  "language_info": {
   "codemirror_mode": {
    "name": "ipython",
    "version": 3
   },
   "file_extension": ".py",
   "mimetype": "text/x-python",
   "name": "python",
   "nbconvert_exporter": "python",
   "pygments_lexer": "ipython3",
   "version": "3.11.5"
  }
 },
 "nbformat": 4,
 "nbformat_minor": 5
}
