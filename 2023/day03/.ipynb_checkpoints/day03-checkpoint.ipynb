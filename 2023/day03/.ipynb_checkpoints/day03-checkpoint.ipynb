{
 "cells": [
  {
   "cell_type": "code",
   "execution_count": 1,
   "id": "a19fdeae-ae57-4a43-863d-ec1a19ff97bc",
   "metadata": {},
   "outputs": [],
   "source": [
    "import os\n",
    "import re\n",
    "\n",
    "import numpy as np"
   ]
  },
  {
   "cell_type": "code",
   "execution_count": 2,
   "id": "2fb0e54b-40da-4672-aa78-9e110e2ed60f",
   "metadata": {},
   "outputs": [],
   "source": [
    "def load_data(is_test=False):\n",
    "    \n",
    "    if is_test:\n",
    "        test_txt = 'input_.txt'\n",
    "    else:\n",
    "        test_txt = 'input.txt'\n",
    "        \n",
    "    with open(test_txt) as f:\n",
    "        lines = f.read().strip().split('\\n')\n",
    "    \n",
    "    data = np.array([np.array(list(line)) for line in lines])\n",
    "    data_padded = np.pad(data, 1, mode='constant', constant_values=('.'))\n",
    "    \n",
    "    return lines, data, data_padded \n",
    "\n",
    "\n",
    "def get_adjacents(data_padded, c, r_start, r_end):\n",
    "    '''\n",
    "    line[r_start:r_end] is the number. \n",
    "    '''\n",
    "    # number\n",
    "    # data_padded[c+1, r_start+1:r_end+1]\n",
    "    adjacents = []\n",
    "    # above\n",
    "    adjacents.extend(list(data_padded[c, r_start:r_end+2]))\n",
    "    # right and left\n",
    "    adjacents.append(data_padded[c+1, r_start])\n",
    "    adjacents.append(data_padded[c+1, r_end+1])\n",
    "    # below\n",
    "    adjacents.extend(data_padded[c+2, r_start:r_end+2])\n",
    "    \n",
    "    return adjacents"
   ]
  },
  {
   "cell_type": "code",
   "execution_count": 3,
   "id": "544f6b07-e304-4ad0-be62-a5aac0b216ca",
   "metadata": {},
   "outputs": [
    {
     "name": "stdout",
     "output_type": "stream",
     "text": [
      "the sum of all of the part numbers in the engine schematic: 550064\n"
     ]
    }
   ],
   "source": [
    "lines, data, data_padded = load_data(is_test=False)\n",
    "\n",
    "part_numbers_all = 0\n",
    "not_part_numbers = []\n",
    "for c, line in enumerate(lines):\n",
    "    numbers = re.findall('\\d+', line)\n",
    "    number_positions = [(m.start(0), m.end(0)) for m in re.finditer('\\d+', line)]\n",
    "    \n",
    "    if len(numbers) > 0: # if there are numbers in the line.\n",
    "        for number, number_position in zip(numbers, number_positions):\n",
    "            # row where the number start/end\n",
    "            #r_start = line.find(number)\n",
    "            #r_end = r_start + len(number)\n",
    "            r_start, r_end = number_position\n",
    "            \n",
    "            ## get adjacent cells.\n",
    "            adjacents = get_adjacents(data_padded, c, r_start, r_end)\n",
    "            adjacents_ = [x for x in adjacents if x not in ['.', '0', '1', '2', '3', '4', '5', '6', '7', '8', '9']]\n",
    "            #adjacents_ = [x for x in adjacents if x not in ['.']]\n",
    "            if len(adjacents_) > 0:\n",
    "                #print(f\"{number} ({c}, {r_start}-{r_end}): {adjacents_}\")\n",
    "                #print(f\"{adjacents}\")\n",
    "                part_numbers_all += int(number)\n",
    "            else:\n",
    "                not_part_numbers.append((c, r_start, r_end))\n",
    "                #print(f\"{number} ({c}, {r_start}-{r_end}): {adjacents_}\")\n",
    "print(f\"the sum of all of the part numbers in the engine schematic: {part_numbers_all}\")"
   ]
  },
  {
   "cell_type": "code",
   "execution_count": 5,
   "id": "0e509b3d-08f2-4a5a-849b-72649f22c777",
   "metadata": {},
   "outputs": [],
   "source": [
    "## circle non-parts (for debug)\n",
    "data_ = np.copy(data_padded)\n",
    "for x in not_part_numbers:\n",
    "    c, r_start, r_end = x\n",
    "    adjacents = get_adjacents(data_padded, c, r_start, r_end)\n",
    "    data_[c, r_start:r_end+2] = '@'\n",
    "    data_[c+1, r_start] = '@'\n",
    "    data_[c+1, r_end+1] = '@'\n",
    "    data_[c+2, r_start:r_end+2] = '@'\n",
    "\n",
    "# output\n",
    "n_rows, n_cols = np.shape(data_)\n",
    "with open(\"output.txt\", \"w\") as f:\n",
    "    for r in range(n_rows):\n",
    "        line = data_[r, :]\n",
    "        f.write(''.join(line)+'\\n')"
   ]
  },
  {
   "cell_type": "code",
   "execution_count": null,
   "id": "3d2c6555-dcfc-45e0-8545-532eef3cc1b9",
   "metadata": {},
   "outputs": [],
   "source": []
  }
 ],
 "metadata": {
  "kernelspec": {
   "display_name": "Python 3 (ipykernel)",
   "language": "python",
   "name": "python3"
  },
  "language_info": {
   "codemirror_mode": {
    "name": "ipython",
    "version": 3
   },
   "file_extension": ".py",
   "mimetype": "text/x-python",
   "name": "python",
   "nbconvert_exporter": "python",
   "pygments_lexer": "ipython3",
   "version": "3.11.5"
  }
 },
 "nbformat": 4,
 "nbformat_minor": 5
}
