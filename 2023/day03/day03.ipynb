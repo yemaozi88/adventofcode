{
 "cells": [
  {
   "cell_type": "code",
   "execution_count": 6,
   "id": "a19fdeae-ae57-4a43-863d-ec1a19ff97bc",
   "metadata": {},
   "outputs": [],
   "source": [
    "import os\n",
    "import re\n",
    "\n",
    "import numpy as np\n",
    "import pandas as pd"
   ]
  },
  {
   "cell_type": "code",
   "execution_count": 42,
   "id": "2fb0e54b-40da-4672-aa78-9e110e2ed60f",
   "metadata": {},
   "outputs": [],
   "source": [
    "def load_data(is_test=False):\n",
    "    \n",
    "    if is_test:\n",
    "        test_txt = 'input_.txt'\n",
    "    else:\n",
    "        test_txt = 'input.txt'\n",
    "        \n",
    "    with open(test_txt) as f:\n",
    "        lines = f.read().strip().split('\\n')\n",
    "    \n",
    "    data = np.array([np.array(list(line)) for line in lines])\n",
    "    data_padded = np.pad(data, 1, mode='constant', constant_values=('.'))\n",
    "    \n",
    "    return lines, data, data_padded \n",
    "\n",
    "\n",
    "def get_adjacents(data_padded, c, r_start, r_end):\n",
    "    '''\n",
    "    line[r_start:r_end] is the number. \n",
    "    '''\n",
    "    # number\n",
    "    # data_padded[c+1, r_start+1:r_end+1]\n",
    "    adjacents = []\n",
    "    # above\n",
    "    adjacents.extend(list(data_padded[c, r_start:r_end+2]))\n",
    "    # right and left\n",
    "    adjacents.append(data_padded[c+1, r_start])\n",
    "    adjacents.append(data_padded[c+1, r_end+1])\n",
    "    # below\n",
    "    adjacents.extend(data_padded[c+2, r_start:r_end+2])\n",
    "    \n",
    "    return adjacents"
   ]
  },
  {
   "cell_type": "markdown",
   "id": "5c7729b2-56ba-4894-a942-9671a5fdebf6",
   "metadata": {},
   "source": [
    "## part 1"
   ]
  },
  {
   "cell_type": "code",
   "execution_count": 3,
   "id": "544f6b07-e304-4ad0-be62-a5aac0b216ca",
   "metadata": {},
   "outputs": [
    {
     "name": "stdout",
     "output_type": "stream",
     "text": [
      "the sum of all of the part numbers in the engine schematic: 550064\n"
     ]
    }
   ],
   "source": [
    "lines, data, data_padded = load_data(is_test=False)\n",
    "\n",
    "part_numbers_all = 0\n",
    "not_part_numbers = []\n",
    "for c, line in enumerate(lines):\n",
    "    numbers = re.findall('\\d+', line)\n",
    "    number_positions = [(m.start(0), m.end(0)) for m in re.finditer('\\d+', line)]\n",
    "    \n",
    "    if len(numbers) > 0: # if there are numbers in the line.\n",
    "        for number, number_position in zip(numbers, number_positions):\n",
    "            # row where the number start/end\n",
    "            #r_start = line.find(number)\n",
    "            #r_end = r_start + len(number)\n",
    "            r_start, r_end = number_position\n",
    "            \n",
    "            ## get adjacent cells.\n",
    "            adjacents = get_adjacents(data_padded, c, r_start, r_end)\n",
    "            adjacents_ = [x for x in adjacents if x not in ['.', '0', '1', '2', '3', '4', '5', '6', '7', '8', '9']]\n",
    "            #adjacents_ = [x for x in adjacents if x not in ['.']]\n",
    "            if len(adjacents_) > 0:\n",
    "                #print(f\"{number} ({c}, {r_start}-{r_end}): {adjacents_}\")\n",
    "                #print(f\"{adjacents}\")\n",
    "                part_numbers_all += int(number)\n",
    "            else:\n",
    "                not_part_numbers.append((c, r_start, r_end))\n",
    "                #print(f\"{number} ({c}, {r_start}-{r_end}): {adjacents_}\")\n",
    "print(f\"the sum of all of the part numbers in the engine schematic: {part_numbers_all}\")"
   ]
  },
  {
   "cell_type": "code",
   "execution_count": 5,
   "id": "0e509b3d-08f2-4a5a-849b-72649f22c777",
   "metadata": {},
   "outputs": [],
   "source": [
    "## circle non-parts (for debug)\n",
    "data_ = np.copy(data_padded)\n",
    "for x in not_part_numbers:\n",
    "    c, r_start, r_end = x\n",
    "    adjacents = get_adjacents(data_padded, c, r_start, r_end)\n",
    "    data_[c, r_start:r_end+2] = '@'\n",
    "    data_[c+1, r_start] = '@'\n",
    "    data_[c+1, r_end+1] = '@'\n",
    "    data_[c+2, r_start:r_end+2] = '@'\n",
    "\n",
    "# output\n",
    "n_rows, n_cols = np.shape(data_)\n",
    "with open(\"output.txt\", \"w\") as f:\n",
    "    for r in range(n_rows):\n",
    "        line = data_[r, :]\n",
    "        f.write(''.join(line)+'\\n')"
   ]
  },
  {
   "cell_type": "markdown",
   "id": "4ca4736c-2707-425f-8f49-1f89011328e4",
   "metadata": {},
   "source": [
    "## part 2"
   ]
  },
  {
   "cell_type": "code",
   "execution_count": null,
   "id": "7774b9f7-0442-4d49-bf4d-26198f6e806e",
   "metadata": {},
   "outputs": [],
   "source": [
    "def find_asterisk(data_padded, c, r_start, r_end):\n",
    "    data_padded_ = data_padded[c:c+3, r_start:r_end+2]\n",
    "    index = np.where(data_padded_ == '*')\n",
    "    cols, rows = index\n",
    "    if len(rows) > 0:\n",
    "        r_ = r_start + rows[0] - 1\n",
    "        c_ = c + cols[0] - 1\n",
    "    else:\n",
    "        r_ = -1\n",
    "        c_ = -1\n",
    "    return r_, c_\n",
    "\n",
    "\n",
    "def get_gear_ratio(df, asterisk):\n",
    "    df_ = df[df['asterisk'] == asterisk]\n",
    "    gear_ratio = 0\n",
    "    if len(df_) == 2:\n",
    "        pn = list(df_['part_number'])\n",
    "        gear_ratio = int(pn[0]) * int(pn[1])\n",
    "\n",
    "    return gear_ratio"
   ]
  },
  {
   "cell_type": "code",
   "execution_count": 44,
   "id": "4bc84457-d37c-4975-98e2-a82aa04cbb25",
   "metadata": {},
   "outputs": [
    {
     "data": {
      "text/html": [
       "<div>\n",
       "<style scoped>\n",
       "    .dataframe tbody tr th:only-of-type {\n",
       "        vertical-align: middle;\n",
       "    }\n",
       "\n",
       "    .dataframe tbody tr th {\n",
       "        vertical-align: top;\n",
       "    }\n",
       "\n",
       "    .dataframe thead th {\n",
       "        text-align: right;\n",
       "    }\n",
       "</style>\n",
       "<table border=\"1\" class=\"dataframe\">\n",
       "  <thead>\n",
       "    <tr style=\"text-align: right;\">\n",
       "      <th></th>\n",
       "      <th>asterisk</th>\n",
       "      <th>part_number</th>\n",
       "    </tr>\n",
       "  </thead>\n",
       "  <tbody>\n",
       "    <tr>\n",
       "      <th>0</th>\n",
       "      <td>(1, 3)</td>\n",
       "      <td>467</td>\n",
       "    </tr>\n",
       "    <tr>\n",
       "      <th>1</th>\n",
       "      <td>(1, 3)</td>\n",
       "      <td>35</td>\n",
       "    </tr>\n",
       "    <tr>\n",
       "      <th>2</th>\n",
       "      <td>(4, 3)</td>\n",
       "      <td>617</td>\n",
       "    </tr>\n",
       "    <tr>\n",
       "      <th>3</th>\n",
       "      <td>(8, 5)</td>\n",
       "      <td>755</td>\n",
       "    </tr>\n",
       "    <tr>\n",
       "      <th>4</th>\n",
       "      <td>(8, 5)</td>\n",
       "      <td>598</td>\n",
       "    </tr>\n",
       "  </tbody>\n",
       "</table>\n",
       "</div>"
      ],
      "text/plain": [
       "  asterisk part_number\n",
       "0   (1, 3)         467\n",
       "1   (1, 3)          35\n",
       "2   (4, 3)         617\n",
       "3   (8, 5)         755\n",
       "4   (8, 5)         598"
      ]
     },
     "execution_count": 44,
     "metadata": {},
     "output_type": "execute_result"
    }
   ],
   "source": [
    "lines, data, data_padded = load_data(is_test=True)\n",
    "\n",
    "part_numbers  = []\n",
    "asterisks = []\n",
    "for c, line in enumerate(lines):\n",
    "    numbers = re.findall('\\d+', line)\n",
    "    number_positions = [(m.start(0), m.end(0)) for m in re.finditer('\\d+', line)]\n",
    "    \n",
    "    if len(numbers) > 0: # if there are numbers in the line.\n",
    "        for number, number_position in zip(numbers, number_positions):\n",
    "            # row where the number start/end\n",
    "            r_start, r_end = number_position\n",
    "            \n",
    "            ## find an asterisk in adjacent cells.\n",
    "            r_, c_ = find_asterisk(data_padded, c, r_start, r_end)\n",
    "            if (r_ != -1) and (c_ != -1):\n",
    "                part_numbers.append(number)\n",
    "                asterisks.append((c_, r_))\n",
    "\n",
    "df = pd.DataFrame()\n",
    "df['asterisk'] = asterisks\n",
    "df['part_number'] = part_numbers\n",
    "df"
   ]
  },
  {
   "cell_type": "code",
   "execution_count": 57,
   "id": "199a97c8-3d38-4f81-a53c-fc971e6f674d",
   "metadata": {},
   "outputs": [
    {
     "name": "stdout",
     "output_type": "stream",
     "text": [
      "the sum of all of the gear ratios: 467835\n"
     ]
    }
   ],
   "source": [
    "\n",
    "\n",
    "asterisks = list(set(df['asterisk']))\n",
    "gear_ratio_total = 0\n",
    "for asterisk in asterisks:\n",
    "    gear_ratio_total += get_gear_ratio(df, asterisk)\n",
    "print(f\"the sum of all of the gear ratios: {gear_ratio_total}\")"
   ]
  }
 ],
 "metadata": {
  "kernelspec": {
   "display_name": "Python 3 (ipykernel)",
   "language": "python",
   "name": "python3"
  },
  "language_info": {
   "codemirror_mode": {
    "name": "ipython",
    "version": 3
   },
   "file_extension": ".py",
   "mimetype": "text/x-python",
   "name": "python",
   "nbconvert_exporter": "python",
   "pygments_lexer": "ipython3",
   "version": "3.11.5"
  }
 },
 "nbformat": 4,
 "nbformat_minor": 5
}
