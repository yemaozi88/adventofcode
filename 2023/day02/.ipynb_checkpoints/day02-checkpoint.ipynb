{
 "cells": [
  {
   "cell_type": "code",
   "execution_count": 1,
   "id": "745b7d38-60e1-4945-8a26-238894197513",
   "metadata": {},
   "outputs": [],
   "source": [
    "import os\n",
    "import re\n",
    "\n",
    "import numpy as np"
   ]
  },
  {
   "cell_type": "code",
   "execution_count": 2,
   "id": "e3549763-2b85-4fc8-86c8-16e3efe6605d",
   "metadata": {},
   "outputs": [],
   "source": [
    "def get_n_balls(record, color):\n",
    "    n = re.findall('(\\d+) '+color, record)\n",
    "    n_balls = 0\n",
    "    if len(n)>0:\n",
    "        n_balls = int(n[0])\n",
    "    return n_balls\n",
    "\n",
    "\n",
    "def load_data(is_test=True):\n",
    "    if is_test:\n",
    "        input_txt = \"input1_.txt\"\n",
    "    else:\n",
    "        input_txt = \"input.txt\"\n",
    "        \n",
    "    with open(input_txt) as f:\n",
    "        lines = f.read().strip().split('\\n')\n",
    "    \n",
    "    data = []\n",
    "    for line in lines:\n",
    "        #print(line)\n",
    "        \n",
    "        n_game_, records_ = line.split(':')\n",
    "        n_game = int(n_game_.replace('Game ', ''))\n",
    "        records_ = records_.split(';')\n",
    "        \n",
    "        n_balls = []\n",
    "        for record_ in records_:\n",
    "            #print(record_)\n",
    "            n_balls_ = (\n",
    "                get_n_balls(record_, 'red'), \n",
    "                get_n_balls(record_, 'green'), \n",
    "                get_n_balls(record_, 'blue')\n",
    "            )\n",
    "            n_balls.append(n_balls_)\n",
    "        \n",
    "        data.append(np.array(n_balls))\n",
    "\n",
    "    return data"
   ]
  },
  {
   "cell_type": "markdown",
   "id": "15942521-ee23-414c-afbb-c2095b1a1444",
   "metadata": {},
   "source": [
    "## part 1"
   ]
  },
  {
   "cell_type": "code",
   "execution_count": 3,
   "id": "eb884fc5-837a-43f2-b635-b323890ee2a1",
   "metadata": {},
   "outputs": [
    {
     "name": "stdout",
     "output_type": "stream",
     "text": [
      "the sum of the IDs of the possible games: 8\n"
     ]
    }
   ],
   "source": [
    "## load data\n",
    "data = load_data(is_test=True)\n",
    "n_games = len(data)\n",
    "\n",
    "# bag contains only 12 red cubes, 13 green cubes, and 14 blue cubes\n",
    "threshold = [12, 13, 14]\n",
    "game_id_sum = 0\n",
    "for i in range(n_games):\n",
    "    game_id = i+1\n",
    "    if np.all(threshold - data[i] >= 0):\n",
    "        game_id_sum += game_id\n",
    "print(f\"the sum of the IDs of the possible games: {game_id_sum}\")"
   ]
  },
  {
   "cell_type": "markdown",
   "id": "6f3f27a0-e583-49d5-b164-6d7d171c8ef3",
   "metadata": {},
   "source": [
    "## part 2"
   ]
  },
  {
   "cell_type": "code",
   "execution_count": 4,
   "id": "5a9a13f7-cd75-4bbd-b9c5-7ad4acebcf3a",
   "metadata": {},
   "outputs": [
    {
     "name": "stdout",
     "output_type": "stream",
     "text": [
      "the sum of the power of these sets: 70768\n"
     ]
    }
   ],
   "source": [
    "## load data\n",
    "data = load_data(is_test=False)\n",
    "n_games = len(data)\n",
    "\n",
    "# fewest number of cubes of each color that could have been in the bag to make the game possible\n",
    "power_sum = 0\n",
    "for data_ in data:\n",
    "    min_set = np.max(data_, axis=0)\n",
    "    set_power = min_set[0] * min_set[1] * min_set[2]\n",
    "    power_sum += set_power\n",
    "print(f\"the sum of the power of these sets: {power_sum}\")"
   ]
  }
 ],
 "metadata": {
  "kernelspec": {
   "display_name": "Python 3 (ipykernel)",
   "language": "python",
   "name": "python3"
  },
  "language_info": {
   "codemirror_mode": {
    "name": "ipython",
    "version": 3
   },
   "file_extension": ".py",
   "mimetype": "text/x-python",
   "name": "python",
   "nbconvert_exporter": "python",
   "pygments_lexer": "ipython3",
   "version": "3.11.5"
  }
 },
 "nbformat": 4,
 "nbformat_minor": 5
}
