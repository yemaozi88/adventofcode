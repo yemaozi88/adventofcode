{
 "cells": [
  {
   "cell_type": "code",
   "execution_count": 1,
   "id": "745b7d38-60e1-4945-8a26-238894197513",
   "metadata": {},
   "outputs": [],
   "source": [
    "import os\n",
    "import re\n",
    "\n",
    "import numpy as np"
   ]
  },
  {
   "cell_type": "code",
   "execution_count": 2,
   "id": "e3549763-2b85-4fc8-86c8-16e3efe6605d",
   "metadata": {},
   "outputs": [],
   "source": [
    "def get_n_balls(record, color):\n",
    "    n = re.findall('(\\d+) '+color, record)\n",
    "    n_balls = 0\n",
    "    if len(n)>0:\n",
    "        n_balls = int(n[0])\n",
    "    return n_balls"
   ]
  },
  {
   "cell_type": "code",
   "execution_count": 8,
   "id": "4609e9bd-8670-421b-827d-63c9002ff733",
   "metadata": {},
   "outputs": [
    {
     "name": "stdout",
     "output_type": "stream",
     "text": [
      "Game 1: 3 blue, 4 red; 1 red, 2 green, 6 blue; 2 green\n",
      " 3 blue, 4 red\n",
      " 1 red, 2 green, 6 blue\n",
      " 2 green\n",
      "Game 2: 1 blue, 2 green; 3 green, 4 blue, 1 red; 1 green, 1 blue\n",
      " 1 blue, 2 green\n",
      " 3 green, 4 blue, 1 red\n",
      " 1 green, 1 blue\n",
      "Game 3: 8 green, 6 blue, 20 red; 5 blue, 4 red, 13 green; 5 green, 1 red\n",
      " 8 green, 6 blue, 20 red\n",
      " 5 blue, 4 red, 13 green\n",
      " 5 green, 1 red\n",
      "Game 4: 1 green, 3 red, 6 blue; 3 green, 6 red; 3 green, 15 blue, 14 red\n",
      " 1 green, 3 red, 6 blue\n",
      " 3 green, 6 red\n",
      " 3 green, 15 blue, 14 red\n",
      "Game 5: 6 red, 1 blue, 3 green; 2 blue, 1 red, 2 green\n",
      " 6 red, 1 blue, 3 green\n",
      " 2 blue, 1 red, 2 green\n"
     ]
    }
   ],
   "source": [
    "with open(\"input1_.txt\") as f:\n",
    "    lines = f.read().strip().split('\\n')\n",
    "\n",
    "data = []\n",
    "for line in lines:\n",
    "    print(line)\n",
    "    \n",
    "    n_game_, records_ = line.split(':')\n",
    "    n_game = int(n_game_.replace('Game ', ''))\n",
    "    records_ = records_.split(';')\n",
    "    \n",
    "    n_balls = []\n",
    "    for record_ in records_:\n",
    "        print(record_)\n",
    "        n_balls_ = (\n",
    "            get_n_balls(record_, 'red'), \n",
    "            get_n_balls(record_, 'green'), \n",
    "            get_n_balls(record_, 'blue')\n",
    "        )\n",
    "        n_balls.append(n_balls_)\n",
    "    \n",
    "    data.append(np.array(n_balls))"
   ]
  },
  {
   "cell_type": "code",
   "execution_count": 9,
   "id": "51694620-80be-47cf-aacb-64b1cba2b4fb",
   "metadata": {},
   "outputs": [
    {
     "data": {
      "text/plain": [
       "[array([[4, 0, 3],\n",
       "        [1, 2, 6],\n",
       "        [0, 2, 0]]),\n",
       " array([[0, 2, 1],\n",
       "        [1, 3, 4],\n",
       "        [0, 1, 1]]),\n",
       " array([[20,  8,  6],\n",
       "        [ 4, 13,  5],\n",
       "        [ 1,  5,  0]]),\n",
       " array([[ 3,  1,  6],\n",
       "        [ 6,  3,  0],\n",
       "        [14,  3, 15]]),\n",
       " array([[6, 3, 1],\n",
       "        [1, 2, 2]])]"
      ]
     },
     "execution_count": 9,
     "metadata": {},
     "output_type": "execute_result"
    }
   ],
   "source": [
    "data"
   ]
  },
  {
   "cell_type": "code",
   "execution_count": 5,
   "id": "eb884fc5-837a-43f2-b635-b323890ee2a1",
   "metadata": {},
   "outputs": [
    {
     "data": {
      "text/plain": [
       "array([[4, 0, 3],\n",
       "       [1, 2, 6],\n",
       "       [0, 2, 0]])"
      ]
     },
     "execution_count": 5,
     "metadata": {},
     "output_type": "execute_result"
    }
   ],
   "source": [
    "np.array(n_balls)"
   ]
  }
 ],
 "metadata": {
  "kernelspec": {
   "display_name": "Python 3 (ipykernel)",
   "language": "python",
   "name": "python3"
  },
  "language_info": {
   "codemirror_mode": {
    "name": "ipython",
    "version": 3
   },
   "file_extension": ".py",
   "mimetype": "text/x-python",
   "name": "python",
   "nbconvert_exporter": "python",
   "pygments_lexer": "ipython3",
   "version": "3.11.5"
  }
 },
 "nbformat": 4,
 "nbformat_minor": 5
}
