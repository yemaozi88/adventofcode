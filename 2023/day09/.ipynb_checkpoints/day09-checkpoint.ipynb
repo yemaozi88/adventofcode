{
 "cells": [
  {
   "cell_type": "code",
   "execution_count": 1,
   "id": "a1a6eccc-16cd-4bea-81dd-3c9d4c1d1657",
   "metadata": {},
   "outputs": [],
   "source": [
    "import numpy as np\n",
    "import matplotlib.pyplot as plt\n",
    "%matplotlib inline\n",
    "#from sklearn.linear_model import LinearRegression"
   ]
  },
  {
   "cell_type": "code",
   "execution_count": 2,
   "id": "d077622b-a6ed-4e27-9a07-2feb9cceb46e",
   "metadata": {},
   "outputs": [],
   "source": [
    "def load_data(is_test=True): \n",
    "    if is_test:\n",
    "        input_txt = \"input_.txt\"\n",
    "    else:\n",
    "        input_txt = \"input.txt\"\n",
    "\n",
    "    with open(input_txt) as f:\n",
    "        lines = f.read().strip().split('\\n')\n",
    "    \n",
    "    data = []    \n",
    "    for line in lines:\n",
    "        data_ = [int(x) for x in line.split(' ')]\n",
    "        data.append(data_)\n",
    "    return data\n",
    "\n",
    "\n",
    "def get_D(x):\n",
    "    '''\n",
    "    how many differential is needed to get 0 vector?\n",
    "    '''    \n",
    "    D = [np.array(x)] # n-th differential\n",
    "    d = np.diff(x)\n",
    "    D.append(d)\n",
    "    while not np.all(d==0):\n",
    "        d = np.diff(d)\n",
    "        D.append(d)\n",
    "    return D\n",
    "\n",
    "\n",
    "def predict_next(D):\n",
    "    x_next = 0\n",
    "    for i in range(len(D)):\n",
    "        x_next += D[i][-1]\n",
    "    return x_next\n",
    "\n",
    "\n",
    "def predict_previous(D):\n",
    "    x_previous = 0\n",
    "    for i in range(len(D)-1, -1, -1):\n",
    "        x_previous = D[i][0] - x_previous\n",
    "    return x_previous"
   ]
  },
  {
   "cell_type": "markdown",
   "id": "8ecbb54e-a065-4218-b0f1-3a63b161b9c2",
   "metadata": {},
   "source": [
    "## part 1"
   ]
  },
  {
   "cell_type": "code",
   "execution_count": 3,
   "id": "705b1070-a652-4689-b9f4-3f7688f37968",
   "metadata": {},
   "outputs": [
    {
     "name": "stdout",
     "output_type": "stream",
     "text": [
      "the sum of these extrapolated values: 1647269739\n"
     ]
    }
   ],
   "source": [
    "data = load_data(is_test=False)\n",
    "predictions = 0\n",
    "for data_ in data:\n",
    "    D = get_D(data_)\n",
    "    predictions += predict_next(D)\n",
    "print(f\"the sum of these extrapolated values: {predictions}\")"
   ]
  },
  {
   "cell_type": "markdown",
   "id": "95a44fdf-d7e9-4678-81ab-744de622c62f",
   "metadata": {},
   "source": [
    "I wonder if is it possible to use curve fitting method i.e. find the most fitting curve to the input data and predict the next.  \n",
    "but I couldn't find any information how to limit the coefficients to be positive integer. "
   ]
  },
  {
   "cell_type": "code",
   "execution_count": 4,
   "id": "aa247e51-1261-4b0b-a1ee-505c6bdf5d3d",
   "metadata": {},
   "outputs": [
    {
     "name": "stdout",
     "output_type": "stream",
     "text": [
      "next value: 8 (i=0)\n",
      "next value: 23 (i=1)\n",
      "next value: 60 (i=2)\n",
      "the sum of these extrapolated values: 90\n"
     ]
    }
   ],
   "source": [
    "data = load_data(is_test=True)\n",
    "predictions = 0\n",
    "for data_ in data:\n",
    "#for data_ in [data[30]]:\n",
    "    y = np.array(data_)\n",
    "    n_points = len(y)\n",
    "    x = np.arange(n_points)\n",
    "    i = 1\n",
    "    loss = 1\n",
    "    for i in range(n_points):\n",
    "        _, residual, _, _, _ = np.polyfit(x, y, i, full=True)\n",
    "        if len(residual) == 0 or residual < 10**(-10):\n",
    "            break\n",
    "    i -= 1\n",
    "    model = np.poly1d(np.polyfit(x, y, i))\n",
    "        \n",
    "    ## check the curve\n",
    "    # y_ = np.array([model(x_) for x_ in x])\n",
    "    # plt.plot(x, y, 'bo-')\n",
    "    # plt.plot(x, y_, 'ro-')\n",
    "    \n",
    "    prediction = model(n_points)\n",
    "    predictions += prediction\n",
    "    print(f\"next value: {prediction:.0f} (i={i})\")\n",
    "print(f\"the sum of these extrapolated values: {predictions:.0f}\")\n",
    "#1647266433 too low\n",
    "#1647269374 too low\n",
    "#1647269645 too low\n",
    "#1647269739"
   ]
  },
  {
   "cell_type": "markdown",
   "id": "fd8c39c9-8f18-4779-b682-9c53d0239d14",
   "metadata": {},
   "source": [
    "## part 2"
   ]
  },
  {
   "cell_type": "code",
   "execution_count": 5,
   "id": "f561ed41-c148-4dc4-848f-ca4d8cf439f2",
   "metadata": {},
   "outputs": [
    {
     "name": "stdout",
     "output_type": "stream",
     "text": [
      "the sum of these extrapolated values: 864\n"
     ]
    }
   ],
   "source": [
    "data = load_data(is_test=False)\n",
    "predictions = 0\n",
    "for data_ in data:\n",
    "    D = get_D(data_)\n",
    "    predictions += predict_previous(D)\n",
    "print(f\"the sum of these extrapolated values: {predictions}\")"
   ]
  }
 ],
 "metadata": {
  "kernelspec": {
   "display_name": "Python 3 (ipykernel)",
   "language": "python",
   "name": "python3"
  },
  "language_info": {
   "codemirror_mode": {
    "name": "ipython",
    "version": 3
   },
   "file_extension": ".py",
   "mimetype": "text/x-python",
   "name": "python",
   "nbconvert_exporter": "python",
   "pygments_lexer": "ipython3",
   "version": "3.11.5"
  }
 },
 "nbformat": 4,
 "nbformat_minor": 5
}
