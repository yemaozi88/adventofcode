{
 "cells": [
  {
   "cell_type": "code",
   "execution_count": 1,
   "id": "add089ee-02a8-4d1e-90e9-27426aa70a77",
   "metadata": {},
   "outputs": [],
   "source": [
    "import numpy as np\n",
    "\n",
    "def load_data(is_test=False):\n",
    "    if is_test:\n",
    "        input_txt = \"input_.txt\"\n",
    "    else:\n",
    "        input_txt = \"input.txt\"\n",
    "        \n",
    "    with open(input_txt) as f:\n",
    "        lines = f.read().strip().split('\\n')\n",
    "    \n",
    "    data = []\n",
    "    for line in lines:\n",
    "        line_ = line.split(': ')[1]\n",
    "        winning_numbers_, your_numbers_ = line_.split(' | ')\n",
    "        winning_numbers = [int(x) for x in winning_numbers_.split(' ') if x != '']\n",
    "        your_numbers = [int(x) for x in your_numbers_.split(' ') if x != '']\n",
    "        data.append([winning_numbers, your_numbers])\n",
    "    return data\n",
    "\n",
    "\n",
    "def get_n_match(winning_numbers, your_numbers):\n",
    "    return len(set(your_numbers) & set(winning_numbers))"
   ]
  },
  {
   "cell_type": "code",
   "execution_count": 2,
   "id": "929dfa3c-c620-474c-b243-cbd75cb0ccc8",
   "metadata": {},
   "outputs": [
    {
     "name": "stdout",
     "output_type": "stream",
     "text": [
      "total points: 5920640\n"
     ]
    }
   ],
   "source": [
    "is_part1 = False\n",
    "\n",
    "data = load_data(is_test=False)\n",
    "n_cards = np.ones((len(data))).astype(int)\n",
    "\n",
    "points = 0\n",
    "for n_game in range(len(data)):\n",
    "    winning_numbers = data[n_game][0]\n",
    "    your_numbers    = data[n_game][1]\n",
    "    n_match = get_n_match(winning_numbers, your_numbers)\n",
    "    if is_part1:\n",
    "        points += int(2 ** (n_match-1))\n",
    "    else:\n",
    "        n_cards[n_game+1:n_game+n_match+1] += n_cards[n_game]\n",
    "if not is_part1:\n",
    "    points = np.sum(n_cards)\n",
    "\n",
    "print(f\"total points: {points}\")    "
   ]
  }
 ],
 "metadata": {
  "kernelspec": {
   "display_name": "Python 3 (ipykernel)",
   "language": "python",
   "name": "python3"
  },
  "language_info": {
   "codemirror_mode": {
    "name": "ipython",
    "version": 3
   },
   "file_extension": ".py",
   "mimetype": "text/x-python",
   "name": "python",
   "nbconvert_exporter": "python",
   "pygments_lexer": "ipython3",
   "version": "3.11.5"
  }
 },
 "nbformat": 4,
 "nbformat_minor": 5
}
