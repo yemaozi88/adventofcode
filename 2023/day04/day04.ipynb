{
 "cells": [
  {
   "cell_type": "code",
   "execution_count": 16,
   "id": "add089ee-02a8-4d1e-90e9-27426aa70a77",
   "metadata": {},
   "outputs": [],
   "source": [
    "def load_data(is_test=False):\n",
    "    if is_test:\n",
    "        input_txt = \"input_.txt\"\n",
    "    else:\n",
    "        input_txt = \"input.txt\"\n",
    "        \n",
    "    with open(input_txt) as f:\n",
    "        lines = f.read().strip().split('\\n')\n",
    "    \n",
    "    data = []\n",
    "    for line in lines:\n",
    "        line_ = line.split(': ')[1]\n",
    "        winning_numbers_, your_numbers_ = line_.split(' | ')\n",
    "        winning_numbers = [int(x) for x in winning_numbers_.split(' ') if x != '']\n",
    "        your_numbers = [int(x) for x in your_numbers_.split(' ') if x != '']\n",
    "        data.append([winning_numbers, your_numbers])\n",
    "    return data"
   ]
  },
  {
   "cell_type": "code",
   "execution_count": 15,
   "id": "929dfa3c-c620-474c-b243-cbd75cb0ccc8",
   "metadata": {},
   "outputs": [
    {
     "data": {
      "text/plain": [
       "[[[41, 48, 83, 86, 17], [83, 86, 6, 31, 17, 9, 48, 53]],\n",
       " [[13, 32, 20, 16, 61], [61, 30, 68, 82, 17, 32, 24, 19]],\n",
       " [[1, 21, 53, 59, 44], [69, 82, 63, 72, 16, 21, 14, 1]],\n",
       " [[41, 92, 73, 84, 69], [59, 84, 76, 51, 58, 5, 54, 83]],\n",
       " [[87, 83, 26, 28, 32], [88, 30, 70, 12, 93, 22, 82, 36]],\n",
       " [[31, 18, 13, 56, 72], [74, 77, 10, 23, 35, 67, 36, 11]]]"
      ]
     },
     "execution_count": 15,
     "metadata": {},
     "output_type": "execute_result"
    }
   ],
   "source": [
    "data = load_data(is_test=True)\n",
    "data"
   ]
  }
 ],
 "metadata": {
  "kernelspec": {
   "display_name": "Python 3 (ipykernel)",
   "language": "python",
   "name": "python3"
  },
  "language_info": {
   "codemirror_mode": {
    "name": "ipython",
    "version": 3
   },
   "file_extension": ".py",
   "mimetype": "text/x-python",
   "name": "python",
   "nbconvert_exporter": "python",
   "pygments_lexer": "ipython3",
   "version": "3.11.5"
  }
 },
 "nbformat": 4,
 "nbformat_minor": 5
}
