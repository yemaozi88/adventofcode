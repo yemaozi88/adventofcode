{
 "cells": [
  {
   "cell_type": "code",
   "execution_count": 67,
   "id": "de7e45d7-b0e6-45be-ba18-8fa38718ff23",
   "metadata": {},
   "outputs": [],
   "source": [
    "import re\n",
    "import time\n",
    "import math\n",
    "\n",
    "import numpy as np\n",
    "import pandas as pd"
   ]
  },
  {
   "cell_type": "code",
   "execution_count": 2,
   "id": "b7948b6e-ca59-4d48-b381-ccbf04527a3b",
   "metadata": {},
   "outputs": [],
   "source": [
    "def load_data(input_id=''): \n",
    "    # if input_id == 0:\n",
    "    #     input_txt = \"input.txt\"\n",
    "    # elif input_id == 1:\n",
    "    #     input_txt = \"input1a_.txt\"\n",
    "    # elif input_id == 2:\n",
    "    #     input_txt = \"input1b_.txt\"\n",
    "    # elif input_id == 3:\n",
    "    #     input_txt = \"input2_.txt\"\n",
    "    input_txt = \"input\"+input_id+\".txt\"\n",
    "    \n",
    "    with open(input_txt) as f:\n",
    "        lines = f.read().strip().split('\\n')\n",
    "\n",
    "    instructions = lines[0]\n",
    "\n",
    "    elements = []\n",
    "    lefts    = []\n",
    "    rights   = []\n",
    "    for line in lines[2:]:\n",
    "        line_ = re.findall('\\w+', line)\n",
    "        elements.append(line_[0])\n",
    "        lefts.append(line_[1])\n",
    "        rights.append(line_[2])\n",
    "    df = pd.DataFrame()\n",
    "    df['element'] = elements\n",
    "    df['L']       = lefts\n",
    "    df['R']       = rights\n",
    "\n",
    "    return instructions, df\n",
    "\n",
    "\n",
    "def find_row(df, element):\n",
    "    df_ = df[df['element'] == element]\n",
    "    #assert len(df_) == 1, print(f\"n_rows of the result should be 1, but got {len(df_)}.\")\n",
    "    return df_\n",
    "\n",
    "\n",
    "def end_Z(element):\n",
    "    result = False\n",
    "    if re.search('(.+)Z', element):\n",
    "        result = True\n",
    "    return result\n",
    "\n",
    "\n",
    "def end_Z_all(elements):\n",
    "    return np.all([end_Z(element) for element in elements_next])"
   ]
  },
  {
   "cell_type": "markdown",
   "id": "061296b5-f108-4840-90b0-304731609200",
   "metadata": {},
   "source": [
    "## part 1"
   ]
  },
  {
   "cell_type": "code",
   "execution_count": 3,
   "id": "c5866075-1436-4b51-adf8-d704b63dff02",
   "metadata": {},
   "outputs": [
    {
     "name": "stdout",
     "output_type": "stream",
     "text": [
      "steps that are required to reach ZZZ: 21797\n",
      "elapsed time: 6.03[sec]\n"
     ]
    }
   ],
   "source": [
    "## load data\n",
    "instructions, df = load_data(input_id='')\n",
    "#print(instructions)\n",
    "#print(df)\n",
    "\n",
    "time_start = time.time()\n",
    "## find starting row.\n",
    "row = find_row(df, 'AAA')\n",
    "element = row['element'].item()\n",
    "n_step = 0\n",
    "#print(f\"[{n_step}] start: {element}\")\n",
    "\n",
    "## loop until reaching 'ZZZ'\n",
    "while (element != 'ZZZ'):\n",
    "    instruction = instructions[n_step % len(instructions)]\n",
    "    element = row[instruction].item()\n",
    "    row = find_row(df, element)\n",
    "    n_step += 1\n",
    "    #print(f\"[{step}] {instruction}: {element}\")\n",
    "\n",
    "print(f\"steps that are required to reach ZZZ: {n_step}\")\n",
    "print(f\"elapsed time: {time.time()-time_start:.2f}[sec]\")"
   ]
  },
  {
   "cell_type": "markdown",
   "id": "aabd8523-1473-4871-b213-69f1480ce00d",
   "metadata": {},
   "source": [
    "## part 2"
   ]
  },
  {
   "cell_type": "markdown",
   "id": "3658b275-c87e-4a3a-a0d6-a4a57441a7e8",
   "metadata": {},
   "source": [
    "just extending part1 into the folder doesn't work.  \n",
    "I calculated [586975], but according to Arnaud it will take unrealistic time to finish."
   ]
  },
  {
   "cell_type": "code",
   "execution_count": 4,
   "id": "2e5fbb73-6456-4017-bd22-a175d14777c4",
   "metadata": {},
   "outputs": [],
   "source": [
    "# ## load data\n",
    "# instructions, df = load_data(input_id='')\n",
    "# #print(instructions)\n",
    "# #print(df)\n",
    "\n",
    "# time_start = time.time()\n",
    "# ## find starting rows.\n",
    "# df_ = df[df['element'].str.match('^(.+)A')]\n",
    "# elements = list(df_['element'])\n",
    "# n_step = 0\n",
    "# #print(f\"[{n_step}] start: {elements}\")\n",
    "# elements_next = elements\n",
    "\n",
    "# while (not end_Z_all(elements_next)):\n",
    "# #while (n_step < 10):\n",
    "#     elements = elements_next\n",
    "#     instruction = instructions[n_step % len(instructions)]\n",
    "    \n",
    "#     elements_next = []\n",
    "#     for element in elements:\n",
    "#         row = find_row(df, element)\n",
    "#         element = row[instruction].item()\n",
    "#         elements_next.append(element)\n",
    "        \n",
    "#     n_step += 1\n",
    "#     print(\"\\r\" + f\"[{n_step}] {instruction}: {elements_next}\", end=\"\")\n",
    "\n",
    "# print(f\"steps that are required to reach ZZZ: {n_step}\")\n",
    "# print(f\"elapsed time: {time.time()-time_start:.2f}[sec]\")"
   ]
  },
  {
   "cell_type": "markdown",
   "id": "f5d2e614-ae4a-4752-947f-f091feac791d",
   "metadata": {},
   "source": [
    "input.txt has only 6 starting points i.e. elements: ['AAA', 'FQA', 'GJA', 'JSA', 'NNA', 'PBA']\n",
    "I found each element loop by observing until 100000th step. "
   ]
  },
  {
   "cell_type": "code",
   "execution_count": 82,
   "id": "6fd090ea-d405-4cac-ad9f-54672ef8d62a",
   "metadata": {},
   "outputs": [
    {
     "name": "stdout",
     "output_type": "stream",
     "text": [
      "'AAA' gets 'ZZZ'(R) at 21796 + 21797*n\n",
      "'FQA' gets 'FNZ'(R) at 18726 + 18727*n\n",
      "'GJA' gets 'DPZ'(R) at 18112 + 18113*n\n",
      "'JSA' gets 'TVZ'(R) at 24252 + 24253*n\n",
      "'NNA' gets 'PKZ'(R) at 16270 + 16271*n\n",
      "'PBA' gets 'FPZ'(R) at 22410 + 22411*n\n"
     ]
    }
   ],
   "source": [
    "## load data\n",
    "instructions, df = load_data(input_id='')\n",
    "#print(instructions)\n",
    "#print(df)\n",
    "\n",
    "df_ = df[df['element'].str.match('^(.+)A')]\n",
    "elements = list(df_['element'])\n",
    "elements.sort()\n",
    "for element0 in elements:\n",
    "    #element = elements[n_element]\n",
    "    row = find_row(df, element0)\n",
    "    #print(f\">>> {element}\")\n",
    "    n_step = 0\n",
    "    n_steps = []\n",
    "    for i in range(100000):\n",
    "        n_instruction = n_step % len(instructions)\n",
    "        instruction = instructions[n_instruction]\n",
    "        element = row[instruction].item()\n",
    "        #if end_Z(element):\n",
    "        if element[2] == 'Z':\n",
    "            n_steps.append(n_step)\n",
    "            #print(f\"{n_instruction}({n_step}): {instruction} {element}\")\n",
    "            instruction_ = instruction\n",
    "            element_ = element\n",
    "        row = find_row(df, element)\n",
    "        n_step += 1\n",
    "    \n",
    "    ## calculate the size of the loop\n",
    "    loop_size = np.diff(n_steps)\n",
    "    n_steps_prediction = [n_steps[0]+loop_size[0]*n for n in range(5)]\n",
    "    #print(loop_size)\n",
    "    #print(f\"n_steps (real): {n_steps}\")\n",
    "    #print(f\"n_steps (pred): {n_steps_prediction}\")\n",
    "    print(f\"'{element0}' gets '{element_}'({instruction_}) at {n_steps[0]} + {loop_size[0]}*n\")"
   ]
  },
  {
   "cell_type": "code",
   "execution_count": 86,
   "id": "4b0a7cf6-3ea5-4b67-b36d-32f9e99b84d1",
   "metadata": {},
   "outputs": [
    {
     "name": "stdout",
     "output_type": "stream",
     "text": [
      "steps that are required to reach **Z: 23977527174353\n"
     ]
    }
   ],
   "source": [
    "# 45396527070867998955839: too high\n",
    "# 23977527174352: too low\n",
    "loop_sizes = [21797, 18727, 18113, 24253, 16271, 22411]\n",
    "n_steps_total = math.lcm(loop_sizes[0], loop_sizes[1], loop_sizes[2], loop_sizes[3], loop_sizes[4], loop_sizes[5]) - 1\n",
    "# # check\n",
    "# for n in loop_sizes:\n",
    "#     if ((n_steps_total - n + 1) % n) == 0:\n",
    "#         result = True\n",
    "#     else:\n",
    "#         result = False\n",
    "#     print(f\"{n}: {result}\")\n",
    "# step starts at 1, not 0. \n",
    "print(f\"steps that are required to reach **Z: {n_steps_total+1}\")"
   ]
  }
 ],
 "metadata": {
  "kernelspec": {
   "display_name": "Python 3 (ipykernel)",
   "language": "python",
   "name": "python3"
  },
  "language_info": {
   "codemirror_mode": {
    "name": "ipython",
    "version": 3
   },
   "file_extension": ".py",
   "mimetype": "text/x-python",
   "name": "python",
   "nbconvert_exporter": "python",
   "pygments_lexer": "ipython3",
   "version": "3.11.5"
  }
 },
 "nbformat": 4,
 "nbformat_minor": 5
}
