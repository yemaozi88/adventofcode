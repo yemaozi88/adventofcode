{
 "cells": [
  {
   "cell_type": "code",
   "execution_count": 8,
   "id": "de7e45d7-b0e6-45be-ba18-8fa38718ff23",
   "metadata": {},
   "outputs": [],
   "source": [
    "import re\n",
    "\n",
    "import pandas as pd"
   ]
  },
  {
   "cell_type": "code",
   "execution_count": 12,
   "id": "b7948b6e-ca59-4d48-b381-ccbf04527a3b",
   "metadata": {},
   "outputs": [],
   "source": [
    "def load_data(input_id=0): \n",
    "    if input_id == 0:\n",
    "        input_txt = \"input.txt\"\n",
    "    elif input_id == 1:\n",
    "        input_txt = \"input1a_.txt\"\n",
    "    elif input_id == 2:\n",
    "        input_txt = \"input1b_.txt\"\n",
    "\n",
    "    with open(input_txt) as f:\n",
    "        lines = f.read().strip().split('\\n')\n",
    "\n",
    "    instructions = lines[0]\n",
    "\n",
    "    elements = []\n",
    "    lefts    = []\n",
    "    rights   = []\n",
    "    for line in lines[2:]:\n",
    "        line_ = re.findall('\\w+', line)\n",
    "        elements.append(line_[0])\n",
    "        lefts.append(line_[1])\n",
    "        rights.append(line_[2])\n",
    "    df = pd.DataFrame()\n",
    "    df['element'] = elements\n",
    "    df['left']    = lefts\n",
    "    df['right']   = rights\n",
    "\n",
    "    return instructions, df"
   ]
  },
  {
   "cell_type": "code",
   "execution_count": 13,
   "id": "a82dd0e3-cf7a-44d1-86fe-3cabbd0cf1ee",
   "metadata": {},
   "outputs": [
    {
     "name": "stdout",
     "output_type": "stream",
     "text": [
      "RL\n",
      "  element left right\n",
      "0     AAA  BBB   CCC\n",
      "1     BBB  DDD   EEE\n",
      "2     CCC  ZZZ   GGG\n",
      "3     DDD  DDD   DDD\n",
      "4     EEE  EEE   EEE\n",
      "5     GGG  GGG   GGG\n",
      "6     ZZZ  ZZZ   ZZZ\n"
     ]
    }
   ],
   "source": [
    "instructions, df = load_data(input_id=1)\n",
    "print(instructions)\n",
    "print(df)"
   ]
  },
  {
   "cell_type": "code",
   "execution_count": null,
   "id": "c5866075-1436-4b51-adf8-d704b63dff02",
   "metadata": {},
   "outputs": [],
   "source": []
  }
 ],
 "metadata": {
  "kernelspec": {
   "display_name": "Python 3 (ipykernel)",
   "language": "python",
   "name": "python3"
  },
  "language_info": {
   "codemirror_mode": {
    "name": "ipython",
    "version": 3
   },
   "file_extension": ".py",
   "mimetype": "text/x-python",
   "name": "python",
   "nbconvert_exporter": "python",
   "pygments_lexer": "ipython3",
   "version": "3.11.5"
  }
 },
 "nbformat": 4,
 "nbformat_minor": 5
}
