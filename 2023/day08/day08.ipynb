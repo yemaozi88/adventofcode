{
 "cells": [
  {
   "cell_type": "code",
   "execution_count": 1,
   "id": "de7e45d7-b0e6-45be-ba18-8fa38718ff23",
   "metadata": {},
   "outputs": [],
   "source": [
    "import re\n",
    "\n",
    "import pandas as pd"
   ]
  },
  {
   "cell_type": "code",
   "execution_count": 2,
   "id": "b7948b6e-ca59-4d48-b381-ccbf04527a3b",
   "metadata": {},
   "outputs": [],
   "source": [
    "def load_data(input_id=0): \n",
    "    if input_id == 0:\n",
    "        input_txt = \"input.txt\"\n",
    "    elif input_id == 1:\n",
    "        input_txt = \"input1a_.txt\"\n",
    "    elif input_id == 2:\n",
    "        input_txt = \"input1b_.txt\"\n",
    "\n",
    "    with open(input_txt) as f:\n",
    "        lines = f.read().strip().split('\\n')\n",
    "\n",
    "    instructions = lines[0]\n",
    "\n",
    "    elements = []\n",
    "    lefts    = []\n",
    "    rights   = []\n",
    "    for line in lines[2:]:\n",
    "        line_ = re.findall('\\w+', line)\n",
    "        elements.append(line_[0])\n",
    "        lefts.append(line_[1])\n",
    "        rights.append(line_[2])\n",
    "    df = pd.DataFrame()\n",
    "    df['element'] = elements\n",
    "    df['L']       = lefts\n",
    "    df['R']       = rights\n",
    "\n",
    "    return instructions, df\n",
    "\n",
    "\n",
    "def find_row(df, element):\n",
    "    df_ = df[df['element'] == element]\n",
    "    #assert len(df_) == 1, print(f\"n_rows of the result should be 1, but got {len(df_)}.\")\n",
    "    return df_"
   ]
  },
  {
   "cell_type": "code",
   "execution_count": 6,
   "id": "c5866075-1436-4b51-adf8-d704b63dff02",
   "metadata": {},
   "outputs": [
    {
     "name": "stdout",
     "output_type": "stream",
     "text": [
      "[0] start: AAA\n",
      "steps that are required to reach ZZZ: 2\n"
     ]
    }
   ],
   "source": [
    "## load data\n",
    "instructions, df = load_data(input_id=0)\n",
    "#print(instructions)\n",
    "#print(df)\n",
    "\n",
    "## find starting row.\n",
    "row = find_row(df, 'AAA')\n",
    "element = row['element'].item()\n",
    "n_step = 0\n",
    "#print(f\"[{n_step}] start: {element}\")\n",
    "\n",
    "## loop until reaching 'ZZZ'\n",
    "while (element != 'ZZZ'):\n",
    "    instruction = instructions[n_step % len(instructions)]\n",
    "    element = row[instruction].item()\n",
    "    row = find_row(df, element)\n",
    "    n_step += 1\n",
    "    #print(f\"[{step}] {instruction}: {element}\")\n",
    "\n",
    "print(f\"steps that are required to reach ZZZ: {n_step}\")"
   ]
  }
 ],
 "metadata": {
  "kernelspec": {
   "display_name": "Python 3 (ipykernel)",
   "language": "python",
   "name": "python3"
  },
  "language_info": {
   "codemirror_mode": {
    "name": "ipython",
    "version": 3
   },
   "file_extension": ".py",
   "mimetype": "text/x-python",
   "name": "python",
   "nbconvert_exporter": "python",
   "pygments_lexer": "ipython3",
   "version": "3.11.5"
  }
 },
 "nbformat": 4,
 "nbformat_minor": 5
}
