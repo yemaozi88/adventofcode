{
 "cells": [
  {
   "cell_type": "code",
   "execution_count": 13,
   "id": "e8abea7a-246d-4871-8591-3961a6ee53b6",
   "metadata": {},
   "outputs": [],
   "source": [
    "import re\n",
    "\n",
    "def load_data(is_test=False):\n",
    "    if is_test:\n",
    "        input_txt = \"input_.txt\"\n",
    "    else:\n",
    "        input_txt = \"input.txt\"\n",
    "        \n",
    "    with open(input_txt) as f:\n",
    "        lines = f.read().strip().split('\\n\\n')\n",
    "\n",
    "    seeds                = line2numbers(lines[0].replace('seeds: ', ''))\n",
    "    seed2soil            = extract_mappings(lines[1], 'seed', 'soil')\n",
    "    soil2fertilizer      = extract_mappings(lines[2], 'soil', 'fertilizer')\n",
    "    fertilizer2water     = extract_mappings(lines[3], 'fertilizer', 'water')\n",
    "    water2light          = extract_mappings(lines[4], 'water', 'light')\n",
    "    light2temperature    = extract_mappings(lines[5], 'light', 'temperature')\n",
    "    temperature2humidity = extract_mappings(lines[6], 'temperature', 'humidity')\n",
    "    humidity2location    = extract_mappings(lines[7], 'humidity', 'location')\n",
    "\n",
    "    return (seeds, seed2soil, soil2fertilizer, fertilizer2water, water2light, light2temperature, temperature2humidity, humidity2location)"
   ]
  },
  {
   "cell_type": "code",
   "execution_count": 35,
   "id": "15c34f2e-0f1d-48e8-9951-504333741d20",
   "metadata": {},
   "outputs": [],
   "source": [
    "def line2numbers(line):\n",
    "    return [int(x) for x in re.findall('\\d+', line)]\n",
    "\n",
    "\n",
    "def extract_mappings(line, source, destination):\n",
    "    line_ = line.replace(source + '-to-' + destination + ' map:\\n', '')\n",
    "    return [line2numbers(x) for x in line_.split('\\n')]\n",
    "\n",
    "\n",
    "def _convert(source, mapping):\n",
    "    destination_begin, source_begin, range_length = mapping\n",
    "    destination = source\n",
    "    if (source >= source_begin) and (source < source_begin+range_length):\n",
    "        destination += destination_begin - source_begin\n",
    "    return destination\n",
    "\n",
    "\n",
    "def convert(source, mappings):\n",
    "    destination = source \n",
    "    for mapping in mappings: \n",
    "        #destination = _convert(destination, mapping)\n",
    "        destination = _convert(source, mapping)\n",
    "        if destination != source:\n",
    "            break\n",
    "    return destination\n",
    "\n",
    "\n",
    "def seed2location(seed, data, debug=False):\n",
    "    # this function can be written shortly using loop,\n",
    "    # but for the debug purpose\n",
    "    # just wrote down all the names.\n",
    "    (seeds, \n",
    "     seed2soil, \n",
    "     soil2fertilizer, \n",
    "     fertilizer2water, \n",
    "     water2light, \n",
    "     light2temperature, \n",
    "     temperature2humidity, \n",
    "     humidity2location) = data\n",
    "    \n",
    "    soil        = convert(seed, seed2soil)\n",
    "    fertilizer  = convert(soil, soil2fertilizer)\n",
    "    water       = convert(fertilizer, fertilizer2water)\n",
    "    light       = convert(water, water2light)\n",
    "    temperature = convert(light, light2temperature)\n",
    "    humidity    = convert(temperature, temperature2humidity)\n",
    "    location    = convert(humidity, humidity2location)\n",
    "\n",
    "    if debug:\n",
    "        print(f\"soil: {soil}\")\n",
    "        print(f\"fertilizer: {fertilizer}\")\n",
    "        print(f\"water: {water}\")\n",
    "        print(f\"light: {light}\")\n",
    "        print(f\"temperature: {temperature}\")\n",
    "        print(f\"humidity: {humidity}\")\n",
    "        print(f\"location: {location}\")\n",
    "\n",
    "    return location"
   ]
  },
  {
   "cell_type": "code",
   "execution_count": 38,
   "id": "82d0c472-57d4-442a-9c1c-cfa403efa801",
   "metadata": {},
   "outputs": [
    {
     "name": "stdout",
     "output_type": "stream",
     "text": [
      "the lowest location number that corresponds to any of the initial seed numbers: 51752125\n"
     ]
    }
   ],
   "source": [
    "## part 1\n",
    "data = load_data(is_test=False)\n",
    "(seeds, seed2soil, soil2fertilizer, fertilizer2water, water2light, light2temperature, temperature2humidity, humidity2location) = data\n",
    "locations = [seed2location(seed, data) for seed in seeds]\n",
    "\n",
    "#print(f\"seeds: {seeds}\")\n",
    "#print(f\"locations: {locations}\")\n",
    "print(f\"the lowest location number that corresponds to any of the initial seed numbers: {min(locations)}\")"
   ]
  }
 ],
 "metadata": {
  "kernelspec": {
   "display_name": "Python 3 (ipykernel)",
   "language": "python",
   "name": "python3"
  },
  "language_info": {
   "codemirror_mode": {
    "name": "ipython",
    "version": 3
   },
   "file_extension": ".py",
   "mimetype": "text/x-python",
   "name": "python",
   "nbconvert_exporter": "python",
   "pygments_lexer": "ipython3",
   "version": "3.11.5"
  }
 },
 "nbformat": 4,
 "nbformat_minor": 5
}
