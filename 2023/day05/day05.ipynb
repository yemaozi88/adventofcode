{
 "cells": [
  {
   "cell_type": "code",
   "execution_count": 11,
   "id": "e8abea7a-246d-4871-8591-3961a6ee53b6",
   "metadata": {},
   "outputs": [
    {
     "data": {
      "text/plain": [
       "['seeds: 79 14 55 13',\n",
       " 'seed-to-soil map:\\n50 98 2\\n52 50 48',\n",
       " 'soil-to-fertilizer map:\\n0 15 37\\n37 52 2\\n39 0 15',\n",
       " 'fertilizer-to-water map:\\n49 53 8\\n0 11 42\\n42 0 7\\n57 7 4',\n",
       " 'water-to-light map:\\n88 18 7\\n18 25 70',\n",
       " 'light-to-temperature map:\\n45 77 23\\n81 45 19\\n68 64 13',\n",
       " 'temperature-to-humidity map:\\n0 69 1\\n1 0 69',\n",
       " 'humidity-to-location map:\\n60 56 37\\n56 93 4']"
      ]
     },
     "execution_count": 11,
     "metadata": {},
     "output_type": "execute_result"
    }
   ],
   "source": [
    "import re\n",
    "\n",
    "def load_data(is_test=False):\n",
    "    if is_test:\n",
    "        input_txt = \"input_.txt\"\n",
    "    else:\n",
    "        input_txt = \"input.txt\"\n",
    "        \n",
    "    with open(input_txt) as f:\n",
    "        lines = f.read().strip().split('\\n\\n')\n",
    "\n",
    "    return lines\n",
    "\n",
    "lines = load_data(is_test=True)\n",
    "lines"
   ]
  },
  {
   "cell_type": "code",
   "execution_count": 28,
   "id": "15c34f2e-0f1d-48e8-9951-504333741d20",
   "metadata": {},
   "outputs": [],
   "source": [
    "def line2numbers(line):\n",
    "    return [int(x) for x in re.findall('\\d+', line)]\n",
    "\n",
    "def extract_map(line, source, destination):\n",
    "    line_ = line.replace(source + '-to-' + destination + ' map:\\n', '')\n",
    "    return [line2numbers(x) for x in line_.split('\\n')]\n",
    "\n",
    "seeds = line2numbers(lines[0].replace('seeds: ', ''))\n",
    "seed2soil_map = extract_map(lines[1], 'seed', 'soil')\n",
    "soil2fertilizer_map = extract_map(lines[2], 'soil', 'fertilizer')"
   ]
  },
  {
   "cell_type": "code",
   "execution_count": null,
   "id": "82d0c472-57d4-442a-9c1c-cfa403efa801",
   "metadata": {},
   "outputs": [],
   "source": []
  }
 ],
 "metadata": {
  "kernelspec": {
   "display_name": "Python 3 (ipykernel)",
   "language": "python",
   "name": "python3"
  },
  "language_info": {
   "codemirror_mode": {
    "name": "ipython",
    "version": 3
   },
   "file_extension": ".py",
   "mimetype": "text/x-python",
   "name": "python",
   "nbconvert_exporter": "python",
   "pygments_lexer": "ipython3",
   "version": "3.11.5"
  }
 },
 "nbformat": 4,
 "nbformat_minor": 5
}
