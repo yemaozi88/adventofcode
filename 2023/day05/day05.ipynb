{
 "cells": [
  {
   "cell_type": "code",
   "execution_count": 1,
   "id": "216c706c-ee47-4bea-963e-4807a067cded",
   "metadata": {},
   "outputs": [],
   "source": [
    "import re\n",
    "import math\n",
    "import time\n",
    "\n",
    "def load_data(is_test=False):\n",
    "    if is_test:\n",
    "        input_txt = \"input_.txt\"\n",
    "    else:\n",
    "        input_txt = \"input.txt\"\n",
    "        \n",
    "    with open(input_txt) as f:\n",
    "        lines = f.read().strip().split('\\n\\n')\n",
    "\n",
    "    seeds                = line2numbers(lines[0].replace('seeds: ', ''))\n",
    "    seed2soil            = extract_mappings(lines[1], 'seed', 'soil')\n",
    "    soil2fertilizer      = extract_mappings(lines[2], 'soil', 'fertilizer')\n",
    "    fertilizer2water     = extract_mappings(lines[3], 'fertilizer', 'water')\n",
    "    water2light          = extract_mappings(lines[4], 'water', 'light')\n",
    "    light2temperature    = extract_mappings(lines[5], 'light', 'temperature')\n",
    "    temperature2humidity = extract_mappings(lines[6], 'temperature', 'humidity')\n",
    "    humidity2location    = extract_mappings(lines[7], 'humidity', 'location')\n",
    "\n",
    "    return (seeds, seed2soil, soil2fertilizer, fertilizer2water, water2light, light2temperature, temperature2humidity, humidity2location)"
   ]
  },
  {
   "cell_type": "code",
   "execution_count": 2,
   "id": "48c657c1-e4a9-4a8b-841c-363b91fb29de",
   "metadata": {},
   "outputs": [],
   "source": [
    "def line2numbers(line):\n",
    "    return [int(x) for x in re.findall('\\d+', line)]\n",
    "\n",
    "\n",
    "def extract_mappings(line, source, destination):\n",
    "    line_ = line.replace(source + '-to-' + destination + ' map:\\n', '')\n",
    "    return [line2numbers(x) for x in line_.split('\\n')]"
   ]
  },
  {
   "cell_type": "markdown",
   "id": "2e196bbd-e1a0-4957-81ee-5b52c78dc50f",
   "metadata": {},
   "source": [
    "## part 1"
   ]
  },
  {
   "cell_type": "code",
   "execution_count": 3,
   "id": "b1e87647-534b-4860-965a-35935f4987a9",
   "metadata": {},
   "outputs": [],
   "source": [
    "def _convert(source, mapping):\n",
    "    destination_begin, source_begin, range_length = mapping\n",
    "    destination = source\n",
    "    if (source >= source_begin) and (source < source_begin+range_length):\n",
    "        destination += destination_begin - source_begin\n",
    "    return destination\n",
    "\n",
    "\n",
    "def convert(source, mappings):\n",
    "    destination = source \n",
    "    for mapping in mappings: \n",
    "        #destination = _convert(destination, mapping)\n",
    "        destination = _convert(source, mapping)\n",
    "        if destination != source:\n",
    "            break\n",
    "    return destination\n",
    "\n",
    "\n",
    "def seed2location(seed, data, debug=False):\n",
    "    # this function can be written shortly using loop,\n",
    "    # but for the debug purpose\n",
    "    # just wrote down all the names.\n",
    "    (seeds, \n",
    "     seed2soil, \n",
    "     soil2fertilizer, \n",
    "     fertilizer2water, \n",
    "     water2light, \n",
    "     light2temperature, \n",
    "     temperature2humidity, \n",
    "     humidity2location) = data\n",
    "    \n",
    "    soil        = convert(seed, seed2soil)\n",
    "    fertilizer  = convert(soil, soil2fertilizer)\n",
    "    water       = convert(fertilizer, fertilizer2water)\n",
    "    light       = convert(water, water2light)\n",
    "    temperature = convert(light, light2temperature)\n",
    "    humidity    = convert(temperature, temperature2humidity)\n",
    "    location    = convert(humidity, humidity2location)\n",
    "\n",
    "    if debug:\n",
    "        print(f\"soil: {soil}\")\n",
    "        print(f\"fertilizer: {fertilizer}\")\n",
    "        print(f\"water: {water}\")\n",
    "        print(f\"light: {light}\")\n",
    "        print(f\"temperature: {temperature}\")\n",
    "        print(f\"humidity: {humidity}\")\n",
    "        print(f\"location: {location}\")\n",
    "\n",
    "    return location"
   ]
  },
  {
   "cell_type": "code",
   "execution_count": 4,
   "id": "1acf34cb-13dc-451b-8611-e22f58832a27",
   "metadata": {},
   "outputs": [
    {
     "name": "stdout",
     "output_type": "stream",
     "text": [
      "elapsed time: 0.000407 [sec]\n",
      "the lowest location number that corresponds to any of the initial seed numbers: 51752125\n"
     ]
    }
   ],
   "source": [
    "data = load_data(is_test=False)\n",
    "(seeds, seed2soil, soil2fertilizer, fertilizer2water, water2light, light2temperature, temperature2humidity, humidity2location) = data\n",
    "time_start = time.time()\n",
    "locations = [seed2location(seed, data) for seed in seeds]\n",
    "print(f\"elapsed time: {time.time() - time_start:.6f} [sec]\")\n",
    "\n",
    "#print(f\"seeds: {seeds}\")\n",
    "#print(f\"locations: {locations}\")\n",
    "print(f\"the lowest location number that corresponds to any of the initial seed numbers: {min(locations)}\")"
   ]
  },
  {
   "cell_type": "markdown",
   "id": "e0783bee-d72b-4f7b-82d3-b9d5f3d7157e",
   "metadata": {},
   "source": [
    "## part 2\n",
    "if seed2location() is executed to all seeds, it will take more than 200 hours.  \n",
    "therefore we will search possible seeds from locations."
   ]
  },
  {
   "cell_type": "code",
   "execution_count": 5,
   "id": "27556230-c442-4991-adf5-372157d2b596",
   "metadata": {},
   "outputs": [
    {
     "name": "stdout",
     "output_type": "stream",
     "text": [
      "number of options: 2104769314\n",
      "estimated_time: 233.86[hours]\n"
     ]
    }
   ],
   "source": [
    "## check estimated time.\n",
    "data = load_data(is_test=False)\n",
    "(seeds, seed2soil, soil2fertilizer, fertilizer2water, water2light, light2temperature, temperature2humidity, humidity2location) = data\n",
    "#print(f\"seeds: {seeds}\")\n",
    "\n",
    "total = 0\n",
    "for i in range(0, len(seeds), 2):\n",
    "    total += seeds[i+1]\n",
    "print(f\"number of options: {total}\")\n",
    "\n",
    "estimated_time = 0.0016 / 4 * total / 3600\n",
    "print(f\"estimated_time: {estimated_time:.2f}[hours]\")"
   ]
  },
  {
   "cell_type": "code",
   "execution_count": 6,
   "id": "e7873421-a75a-4149-bf1a-6b14bc1553cd",
   "metadata": {},
   "outputs": [],
   "source": [
    "## inverse conversion.\n",
    "def _convert_inverse(destination, mapping):\n",
    "    destination_begin, source_begin, range_length = mapping\n",
    "    source = destination\n",
    "    if (destination >= destination_begin) and (destination < destination_begin+range_length):\n",
    "        source += source_begin - destination_begin\n",
    "    return source\n",
    "\n",
    "\n",
    "def convert_inverse(destination, mappings):\n",
    "    source = destination\n",
    "    for mapping in mappings: \n",
    "        source = _convert_inverse(destination, mapping)\n",
    "        if source != destination:\n",
    "            break\n",
    "    return source\n",
    "\n",
    "\n",
    "def location2seed(location, data, debug=False):\n",
    "    # this function can be written shortly using loop,\n",
    "    # but for the debug purpose\n",
    "    # just wrote down all the names.\n",
    "    (seeds, \n",
    "     seed2soil, \n",
    "     soil2fertilizer, \n",
    "     fertilizer2water, \n",
    "     water2light, \n",
    "     light2temperature, \n",
    "     temperature2humidity, \n",
    "     humidity2location) = data\n",
    "    \n",
    "    humidity    = convert_inverse(location, humidity2location)\n",
    "    temperature = convert_inverse(humidity, temperature2humidity)\n",
    "    light       = convert_inverse(temperature, light2temperature)\n",
    "    water       = convert_inverse(light, water2light)\n",
    "    fertilizer  = convert_inverse(water, fertilizer2water)\n",
    "    soil        = convert_inverse(fertilizer, soil2fertilizer)\n",
    "    seed        = convert_inverse(soil, seed2soil)    \n",
    "\n",
    "    if debug:\n",
    "        print(f\"location: {location}\")\n",
    "        print(f\"humidity: {humidity}\")\n",
    "        print(f\"temperature: {temperature}\")\n",
    "        print(f\"light: {light}\")\n",
    "        print(f\"water: {water}\")\n",
    "        print(f\"fertilizer: {fertilizer}\")        \n",
    "        print(f\"soil: {soil}\")\n",
    "\n",
    "    return seed\n",
    "\n",
    "\n",
    "def seed_in_range(x, seeds):\n",
    "    for i in range(0, len(seeds), 2):\n",
    "        result = False\n",
    "        #print(f\"{seeds[i]}--{seeds[i]+seeds[i+1]}\")\n",
    "        if (x >= seeds[i]) and (x < seeds[i]+seeds[i+1]):\n",
    "            result = True\n",
    "            break\n",
    "    return result"
   ]
  },
  {
   "cell_type": "code",
   "execution_count": 7,
   "id": "8c500d47-3105-4b23-b057-a1ed6aa302d5",
   "metadata": {},
   "outputs": [],
   "source": [
    "## check if the inverse function works.\n",
    "# locations = [seed2location(seed, data) for seed in seeds]\n",
    "# print(locations)\n",
    "# print([location2seed(location, data) for location in locations])\n",
    "# print(seeds)"
   ]
  },
  {
   "cell_type": "code",
   "execution_count": 9,
   "id": "90b45776-4f67-4354-a7b9-dcb16e983068",
   "metadata": {},
   "outputs": [
    {
     "name": "stdout",
     "output_type": "stream",
     "text": [
      "start location: 3426327245\n",
      "elapsed time: 0.401[sec]\n",
      "the lowest location number that corresponds to any of the initial seed numbers: 12634632\n"
     ]
    }
   ],
   "source": [
    "location_min = seed2location(seeds[0], data)\n",
    "\n",
    "# check if the seed_ derived from location_ is in the range.\n",
    "i = 0\n",
    "location_ = seed2location(seeds[0], data) # next location_min option\n",
    "print(f\"start location: {location_}\")\n",
    "\n",
    "#while(location__ != location_):\n",
    "time_start = time.time()\n",
    "while(i < 50000):\n",
    "    location__ = location_\n",
    "    seed_ = location2seed(location_, data)\n",
    "    if seed_in_range(seed_, seeds):\n",
    "        location_min = location_\n",
    "        location_ = math.ceil(location_min/2)\n",
    "    else:\n",
    "        location_ = math.ceil((location_min + location_)/2)\n",
    "        #print(f\"\\r[{i}] location_: {location_}____\", end=\"\")\n",
    "    #print(f\"[{i}] location_min: {location_min} | location_: {location_}\")\n",
    "    i += 1\n",
    "print(f\"elapsed time: {time.time() - time_start:.3f}[sec]\")\n",
    "print(f\"the lowest location number that corresponds to any of the initial seed numbers: {location_min}\")"
   ]
  },
  {
   "cell_type": "code",
   "execution_count": 10,
   "id": "8626027c-ed86-464c-8df6-8dffef2ce5b0",
   "metadata": {},
   "outputs": [
    {
     "name": "stdout",
     "output_type": "stream",
     "text": [
      "692213654\n"
     ]
    },
    {
     "data": {
      "text/plain": [
       "True"
      ]
     },
     "execution_count": 10,
     "metadata": {},
     "output_type": "execute_result"
    }
   ],
   "source": [
    "# check if the location really exists.\n",
    "seed = location2seed(location_min, data)\n",
    "print(seed)\n",
    "seed_in_range(seed, seeds)"
   ]
  }
 ],
 "metadata": {
  "kernelspec": {
   "display_name": "Python 3 (ipykernel)",
   "language": "python",
   "name": "python3"
  },
  "language_info": {
   "codemirror_mode": {
    "name": "ipython",
    "version": 3
   },
   "file_extension": ".py",
   "mimetype": "text/x-python",
   "name": "python",
   "nbconvert_exporter": "python",
   "pygments_lexer": "ipython3",
   "version": "3.11.5"
  }
 },
 "nbformat": 4,
 "nbformat_minor": 5
}
