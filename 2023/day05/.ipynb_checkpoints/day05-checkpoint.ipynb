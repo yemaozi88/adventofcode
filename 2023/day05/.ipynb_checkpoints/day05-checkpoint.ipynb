{
 "cells": [
  {
   "cell_type": "code",
   "execution_count": 23,
   "id": "e8abea7a-246d-4871-8591-3961a6ee53b6",
   "metadata": {},
   "outputs": [],
   "source": [
    "import re\n",
    "import time\n",
    "from itertools import chain\n",
    "\n",
    "def load_data(is_test=False):\n",
    "    if is_test:\n",
    "        input_txt = \"input_.txt\"\n",
    "    else:\n",
    "        input_txt = \"input.txt\"\n",
    "        \n",
    "    with open(input_txt) as f:\n",
    "        lines = f.read().strip().split('\\n\\n')\n",
    "\n",
    "    seeds                = line2numbers(lines[0].replace('seeds: ', ''))\n",
    "    seed2soil            = extract_mappings(lines[1], 'seed', 'soil')\n",
    "    soil2fertilizer      = extract_mappings(lines[2], 'soil', 'fertilizer')\n",
    "    fertilizer2water     = extract_mappings(lines[3], 'fertilizer', 'water')\n",
    "    water2light          = extract_mappings(lines[4], 'water', 'light')\n",
    "    light2temperature    = extract_mappings(lines[5], 'light', 'temperature')\n",
    "    temperature2humidity = extract_mappings(lines[6], 'temperature', 'humidity')\n",
    "    humidity2location    = extract_mappings(lines[7], 'humidity', 'location')\n",
    "\n",
    "    return (seeds, seed2soil, soil2fertilizer, fertilizer2water, water2light, light2temperature, temperature2humidity, humidity2location)"
   ]
  },
  {
   "cell_type": "code",
   "execution_count": 2,
   "id": "15c34f2e-0f1d-48e8-9951-504333741d20",
   "metadata": {},
   "outputs": [],
   "source": [
    "def line2numbers(line):\n",
    "    return [int(x) for x in re.findall('\\d+', line)]\n",
    "\n",
    "\n",
    "def extract_mappings(line, source, destination):\n",
    "    line_ = line.replace(source + '-to-' + destination + ' map:\\n', '')\n",
    "    return [line2numbers(x) for x in line_.split('\\n')]\n",
    "\n",
    "\n",
    "def _convert(source, mapping):\n",
    "    destination_begin, source_begin, range_length = mapping\n",
    "    destination = source\n",
    "    if (source >= source_begin) and (source < source_begin+range_length):\n",
    "        destination += destination_begin - source_begin\n",
    "    return destination\n",
    "\n",
    "\n",
    "def convert(source, mappings):\n",
    "    destination = source \n",
    "    for mapping in mappings: \n",
    "        #destination = _convert(destination, mapping)\n",
    "        destination = _convert(source, mapping)\n",
    "        if destination != source:\n",
    "            break\n",
    "    return destination\n",
    "\n",
    "\n",
    "def seed2location(seed, data, debug=False):\n",
    "    # this function can be written shortly using loop,\n",
    "    # but for the debug purpose\n",
    "    # just wrote down all the names.\n",
    "    (seeds, \n",
    "     seed2soil, \n",
    "     soil2fertilizer, \n",
    "     fertilizer2water, \n",
    "     water2light, \n",
    "     light2temperature, \n",
    "     temperature2humidity, \n",
    "     humidity2location) = data\n",
    "    \n",
    "    soil        = convert(seed, seed2soil)\n",
    "    fertilizer  = convert(soil, soil2fertilizer)\n",
    "    water       = convert(fertilizer, fertilizer2water)\n",
    "    light       = convert(water, water2light)\n",
    "    temperature = convert(light, light2temperature)\n",
    "    humidity    = convert(temperature, temperature2humidity)\n",
    "    location    = convert(humidity, humidity2location)\n",
    "\n",
    "    if debug:\n",
    "        print(f\"soil: {soil}\")\n",
    "        print(f\"fertilizer: {fertilizer}\")\n",
    "        print(f\"water: {water}\")\n",
    "        print(f\"light: {light}\")\n",
    "        print(f\"temperature: {temperature}\")\n",
    "        print(f\"humidity: {humidity}\")\n",
    "        print(f\"location: {location}\")\n",
    "\n",
    "    return location"
   ]
  },
  {
   "cell_type": "code",
   "execution_count": 4,
   "id": "1acf34cb-13dc-451b-8611-e22f58832a27",
   "metadata": {},
   "outputs": [
    {
     "name": "stdout",
     "output_type": "stream",
     "text": [
      "elapsed time: 0.000407 [sec]\n",
      "the lowest location number that corresponds to any of the initial seed numbers: 51752125\n"
     ]
    }
   ],
   "source": [
    "## part 1\n",
    "data = load_data(is_test=False)\n",
    "(seeds, seed2soil, soil2fertilizer, fertilizer2water, water2light, light2temperature, temperature2humidity, humidity2location) = data\n",
    "time_start = time.time()\n",
    "locations = [seed2location(seed, data) for seed in seeds]\n",
    "print(f\"elapsed time: {time.time() - time_start:.6f} [sec]\")\n",
    "\n",
    "#print(f\"seeds: {seeds}\")\n",
    "#print(f\"locations: {locations}\")\n",
    "print(f\"the lowest location number that corresponds to any of the initial seed numbers: {min(locations)}\")"
   ]
  },
  {
   "cell_type": "code",
   "execution_count": 33,
   "id": "6bb6284d-e458-4ee3-8a02-6c5679863105",
   "metadata": {},
   "outputs": [
    {
     "name": "stdout",
     "output_type": "stream",
     "text": [
      "[1310704671, 312415190, 1034820096, 106131293, 682397438, 30365957, 2858337556, 1183890307, 665754577, 13162298, 2687187253, 74991378, 1782124901, 3190497, 208902075, 226221606, 4116455504, 87808390, 2403629707, 66592398]\n",
      "2104769314\n",
      "estimated_time: 233.86[hours]\n"
     ]
    }
   ],
   "source": [
    "## part 2\n",
    "data = load_data(is_test=False)\n",
    "(seeds, seed2soil, soil2fertilizer, fertilizer2water, water2light, light2temperature, temperature2humidity, humidity2location) = data\n",
    "print(seeds)\n",
    "\n",
    "total = 0\n",
    "for i in range(0, len(seeds), 2):\n",
    "    #print(f\"{seeds[i]}-{seeds[i+1]}\")\n",
    "    total += seeds[i+1]\n",
    "print(total)\n",
    "\n",
    "estimated_time = 0.0016 / 4 * total / 3600\n",
    "print(f\"estimated_time: {estimated_time:.2f}[hours]\")\n",
    "\n",
    "#seed_range = chain(range(1, 10), range(seeds[0], seeds[0]+seeds[1]))\n",
    "#len(seed_range)\n",
    "#for i in seed_range:\n",
    "#    print(i)\n",
    "    \n",
    "#locations = [seed2location(seed, data) for seed in seeds]"
   ]
  }
 ],
 "metadata": {
  "kernelspec": {
   "display_name": "Python 3 (ipykernel)",
   "language": "python",
   "name": "python3"
  },
  "language_info": {
   "codemirror_mode": {
    "name": "ipython",
    "version": 3
   },
   "file_extension": ".py",
   "mimetype": "text/x-python",
   "name": "python",
   "nbconvert_exporter": "python",
   "pygments_lexer": "ipython3",
   "version": "3.11.5"
  }
 },
 "nbformat": 4,
 "nbformat_minor": 5
}
