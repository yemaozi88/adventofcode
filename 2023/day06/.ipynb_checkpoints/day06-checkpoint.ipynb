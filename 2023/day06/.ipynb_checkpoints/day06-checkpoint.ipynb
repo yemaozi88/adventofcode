{
 "cells": [
  {
   "cell_type": "code",
   "execution_count": 1,
   "id": "ee1cf85b-8d19-46cb-83ad-8fd6cc817653",
   "metadata": {},
   "outputs": [],
   "source": [
    "import re\n",
    "\n",
    "import numpy as np"
   ]
  },
  {
   "cell_type": "code",
   "execution_count": 2,
   "id": "a276d538-486b-433f-9770-5cd0f4d10470",
   "metadata": {},
   "outputs": [],
   "source": [
    "def load_data(is_test=False, is_part1=True):\n",
    "    if is_test:\n",
    "        input_txt = \"input_.txt\"\n",
    "    else:\n",
    "        input_txt = \"input.txt\"\n",
    "\n",
    "    with open(input_txt) as f:\n",
    "        lines = f.read().strip().split('\\n')\n",
    "\n",
    "    timelimits = re.findall('\\d+', lines[0])\n",
    "    records    = re.findall('\\d+', lines[1])\n",
    "    if is_part1:\n",
    "        timelimits = [int(x) for x in timelimits]\n",
    "        records    = [int(x) for x in records]\n",
    "    else:\n",
    "        timelimits = int(''.join(timelimits))\n",
    "        records    = int(''.join(records))\n",
    "\n",
    "    return timelimits, records"
   ]
  },
  {
   "cell_type": "markdown",
   "id": "cbffdfd4-0b51-47d4-9fe2-a9b0f6c48315",
   "metadata": {},
   "source": [
    "## part 1"
   ]
  },
  {
   "cell_type": "code",
   "execution_count": 3,
   "id": "67e72c8a-f7b7-4d2a-90c9-f11432575222",
   "metadata": {},
   "outputs": [
    {
     "name": "stdout",
     "output_type": "stream",
     "text": [
      "your points: 74698\n"
     ]
    }
   ],
   "source": [
    "timelimits, records = load_data(is_test=False, is_part1=True)\n",
    "\n",
    "ways = 1\n",
    "for timelimit, record in zip(timelimits, records):\n",
    "    # print(f\"=============\")\n",
    "    # print(f\"time limit: {timelimit}\")\n",
    "    # print(f\"record: {record}\")\n",
    "\n",
    "    ## count the number of ways to beat records.\n",
    "    # t: duration to press button\n",
    "    ways_ = 0\n",
    "    for t in range(timelimit+1):\n",
    "        distance = (timelimit - t)*t\n",
    "        if distance > record:\n",
    "            ways_ += 1\n",
    "\n",
    "    ways *= ways_\n",
    "print(f\"your points: {ways}\")"
   ]
  },
  {
   "cell_type": "markdown",
   "id": "60e088bf-66d8-40a0-932d-0ba11f1d1691",
   "metadata": {},
   "source": [
    "## part 2"
   ]
  },
  {
   "cell_type": "code",
   "execution_count": 12,
   "id": "a4db96a9-3c21-480d-af5b-92021688e954",
   "metadata": {},
   "outputs": [],
   "source": [
    "def calc_n_ways(timelimit, record):\n",
    "        # (timelimit - t)*t > record\n",
    "    # --> t**2 - timelimit + record > 0\n",
    "    # range is (timelimit +- sqrt(timelimit**2 - 4r))/2\n",
    "    t_min = (timelimit - np.sqrt(timelimit**2 - 4*record))/2\n",
    "    t_max = (timelimit + np.sqrt(timelimit**2 - 4*record))/2\n",
    "\n",
    "    t_min_ = int(np.ceil(t_min))\n",
    "    t_max_ = int(np.floor(t_max))\n",
    "    # if t_min/t_max is exactly the same to the record\n",
    "    # it will be draw, so you cannot win. \n",
    "    if t_min != t_min_:\n",
    "        t_min = t_min_\n",
    "    else:\n",
    "        t_min = t_min_ + 1\n",
    "    if t_max != t_max_:\n",
    "        t_max = t_max_\n",
    "    else:\n",
    "        t_max = t_max_ - 1\n",
    "\n",
    "    n_ways = t_max - t_min + 1\n",
    "    print(f\"the button should be pressed: {t_min} <= t <= {t_max} [sec]\")\n",
    "    print(f\"number of ways: {n_ways}\")\n",
    "\n",
    "    return n_ways "
   ]
  },
  {
   "cell_type": "code",
   "execution_count": 13,
   "id": "36f265dd-ebfc-4dd3-bc9d-c24c7a62bf47",
   "metadata": {},
   "outputs": [
    {
     "name": "stdout",
     "output_type": "stream",
     "text": [
      "the button should be pressed: 2 <= t <= 5 [sec]\n",
      "number of ways: 4\n",
      "the button should be pressed: 4 <= t <= 11 [sec]\n",
      "number of ways: 8\n",
      "the button should be pressed: 11 <= t <= 19 [sec]\n",
      "number of ways: 9\n"
     ]
    }
   ],
   "source": [
    "## check with test data.\n",
    "# timelimits, records = load_data(is_test=True, is_part1=True)\n",
    "# for timelimit, record in zip(timelimits, records):\n",
    "#     calc_n_ways(timelimit, record)"
   ]
  },
  {
   "cell_type": "code",
   "execution_count": 14,
   "id": "c7c6e391-f459-48d2-a9d2-ae8df172718a",
   "metadata": {},
   "outputs": [
    {
     "name": "stdout",
     "output_type": "stream",
     "text": [
      "the button should be pressed: 7051923 <= t <= 34615343 [sec]\n",
      "number of ways: 27563421\n"
     ]
    },
    {
     "data": {
      "text/plain": [
       "27563421"
      ]
     },
     "execution_count": 14,
     "metadata": {},
     "output_type": "execute_result"
    }
   ],
   "source": [
    "timelimit, record = load_data(is_test=False, is_part1=False)\n",
    "calc_n_ways(timelimit, record)"
   ]
  }
 ],
 "metadata": {
  "kernelspec": {
   "display_name": "Python 3 (ipykernel)",
   "language": "python",
   "name": "python3"
  },
  "language_info": {
   "codemirror_mode": {
    "name": "ipython",
    "version": 3
   },
   "file_extension": ".py",
   "mimetype": "text/x-python",
   "name": "python",
   "nbconvert_exporter": "python",
   "pygments_lexer": "ipython3",
   "version": "3.11.5"
  }
 },
 "nbformat": 4,
 "nbformat_minor": 5
}
