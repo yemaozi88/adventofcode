{
 "cells": [
  {
   "cell_type": "code",
   "execution_count": 13,
   "id": "c450a174-2f9e-4c20-90c2-dd09826ca9b9",
   "metadata": {},
   "outputs": [],
   "source": [
    "from collections import Counter\n",
    "\n",
    "def load_data(is_test=False):\n",
    "    if is_test:\n",
    "        input_txt = \"input_.txt\"\n",
    "    else:\n",
    "        input_txt = \"input.txt\"\n",
    "\n",
    "    with open(input_txt) as f:\n",
    "        lines = f.read().strip().split('\\n')\n",
    "\n",
    "    return lines\n",
    "\n",
    "lines = load_data(is_test=True)"
   ]
  },
  {
   "cell_type": "code",
   "execution_count": 24,
   "id": "18845959-a024-4789-b6e2-d65a02735c30",
   "metadata": {},
   "outputs": [],
   "source": [
    "card_strength = ['A', 'K', 'Q', 'J', 'T', '9', '8', '7', '6', '5', '4', '3', '2']\n",
    "hand_names = {\n",
    "    'Five of a kind': 6, # [5]\n",
    "    'Four of a kind': 5, # 4, 1\n",
    "    'Full house': 4, # 3, 2\n",
    "    'Three of a kind': 3, # 3, 1, 1\n",
    "    'Two pair': 2, # 2, 2, 1\n",
    "    'One pair': 1, # 2, 1, 1, 1 \n",
    "    'High Card': 0 # 1, 1, 1, 1, 1\n",
    "}\n",
    "hand_types = [[5], [4, 1], [3, 2], [3, 1, 1], [2, 2, 1], [2, 1, 1, 1], [1, 1, 1, 1, 1]]"
   ]
  },
  {
   "cell_type": "code",
   "execution_count": 25,
   "id": "b6c0c959-0f04-4df9-a53e-80fad5c7ee76",
   "metadata": {},
   "outputs": [
    {
     "name": "stdout",
     "output_type": "stream",
     "text": [
      "32T3K\n"
     ]
    },
    {
     "data": {
      "text/plain": [
       "5"
      ]
     },
     "execution_count": 25,
     "metadata": {},
     "output_type": "execute_result"
    }
   ],
   "source": [
    "hand, point = lines[0].split(' ')\n",
    "point = int(point)\n",
    "print(hand)\n",
    "hand_type_ = [x[1] for x in Counter(hand).most_common(5)]\n",
    "hand_id = hand_types.index(hand_type_)\n",
    "print(f\"hand_id: {hand_id}\")\n"
   ]
  }
 ],
 "metadata": {
  "kernelspec": {
   "display_name": "Python 3 (ipykernel)",
   "language": "python",
   "name": "python3"
  },
  "language_info": {
   "codemirror_mode": {
    "name": "ipython",
    "version": 3
   },
   "file_extension": ".py",
   "mimetype": "text/x-python",
   "name": "python",
   "nbconvert_exporter": "python",
   "pygments_lexer": "ipython3",
   "version": "3.11.5"
  }
 },
 "nbformat": 4,
 "nbformat_minor": 5
}
