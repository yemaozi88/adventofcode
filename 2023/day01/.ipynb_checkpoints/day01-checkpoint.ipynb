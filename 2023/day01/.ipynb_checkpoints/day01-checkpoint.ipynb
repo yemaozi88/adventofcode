{
 "cells": [
  {
   "cell_type": "code",
   "execution_count": 1,
   "id": "473e3d32-8544-4872-97ce-b46258836170",
   "metadata": {},
   "outputs": [],
   "source": [
    "import os\n",
    "import re"
   ]
  },
  {
   "cell_type": "code",
   "execution_count": 2,
   "id": "aceed7d0-e9fd-4260-861f-ede0d0d3ee40",
   "metadata": {},
   "outputs": [],
   "source": [
    "def find_first_digit(line):\n",
    "    #try:\n",
    "    digits = re.findall('\\d', line)\n",
    "    if len(digits) > 0:\n",
    "        first_digit = int(digits[0])\n",
    "    else:\n",
    "        first_digit = -1\n",
    "    return first_digit\n",
    "\n",
    "\n",
    "def reverse_string(line):\n",
    "    return ''.join(list(reversed(line)))\n",
    "\n",
    "\n",
    "#def word2digit(line):\n",
    "#    return line.replace('zero', '0').replace('one', '1').replace('two', '2').replace('three', '3').replace('four', '4').replace('five', '5').replace('six', '6').replace('seven', '7').replace('eight', '8').replace('nine', '9')\n",
    "\n",
    "\n",
    "def word2digit_left2right(line, reverse=False):\n",
    "    if reverse == False:\n",
    "        input = line\n",
    "        digits_map = {\"zero\":\"0\", \"one\":\"1\", \"two\":\"2\", \"three\":\"3\", \"four\":\"4\", \"five\":\"5\", \"six\":\"6\", \"seven\":\"7\", \"eight\":\"8\", \"nine\":\"9\"}\n",
    "    else:\n",
    "        input = reverse_string(line)\n",
    "        digits_map = {\"orez\":\"0\", \"eno\":\"1\", \"owt\":\"2\", \"eerht\":\"3\", \"ruof\":\"4\", \"evif\":\"5\", \"xis\":\"6\", \"neves\":\"7\", \"thgie\":\"8\", \"enin\":\"9\"}\n",
    "    \n",
    "    digit_names = list(digits_map.keys())\n",
    "\n",
    "    window = 5\n",
    "    i = 0\n",
    "    line_ = []\n",
    "    input = input + '.'*(window-1)\n",
    "    while i < len(input)-window+1:\n",
    "        x = input[i:i+window]\n",
    "        \n",
    "        for digit_name in digit_names:\n",
    "            digit = digits_map[digit_name]\n",
    "            location = x.find(digit_name)\n",
    "            matched = 0\n",
    "            increment = 0\n",
    "            if location >= 0: # if there is a match\n",
    "                x_ = x.replace(digit_name, digit)\n",
    "                increment = location + len(digit_name) \n",
    "                matched = 1\n",
    "                break\n",
    "            else: \n",
    "                x_ = x\n",
    "     \n",
    "        if matched == 1:\n",
    "            line_.append(x_[:location+1])\n",
    "            i += increment\n",
    "        else:\n",
    "            line_.append(x_[0])\n",
    "            i += 1\n",
    "    \n",
    "        if i >= len(input) - window+1:\n",
    "            line_.append(input[i:])\n",
    "        \n",
    "    #print(f\"{x} --> {x_}: {i}({increment})\")\n",
    "    return ''.join(line_).replace('.', '')"
   ]
  },
  {
   "cell_type": "code",
   "execution_count": 11,
   "id": "74801087-7b31-47dc-8843-f7175bd0c54f",
   "metadata": {},
   "outputs": [
    {
     "name": "stdout",
     "output_type": "stream",
     "text": [
      "the sum of all of the calibration values: 54473\n"
     ]
    }
   ],
   "source": [
    "with open(\"input.txt\") as f:\n",
    "    data = f.read().strip().split('\\n')\n",
    "is_part1 = False\n",
    "\n",
    "x_sum = 0\n",
    "for line_ in data:\n",
    "    if is_part1:\n",
    "        line = line_\n",
    "        line_reversed = reverse_string(line_)\n",
    "    else:\n",
    "        line = word2digit_left2right(line_)\n",
    "        line_reversed = word2digit_left2right(line_, reverse=True)\n",
    "\n",
    "    digit1 = find_first_digit(line)\n",
    "    digit2 = find_first_digit(line_reversed)\n",
    "\n",
    "    if (digit1 == -1) or (digit2 == -1):\n",
    "        print(line)\n",
    "    else:\n",
    "        x = int(str(digit1) + str(digit2))\n",
    "        x_sum += x\n",
    "\n",
    "    #print(f\"{line_}\")\n",
    "    #print(f\"{line} & {line_reversed}: {digit1} + {digit2} = {x}\")\n",
    "print(f\"the sum of all of the calibration values: {x_sum}\")"
   ]
  }
 ],
 "metadata": {
  "kernelspec": {
   "display_name": "Python 3 (ipykernel)",
   "language": "python",
   "name": "python3"
  },
  "language_info": {
   "codemirror_mode": {
    "name": "ipython",
    "version": 3
   },
   "file_extension": ".py",
   "mimetype": "text/x-python",
   "name": "python",
   "nbconvert_exporter": "python",
   "pygments_lexer": "ipython3",
   "version": "3.11.5"
  }
 },
 "nbformat": 4,
 "nbformat_minor": 5
}
