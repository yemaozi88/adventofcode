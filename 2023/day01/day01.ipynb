{
 "cells": [
  {
   "cell_type": "code",
   "execution_count": 13,
   "id": "473e3d32-8544-4872-97ce-b46258836170",
   "metadata": {},
   "outputs": [],
   "source": [
    "import os\n",
    "import re"
   ]
  },
  {
   "cell_type": "code",
   "execution_count": 41,
   "id": "aceed7d0-e9fd-4260-861f-ede0d0d3ee40",
   "metadata": {},
   "outputs": [],
   "source": [
    "def find_first_digit(line):\n",
    "    #try:\n",
    "    digits = re.findall('\\d', line)\n",
    "    if len(digits) > 0:\n",
    "        first_digit = int(digits[0])\n",
    "    else:\n",
    "        first_digit = -1\n",
    "    return first_digit\n",
    "\n",
    "\n",
    "def reverse_string(line):\n",
    "    return ''.join(list(reversed(line)))\n",
    "\n",
    "\n",
    "def calibration_value(line):\n",
    "    digit1 = find_first_digit(line)\n",
    "    digit2 = find_first_digit(reverse_string(line))\n",
    "    return int(str(digit1) + str(digit2))"
   ]
  },
  {
   "cell_type": "markdown",
   "id": "6a9d239b-e91c-4f1a-81a6-8d285edc6355",
   "metadata": {},
   "source": [
    "## part 1"
   ]
  },
  {
   "cell_type": "code",
   "execution_count": 44,
   "id": "74801087-7b31-47dc-8843-f7175bd0c54f",
   "metadata": {},
   "outputs": [
    {
     "name": "stdout",
     "output_type": "stream",
     "text": [
      "\n",
      "the sum of all of the calibration values: 54990\n"
     ]
    }
   ],
   "source": [
    "with open(\"input.txt\") as f:\n",
    "    data = f.read().split('\\n')\n",
    "\n",
    "x_sum = 0\n",
    "for line in data:\n",
    "    digit1 = find_first_digit(line)\n",
    "    digit2 = find_first_digit(reverse_string(line))\n",
    "\n",
    "    if (digit1 == -1) or (digit2 == -1):\n",
    "        print(line)\n",
    "    else:\n",
    "        x = int(str(digit1) + str(digit2))\n",
    "        x_sum += x\n",
    "\n",
    "    #print(f\"{line}: {digit1} + {digit2} = {x}\")\n",
    "print(f\"the sum of all of the calibration values: {x_sum}\")"
   ]
  },
  {
   "cell_type": "markdown",
   "id": "c78881f3-7905-4944-b4a9-122db79bebc7",
   "metadata": {},
   "source": [
    "## part 2."
   ]
  }
 ],
 "metadata": {
  "kernelspec": {
   "display_name": "Python 3 (ipykernel)",
   "language": "python",
   "name": "python3"
  },
  "language_info": {
   "codemirror_mode": {
    "name": "ipython",
    "version": 3
   },
   "file_extension": ".py",
   "mimetype": "text/x-python",
   "name": "python",
   "nbconvert_exporter": "python",
   "pygments_lexer": "ipython3",
   "version": "3.11.5"
  }
 },
 "nbformat": 4,
 "nbformat_minor": 5
}
