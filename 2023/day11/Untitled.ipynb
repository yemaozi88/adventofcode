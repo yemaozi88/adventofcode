{
 "cells": [
  {
   "cell_type": "code",
   "execution_count": 5,
   "id": "019ee6d9-3482-4b98-b8a0-ccd9660aca4d",
   "metadata": {},
   "outputs": [],
   "source": [
    "import numpy as np"
   ]
  },
  {
   "cell_type": "code",
   "execution_count": 39,
   "id": "1ce4bcc2-6844-4755-bedd-e86b9a9d3b32",
   "metadata": {},
   "outputs": [],
   "source": [
    "def load_data(input_id=''): \n",
    "    input_txt = \"input\"+input_id+\".txt\"\n",
    "    \n",
    "    with open(input_txt) as f:\n",
    "        lines = f.read().strip().split('\\n')\n",
    "    \n",
    "    X = [list(line) for line in lines]\n",
    "    \n",
    "    return np.array(X)\n",
    "\n",
    "\n",
    "def expand_empty_rows(X):\n",
    "    n_rows, _ = np.shape(X)\n",
    "    X_ = []\n",
    "    for r in range(n_rows):\n",
    "        x = X[r][:]\n",
    "        X_.append(x)\n",
    "        if np.all(x=='.'):\n",
    "            X_.append(x)\n",
    "    return np.array(X_)\n",
    "\n",
    "\n",
    "def expand_empty_lines(X):\n",
    "    # expand empty rows.\n",
    "    X = expand_empty_rows(X)\n",
    "\n",
    "    # expand empty cols.\n",
    "    X = expand_empty_rows(X.T)\n",
    "    X = X.T\n",
    "\n",
    "    return X"
   ]
  },
  {
   "cell_type": "code",
   "execution_count": 40,
   "id": "fde4c533-b86e-4b94-a296-52830d9d81de",
   "metadata": {},
   "outputs": [
    {
     "data": {
      "text/plain": [
       "array([['.', '.', '.', '.', '#', '.', '.', '.', '.', '.', '.', '.', '.'],\n",
       "       ['.', '.', '.', '.', '.', '.', '.', '.', '.', '#', '.', '.', '.'],\n",
       "       ['#', '.', '.', '.', '.', '.', '.', '.', '.', '.', '.', '.', '.'],\n",
       "       ['.', '.', '.', '.', '.', '.', '.', '.', '.', '.', '.', '.', '.'],\n",
       "       ['.', '.', '.', '.', '.', '.', '.', '.', '.', '.', '.', '.', '.'],\n",
       "       ['.', '.', '.', '.', '.', '.', '.', '.', '#', '.', '.', '.', '.'],\n",
       "       ['.', '#', '.', '.', '.', '.', '.', '.', '.', '.', '.', '.', '.'],\n",
       "       ['.', '.', '.', '.', '.', '.', '.', '.', '.', '.', '.', '.', '#'],\n",
       "       ['.', '.', '.', '.', '.', '.', '.', '.', '.', '.', '.', '.', '.'],\n",
       "       ['.', '.', '.', '.', '.', '.', '.', '.', '.', '.', '.', '.', '.'],\n",
       "       ['.', '.', '.', '.', '.', '.', '.', '.', '.', '#', '.', '.', '.'],\n",
       "       ['#', '.', '.', '.', '.', '#', '.', '.', '.', '.', '.', '.', '.']],\n",
       "      dtype='<U1')"
      ]
     },
     "execution_count": 40,
     "metadata": {},
     "output_type": "execute_result"
    }
   ],
   "source": [
    "X = load_data(input_id='1_')\n",
    "X = expand_empty_lines(X)\n",
    "X"
   ]
  },
  {
   "cell_type": "code",
   "execution_count": null,
   "id": "1cf111d3-393b-4b04-9ac3-f33e0fc01ebd",
   "metadata": {},
   "outputs": [],
   "source": []
  }
 ],
 "metadata": {
  "kernelspec": {
   "display_name": "Python 3 (ipykernel)",
   "language": "python",
   "name": "python3"
  },
  "language_info": {
   "codemirror_mode": {
    "name": "ipython",
    "version": 3
   },
   "file_extension": ".py",
   "mimetype": "text/x-python",
   "name": "python",
   "nbconvert_exporter": "python",
   "pygments_lexer": "ipython3",
   "version": "3.11.5"
  }
 },
 "nbformat": 4,
 "nbformat_minor": 5
}
