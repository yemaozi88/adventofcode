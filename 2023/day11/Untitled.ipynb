{
 "cells": [
  {
   "cell_type": "code",
   "execution_count": 1,
   "id": "019ee6d9-3482-4b98-b8a0-ccd9660aca4d",
   "metadata": {},
   "outputs": [],
   "source": [
    "from itertools import combinations\n",
    "\n",
    "import numpy as np"
   ]
  },
  {
   "cell_type": "code",
   "execution_count": 2,
   "id": "1ce4bcc2-6844-4755-bedd-e86b9a9d3b32",
   "metadata": {},
   "outputs": [],
   "source": [
    "def load_data(input_id=''): \n",
    "    input_txt = \"input\"+input_id+\".txt\"\n",
    "    \n",
    "    with open(input_txt) as f:\n",
    "        lines = f.read().strip().split('\\n')\n",
    "    \n",
    "    X = [list(line) for line in lines]\n",
    "    \n",
    "    return np.array(X)\n",
    "\n",
    "\n",
    "def expand_empty_rows(X):\n",
    "    n_rows, _ = np.shape(X)\n",
    "    X_ = []\n",
    "    for r in range(n_rows):\n",
    "        x = X[r][:]\n",
    "        X_.append(x)\n",
    "        if np.all(x=='.'):\n",
    "            X_.append(x)\n",
    "    return np.array(X_)\n",
    "\n",
    "\n",
    "def expand_empty_lines(X):\n",
    "    # expand empty rows.\n",
    "    X = expand_empty_rows(X)\n",
    "\n",
    "    # expand empty cols.\n",
    "    X = expand_empty_rows(X.T)\n",
    "    X = X.T\n",
    "\n",
    "    return X\n",
    "\n",
    "\n",
    "def manhattan_distance(a, b):\n",
    "    return abs(a[0]-b[0])+abs(a[1]-b[1])"
   ]
  },
  {
   "cell_type": "code",
   "execution_count": 4,
   "id": "fde4c533-b86e-4b94-a296-52830d9d81de",
   "metadata": {},
   "outputs": [
    {
     "name": "stdout",
     "output_type": "stream",
     "text": [
      "the total of the length of the shortest path between every pair of galaxies: 9647174\n"
     ]
    }
   ],
   "source": [
    "## load data.\n",
    "X = load_data(input_id='')\n",
    "X = expand_empty_lines(X)\n",
    "\n",
    "## find galaxies.\n",
    "galaxies = []\n",
    "n_rows, n_cols = np.where(X=='#')\n",
    "for r, c in zip(n_rows, n_cols):\n",
    "    galaxies.append([r, c])\n",
    "\n",
    "## calculate the distance between every pair of galaxies.\n",
    "total_length = 0\n",
    "for combination in combinations(galaxies, 2):\n",
    "    total_length += manhattan_distance(combination[0], combination[1])\n",
    "print(f\"the total of the length of the shortest path between every pair of galaxies: {total_length}\")"
   ]
  },
  {
   "cell_type": "code",
   "execution_count": null,
   "id": "1cf111d3-393b-4b04-9ac3-f33e0fc01ebd",
   "metadata": {},
   "outputs": [],
   "source": []
  }
 ],
 "metadata": {
  "kernelspec": {
   "display_name": "Python 3 (ipykernel)",
   "language": "python",
   "name": "python3"
  },
  "language_info": {
   "codemirror_mode": {
    "name": "ipython",
    "version": 3
   },
   "file_extension": ".py",
   "mimetype": "text/x-python",
   "name": "python",
   "nbconvert_exporter": "python",
   "pygments_lexer": "ipython3",
   "version": "3.11.5"
  }
 },
 "nbformat": 4,
 "nbformat_minor": 5
}
