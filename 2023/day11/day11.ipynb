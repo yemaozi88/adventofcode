{
 "cells": [
  {
   "cell_type": "code",
   "execution_count": null,
   "id": "019ee6d9-3482-4b98-b8a0-ccd9660aca4d",
   "metadata": {},
   "outputs": [],
   "source": [
    "from itertools import combinations\n",
    "\n",
    "import numpy as np"
   ]
  },
  {
   "cell_type": "code",
   "execution_count": null,
   "id": "1ce4bcc2-6844-4755-bedd-e86b9a9d3b32",
   "metadata": {},
   "outputs": [],
   "source": [
    "def load_data(input_id=''): \n",
    "    input_txt = \"input\"+input_id+\".txt\"\n",
    "    \n",
    "    with open(input_txt) as f:\n",
    "        lines = f.read().strip().split('\\n')\n",
    "    \n",
    "    X = [list(line) for line in lines]\n",
    "    \n",
    "    return np.array(X)\n",
    "\n",
    "\n",
    "def expand_empty_rows(X):\n",
    "    n_rows, _ = np.shape(X)\n",
    "    X_ = []\n",
    "    for r in range(n_rows):\n",
    "        x = X[r][:]\n",
    "        X_.append(x)\n",
    "        if np.all(x=='.'):\n",
    "            X_.append(x)\n",
    "    return np.array(X_)\n",
    "\n",
    "\n",
    "def expand_empty_lines(X):\n",
    "    # expand empty rows.\n",
    "    X = expand_empty_rows(X)\n",
    "\n",
    "    # expand empty cols.\n",
    "    X = expand_empty_rows(X.T)\n",
    "    X = X.T\n",
    "\n",
    "    return X\n",
    "\n",
    "\n",
    "def manhattan_distance(a, b):\n",
    "    return abs(a[0]-b[0])+abs(a[1]-b[1])"
   ]
  },
  {
   "cell_type": "markdown",
   "id": "671222a9-010c-4de6-9684-514b8132a3c5",
   "metadata": {},
   "source": [
    "## part 1"
   ]
  },
  {
   "cell_type": "code",
   "execution_count": null,
   "id": "fde4c533-b86e-4b94-a296-52830d9d81de",
   "metadata": {},
   "outputs": [],
   "source": [
    "## load data.\n",
    "X = load_data(input_id='')\n",
    "X = expand_empty_lines(X)\n",
    "\n",
    "## find galaxies.\n",
    "galaxies = []\n",
    "n_rows, n_cols = np.where(X=='#')\n",
    "for r, c in zip(n_rows, n_cols):\n",
    "    galaxies.append([r, c])\n",
    "\n",
    "## calculate the distance between every pair of galaxies.\n",
    "total_length = 0\n",
    "for combination in combinations(galaxies, 2):\n",
    "    total_length += manhattan_distance(combination[0], combination[1])\n",
    "    #print(f\"{combination[0]} -- {combination[1]}: {manhattan_distance(combination[0], combination[1])}\")\n",
    "print(f\"the total of the length of the shortest path between every pair of galaxies: {total_length}\")"
   ]
  },
  {
   "cell_type": "markdown",
   "id": "b629a4e8-ba8c-47f9-97e2-4e9692e931fc",
   "metadata": {},
   "source": [
    "## part 2"
   ]
  },
  {
   "cell_type": "code",
   "execution_count": null,
   "id": "b6afa792-d382-4428-a2fd-888cf799503d",
   "metadata": {},
   "outputs": [],
   "source": [
    "def find_empty_rows(X):\n",
    "    n_rows, _ = np.shape(X)\n",
    "    empty_rows = []\n",
    "    for r in range(n_rows):\n",
    "        if np.all(X[r][:]=='.'):\n",
    "            empty_rows.append(r)\n",
    "    return empty_rows\n",
    "\n",
    "\n",
    "def find_empty_lines(X):\n",
    "    # find empty rows.\n",
    "    empty_rows = find_empty_rows(X)\n",
    "\n",
    "    # find empty cols.\n",
    "    empty_cols = find_empty_rows(X.T)\n",
    "\n",
    "    return empty_rows, empty_cols\n",
    "\n",
    "\n",
    "def manhattan_distance2(a, b, empty_rows, empty_cols, ratio):\n",
    "    ## find how many empty lines are between 2 galaxies.\n",
    "    r = np.array(empty_rows)\n",
    "    a_ = a[0]\n",
    "    b_ = b[0]\n",
    "    # n_empty_rows_ is a tuple of the position of the elements.\n",
    "    n_empty_rows_ = ([])\n",
    "    if a_ < b_:\n",
    "        n_empty_rows_ = np.where((r>a_) & (r<b_))\n",
    "    elif a_ >= b_:\n",
    "        n_empty_rows_ = np.where((r>b_) & (r<a_))\n",
    "    n_empty_rows = len(n_empty_rows_[0])\n",
    "\n",
    "    c = np.array(empty_cols)\n",
    "    a_ = a[1]\n",
    "    b_ = b[1]\n",
    "    # n_empty_cols_ is a tuple of the position of the elements.\n",
    "    n_empty_cols_ = ([])\n",
    "    if a_ < b_:\n",
    "        n_empty_cols_ = np.where((c>a_) & (c<b_))\n",
    "    elif a_ >= b_:\n",
    "        n_empty_cols_ = np.where((c>b_) & (c<a_))\n",
    "    n_empty_cols = len(n_empty_cols_[0])\n",
    "\n",
    "    #print(f\"{n_empty_rows}, {n_empty_cols}\")\n",
    "    return manhattan_distance(a, b) + (n_empty_rows + n_empty_cols)*(ratio-1)"
   ]
  },
  {
   "cell_type": "code",
   "execution_count": null,
   "id": "99e9ffa9-57b6-4ab5-982d-5a54957ea843",
   "metadata": {},
   "outputs": [],
   "source": [
    "## load data.\n",
    "X = load_data(input_id='')\n",
    "empty_rows, empty_cols = find_empty_lines(X)\n",
    "\n",
    "\n",
    "## find galaxies.\n",
    "galaxies = []\n",
    "n_rows, n_cols = np.where(X=='#')\n",
    "for r, c in zip(n_rows, n_cols):\n",
    "    galaxies.append([r, c])\n",
    "\n",
    "\n",
    "## calculate the distance between every pair of galaxies.\n",
    "total_length = 0\n",
    "for combination in combinations(galaxies, 2):\n",
    "    a = combination[0]\n",
    "    b = combination[1]\n",
    "    length = manhattan_distance2(a, b, empty_rows, empty_cols, 1000000)\n",
    "    total_length += length\n",
    "    #print(f\"{a}--{b}: {length}\")\n",
    "print(f\"the total of the length of the shortest path between every pair of galaxies: {total_length}\")"
   ]
  }
 ],
 "metadata": {
  "kernelspec": {
   "display_name": "Python 3 (ipykernel)",
   "language": "python",
   "name": "python3"
  },
  "language_info": {
   "codemirror_mode": {
    "name": "ipython",
    "version": 3
   },
   "file_extension": ".py",
   "mimetype": "text/x-python",
   "name": "python",
   "nbconvert_exporter": "python",
   "pygments_lexer": "ipython3",
   "version": "3.11.5"
  }
 },
 "nbformat": 4,
 "nbformat_minor": 5
}
